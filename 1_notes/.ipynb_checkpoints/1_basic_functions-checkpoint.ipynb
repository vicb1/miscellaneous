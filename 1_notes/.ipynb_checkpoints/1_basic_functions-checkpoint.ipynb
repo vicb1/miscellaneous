{
 "cells": [
  {
   "cell_type": "markdown",
   "metadata": {},
   "source": [
    "# split command line entry"
   ]
  },
  {
   "cell_type": "code",
   "execution_count": 6,
   "metadata": {},
   "outputs": [
    {
     "data": {
      "text/plain": [
       "['10', '20', '20', '10', '10', '30', '50', '10', '20']"
      ]
     },
     "execution_count": 6,
     "metadata": {},
     "output_type": "execute_result"
    }
   ],
   "source": [
    "'10 20 20 10 10 30 50 10 20'.rstrip().split()"
   ]
  },
  {
   "cell_type": "markdown",
   "metadata": {},
   "source": [
    "# round to most significant digit"
   ]
  },
  {
   "cell_type": "code",
   "execution_count": 6,
   "metadata": {},
   "outputs": [
    {
     "name": "stdout",
     "output_type": "stream",
     "text": [
      "0.002\n",
      "5e-05\n",
      "0.0\n",
      "3\n",
      "100\n",
      "-0.002\n",
      "-5e-05\n",
      "-3\n",
      "-100\n"
     ]
    }
   ],
   "source": [
    "import math\n",
    "\n",
    "def round_to_most_significant(x):\n",
    "    if x == 0:\n",
    "        return x\n",
    "    else:\n",
    "        mul = pow(10, math.floor(math.log10(abs(x))))\n",
    "        return round(x/mul)*mul\n",
    "\n",
    "print(round_to_most_significant(0.002341))     \n",
    "print(round_to_most_significant(0.000048123))  \n",
    "print(round_to_most_significant(0.0))          \n",
    "print(round_to_most_significant(2.6))          \n",
    "print(round_to_most_significant(123.0))        \n",
    "print(round_to_most_significant(-0.002341))    \n",
    "print(round_to_most_significant(-0.000048123)) \n",
    "print(round_to_most_significant(-2.6))         \n",
    "print(round_to_most_significant(-123.0))       "
   ]
  },
  {
   "cell_type": "markdown",
   "metadata": {},
   "source": [
    "# Formatting floats without superfluous zeros"
   ]
  },
  {
   "cell_type": "code",
   "execution_count": 20,
   "metadata": {},
   "outputs": [
    {
     "name": "stdout",
     "output_type": "stream",
     "text": [
      "0.002341\n",
      "0.000048\n",
      "0\n",
      "0\n",
      "123\n",
      "-0.002341\n",
      "-0.000048\n",
      "-2.6\n",
      "-123\n"
     ]
    }
   ],
   "source": [
    "import decimal\n",
    "\n",
    "def round_to_capture_all(x):\n",
    "    return ('%f' % x).rstrip('0').rstrip('.')\n",
    "\n",
    "print(round_to_capture_all(0.002341))     \n",
    "print(round_to_capture_all(0.000048123))  \n",
    "print(round_to_capture_all(0.0))          \n",
    "print(round_to_capture_all(0))          \n",
    "print(round_to_capture_all(123.0))        \n",
    "print(round_to_capture_all(-0.002341))    \n",
    "print(round_to_capture_all(-0.000048123)) \n",
    "print(round_to_capture_all(-2.6))         \n",
    "print(round_to_capture_all(-123.0))    "
   ]
  },
  {
   "cell_type": "markdown",
   "metadata": {},
   "source": [
    "# counter"
   ]
  },
  {
   "cell_type": "code",
   "execution_count": 16,
   "metadata": {},
   "outputs": [
    {
     "name": "stdout",
     "output_type": "stream",
     "text": [
      "Initial : Counter()\n",
      "Counter: Counter({1: 2, 5: 1, 3: 1, 4: 1})\n",
      "Updated: Counter({'d': 5, 1: 2, 5: 1, 3: 1, 4: 1, 'a': 1})\n",
      "Updated, Dict: {1: 2, 5: 5, 3: 1, 4: 1, 'a': 1, 'd': 5}\n",
      "Cleared: Counter()\n"
     ]
    }
   ],
   "source": [
    "import collections\n",
    "\n",
    "c = collections.Counter()\n",
    "print ('Initial :', c)\n",
    "\n",
    "l = [1, 5 ,3,4,1]\n",
    "c.update(l)\n",
    "print ('Counter:', c)\n",
    "\n",
    "c.update({'a':1, 'd':5})\n",
    "print ('Updated:', c)\n",
    "\n",
    "c.update([5,5,5,5])\n",
    "print ('Updated, Dict:', dict(c))\n",
    "\n",
    "c.clear()\n",
    "print ('Cleared:', c)\n",
    "\n"
   ]
  },
  {
   "cell_type": "markdown",
   "metadata": {},
   "source": [
    "# lists"
   ]
  },
  {
   "cell_type": "code",
   "execution_count": 24,
   "metadata": {},
   "outputs": [
    {
     "name": "stdout",
     "output_type": "stream",
     "text": [
      "2\n",
      "['U', 'D', 'D', 'D', 'U', 'D', 'U', 'U']\n",
      "23\n",
      "set:  ['3', '4']\n"
     ]
    }
   ],
   "source": [
    "l = [1, 5 ,3,4,1]\n",
    "print(l.count(1))\n",
    "\n",
    "print(list('UDDDUDUU'))\n",
    "\n",
    "print('12345'[1:3])\n",
    "\n",
    "print('set: ', list(set(['3', '4']) & set('1234')))"
   ]
  },
  {
   "cell_type": "markdown",
   "metadata": {},
   "source": [
    "# lists 2"
   ]
  },
  {
   "cell_type": "code",
   "execution_count": 40,
   "metadata": {},
   "outputs": [
    {
     "name": "stdout",
     "output_type": "stream",
     "text": [
      "23451\n",
      "['1', '2', '3', '2', '4', '5']\n",
      "['1', '2', '2', '3', '4', '5']\n"
     ]
    }
   ],
   "source": [
    "print('12345'[11%5:]+'12345'[:11%5])\n",
    "\n",
    "l3 = list('12345')\n",
    "l3.insert(3, '2')\n",
    "print(l3)\n",
    "\n",
    "l4 = l3[:] # copy list\n",
    "l4.sort()\n",
    "print(l4)"
   ]
  },
  {
   "cell_type": "markdown",
   "metadata": {},
   "source": [
    "# defaultdict"
   ]
  },
  {
   "cell_type": "code",
   "execution_count": 45,
   "metadata": {
    "scrolled": true
   },
   "outputs": [
    {
     "name": "stdout",
     "output_type": "stream",
     "text": [
      "default dict:  defaultdict(<class 'int'>, {})\n"
     ]
    }
   ],
   "source": [
    "import collections\n",
    "\n",
    "d_int = collections.defaultdict(int)\n",
    "print('default dict: ', d_int) # print int(), thus 0"
   ]
  },
  {
   "cell_type": "markdown",
   "metadata": {},
   "source": [
    "# sort in order of QWERTY keyboard"
   ]
  },
  {
   "cell_type": "code",
   "execution_count": 29,
   "metadata": {},
   "outputs": [
    {
     "name": "stdout",
     "output_type": "stream",
     "text": [
      "eerrtuuiiiiiiiooppaaasssdfglllxccc\n",
      "eerrtuuiiiiiiiooppaaasssdfglllxccc\n",
      "erruiipaasfgllc etiiipsxc uiiooasdlc\n"
     ]
    }
   ],
   "source": [
    "def qwerty(inp): \n",
    "    alphabet = 'qwertyuiopasdfghjklzxcvbnm'\n",
    "    a_list = list(alphabet)\n",
    "\n",
    "    num_alpha = []\n",
    "    for i in range(len(inp)):\n",
    "        for j in range(len(a_list)):\n",
    "            if inp[i] == a_list[j]:\n",
    "                num_alpha.append(j)\n",
    "    \n",
    "    num_alpha.sort()\n",
    "    fin = []\n",
    "    for i in range(len(num_alpha)):\n",
    "        fin.append(a_list[num_alpha[i]])\n",
    "    \n",
    "    return ''.join(fin)\n",
    "\n",
    "print (qwerty('supercalifragilistic expialidocious'))\n",
    "\n",
    "qwerty2 = lambda x: ''.join(sorted(x, key=lambda l: 'qwertyuiopasdfghjklzxcvbnm'.index(l)))\n",
    "print(qwerty2('supercalifragilisticexpialidocious'))\n",
    "\n",
    "qwerty3 = lambda x: ' '.join(map(lambda i: ''.join(sorted(i, key=lambda l: 'qwertyuiopasdfghjklzxcvbnm'.index(l[0]))), x.split(' ')))\n",
    "print(qwerty3('supercalifragil isticexpi alidocious'))"
   ]
  }
 ],
 "metadata": {
  "celltoolbar": "Raw Cell Format",
  "kernelspec": {
   "display_name": "Python 3",
   "language": "python",
   "name": "python3"
  },
  "language_info": {
   "codemirror_mode": {
    "name": "ipython",
    "version": 3
   },
   "file_extension": ".py",
   "mimetype": "text/x-python",
   "name": "python",
   "nbconvert_exporter": "python",
   "pygments_lexer": "ipython3",
   "version": "3.7.1"
  }
 },
 "nbformat": 4,
 "nbformat_minor": 2
}

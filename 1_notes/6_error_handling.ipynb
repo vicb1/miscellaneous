{
 "cells": [
  {
   "cell_type": "markdown",
   "metadata": {},
   "source": [
    "# write errors to file (doesn't work in Jupyter, only outside of Jupyter)"
   ]
  },
  {
   "cell_type": "code",
   "execution_count": 54,
   "metadata": {},
   "outputs": [
    {
     "name": "stderr",
     "output_type": "stream",
     "text": [
      "DEBUG:root:Started run, time: 2019-03-13 15:36:59.381994\n",
      "ERROR:root:Got exception on main handler, time: 2019-03-13 15:36:59.383988\n",
      "Traceback (most recent call last):\n",
      "  File \"<ipython-input-54-81143379dcdc>\", line 9, in <module>\n",
      "    variable = error_variable  # force an error\n",
      "NameError: name 'error_variable' is not defined\n"
     ]
    },
    {
     "name": "stdout",
     "output_type": "stream",
     "text": [
      "run program\n"
     ]
    },
    {
     "ename": "NameError",
     "evalue": "name 'error_variable' is not defined",
     "output_type": "error",
     "traceback": [
      "\u001b[1;31m---------------------------------------------------------------------------\u001b[0m",
      "\u001b[1;31mNameError\u001b[0m                                 Traceback (most recent call last)",
      "\u001b[1;32m<ipython-input-54-81143379dcdc>\u001b[0m in \u001b[0;36m<module>\u001b[1;34m\u001b[0m\n\u001b[0;32m      7\u001b[0m \u001b[1;32mtry\u001b[0m\u001b[1;33m:\u001b[0m\u001b[1;33m\u001b[0m\u001b[1;33m\u001b[0m\u001b[0m\n\u001b[0;32m      8\u001b[0m     \u001b[0mprint\u001b[0m\u001b[1;33m(\u001b[0m\u001b[1;34m'run program'\u001b[0m\u001b[1;33m)\u001b[0m\u001b[1;33m\u001b[0m\u001b[1;33m\u001b[0m\u001b[0m\n\u001b[1;32m----> 9\u001b[1;33m     \u001b[0mvariable\u001b[0m \u001b[1;33m=\u001b[0m \u001b[0merror_variable\u001b[0m  \u001b[1;31m# force an error\u001b[0m\u001b[1;33m\u001b[0m\u001b[1;33m\u001b[0m\u001b[0m\n\u001b[0m\u001b[0;32m     10\u001b[0m     \u001b[0mlogging\u001b[0m\u001b[1;33m.\u001b[0m\u001b[0mdebug\u001b[0m\u001b[1;33m(\u001b[0m\u001b[1;34m'Finished run, time: '\u001b[0m \u001b[1;33m+\u001b[0m \u001b[0mstr\u001b[0m\u001b[1;33m(\u001b[0m\u001b[0mdatetime\u001b[0m\u001b[1;33m.\u001b[0m\u001b[0mdatetime\u001b[0m\u001b[1;33m.\u001b[0m\u001b[0mnow\u001b[0m\u001b[1;33m(\u001b[0m\u001b[1;33m)\u001b[0m\u001b[1;33m)\u001b[0m\u001b[1;33m)\u001b[0m\u001b[1;33m\u001b[0m\u001b[1;33m\u001b[0m\u001b[0m\n\u001b[0;32m     11\u001b[0m \u001b[1;32mexcept\u001b[0m\u001b[1;33m:\u001b[0m\u001b[1;33m\u001b[0m\u001b[1;33m\u001b[0m\u001b[0m\n",
      "\u001b[1;31mNameError\u001b[0m: name 'error_variable' is not defined"
     ]
    }
   ],
   "source": [
    "import datetime\n",
    "import logging\n",
    "\n",
    "LOG_FILENAME = 'errors_log.log'\n",
    "logging.basicConfig(filename=LOG_FILENAME, level=logging.DEBUG)\n",
    "logging.debug('Started run, time: ' + str(datetime.datetime.now()))\n",
    "try:\n",
    "    print('run program')\n",
    "    variable = error_variable  # force an error\n",
    "    logging.debug('Finished run, time: ' + str(datetime.datetime.now()))\n",
    "except:\n",
    "    logging.exception('Got exception on main handler, time: ' + str(datetime.datetime.now()))\n",
    "    raise  # use \"raise\" to exit program right away, without finishing\n",
    "\n",
    "print('rest of program')"
   ]
  },
  {
   "cell_type": "markdown",
   "metadata": {},
   "source": [
    "# write errors to Jupyter Notebook"
   ]
  },
  {
   "cell_type": "code",
   "execution_count": 55,
   "metadata": {},
   "outputs": [
    {
     "name": "stderr",
     "output_type": "stream",
     "text": [
      "DEBUG:root:Started run, time: 2019-03-13 15:37:00.141922\n",
      "ERROR:root:Got exception on main handler, time: 2019-03-13 15:37:00.143924\n",
      "Traceback (most recent call last):\n",
      "  File \"<ipython-input-55-505dc7b74f1d>\", line 9, in <module>\n",
      "    variable = error_variable  # will error out\n",
      "NameError: name 'error_variable' is not defined\n"
     ]
    },
    {
     "name": "stdout",
     "output_type": "stream",
     "text": [
      "run program\n",
      "rest of program\n"
     ]
    }
   ],
   "source": [
    "import datetime\n",
    "import logging\n",
    "\n",
    "logger = logging.getLogger()\n",
    "logging.basicConfig(level=logging.DEBUG)\n",
    "logging.debug('Started run, time: ' + str(datetime.datetime.now()))\n",
    "try:\n",
    "    print('run program')\n",
    "    variable = error_variable  # will error out\n",
    "    logging.debug('Finished run, time: ' + str(datetime.datetime.now()))\n",
    "except:\n",
    "    logging.exception('Got exception on main handler, time: ' + str(datetime.datetime.now()))\n",
    "    # raise  # use \"raise\" to exit program right away, without finishing\n",
    "\n",
    "print('rest of program')"
   ]
  },
  {
   "cell_type": "code",
   "execution_count": null,
   "metadata": {},
   "outputs": [],
   "source": []
  },
  {
   "cell_type": "code",
   "execution_count": null,
   "metadata": {},
   "outputs": [],
   "source": []
  }
 ],
 "metadata": {
  "kernelspec": {
   "display_name": "Python 3",
   "language": "python",
   "name": "python3"
  },
  "language_info": {
   "codemirror_mode": {
    "name": "ipython",
    "version": 3
   },
   "file_extension": ".py",
   "mimetype": "text/x-python",
   "name": "python",
   "nbconvert_exporter": "python",
   "pygments_lexer": "ipython3",
   "version": "3.7.1"
  }
 },
 "nbformat": 4,
 "nbformat_minor": 2
}

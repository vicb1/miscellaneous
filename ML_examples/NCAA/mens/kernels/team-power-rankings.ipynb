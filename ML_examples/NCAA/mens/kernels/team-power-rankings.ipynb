{
 "cells": [
  {
   "cell_type": "markdown",
   "metadata": {
    "_uuid": "e38835708d1b268a5aa1a291572b8de51a07e9b6"
   },
   "source": [
    "# Data-driven power rankings\n",
    "\n",
    "Ranking the teams by their strength is a very important piece of information your model should use.\n",
    "\n",
    "Some of the rankings are using expert opinion (i.e. majority vote of fan opinion). However, this may be not the best approach, as human opinions tend to be biased towards their favorites. Moreover, it may be easy to determine a top few strong teams, but it is a much harder to rank teams in the mid-lower range ranks.\n",
    "\n",
    "In NCAA tournament teams are assigned with tournament starting seeds, which also has expert bias - it is not uncommon, that a team with higher win ratio % would get lower seed compared to a team with lower win ratio %, based on the regular season schedule (which is not the same for every team!). Therefore, the judgment of team strength of assigned seed sometimes get controversial opinion among fans and media!\n",
    "\n",
    "The idea of this kernel is to try to calculate the team strength rankings only based on the  data we have in our disposal. This way we will eliminate all possible human biases and get a robust estimate of team's strength."
   ]
  },
  {
   "cell_type": "code",
   "execution_count": 1,
   "metadata": {
    "_cell_guid": "b1076dfc-b9ad-4769-8c92-a6c4dae69d19",
    "_uuid": "8f2839f25d086af736a60e9eeb907d3b93b6e0e5"
   },
   "outputs": [],
   "source": [
    "import numpy as np\n",
    "import pandas as pd\n",
    "import statsmodels.api as sm\n",
    "import matplotlib.pyplot as plt\n",
    "import seaborn as sns\n",
    "\n",
    "seeds = pd.read_csv('../input/datafiles/NCAATourneySeeds.csv')\n",
    "tourney_results = pd.read_csv('../input/datafiles/NCAATourneyCompactResults.csv')\n",
    "regular_results = pd.read_csv('../input/datafiles/RegularSeasonCompactResults.csv')"
   ]
  },
  {
   "cell_type": "markdown",
   "metadata": {
    "_uuid": "177d18adcc1743fd9b493981ffda26574aa4354f"
   },
   "source": [
    "We are going to use the function which allows us to duplicate the data by swapping the order of teams in given tables:"
   ]
  },
  {
   "cell_type": "code",
   "execution_count": 2,
   "metadata": {
    "_cell_guid": "79c7e3d0-c299-4dcb-8224-4455121ee9b0",
    "_uuid": "d629ff2d2480ee46fbb7e2d37f6b5fab8052498a"
   },
   "outputs": [],
   "source": [
    "def prepare_data(df):\n",
    "    dfswap = df[['Season', 'DayNum', 'LTeamID', 'LScore', 'WTeamID', 'WScore', 'WLoc', 'NumOT']]\n",
    "\n",
    "    dfswap.loc[df['WLoc'] == 'H', 'WLoc'] = 'A'\n",
    "    dfswap.loc[df['WLoc'] == 'A', 'WLoc'] = 'H'\n",
    "    df.columns.values[6] = 'location'\n",
    "    dfswap.columns.values[6] = 'location'         \n",
    "    df.columns = [x.replace('W','T1_').replace('L','T2_') for x in list(df.columns)]\n",
    "    dfswap.columns = [x.replace('L','T1_').replace('W','T2_') for x in list(dfswap.columns)]\n",
    "    output = pd.concat([df, dfswap]).sort_index().reset_index(drop=True)\n",
    "    \n",
    "    return output"
   ]
  },
  {
   "cell_type": "code",
   "execution_count": 3,
   "metadata": {
    "_uuid": "0a3c9bc650994b4ca298503b29e56f14702bf9c0"
   },
   "outputs": [],
   "source": [
    "tourney_results = prepare_data(tourney_results)\n",
    "regular_results = prepare_data(regular_results)"
   ]
  },
  {
   "cell_type": "code",
   "execution_count": 4,
   "metadata": {
    "_uuid": "d5a4ccfadb1974a82acb1956c5ae561bc545f05b"
   },
   "outputs": [
    {
     "data": {
      "text/html": [
       "<div>\n",
       "<style scoped>\n",
       "    .dataframe tbody tr th:only-of-type {\n",
       "        vertical-align: middle;\n",
       "    }\n",
       "\n",
       "    .dataframe tbody tr th {\n",
       "        vertical-align: top;\n",
       "    }\n",
       "\n",
       "    .dataframe thead th {\n",
       "        text-align: right;\n",
       "    }\n",
       "</style>\n",
       "<table border=\"1\" class=\"dataframe\">\n",
       "  <thead>\n",
       "    <tr style=\"text-align: right;\">\n",
       "      <th></th>\n",
       "      <th>Season</th>\n",
       "      <th>DayNum</th>\n",
       "      <th>T1_TeamID</th>\n",
       "      <th>T1_Score</th>\n",
       "      <th>T2_TeamID</th>\n",
       "      <th>T2_Score</th>\n",
       "      <th>location</th>\n",
       "      <th>NumOT</th>\n",
       "    </tr>\n",
       "  </thead>\n",
       "  <tbody>\n",
       "    <tr>\n",
       "      <th>0</th>\n",
       "      <td>1985</td>\n",
       "      <td>20</td>\n",
       "      <td>1228</td>\n",
       "      <td>81</td>\n",
       "      <td>1328</td>\n",
       "      <td>64</td>\n",
       "      <td>N</td>\n",
       "      <td>0</td>\n",
       "    </tr>\n",
       "    <tr>\n",
       "      <th>1</th>\n",
       "      <td>1985</td>\n",
       "      <td>20</td>\n",
       "      <td>1328</td>\n",
       "      <td>64</td>\n",
       "      <td>1228</td>\n",
       "      <td>81</td>\n",
       "      <td>N</td>\n",
       "      <td>0</td>\n",
       "    </tr>\n",
       "    <tr>\n",
       "      <th>2</th>\n",
       "      <td>1985</td>\n",
       "      <td>25</td>\n",
       "      <td>1354</td>\n",
       "      <td>70</td>\n",
       "      <td>1106</td>\n",
       "      <td>77</td>\n",
       "      <td>A</td>\n",
       "      <td>0</td>\n",
       "    </tr>\n",
       "    <tr>\n",
       "      <th>3</th>\n",
       "      <td>1985</td>\n",
       "      <td>25</td>\n",
       "      <td>1106</td>\n",
       "      <td>77</td>\n",
       "      <td>1354</td>\n",
       "      <td>70</td>\n",
       "      <td>H</td>\n",
       "      <td>0</td>\n",
       "    </tr>\n",
       "    <tr>\n",
       "      <th>4</th>\n",
       "      <td>1985</td>\n",
       "      <td>25</td>\n",
       "      <td>1112</td>\n",
       "      <td>63</td>\n",
       "      <td>1223</td>\n",
       "      <td>56</td>\n",
       "      <td>H</td>\n",
       "      <td>0</td>\n",
       "    </tr>\n",
       "    <tr>\n",
       "      <th>5</th>\n",
       "      <td>1985</td>\n",
       "      <td>25</td>\n",
       "      <td>1223</td>\n",
       "      <td>56</td>\n",
       "      <td>1112</td>\n",
       "      <td>63</td>\n",
       "      <td>A</td>\n",
       "      <td>0</td>\n",
       "    </tr>\n",
       "    <tr>\n",
       "      <th>6</th>\n",
       "      <td>1985</td>\n",
       "      <td>25</td>\n",
       "      <td>1165</td>\n",
       "      <td>70</td>\n",
       "      <td>1432</td>\n",
       "      <td>54</td>\n",
       "      <td>H</td>\n",
       "      <td>0</td>\n",
       "    </tr>\n",
       "    <tr>\n",
       "      <th>7</th>\n",
       "      <td>1985</td>\n",
       "      <td>25</td>\n",
       "      <td>1432</td>\n",
       "      <td>54</td>\n",
       "      <td>1165</td>\n",
       "      <td>70</td>\n",
       "      <td>A</td>\n",
       "      <td>0</td>\n",
       "    </tr>\n",
       "    <tr>\n",
       "      <th>8</th>\n",
       "      <td>1985</td>\n",
       "      <td>25</td>\n",
       "      <td>1192</td>\n",
       "      <td>86</td>\n",
       "      <td>1447</td>\n",
       "      <td>74</td>\n",
       "      <td>H</td>\n",
       "      <td>0</td>\n",
       "    </tr>\n",
       "    <tr>\n",
       "      <th>9</th>\n",
       "      <td>1985</td>\n",
       "      <td>25</td>\n",
       "      <td>1447</td>\n",
       "      <td>74</td>\n",
       "      <td>1192</td>\n",
       "      <td>86</td>\n",
       "      <td>A</td>\n",
       "      <td>0</td>\n",
       "    </tr>\n",
       "  </tbody>\n",
       "</table>\n",
       "</div>"
      ],
      "text/plain": [
       "   Season  DayNum  T1_TeamID  ...    T2_Score  location  NumOT\n",
       "0    1985      20       1228  ...          64         N      0\n",
       "1    1985      20       1328  ...          81         N      0\n",
       "2    1985      25       1354  ...          77         A      0\n",
       "3    1985      25       1106  ...          70         H      0\n",
       "4    1985      25       1112  ...          56         H      0\n",
       "5    1985      25       1223  ...          63         A      0\n",
       "6    1985      25       1165  ...          54         H      0\n",
       "7    1985      25       1432  ...          70         A      0\n",
       "8    1985      25       1192  ...          74         H      0\n",
       "9    1985      25       1447  ...          86         A      0\n",
       "\n",
       "[10 rows x 8 columns]"
      ]
     },
     "execution_count": 4,
     "metadata": {},
     "output_type": "execute_result"
    }
   ],
   "source": [
    "regular_results.head(10)"
   ]
  },
  {
   "cell_type": "markdown",
   "metadata": {
    "_uuid": "00008b58fe6066335c46afcbcd3b3e708a656cb9"
   },
   "source": [
    "As you can see, at this point we have clean tables with duplicated rows, but only team positions and their scores swapped.\n",
    "\n",
    "What we are going to do next is pretty simple - we are going to make dummy features based on `T1_TeamID` and `T2_TeamID` and feed them as factors the `glm` model."
   ]
  },
  {
   "cell_type": "code",
   "execution_count": 5,
   "metadata": {
    "_uuid": "7e40d0a8fc5294d49e78664a53c35ac127e4fe18"
   },
   "outputs": [],
   "source": [
    "# convert to str, so the model would treat TeamID them as factors\n",
    "regular_results['T1_TeamID'] = regular_results['T1_TeamID'].astype(str)\n",
    "regular_results['T2_TeamID'] = regular_results['T2_TeamID'].astype(str)\n",
    "\n",
    "# make it a binary task\n",
    "regular_results['win'] = np.where(regular_results['T1_Score']>regular_results['T2_Score'], 1, 0)\n",
    "\n",
    "def team_quality(season):\n",
    "    \"\"\"\n",
    "    Calculate team quality for each season seperately. \n",
    "    Team strength changes from season to season (students playing change!)\n",
    "    So pooling everything would be bad approach!\n",
    "    \"\"\"\n",
    "    formula = 'win~-1+T1_TeamID+T2_TeamID'\n",
    "    glm = sm.GLM.from_formula(formula=formula, \n",
    "                              data=regular_results.loc[regular_results.Season==season,:], \n",
    "                              family=sm.families.Binomial()).fit()\n",
    "    \n",
    "    # extracting parameters from glm\n",
    "    quality = pd.DataFrame(glm.params).reset_index()\n",
    "    quality.columns = ['TeamID','beta']\n",
    "    quality['Season'] = season\n",
    "    # taking exp due to binomial model being used\n",
    "    quality['quality'] = np.exp(quality['beta'])\n",
    "    # only interested in glm parameters with T1_, as T2_ should be mirroring T1_ ones\n",
    "    quality = quality.loc[quality.TeamID.str.contains('T1_')].reset_index(drop=True)\n",
    "    quality['TeamID'] = quality['TeamID'].apply(lambda x: x[10:14]).astype(int)\n",
    "    return quality"
   ]
  },
  {
   "cell_type": "markdown",
   "metadata": {
    "_uuid": "5a02966d55465cf57de13ab1fae3d58938f28761"
   },
   "source": [
    "So what is done here - we are running a logistic regression with *N* teams in T1_x position and *N* teams in T2_x position as binary features (each feature being either \"0\" or \"1\").\n",
    "\n",
    "\"0\" is representing that the team did not play in that match at the position T1 (or T2 respectively), and \"1\" would represent that this team actually played.\n",
    "\n",
    "So among *N* \\* 2 features, only 2 of them are \"1\" (as only 2 teams play during basketball matches). In this setup `glm` model is trying to fit parameters on each of *N* \\* 2  features to predict the `win` as accurately as possible.\n",
    "\n",
    "As you can see, we did not use any of the information from the matches themselves (not even a score difference). The idea is, that using this approach we want to extract the natural (or mean) strength of a team, not depending on the opponent the team is going to play. And all the actual results of the basketball matches is just a deviation from the expected mean performance of the team.\n",
    "\n",
    "Let's try calculate the results for each season:"
   ]
  },
  {
   "cell_type": "code",
   "execution_count": 6,
   "metadata": {
    "_uuid": "837a53b417200ee689f5a6ddf6dfd0102f85b1cf"
   },
   "outputs": [],
   "source": [
    "team_quality = pd.concat([team_quality(2010),\n",
    "                          team_quality(2011),\n",
    "                          team_quality(2012),\n",
    "                          team_quality(2013),\n",
    "                          team_quality(2014),\n",
    "                          team_quality(2015),\n",
    "                          team_quality(2016),\n",
    "                          team_quality(2017),\n",
    "                          team_quality(2018)]).reset_index(drop=True)"
   ]
  },
  {
   "cell_type": "markdown",
   "metadata": {
    "_uuid": "5454621531cb5eef1d28edc7511df47cdfdd0479"
   },
   "source": [
    "Let's take a look at the distribution of the team strength as in fitted `glm` parameters:"
   ]
  },
  {
   "cell_type": "code",
   "execution_count": 7,
   "metadata": {
    "_uuid": "0ba04dbcc4288e098fba98fc0344516325b885e3"
   },
   "outputs": [
    {
     "data": {
      "text/plain": [
       "<matplotlib.axes._subplots.AxesSubplot at 0x7f55c6746048>"
      ]
     },
     "execution_count": 7,
     "metadata": {},
     "output_type": "execute_result"
    },
    {
     "data": {
      "image/png": "[encoded data removed]",
      "text/plain": [
       "<Figure size 432x288 with 1 Axes>"
      ]
     },
     "metadata": {},
     "output_type": "display_data"
    }
   ],
   "source": [
    "sns.set_style('whitegrid')\n",
    "sns.kdeplot(np.array(team_quality['beta']), bw=0.1)"
   ]
  },
  {
   "cell_type": "markdown",
   "metadata": {
    "_uuid": "48d1827761ee782f4a317e15208f4f0d6d3cfa05"
   },
   "source": [
    "The distribution seems to be symetric, with a little shift towards positive estimates. In general, very nice looking distribution.\n",
    "\n",
    "If you have noticed, during quality estimation I used the `exp(beta)` to determine team's quality. The idea is, that the difference of i.e. `beta=1` and `beta=2` is not equivalent of the difference between `beta=2` and `beta=3`, as beta parameters are following not linear, but logarithmic interpretation (all this is the result of us using binomial `glm`). However, it is possible to get a linearly comparable team strengths - it is sufficient to apply `exp(beta)` transformation!\n",
    "\n",
    "Let's take at the `exp(beta)` distribution:"
   ]
  },
  {
   "cell_type": "code",
   "execution_count": 8,
   "metadata": {
    "_uuid": "dc5e5f39425cb1e4e443749557ca47cf847e66ae"
   },
   "outputs": [
    {
     "data": {
      "text/plain": [
       "<matplotlib.axes._subplots.AxesSubplot at 0x7f55c44b9470>"
      ]
     },
     "execution_count": 8,
     "metadata": {},
     "output_type": "execute_result"
    },
    {
     "data": {
      "image/png": "[encoded data removed]",
      "text/plain": [
       "<Figure size 432x288 with 1 Axes>"
      ]
     },
     "metadata": {},
     "output_type": "display_data"
    }
   ],
   "source": [
    "sns.set_style('whitegrid')\n",
    "sns.kdeplot(np.array(np.clip(team_quality['quality'],0,1000)), bw=0.1)"
   ]
  },
  {
   "cell_type": "markdown",
   "metadata": {
    "_uuid": "e7109b11ba480f259616c64dcf89aa67f69435f8"
   },
   "source": [
    "First thing we can notice, that there is a collection of teams with very high team strengths. This is where you would expect the tournament leaders to be!"
   ]
  },
  {
   "cell_type": "markdown",
   "metadata": {
    "_uuid": "2a4333883da3abe8b37fdc9cdbf771ba74495333"
   },
   "source": [
    "# March Madness teams - team strength overview"
   ]
  },
  {
   "cell_type": "markdown",
   "metadata": {
    "_uuid": "7c7b92cc11e9a1d26f939d13cb6e57f0ae4aa983"
   },
   "source": [
    "Up until this point we considered all the teams which played in the regular season. However, we are only interested in March Madness selected teams. I am going to analyze how the team strength we calculated translates into predicting the winners of NCAA March Madness tournament matches."
   ]
  },
  {
   "cell_type": "markdown",
   "metadata": {
    "_uuid": "44537ca601a8c86a38745effb9022f50bffd8b00"
   },
   "source": [
    "Let's merge the team quality data to our tournament results table:"
   ]
  },
  {
   "cell_type": "code",
   "execution_count": 9,
   "metadata": {
    "_uuid": "978666a8d4831c6d7b14790681eae5b58c7b1062"
   },
   "outputs": [],
   "source": [
    "team_quality_T1 = team_quality[['TeamID','Season','quality']]\n",
    "team_quality_T1.columns = ['T1_TeamID','Season','T1_quality']\n",
    "team_quality_T2 = team_quality[['TeamID','Season','quality']]\n",
    "team_quality_T2.columns = ['T2_TeamID','Season','T2_quality']\n",
    "\n",
    "tourney_results['T1_TeamID'] = tourney_results['T1_TeamID'].astype(int)\n",
    "tourney_results['T2_TeamID'] = tourney_results['T2_TeamID'].astype(int)\n",
    "tourney_results = tourney_results.merge(team_quality_T1, on = ['T1_TeamID','Season'], how = 'left')\n",
    "tourney_results = tourney_results.merge(team_quality_T2, on = ['T2_TeamID','Season'], how = 'left')"
   ]
  },
  {
   "cell_type": "code",
   "execution_count": 10,
   "metadata": {
    "_uuid": "45a0e7f596ed0cd8f52f23344e4bfa741e9d08b2"
   },
   "outputs": [],
   "source": [
    "# we only have tourney results since year 2010\n",
    "tourney_results = tourney_results.loc[tourney_results['Season'] >= 2010].reset_index(drop=True)\n",
    "\n",
    "# not interested in pre-selection matches\n",
    "tourney_results = tourney_results.loc[tourney_results['DayNum'] >= 136].reset_index(drop=True)"
   ]
  },
  {
   "cell_type": "markdown",
   "metadata": {
    "_uuid": "48dc666321fa630a92f210c2880a3ff3ea20ba94"
   },
   "source": [
    "We are also going to be interested in comparing how the team strength we calculated correlates with seeds assigned to each team:"
   ]
  },
  {
   "cell_type": "code",
   "execution_count": 11,
   "metadata": {
    "_uuid": "5ca8d86ad11d25d138e0bcee87e45e18dea6b770"
   },
   "outputs": [],
   "source": [
    "seeds['seed'] = seeds['Seed'].apply(lambda x: int(x[1:3]))\n",
    "seeds['division'] = seeds['Seed'].apply(lambda x: x[0])\n",
    "\n",
    "seeds_T1 = seeds[['Season','TeamID','seed','division']].copy()\n",
    "seeds_T2 = seeds[['Season','TeamID','seed','division']].copy()\n",
    "seeds_T1.columns = ['Season','T1_TeamID','T1_seed','T1_division']\n",
    "seeds_T2.columns = ['Season','T2_TeamID','T2_seed','T2_division']\n",
    "\n",
    "tourney_results = tourney_results.merge(seeds_T1, on = ['Season', 'T1_TeamID'], how = 'left')\n",
    "tourney_results = tourney_results.merge(seeds_T2, on = ['Season', 'T2_TeamID'], how = 'left')"
   ]
  },
  {
   "cell_type": "markdown",
   "metadata": {
    "_uuid": "a0766205a2677b48e868eced93acd4ab2e517e96"
   },
   "source": [
    "Let's try and convert team quality to the rank of team quality:"
   ]
  },
  {
   "cell_type": "code",
   "execution_count": 12,
   "metadata": {
    "_uuid": "cdf6ff0388e664fdcdd9cc31a784e940703841c5"
   },
   "outputs": [],
   "source": [
    "tourney_results['T1_powerrank'] = tourney_results.groupby(['Season','T1_division'])['T1_quality'].rank(method='dense', ascending=False).astype(int)\n",
    "tourney_results['T2_powerrank'] = tourney_results.groupby(['Season','T2_division'])['T2_quality'].rank(method='dense', ascending=False).astype(int)"
   ]
  },
  {
   "cell_type": "markdown",
   "metadata": {
    "_uuid": "bc7ecf48994aa30811fdb688e4e621fb758859c1"
   },
   "source": [
    "At this point we are interested to see how the power rank we derived from regular season correlats with seed data:"
   ]
  },
  {
   "cell_type": "code",
   "execution_count": 13,
   "metadata": {
    "_uuid": "c119e3557b5cee848459023684fd81f7adea838f"
   },
   "outputs": [],
   "source": [
    "piv = pd.pivot_table(tourney_results, index = ['T1_seed'], columns=['T1_powerrank'], values = ['T1_TeamID'], aggfunc=len)\n",
    "piv = piv.xs('T1_TeamID', axis=1, drop_level=True)"
   ]
  },
  {
   "cell_type": "code",
   "execution_count": 14,
   "metadata": {
    "_uuid": "a677ed46f21d3e8608ab57fddf70341977703e8e"
   },
   "outputs": [
    {
     "data": {
      "text/plain": [
       "<matplotlib.axes._subplots.AxesSubplot at 0x7f55c449eb70>"
      ]
     },
     "execution_count": 14,
     "metadata": {},
     "output_type": "execute_result"
    },
    {
     "data": {
      "image/png": "[encoded data removed]",
      "text/plain": [
       "<Figure size 864x576 with 2 Axes>"
      ]
     },
     "metadata": {},
     "output_type": "display_data"
    }
   ],
   "source": [
    "fig, ax = plt.subplots(figsize=(12,8))\n",
    "sns.heatmap(piv, annot=True,cmap='Blues', fmt='g')"
   ]
  },
  {
   "cell_type": "markdown",
   "metadata": {
    "_uuid": "aa1205f338c53d2243adeba51f22a04c566c0371"
   },
   "source": [
    "There is a very strong correlation, but there are some interesting misalignments. For example, it is interesting how #1 seed is assigned - it seems our powerranking agrees only in `108/(108+18+15) = 76.5%` of the times with the number 1 seed selection! It can be easily explained - we did not capture any time component, like increasing/decreasing quality trend in our `glm` model. And the `seed` is capturing the end result of how the team is ready for the March Madness (like is all star players of the team are healthy?)\n",
    "\n",
    "And there is a quite strong disagreement in the mid-level seeded teams - these are the hardest to rank even for experts!\n",
    "\n",
    "So now we can finally raise a question - what is a better predictor - seed information or our power rankings?\n",
    "Let's try and do that without building any models - let's simply calculate how many games a team won with a given seed/powerrank:"
   ]
  },
  {
   "cell_type": "code",
   "execution_count": 15,
   "metadata": {
    "_uuid": "3e906b31f7e40784e0343acaae7b37bd8a5bce63"
   },
   "outputs": [],
   "source": [
    "tourney_results['win'] = np.where(tourney_results['T1_Score'] > tourney_results['T2_Score'], 1, 0)"
   ]
  },
  {
   "cell_type": "code",
   "execution_count": 16,
   "metadata": {
    "_uuid": "b42aa3ed367ac96f9448b6fcfc8be11bf377eb62"
   },
   "outputs": [
    {
     "data": {
      "text/html": [
       "<div>\n",
       "<style scoped>\n",
       "    .dataframe tbody tr th:only-of-type {\n",
       "        vertical-align: middle;\n",
       "    }\n",
       "\n",
       "    .dataframe tbody tr th {\n",
       "        vertical-align: top;\n",
       "    }\n",
       "\n",
       "    .dataframe thead th {\n",
       "        text-align: right;\n",
       "    }\n",
       "</style>\n",
       "<table border=\"1\" class=\"dataframe\">\n",
       "  <thead>\n",
       "    <tr style=\"text-align: right;\">\n",
       "      <th></th>\n",
       "      <th>seed_win_ratio</th>\n",
       "      <th>powerrank_win_ratio</th>\n",
       "    </tr>\n",
       "  </thead>\n",
       "  <tbody>\n",
       "    <tr>\n",
       "      <th>1</th>\n",
       "      <td>0.787234</td>\n",
       "      <td>0.763359</td>\n",
       "    </tr>\n",
       "    <tr>\n",
       "      <th>2</th>\n",
       "      <td>0.690265</td>\n",
       "      <td>0.698276</td>\n",
       "    </tr>\n",
       "    <tr>\n",
       "      <th>3</th>\n",
       "      <td>0.642857</td>\n",
       "      <td>0.676190</td>\n",
       "    </tr>\n",
       "    <tr>\n",
       "      <th>4</th>\n",
       "      <td>0.632653</td>\n",
       "      <td>0.608696</td>\n",
       "    </tr>\n",
       "    <tr>\n",
       "      <th>5</th>\n",
       "      <td>0.520000</td>\n",
       "      <td>0.492958</td>\n",
       "    </tr>\n",
       "    <tr>\n",
       "      <th>6</th>\n",
       "      <td>0.409836</td>\n",
       "      <td>0.527027</td>\n",
       "    </tr>\n",
       "    <tr>\n",
       "      <th>7</th>\n",
       "      <td>0.539474</td>\n",
       "      <td>0.560976</td>\n",
       "    </tr>\n",
       "    <tr>\n",
       "      <th>8</th>\n",
       "      <td>0.470588</td>\n",
       "      <td>0.280000</td>\n",
       "    </tr>\n",
       "    <tr>\n",
       "      <th>9</th>\n",
       "      <td>0.379310</td>\n",
       "      <td>0.333333</td>\n",
       "    </tr>\n",
       "    <tr>\n",
       "      <th>10</th>\n",
       "      <td>0.357143</td>\n",
       "      <td>0.419355</td>\n",
       "    </tr>\n",
       "    <tr>\n",
       "      <th>11</th>\n",
       "      <td>0.506849</td>\n",
       "      <td>0.526316</td>\n",
       "    </tr>\n",
       "    <tr>\n",
       "      <th>12</th>\n",
       "      <td>0.307692</td>\n",
       "      <td>0.333333</td>\n",
       "    </tr>\n",
       "    <tr>\n",
       "      <th>13</th>\n",
       "      <td>0.200000</td>\n",
       "      <td>0.234043</td>\n",
       "    </tr>\n",
       "    <tr>\n",
       "      <th>14</th>\n",
       "      <td>0.142857</td>\n",
       "      <td>0.100000</td>\n",
       "    </tr>\n",
       "    <tr>\n",
       "      <th>15</th>\n",
       "      <td>0.121951</td>\n",
       "      <td>0.142857</td>\n",
       "    </tr>\n",
       "    <tr>\n",
       "      <th>16</th>\n",
       "      <td>0.027027</td>\n",
       "      <td>0.052632</td>\n",
       "    </tr>\n",
       "  </tbody>\n",
       "</table>\n",
       "</div>"
      ],
      "text/plain": [
       "    seed_win_ratio  powerrank_win_ratio\n",
       "1         0.787234             0.763359\n",
       "2         0.690265             0.698276\n",
       "3         0.642857             0.676190\n",
       "4         0.632653             0.608696\n",
       "5         0.520000             0.492958\n",
       "6         0.409836             0.527027\n",
       "7         0.539474             0.560976\n",
       "8         0.470588             0.280000\n",
       "9         0.379310             0.333333\n",
       "10        0.357143             0.419355\n",
       "11        0.506849             0.526316\n",
       "12        0.307692             0.333333\n",
       "13        0.200000             0.234043\n",
       "14        0.142857             0.100000\n",
       "15        0.121951             0.142857\n",
       "16        0.027027             0.052632"
      ]
     },
     "execution_count": 16,
     "metadata": {},
     "output_type": "execute_result"
    }
   ],
   "source": [
    "mean_win_ratio = pd.DataFrame({'seed_win_ratio': tourney_results.groupby('T1_seed')['win'].mean(),\n",
    "                               'powerrank_win_ratio': tourney_results.groupby('T1_powerrank')['win'].mean()})\n",
    "mean_win_ratio"
   ]
  },
  {
   "cell_type": "code",
   "execution_count": 17,
   "metadata": {
    "_uuid": "37020e398d5d1dd6f41731e66a9f3c8dd51fb5dc"
   },
   "outputs": [
    {
     "data": {
      "text/plain": [
       "<matplotlib.axes._subplots.AxesSubplot at 0x7f55c15efc50>"
      ]
     },
     "execution_count": 17,
     "metadata": {},
     "output_type": "execute_result"
    },
    {
     "data": {
      "image/png": "[encoded data removed]",
      "text/plain": [
       "<Figure size 432x288 with 1 Axes>"
      ]
     },
     "metadata": {},
     "output_type": "display_data"
    }
   ],
   "source": [
    "sns.set_style('whitegrid')\n",
    "sns.lineplot(mean_win_ratio.index, mean_win_ratio['seed_win_ratio']) # Blue\n",
    "sns.lineplot(mean_win_ratio.index, mean_win_ratio['powerrank_win_ratio']) # Orange"
   ]
  },
  {
   "cell_type": "markdown",
   "metadata": {
    "_uuid": "434f340f40e92e359c812de42dc7340c9eb747fa"
   },
   "source": [
    "It seems they are pretty much aligned on average, and there are huge fluctuations in mid-range seeds as to be expected!\n",
    "\n",
    "Let's take look at AUC of the seed/rank assignment:"
   ]
  },
  {
   "cell_type": "code",
   "execution_count": 18,
   "metadata": {
    "_uuid": "769cd0502095fb91a8b5d73e07948f54546381ad"
   },
   "outputs": [
    {
     "name": "stdout",
     "output_type": "stream",
     "text": [
      "seed AUC: 0.721579898534631\n",
      "powerrank AUC: 0.7145998774452625\n",
      "team quality AUC: 0.6279483901470968\n"
     ]
    }
   ],
   "source": [
    "from sklearn.metrics import roc_auc_score\n",
    "\n",
    "print(f\"seed AUC: {roc_auc_score(tourney_results['win'],-tourney_results['T1_seed'])}\")\n",
    "print(f\"powerrank AUC: {roc_auc_score(tourney_results['win'],-tourney_results['T1_powerrank'])}\")\n",
    "print(f\"team quality AUC: {roc_auc_score(tourney_results['win'],tourney_results['T1_quality'])}\")"
   ]
  },
  {
   "cell_type": "markdown",
   "metadata": {
    "_uuid": "5983ebbf6eea3cfe1142e3148f12960209c58779"
   },
   "source": [
    "It seems that our powerrank is at very similar level expert based seed assignment! which is great news by itself - we have just proven that there is a way to build an unbiased seed ranking for the March Madness!\n",
    "\n",
    "However, *raw* team quality estimate is a not doing as good as powerranks. The reason for that maybe is that we built quality models for each season separately. This is a food for thought both for you and for me!\n",
    "\n",
    "So to summarize - estimating team quality with a very simple `glm` model should be helpful in determining the winner of a basketball match! And here you have it - a very strong features for your models!"
   ]
  },
  {
   "cell_type": "markdown",
   "metadata": {
    "_uuid": "30dee9cb23776171537fd428ea2be7eee309f170"
   },
   "source": [
    "## Hope you enjoyed this analysis!\n",
    "\n",
    "### Liked the content? don't forget to upvote:)"
   ]
  },
  {
   "cell_type": "markdown",
   "metadata": {
    "_uuid": "30e61a2ec829abc4ebc57e384f36ed9a4365388a"
   },
   "source": []
  },
  {
   "cell_type": "markdown",
   "metadata": {
    "_uuid": "11a87c44e70c872781f4038b96b7918c3e92c295"
   },
   "source": []
  },
  {
   "cell_type": "markdown",
   "metadata": {
    "_uuid": "18100bb051ad29ce690edadab80c9acaea9bc4ac"
   },
   "source": []
  }
 ],
 "metadata": {
  "kernelspec": {
   "display_name": "Python 3",
   "language": "python",
   "name": "python3"
  },
  "language_info": {
   "codemirror_mode": {
    "name": "ipython",
    "version": 3
   },
   "file_extension": ".py",
   "mimetype": "text/x-python",
   "name": "python",
   "nbconvert_exporter": "python",
   "pygments_lexer": "ipython3",
   "version": "3.6.6"
  }
 },
 "nbformat": 4,
 "nbformat_minor": 1
}

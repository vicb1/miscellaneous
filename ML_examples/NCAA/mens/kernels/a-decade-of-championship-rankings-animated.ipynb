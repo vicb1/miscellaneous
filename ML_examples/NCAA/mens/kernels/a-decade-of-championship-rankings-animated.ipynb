{
 "cells": [
  {
   "cell_type": "markdown",
   "metadata": {
    "_uuid": "05e342a2ad7d4dd406b98e99ced1d9b98809de29"
   },
   "source": [
    "# Analyzing a Decade of NCAA Championship Rankings\n",
    "\n",
    "As last year's winner of the [Men's March Madness Competition](https://www.kaggle.com/c/mens-machine-learning-competition-2018) I am eager to defend my title.  To kick things off, I wanted to start with a lightweight and fun animation with Plotly.  I chose to look at the Pomeroy Rankings for the last 10 National Championship winnning teams.  The below animation displays the change in the Pomeroy Rankings (team-by-team) for the last 15 weeks of the given regular season.  \n",
    "\n",
    "Although its a simple animation, there are a few interesting insights that can infered from it.  \n",
    "* The 2 Connecticut teams (2011 & 2014) were the only teams to have a ranking over 10 at any point in their championship seasons.\n",
    "* 4 teams never had a rank over 5 at any point in their championship seasons.\n",
    "* With the exception of the 2 Connecticut teams, all teams ranked in the top 5 at week #1 in the animation.\n",
    "* Only one of those teams, Duke - 2015, finished outside the top 5 (7) at week #15.\n",
    "\n",
    "So when I'm filling out my bracket this year and working on the algorithm for the 2019 Competition, I'm going to strongly weight teams that have had consistently strong Pomeroy rankings throughout the season.\n",
    "\n",
    "Feel free to check out my code and let me know what you think.  Thanks!\n"
   ]
  },
  {
   "cell_type": "code",
   "execution_count": 1,
   "metadata": {
    "_cell_guid": "b1076dfc-b9ad-4769-8c92-a6c4dae69d19",
    "_kg_hide-input": true,
    "_uuid": "8f2839f25d086af736a60e9eeb907d3b93b6e0e5"
   },
   "outputs": [
    {
     "data": {
      "text/html": [
       "<script type=\"text/javascript\">window.PlotlyConfig = {MathJaxConfig: 'local'};</script><script type=\"text/javascript\">if (window.MathJax) {MathJax.Hub.Config({SVG: {font: \"STIX-Web\"}});}</script><script>requirejs.config({paths: { 'plotly': ['https://cdn.plot.ly/plotly-latest.min']},});if(!window._Plotly) {require(['plotly'],function(plotly) {window._Plotly=plotly;});}</script>"
      ],
      "text/vnd.plotly.v1+html": [
       "<script type=\"text/javascript\">window.PlotlyConfig = {MathJaxConfig: 'local'};</script><script type=\"text/javascript\">if (window.MathJax) {MathJax.Hub.Config({SVG: {font: \"STIX-Web\"}});}</script><script>requirejs.config({paths: { 'plotly': ['https://cdn.plot.ly/plotly-latest.min']},});if(!window._Plotly) {require(['plotly'],function(plotly) {window._Plotly=plotly;});}</script>"
      ]
     },
     "metadata": {},
     "output_type": "display_data"
    }
   ],
   "source": [
    "#Import Packages\n",
    "import pandas as pd\n",
    "import numpy as np\n",
    "import seaborn as sns\n",
    "from collections import OrderedDict\n",
    "\n",
    "import warnings\n",
    "warnings.filterwarnings('ignore')\n",
    "\n",
    "from plotly.offline import init_notebook_mode, iplot\n",
    "from IPython.display import display, HTML, Image\n",
    "\n",
    "init_notebook_mode(connected=True)"
   ]
  },
  {
   "cell_type": "code",
   "execution_count": 2,
   "metadata": {
    "_cell_guid": "79c7e3d0-c299-4dcb-8224-4455121ee9b0",
    "_kg_hide-input": true,
    "_uuid": "d629ff2d2480ee46fbb7e2d37f6b5fab8052498a"
   },
   "outputs": [
    {
     "data": {
      "text/html": [
       "<img src=\"https://cdn1.thr.com/sites/default/files/2015/04/ap947394270639.jpg.jpg\"/>"
      ],
      "text/plain": [
       "<IPython.core.display.Image object>"
      ]
     },
     "execution_count": 2,
     "metadata": {},
     "output_type": "execute_result"
    }
   ],
   "source": [
    "Image(url='https://cdn1.thr.com/sites/default/files/2015/04/ap947394270639.jpg.jpg')"
   ]
  },
  {
   "cell_type": "code",
   "execution_count": 3,
   "metadata": {
    "_kg_hide-input": true,
    "_uuid": "a1a108f82b7234ce6eb8a00cbca55bb7d5078ac2"
   },
   "outputs": [
    {
     "data": {
      "application/vnd.plotly.v1+json": {
       "config": {
        "linkText": "Export to plot.ly",
        "plotlyServerURL": "https://plot.ly",
        "showLink": false
       },
       "data": [
        {
         "marker": {
          "size": 10
         },
         "mode": "markers",
         "name": "Villanova - 2018",
         "text": [
          "1437"
         ],
         "type": "scatter",
         "uid": "4ac2340b-8dfd-464c-a58b-d54a25002b81",
         "x": [
          1
         ],
         "y": [
          1
         ]
        },
        {
         "marker": {
          "size": 10
         },
         "mode": "markers",
         "name": "North Carolina - 2017",
         "text": [
          "1314"
         ],
         "type": "scatter",
         "uid": "f32ce34a-0c00-476d-a341-9fe0e870b871",
         "x": [
          1
         ],
         "y": [
          3
         ]
        },
        {
         "marker": {
          "size": 10
         },
         "mode": "markers",
         "name": "Villanova - 2016",
         "text": [
          "1437"
         ],
         "type": "scatter",
         "uid": "39ccbbd2-1059-4e23-90bf-60a6ca11ff0b",
         "x": [
          1
         ],
         "y": [
          5
         ]
        },
        {
         "marker": {
          "size": 10
         },
         "mode": "markers",
         "name": "Duke - 2015",
         "text": [
          "1181"
         ],
         "type": "scatter",
         "uid": "6014dfd1-33a0-4541-80f8-a2e4bbe45e03",
         "x": [
          1
         ],
         "y": [
          2
         ]
        },
        {
         "marker": {
          "size": 10
         },
         "mode": "markers",
         "name": "Connecticut - 2014",
         "text": [
          "1163"
         ],
         "type": "scatter",
         "uid": "8769b11c-0ccc-4c95-b3e3-50b9f4857223",
         "x": [
          1
         ],
         "y": [
          22
         ]
        },
        {
         "marker": {
          "size": 10
         },
         "mode": "markers",
         "name": "Louisville - 2013",
         "text": [
          "1257"
         ],
         "type": "scatter",
         "uid": "bbfb459e-4e87-405b-8d2d-bf26d3673adc",
         "x": [
          1
         ],
         "y": [
          3
         ]
        },
        {
         "marker": {
          "size": 10
         },
         "mode": "markers",
         "name": "Kentucky - 2012",
         "text": [
          "1246"
         ],
         "type": "scatter",
         "uid": "2eed6ae0-e172-4aec-bdba-dcf758d348ff",
         "x": [
          1
         ],
         "y": [
          2
         ]
        },
        {
         "marker": {
          "size": 10
         },
         "mode": "markers",
         "name": "Connecticut - 2011",
         "text": [
          "1163"
         ],
         "type": "scatter",
         "uid": "abe081e6-bc8f-4500-bfcf-1f77a7941295",
         "x": [
          1
         ],
         "y": [
          26
         ]
        },
        {
         "marker": {
          "size": 10
         },
         "mode": "markers",
         "name": "Duke - 2010",
         "text": [
          "1181"
         ],
         "type": "scatter",
         "uid": "6160832a-d934-4527-a6b6-e03bc463049c",
         "x": [
          1
         ],
         "y": [
          3
         ]
        },
        {
         "marker": {
          "size": 10
         },
         "mode": "markers",
         "name": "North Carolina - 2009",
         "text": [
          "1314"
         ],
         "type": "scatter",
         "uid": "7f65dc7d-cfff-43fe-9ac3-a0b2638c3f2b",
         "x": [
          1
         ],
         "y": [
          1
         ]
        }
       ],
       "frames": [
        {
         "data": [
          {
           "marker": {
            "size": 10
           },
           "mode": "markers",
           "name": "Villanova - 2018",
           "text": [
            "1437"
           ],
           "type": "scatter",
           "x": [
            1
           ],
           "y": [
            1
           ]
          },
          {
           "marker": {
            "size": 10
           },
           "mode": "markers",
           "name": "North Carolina - 2017",
           "text": [
            "1314"
           ],
           "type": "scatter",
           "x": [
            1
           ],
           "y": [
            3
           ]
          },
          {
           "marker": {
            "size": 10
           },
           "mode": "markers",
           "name": "Villanova - 2016",
           "text": [
            "1437"
           ],
           "type": "scatter",
           "x": [
            1
           ],
           "y": [
            5
           ]
          },
          {
           "marker": {
            "size": 10
           },
           "mode": "markers",
           "name": "Duke - 2015",
           "text": [
            "1181"
           ],
           "type": "scatter",
           "x": [
            1
           ],
           "y": [
            2
           ]
          },
          {
           "marker": {
            "size": 10
           },
           "mode": "markers",
           "name": "Connecticut - 2014",
           "text": [
            "1163"
           ],
           "type": "scatter",
           "x": [
            1
           ],
           "y": [
            22
           ]
          },
          {
           "marker": {
            "size": 10
           },
           "mode": "markers",
           "name": "Louisville - 2013",
           "text": [
            "1257"
           ],
           "type": "scatter",
           "x": [
            1
           ],
           "y": [
            3
           ]
          },
          {
           "marker": {
            "size": 10
           },
           "mode": "markers",
           "name": "Kentucky - 2012",
           "text": [
            "1246"
           ],
           "type": "scatter",
           "x": [
            1
           ],
           "y": [
            2
           ]
          },
          {
           "marker": {
            "size": 10
           },
           "mode": "markers",
           "name": "Connecticut - 2011",
           "text": [
            "1163"
           ],
           "type": "scatter",
           "x": [
            1
           ],
           "y": [
            26
           ]
          },
          {
           "marker": {
            "size": 10
           },
           "mode": "markers",
           "name": "Duke - 2010",
           "text": [
            "1181"
           ],
           "type": "scatter",
           "x": [
            1
           ],
           "y": [
            3
           ]
          },
          {
           "marker": {
            "size": 10
           },
           "mode": "markers",
           "name": "North Carolina - 2009",
           "text": [
            "1314"
           ],
           "type": "scatter",
           "x": [
            1
           ],
           "y": [
            1
           ]
          }
         ],
         "name": "1"
        },
        {
         "data": [
          {
           "marker": {
            "size": 10
           },
           "mode": "markers",
           "name": "Villanova - 2018",
           "text": [
            "1437"
           ],
           "type": "scatter",
           "x": [
            2
           ],
           "y": [
            1
           ]
          },
          {
           "marker": {
            "size": 10
           },
           "mode": "markers",
           "name": "North Carolina - 2017",
           "text": [
            "1314"
           ],
           "type": "scatter",
           "x": [
            2
           ],
           "y": [
            6
           ]
          },
          {
           "marker": {
            "size": 10
           },
           "mode": "markers",
           "name": "Villanova - 2016",
           "text": [
            "1437"
           ],
           "type": "scatter",
           "x": [
            2
           ],
           "y": [
            4
           ]
          },
          {
           "marker": {
            "size": 10
           },
           "mode": "markers",
           "name": "Duke - 2015",
           "text": [
            "1181"
           ],
           "type": "scatter",
           "x": [
            2
           ],
           "y": [
            2
           ]
          },
          {
           "marker": {
            "size": 10
           },
           "mode": "markers",
           "name": "Connecticut - 2014",
           "text": [
            "1163"
           ],
           "type": "scatter",
           "x": [
            2
           ],
           "y": [
            20
           ]
          },
          {
           "marker": {
            "size": 10
           },
           "mode": "markers",
           "name": "Louisville - 2013",
           "text": [
            "1257"
           ],
           "type": "scatter",
           "x": [
            2
           ],
           "y": [
            3
           ]
          },
          {
           "marker": {
            "size": 10
           },
           "mode": "markers",
           "name": "Kentucky - 2012",
           "text": [
            "1246"
           ],
           "type": "scatter",
           "x": [
            2
           ],
           "y": [
            2
           ]
          },
          {
           "marker": {
            "size": 10
           },
           "mode": "markers",
           "name": "Connecticut - 2011",
           "text": [
            "1163"
           ],
           "type": "scatter",
           "x": [
            2
           ],
           "y": [
            29
           ]
          },
          {
           "marker": {
            "size": 10
           },
           "mode": "markers",
           "name": "Duke - 2010",
           "text": [
            "1181"
           ],
           "type": "scatter",
           "x": [
            2
           ],
           "y": [
            3
           ]
          },
          {
           "marker": {
            "size": 10
           },
           "mode": "markers",
           "name": "North Carolina - 2009",
           "text": [
            "1314"
           ],
           "type": "scatter",
           "x": [
            2
           ],
           "y": [
            2
           ]
          }
         ],
         "name": "2"
        },
        {
         "data": [
          {
           "marker": {
            "size": 10
           },
           "mode": "markers",
           "name": "Villanova - 2018",
           "text": [
            "1437"
           ],
           "type": "scatter",
           "x": [
            3
           ],
           "y": [
            1
           ]
          },
          {
           "marker": {
            "size": 10
           },
           "mode": "markers",
           "name": "North Carolina - 2017",
           "text": [
            "1314"
           ],
           "type": "scatter",
           "x": [
            3
           ],
           "y": [
            6
           ]
          },
          {
           "marker": {
            "size": 10
           },
           "mode": "markers",
           "name": "Villanova - 2016",
           "text": [
            "1437"
           ],
           "type": "scatter",
           "x": [
            3
           ],
           "y": [
            8
           ]
          },
          {
           "marker": {
            "size": 10
           },
           "mode": "markers",
           "name": "Duke - 2015",
           "text": [
            "1181"
           ],
           "type": "scatter",
           "x": [
            3
           ],
           "y": [
            3
           ]
          },
          {
           "marker": {
            "size": 10
           },
           "mode": "markers",
           "name": "Connecticut - 2014",
           "text": [
            "1163"
           ],
           "type": "scatter",
           "x": [
            3
           ],
           "y": [
            25
           ]
          },
          {
           "marker": {
            "size": 10
           },
           "mode": "markers",
           "name": "Louisville - 2013",
           "text": [
            "1257"
           ],
           "type": "scatter",
           "x": [
            3
           ],
           "y": [
            2
           ]
          },
          {
           "marker": {
            "size": 10
           },
           "mode": "markers",
           "name": "Kentucky - 2012",
           "text": [
            "1246"
           ],
           "type": "scatter",
           "x": [
            3
           ],
           "y": [
            2
           ]
          },
          {
           "marker": {
            "size": 10
           },
           "mode": "markers",
           "name": "Connecticut - 2011",
           "text": [
            "1163"
           ],
           "type": "scatter",
           "x": [
            3
           ],
           "y": [
            35
           ]
          },
          {
           "marker": {
            "size": 10
           },
           "mode": "markers",
           "name": "Duke - 2010",
           "text": [
            "1181"
           ],
           "type": "scatter",
           "x": [
            3
           ],
           "y": [
            2
           ]
          },
          {
           "marker": {
            "size": 10
           },
           "mode": "markers",
           "name": "North Carolina - 2009",
           "text": [
            "1314"
           ],
           "type": "scatter",
           "x": [
            3
           ],
           "y": [
            3
           ]
          }
         ],
         "name": "3"
        },
        {
         "data": [
          {
           "marker": {
            "size": 10
           },
           "mode": "markers",
           "name": "Villanova - 2018",
           "text": [
            "1437"
           ],
           "type": "scatter",
           "x": [
            4
           ],
           "y": [
            1
           ]
          },
          {
           "marker": {
            "size": 10
           },
           "mode": "markers",
           "name": "North Carolina - 2017",
           "text": [
            "1314"
           ],
           "type": "scatter",
           "x": [
            4
           ],
           "y": [
            5
           ]
          },
          {
           "marker": {
            "size": 10
           },
           "mode": "markers",
           "name": "Villanova - 2016",
           "text": [
            "1437"
           ],
           "type": "scatter",
           "x": [
            4
           ],
           "y": [
            7
           ]
          },
          {
           "marker": {
            "size": 10
           },
           "mode": "markers",
           "name": "Duke - 2015",
           "text": [
            "1181"
           ],
           "type": "scatter",
           "x": [
            4
           ],
           "y": [
            3
           ]
          },
          {
           "marker": {
            "size": 10
           },
           "mode": "markers",
           "name": "Connecticut - 2014",
           "text": [
            "1163"
           ],
           "type": "scatter",
           "x": [
            4
           ],
           "y": [
            30
           ]
          },
          {
           "marker": {
            "size": 10
           },
           "mode": "markers",
           "name": "Louisville - 2013",
           "text": [
            "1257"
           ],
           "type": "scatter",
           "x": [
            4
           ],
           "y": [
            3
           ]
          },
          {
           "marker": {
            "size": 10
           },
           "mode": "markers",
           "name": "Kentucky - 2012",
           "text": [
            "1246"
           ],
           "type": "scatter",
           "x": [
            4
           ],
           "y": [
            3
           ]
          },
          {
           "marker": {
            "size": 10
           },
           "mode": "markers",
           "name": "Connecticut - 2011",
           "text": [
            "1163"
           ],
           "type": "scatter",
           "x": [
            4
           ],
           "y": [
            31
           ]
          },
          {
           "marker": {
            "size": 10
           },
           "mode": "markers",
           "name": "Duke - 2010",
           "text": [
            "1181"
           ],
           "type": "scatter",
           "x": [
            4
           ],
           "y": [
            2
           ]
          },
          {
           "marker": {
            "size": 10
           },
           "mode": "markers",
           "name": "North Carolina - 2009",
           "text": [
            "1314"
           ],
           "type": "scatter",
           "x": [
            4
           ],
           "y": [
            5
           ]
          }
         ],
         "name": "4"
        },
        {
         "data": [
          {
           "marker": {
            "size": 10
           },
           "mode": "markers",
           "name": "Villanova - 2018",
           "text": [
            "1437"
           ],
           "type": "scatter",
           "x": [
            5
           ],
           "y": [
            1
           ]
          },
          {
           "marker": {
            "size": 10
           },
           "mode": "markers",
           "name": "North Carolina - 2017",
           "text": [
            "1314"
           ],
           "type": "scatter",
           "x": [
            5
           ],
           "y": [
            8
           ]
          },
          {
           "marker": {
            "size": 10
           },
           "mode": "markers",
           "name": "Villanova - 2016",
           "text": [
            "1437"
           ],
           "type": "scatter",
           "x": [
            5
           ],
           "y": [
            1
           ]
          },
          {
           "marker": {
            "size": 10
           },
           "mode": "markers",
           "name": "Duke - 2015",
           "text": [
            "1181"
           ],
           "type": "scatter",
           "x": [
            5
           ],
           "y": [
            3
           ]
          },
          {
           "marker": {
            "size": 10
           },
           "mode": "markers",
           "name": "Connecticut - 2014",
           "text": [
            "1163"
           ],
           "type": "scatter",
           "x": [
            5
           ],
           "y": [
            44
           ]
          },
          {
           "marker": {
            "size": 10
           },
           "mode": "markers",
           "name": "Louisville - 2013",
           "text": [
            "1257"
           ],
           "type": "scatter",
           "x": [
            5
           ],
           "y": [
            4
           ]
          },
          {
           "marker": {
            "size": 10
           },
           "mode": "markers",
           "name": "Kentucky - 2012",
           "text": [
            "1246"
           ],
           "type": "scatter",
           "x": [
            5
           ],
           "y": [
            3
           ]
          },
          {
           "marker": {
            "size": 10
           },
           "mode": "markers",
           "name": "Connecticut - 2011",
           "text": [
            "1163"
           ],
           "type": "scatter",
           "x": [
            5
           ],
           "y": [
            33
           ]
          },
          {
           "marker": {
            "size": 10
           },
           "mode": "markers",
           "name": "Duke - 2010",
           "text": [
            "1181"
           ],
           "type": "scatter",
           "x": [
            5
           ],
           "y": [
            2
           ]
          },
          {
           "marker": {
            "size": 10
           },
           "mode": "markers",
           "name": "North Carolina - 2009",
           "text": [
            "1314"
           ],
           "type": "scatter",
           "x": [
            5
           ],
           "y": [
            5
           ]
          }
         ],
         "name": "5"
        },
        {
         "data": [
          {
           "marker": {
            "size": 10
           },
           "mode": "markers",
           "name": "Villanova - 2018",
           "text": [
            "1437"
           ],
           "type": "scatter",
           "x": [
            6
           ],
           "y": [
            1
           ]
          },
          {
           "marker": {
            "size": 10
           },
           "mode": "markers",
           "name": "North Carolina - 2017",
           "text": [
            "1314"
           ],
           "type": "scatter",
           "x": [
            6
           ],
           "y": [
            5
           ]
          },
          {
           "marker": {
            "size": 10
           },
           "mode": "markers",
           "name": "Villanova - 2016",
           "text": [
            "1437"
           ],
           "type": "scatter",
           "x": [
            6
           ],
           "y": [
            2
           ]
          },
          {
           "marker": {
            "size": 10
           },
           "mode": "markers",
           "name": "Duke - 2015",
           "text": [
            "1181"
           ],
           "type": "scatter",
           "x": [
            6
           ],
           "y": [
            4
           ]
          },
          {
           "marker": {
            "size": 10
           },
           "mode": "markers",
           "name": "Connecticut - 2014",
           "text": [
            "1163"
           ],
           "type": "scatter",
           "x": [
            6
           ],
           "y": [
            36
           ]
          },
          {
           "marker": {
            "size": 10
           },
           "mode": "markers",
           "name": "Louisville - 2013",
           "text": [
            "1257"
           ],
           "type": "scatter",
           "x": [
            6
           ],
           "y": [
            2
           ]
          },
          {
           "marker": {
            "size": 10
           },
           "mode": "markers",
           "name": "Kentucky - 2012",
           "text": [
            "1246"
           ],
           "type": "scatter",
           "x": [
            6
           ],
           "y": [
            3
           ]
          },
          {
           "marker": {
            "size": 10
           },
           "mode": "markers",
           "name": "Connecticut - 2011",
           "text": [
            "1163"
           ],
           "type": "scatter",
           "x": [
            6
           ],
           "y": [
            26
           ]
          },
          {
           "marker": {
            "size": 10
           },
           "mode": "markers",
           "name": "Duke - 2010",
           "text": [
            "1181"
           ],
           "type": "scatter",
           "x": [
            6
           ],
           "y": [
            2
           ]
          },
          {
           "marker": {
            "size": 10
           },
           "mode": "markers",
           "name": "North Carolina - 2009",
           "text": [
            "1314"
           ],
           "type": "scatter",
           "x": [
            6
           ],
           "y": [
            3
           ]
          }
         ],
         "name": "6"
        },
        {
         "data": [
          {
           "marker": {
            "size": 10
           },
           "mode": "markers",
           "name": "Villanova - 2018",
           "text": [
            "1437"
           ],
           "type": "scatter",
           "x": [
            7
           ],
           "y": [
            1
           ]
          },
          {
           "marker": {
            "size": 10
           },
           "mode": "markers",
           "name": "North Carolina - 2017",
           "text": [
            "1314"
           ],
           "type": "scatter",
           "x": [
            7
           ],
           "y": [
            6
           ]
          },
          {
           "marker": {
            "size": 10
           },
           "mode": "markers",
           "name": "Villanova - 2016",
           "text": [
            "1437"
           ],
           "type": "scatter",
           "x": [
            7
           ],
           "y": [
            1
           ]
          },
          {
           "marker": {
            "size": 10
           },
           "mode": "markers",
           "name": "Duke - 2015",
           "text": [
            "1181"
           ],
           "type": "scatter",
           "x": [
            7
           ],
           "y": [
            9
           ]
          },
          {
           "marker": {
            "size": 10
           },
           "mode": "markers",
           "name": "Connecticut - 2014",
           "text": [
            "1163"
           ],
           "type": "scatter",
           "x": [
            7
           ],
           "y": [
            36
           ]
          },
          {
           "marker": {
            "size": 10
           },
           "mode": "markers",
           "name": "Louisville - 2013",
           "text": [
            "1257"
           ],
           "type": "scatter",
           "x": [
            7
           ],
           "y": [
            2
           ]
          },
          {
           "marker": {
            "size": 10
           },
           "mode": "markers",
           "name": "Kentucky - 2012",
           "text": [
            "1246"
           ],
           "type": "scatter",
           "x": [
            7
           ],
           "y": [
            5
           ]
          },
          {
           "marker": {
            "size": 10
           },
           "mode": "markers",
           "name": "Connecticut - 2011",
           "text": [
            "1163"
           ],
           "type": "scatter",
           "x": [
            7
           ],
           "y": [
            24
           ]
          },
          {
           "marker": {
            "size": 10
           },
           "mode": "markers",
           "name": "Duke - 2010",
           "text": [
            "1181"
           ],
           "type": "scatter",
           "x": [
            7
           ],
           "y": [
            1
           ]
          },
          {
           "marker": {
            "size": 10
           },
           "mode": "markers",
           "name": "North Carolina - 2009",
           "text": [
            "1314"
           ],
           "type": "scatter",
           "x": [
            7
           ],
           "y": [
            2
           ]
          }
         ],
         "name": "7"
        },
        {
         "data": [
          {
           "marker": {
            "size": 10
           },
           "mode": "markers",
           "name": "Villanova - 2018",
           "text": [
            "1437"
           ],
           "type": "scatter",
           "x": [
            8
           ],
           "y": [
            1
           ]
          },
          {
           "marker": {
            "size": 10
           },
           "mode": "markers",
           "name": "North Carolina - 2017",
           "text": [
            "1314"
           ],
           "type": "scatter",
           "x": [
            8
           ],
           "y": [
            7
           ]
          },
          {
           "marker": {
            "size": 10
           },
           "mode": "markers",
           "name": "Villanova - 2016",
           "text": [
            "1437"
           ],
           "type": "scatter",
           "x": [
            8
           ],
           "y": [
            4
           ]
          },
          {
           "marker": {
            "size": 10
           },
           "mode": "markers",
           "name": "Duke - 2015",
           "text": [
            "1181"
           ],
           "type": "scatter",
           "x": [
            8
           ],
           "y": [
            8
           ]
          },
          {
           "marker": {
            "size": 10
           },
           "mode": "markers",
           "name": "Connecticut - 2014",
           "text": [
            "1163"
           ],
           "type": "scatter",
           "x": [
            8
           ],
           "y": [
            33
           ]
          },
          {
           "marker": {
            "size": 10
           },
           "mode": "markers",
           "name": "Louisville - 2013",
           "text": [
            "1257"
           ],
           "type": "scatter",
           "x": [
            8
           ],
           "y": [
            4
           ]
          },
          {
           "marker": {
            "size": 10
           },
           "mode": "markers",
           "name": "Kentucky - 2012",
           "text": [
            "1246"
           ],
           "type": "scatter",
           "x": [
            8
           ],
           "y": [
            6
           ]
          },
          {
           "marker": {
            "size": 10
           },
           "mode": "markers",
           "name": "Connecticut - 2011",
           "text": [
            "1163"
           ],
           "type": "scatter",
           "x": [
            8
           ],
           "y": [
            14
           ]
          },
          {
           "marker": {
            "size": 10
           },
           "mode": "markers",
           "name": "Duke - 2010",
           "text": [
            "1181"
           ],
           "type": "scatter",
           "x": [
            8
           ],
           "y": [
            2
           ]
          },
          {
           "marker": {
            "size": 10
           },
           "mode": "markers",
           "name": "North Carolina - 2009",
           "text": [
            "1314"
           ],
           "type": "scatter",
           "x": [
            8
           ],
           "y": [
            2
           ]
          }
         ],
         "name": "8"
        },
        {
         "data": [
          {
           "marker": {
            "size": 10
           },
           "mode": "markers",
           "name": "Villanova - 2018",
           "text": [
            "1437"
           ],
           "type": "scatter",
           "x": [
            9
           ],
           "y": [
            1
           ]
          },
          {
           "marker": {
            "size": 10
           },
           "mode": "markers",
           "name": "North Carolina - 2017",
           "text": [
            "1314"
           ],
           "type": "scatter",
           "x": [
            9
           ],
           "y": [
            10
           ]
          },
          {
           "marker": {
            "size": 10
           },
           "mode": "markers",
           "name": "Villanova - 2016",
           "text": [
            "1437"
           ],
           "type": "scatter",
           "x": [
            9
           ],
           "y": [
            3
           ]
          },
          {
           "marker": {
            "size": 10
           },
           "mode": "markers",
           "name": "Duke - 2015",
           "text": [
            "1181"
           ],
           "type": "scatter",
           "x": [
            9
           ],
           "y": [
            7
           ]
          },
          {
           "marker": {
            "size": 10
           },
           "mode": "markers",
           "name": "Connecticut - 2014",
           "text": [
            "1163"
           ],
           "type": "scatter",
           "x": [
            9
           ],
           "y": [
            29
           ]
          },
          {
           "marker": {
            "size": 10
           },
           "mode": "markers",
           "name": "Louisville - 2013",
           "text": [
            "1257"
           ],
           "type": "scatter",
           "x": [
            9
           ],
           "y": [
            4
           ]
          },
          {
           "marker": {
            "size": 10
           },
           "mode": "markers",
           "name": "Kentucky - 2012",
           "text": [
            "1246"
           ],
           "type": "scatter",
           "x": [
            9
           ],
           "y": [
            3
           ]
          },
          {
           "marker": {
            "size": 10
           },
           "mode": "markers",
           "name": "Connecticut - 2011",
           "text": [
            "1163"
           ],
           "type": "scatter",
           "x": [
            9
           ],
           "y": [
            14
           ]
          },
          {
           "marker": {
            "size": 10
           },
           "mode": "markers",
           "name": "Duke - 2010",
           "text": [
            "1181"
           ],
           "type": "scatter",
           "x": [
            9
           ],
           "y": [
            2
           ]
          },
          {
           "marker": {
            "size": 10
           },
           "mode": "markers",
           "name": "North Carolina - 2009",
           "text": [
            "1314"
           ],
           "type": "scatter",
           "x": [
            9
           ],
           "y": [
            3
           ]
          }
         ],
         "name": "9"
        },
        {
         "data": [
          {
           "marker": {
            "size": 10
           },
           "mode": "markers",
           "name": "Villanova - 2018",
           "text": [
            "1437"
           ],
           "type": "scatter",
           "x": [
            10
           ],
           "y": [
            1
           ]
          },
          {
           "marker": {
            "size": 10
           },
           "mode": "markers",
           "name": "North Carolina - 2017",
           "text": [
            "1314"
           ],
           "type": "scatter",
           "x": [
            10
           ],
           "y": [
            10
           ]
          },
          {
           "marker": {
            "size": 10
           },
           "mode": "markers",
           "name": "Villanova - 2016",
           "text": [
            "1437"
           ],
           "type": "scatter",
           "x": [
            10
           ],
           "y": [
            2
           ]
          },
          {
           "marker": {
            "size": 10
           },
           "mode": "markers",
           "name": "Duke - 2015",
           "text": [
            "1181"
           ],
           "type": "scatter",
           "x": [
            10
           ],
           "y": [
            8
           ]
          },
          {
           "marker": {
            "size": 10
           },
           "mode": "markers",
           "name": "Connecticut - 2014",
           "text": [
            "1163"
           ],
           "type": "scatter",
           "x": [
            10
           ],
           "y": [
            25
           ]
          },
          {
           "marker": {
            "size": 10
           },
           "mode": "markers",
           "name": "Louisville - 2013",
           "text": [
            "1257"
           ],
           "type": "scatter",
           "x": [
            10
           ],
           "y": [
            3
           ]
          },
          {
           "marker": {
            "size": 10
           },
           "mode": "markers",
           "name": "Kentucky - 2012",
           "text": [
            "1246"
           ],
           "type": "scatter",
           "x": [
            10
           ],
           "y": [
            2
           ]
          },
          {
           "marker": {
            "size": 10
           },
           "mode": "markers",
           "name": "Connecticut - 2011",
           "text": [
            "1163"
           ],
           "type": "scatter",
           "x": [
            10
           ],
           "y": [
            17
           ]
          },
          {
           "marker": {
            "size": 10
           },
           "mode": "markers",
           "name": "Duke - 2010",
           "text": [
            "1181"
           ],
           "type": "scatter",
           "x": [
            10
           ],
           "y": [
            2
           ]
          },
          {
           "marker": {
            "size": 10
           },
           "mode": "markers",
           "name": "North Carolina - 2009",
           "text": [
            "1314"
           ],
           "type": "scatter",
           "x": [
            10
           ],
           "y": [
            3
           ]
          }
         ],
         "name": "10"
        },
        {
         "data": [
          {
           "marker": {
            "size": 10
           },
           "mode": "markers",
           "name": "Villanova - 2018",
           "text": [
            "1437"
           ],
           "type": "scatter",
           "x": [
            11
           ],
           "y": [
            2
           ]
          },
          {
           "marker": {
            "size": 10
           },
           "mode": "markers",
           "name": "North Carolina - 2017",
           "text": [
            "1314"
           ],
           "type": "scatter",
           "x": [
            11
           ],
           "y": [
            10
           ]
          },
          {
           "marker": {
            "size": 10
           },
           "mode": "markers",
           "name": "Villanova - 2016",
           "text": [
            "1437"
           ],
           "type": "scatter",
           "x": [
            11
           ],
           "y": [
            1
           ]
          },
          {
           "marker": {
            "size": 10
           },
           "mode": "markers",
           "name": "Duke - 2015",
           "text": [
            "1181"
           ],
           "type": "scatter",
           "x": [
            11
           ],
           "y": [
            8
           ]
          },
          {
           "marker": {
            "size": 10
           },
           "mode": "markers",
           "name": "Connecticut - 2014",
           "text": [
            "1163"
           ],
           "type": "scatter",
           "x": [
            11
           ],
           "y": [
            20
           ]
          },
          {
           "marker": {
            "size": 10
           },
           "mode": "markers",
           "name": "Louisville - 2013",
           "text": [
            "1257"
           ],
           "type": "scatter",
           "x": [
            11
           ],
           "y": [
            3
           ]
          },
          {
           "marker": {
            "size": 10
           },
           "mode": "markers",
           "name": "Kentucky - 2012",
           "text": [
            "1246"
           ],
           "type": "scatter",
           "x": [
            11
           ],
           "y": [
            2
           ]
          },
          {
           "marker": {
            "size": 10
           },
           "mode": "markers",
           "name": "Connecticut - 2011",
           "text": [
            "1163"
           ],
           "type": "scatter",
           "x": [
            11
           ],
           "y": [
            21
           ]
          },
          {
           "marker": {
            "size": 10
           },
           "mode": "markers",
           "name": "Duke - 2010",
           "text": [
            "1181"
           ],
           "type": "scatter",
           "x": [
            11
           ],
           "y": [
            2
           ]
          },
          {
           "marker": {
            "size": 10
           },
           "mode": "markers",
           "name": "North Carolina - 2009",
           "text": [
            "1314"
           ],
           "type": "scatter",
           "x": [
            11
           ],
           "y": [
            1
           ]
          }
         ],
         "name": "11"
        },
        {
         "data": [
          {
           "marker": {
            "size": 10
           },
           "mode": "markers",
           "name": "Villanova - 2018",
           "text": [
            "1437"
           ],
           "type": "scatter",
           "x": [
            12
           ],
           "y": [
            2
           ]
          },
          {
           "marker": {
            "size": 10
           },
           "mode": "markers",
           "name": "North Carolina - 2017",
           "text": [
            "1314"
           ],
           "type": "scatter",
           "x": [
            12
           ],
           "y": [
            6
           ]
          },
          {
           "marker": {
            "size": 10
           },
           "mode": "markers",
           "name": "Villanova - 2016",
           "text": [
            "1437"
           ],
           "type": "scatter",
           "x": [
            12
           ],
           "y": [
            1
           ]
          },
          {
           "marker": {
            "size": 10
           },
           "mode": "markers",
           "name": "Duke - 2015",
           "text": [
            "1181"
           ],
           "type": "scatter",
           "x": [
            12
           ],
           "y": [
            8
           ]
          },
          {
           "marker": {
            "size": 10
           },
           "mode": "markers",
           "name": "Connecticut - 2014",
           "text": [
            "1163"
           ],
           "type": "scatter",
           "x": [
            12
           ],
           "y": [
            24
           ]
          },
          {
           "marker": {
            "size": 10
           },
           "mode": "markers",
           "name": "Louisville - 2013",
           "text": [
            "1257"
           ],
           "type": "scatter",
           "x": [
            12
           ],
           "y": [
            3
           ]
          },
          {
           "marker": {
            "size": 10
           },
           "mode": "markers",
           "name": "Kentucky - 2012",
           "text": [
            "1246"
           ],
           "type": "scatter",
           "x": [
            12
           ],
           "y": [
            1
           ]
          },
          {
           "marker": {
            "size": 10
           },
           "mode": "markers",
           "name": "Connecticut - 2011",
           "text": [
            "1163"
           ],
           "type": "scatter",
           "x": [
            12
           ],
           "y": [
            26
           ]
          },
          {
           "marker": {
            "size": 10
           },
           "mode": "markers",
           "name": "Duke - 2010",
           "text": [
            "1181"
           ],
           "type": "scatter",
           "x": [
            12
           ],
           "y": [
            1
           ]
          },
          {
           "marker": {
            "size": 10
           },
           "mode": "markers",
           "name": "North Carolina - 2009",
           "text": [
            "1314"
           ],
           "type": "scatter",
           "x": [
            12
           ],
           "y": [
            2
           ]
          }
         ],
         "name": "12"
        },
        {
         "data": [
          {
           "marker": {
            "size": 10
           },
           "mode": "markers",
           "name": "Villanova - 2018",
           "text": [
            "1437"
           ],
           "type": "scatter",
           "x": [
            13
           ],
           "y": [
            2
           ]
          },
          {
           "marker": {
            "size": 10
           },
           "mode": "markers",
           "name": "North Carolina - 2017",
           "text": [
            "1314"
           ],
           "type": "scatter",
           "x": [
            13
           ],
           "y": [
            3
           ]
          },
          {
           "marker": {
            "size": 10
           },
           "mode": "markers",
           "name": "Villanova - 2016",
           "text": [
            "1437"
           ],
           "type": "scatter",
           "x": [
            13
           ],
           "y": [
            3
           ]
          },
          {
           "marker": {
            "size": 10
           },
           "mode": "markers",
           "name": "Duke - 2015",
           "text": [
            "1181"
           ],
           "type": "scatter",
           "x": [
            13
           ],
           "y": [
            8
           ]
          },
          {
           "marker": {
            "size": 10
           },
           "mode": "markers",
           "name": "Connecticut - 2014",
           "text": [
            "1163"
           ],
           "type": "scatter",
           "x": [
            13
           ],
           "y": [
            23
           ]
          },
          {
           "marker": {
            "size": 10
           },
           "mode": "markers",
           "name": "Louisville - 2013",
           "text": [
            "1257"
           ],
           "type": "scatter",
           "x": [
            13
           ],
           "y": [
            3
           ]
          },
          {
           "marker": {
            "size": 10
           },
           "mode": "markers",
           "name": "Kentucky - 2012",
           "text": [
            "1246"
           ],
           "type": "scatter",
           "x": [
            13
           ],
           "y": [
            1
           ]
          },
          {
           "marker": {
            "size": 10
           },
           "mode": "markers",
           "name": "Connecticut - 2011",
           "text": [
            "1163"
           ],
           "type": "scatter",
           "x": [
            13
           ],
           "y": [
            23
           ]
          },
          {
           "marker": {
            "size": 10
           },
           "mode": "markers",
           "name": "Duke - 2010",
           "text": [
            "1181"
           ],
           "type": "scatter",
           "x": [
            13
           ],
           "y": [
            1
           ]
          },
          {
           "marker": {
            "size": 10
           },
           "mode": "markers",
           "name": "North Carolina - 2009",
           "text": [
            "1314"
           ],
           "type": "scatter",
           "x": [
            13
           ],
           "y": [
            2
           ]
          }
         ],
         "name": "13"
        },
        {
         "data": [
          {
           "marker": {
            "size": 10
           },
           "mode": "markers",
           "name": "Villanova - 2018",
           "text": [
            "1437"
           ],
           "type": "scatter",
           "x": [
            14
           ],
           "y": [
            2
           ]
          },
          {
           "marker": {
            "size": 10
           },
           "mode": "markers",
           "name": "North Carolina - 2017",
           "text": [
            "1314"
           ],
           "type": "scatter",
           "x": [
            14
           ],
           "y": [
            4
           ]
          },
          {
           "marker": {
            "size": 10
           },
           "mode": "markers",
           "name": "Villanova - 2016",
           "text": [
            "1437"
           ],
           "type": "scatter",
           "x": [
            14
           ],
           "y": [
            4
           ]
          },
          {
           "marker": {
            "size": 10
           },
           "mode": "markers",
           "name": "Duke - 2015",
           "text": [
            "1181"
           ],
           "type": "scatter",
           "x": [
            14
           ],
           "y": [
            7
           ]
          },
          {
           "marker": {
            "size": 10
           },
           "mode": "markers",
           "name": "Connecticut - 2014",
           "text": [
            "1163"
           ],
           "type": "scatter",
           "x": [
            14
           ],
           "y": [
            30
           ]
          },
          {
           "marker": {
            "size": 10
           },
           "mode": "markers",
           "name": "Louisville - 2013",
           "text": [
            "1257"
           ],
           "type": "scatter",
           "x": [
            14
           ],
           "y": [
            3
           ]
          },
          {
           "marker": {
            "size": 10
           },
           "mode": "markers",
           "name": "Kentucky - 2012",
           "text": [
            "1246"
           ],
           "type": "scatter",
           "x": [
            14
           ],
           "y": [
            1
           ]
          },
          {
           "marker": {
            "size": 10
           },
           "mode": "markers",
           "name": "Connecticut - 2011",
           "text": [
            "1163"
           ],
           "type": "scatter",
           "x": [
            14
           ],
           "y": [
            23
           ]
          },
          {
           "marker": {
            "size": 10
           },
           "mode": "markers",
           "name": "Duke - 2010",
           "text": [
            "1181"
           ],
           "type": "scatter",
           "x": [
            14
           ],
           "y": [
            1
           ]
          },
          {
           "marker": {
            "size": 10
           },
           "mode": "markers",
           "name": "North Carolina - 2009",
           "text": [
            "1314"
           ],
           "type": "scatter",
           "x": [
            14
           ],
           "y": [
            2
           ]
          }
         ],
         "name": "14"
        },
        {
         "data": [
          {
           "marker": {
            "size": 10
           },
           "mode": "markers",
           "name": "Villanova - 2018",
           "text": [
            "1437"
           ],
           "type": "scatter",
           "x": [
            15
           ],
           "y": [
            2
           ]
          },
          {
           "marker": {
            "size": 10
           },
           "mode": "markers",
           "name": "North Carolina - 2017",
           "text": [
            "1314"
           ],
           "type": "scatter",
           "x": [
            15
           ],
           "y": [
            3
           ]
          },
          {
           "marker": {
            "size": 10
           },
           "mode": "markers",
           "name": "Villanova - 2016",
           "text": [
            "1437"
           ],
           "type": "scatter",
           "x": [
            15
           ],
           "y": [
            5
           ]
          },
          {
           "marker": {
            "size": 10
           },
           "mode": "markers",
           "name": "Duke - 2015",
           "text": [
            "1181"
           ],
           "type": "scatter",
           "x": [
            15
           ],
           "y": [
            7
           ]
          },
          {
           "marker": {
            "size": 10
           },
           "mode": "markers",
           "name": "Connecticut - 2014",
           "text": [
            "1163"
           ],
           "type": "scatter",
           "x": [
            15
           ],
           "y": [
            26
           ]
          },
          {
           "marker": {
            "size": 10
           },
           "mode": "markers",
           "name": "Louisville - 2013",
           "text": [
            "1257"
           ],
           "type": "scatter",
           "x": [
            15
           ],
           "y": [
            2
           ]
          },
          {
           "marker": {
            "size": 10
           },
           "mode": "markers",
           "name": "Kentucky - 2012",
           "text": [
            "1246"
           ],
           "type": "scatter",
           "x": [
            15
           ],
           "y": [
            1
           ]
          },
          {
           "marker": {
            "size": 10
           },
           "mode": "markers",
           "name": "Connecticut - 2011",
           "text": [
            "1163"
           ],
           "type": "scatter",
           "x": [
            15
           ],
           "y": [
            17
           ]
          },
          {
           "marker": {
            "size": 10
           },
           "mode": "markers",
           "name": "Duke - 2010",
           "text": [
            "1181"
           ],
           "type": "scatter",
           "x": [
            15
           ],
           "y": [
            1
           ]
          },
          {
           "marker": {
            "size": 10
           },
           "mode": "markers",
           "name": "North Carolina - 2009",
           "text": [
            "1314"
           ],
           "type": "scatter",
           "x": [
            15
           ],
           "y": [
            2
           ]
          }
         ],
         "name": "15"
        }
       ],
       "layout": {
        "hovermode": "closest",
        "sliders": [
         {
          "active": 0,
          "currentvalue": {
           "font": {
            "size": 20
           },
           "prefix": "Week:",
           "visible": true,
           "xanchor": "right"
          },
          "len": 0.9,
          "pad": {
           "b": 10,
           "t": 50
          },
          "steps": [
           {
            "args": [
             [
              1
             ],
             {
              "frame": {
               "duration": 300,
               "redraw": false
              },
              "mode": "immediate",
              "transition": {
               "duration": 300
              }
             }
            ],
            "label": "1",
            "method": "animate"
           },
           {
            "args": [
             [
              2
             ],
             {
              "frame": {
               "duration": 300,
               "redraw": false
              },
              "mode": "immediate",
              "transition": {
               "duration": 300
              }
             }
            ],
            "label": "2",
            "method": "animate"
           },
           {
            "args": [
             [
              3
             ],
             {
              "frame": {
               "duration": 300,
               "redraw": false
              },
              "mode": "immediate",
              "transition": {
               "duration": 300
              }
             }
            ],
            "label": "3",
            "method": "animate"
           },
           {
            "args": [
             [
              4
             ],
             {
              "frame": {
               "duration": 300,
               "redraw": false
              },
              "mode": "immediate",
              "transition": {
               "duration": 300
              }
             }
            ],
            "label": "4",
            "method": "animate"
           },
           {
            "args": [
             [
              5
             ],
             {
              "frame": {
               "duration": 300,
               "redraw": false
              },
              "mode": "immediate",
              "transition": {
               "duration": 300
              }
             }
            ],
            "label": "5",
            "method": "animate"
           },
           {
            "args": [
             [
              6
             ],
             {
              "frame": {
               "duration": 300,
               "redraw": false
              },
              "mode": "immediate",
              "transition": {
               "duration": 300
              }
             }
            ],
            "label": "6",
            "method": "animate"
           },
           {
            "args": [
             [
              7
             ],
             {
              "frame": {
               "duration": 300,
               "redraw": false
              },
              "mode": "immediate",
              "transition": {
               "duration": 300
              }
             }
            ],
            "label": "7",
            "method": "animate"
           },
           {
            "args": [
             [
              8
             ],
             {
              "frame": {
               "duration": 300,
               "redraw": false
              },
              "mode": "immediate",
              "transition": {
               "duration": 300
              }
             }
            ],
            "label": "8",
            "method": "animate"
           },
           {
            "args": [
             [
              9
             ],
             {
              "frame": {
               "duration": 300,
               "redraw": false
              },
              "mode": "immediate",
              "transition": {
               "duration": 300
              }
             }
            ],
            "label": "9",
            "method": "animate"
           },
           {
            "args": [
             [
              10
             ],
             {
              "frame": {
               "duration": 300,
               "redraw": false
              },
              "mode": "immediate",
              "transition": {
               "duration": 300
              }
             }
            ],
            "label": "10",
            "method": "animate"
           },
           {
            "args": [
             [
              11
             ],
             {
              "frame": {
               "duration": 300,
               "redraw": false
              },
              "mode": "immediate",
              "transition": {
               "duration": 300
              }
             }
            ],
            "label": "11",
            "method": "animate"
           },
           {
            "args": [
             [
              12
             ],
             {
              "frame": {
               "duration": 300,
               "redraw": false
              },
              "mode": "immediate",
              "transition": {
               "duration": 300
              }
             }
            ],
            "label": "12",
            "method": "animate"
           },
           {
            "args": [
             [
              13
             ],
             {
              "frame": {
               "duration": 300,
               "redraw": false
              },
              "mode": "immediate",
              "transition": {
               "duration": 300
              }
             }
            ],
            "label": "13",
            "method": "animate"
           },
           {
            "args": [
             [
              14
             ],
             {
              "frame": {
               "duration": 300,
               "redraw": false
              },
              "mode": "immediate",
              "transition": {
               "duration": 300
              }
             }
            ],
            "label": "14",
            "method": "animate"
           },
           {
            "args": [
             [
              15
             ],
             {
              "frame": {
               "duration": 300,
               "redraw": false
              },
              "mode": "immediate",
              "transition": {
               "duration": 300
              }
             }
            ],
            "label": "15",
            "method": "animate"
           }
          ],
          "transition": {
           "duration": 300,
           "easing": "cubic-in-out"
          },
          "x": 0.1,
          "xanchor": "left",
          "y": 0,
          "yanchor": "top"
         }
        ],
        "title": {
         "text": "2009-2018 NCAA Mens Basketball Champions"
        },
        "updatemenus": [
         {
          "buttons": [
           {
            "args": [
             null,
             {
              "frame": {
               "duration": 500,
               "redraw": false
              },
              "fromcurrent": true,
              "transition": {
               "duration": 300,
               "easing": "quadratic-in-out"
              }
             }
            ],
            "label": "Play",
            "method": "animate"
           },
           {
            "args": [
             [
              null
             ],
             {
              "frame": {
               "duration": 0,
               "redraw": false
              },
              "mode": "immediate",
              "transition": {
               "duration": 0
              }
             }
            ],
            "label": "Pause",
            "method": "animate"
           }
          ],
          "direction": "left",
          "pad": {
           "r": 10,
           "t": 87
          },
          "showactive": false,
          "type": "buttons",
          "x": 0.1,
          "xanchor": "right",
          "y": 0,
          "yanchor": "top"
         }
        ],
        "xaxis": {
         "dtick": 1,
         "range": [
          1,
          15.5
         ],
         "title": {
          "text": "Ranking Week"
         },
         "zeroline": true
        },
        "yaxis": {
         "dtick": 5,
         "range": [
          0,
          45
         ],
         "title": {
          "text": "Pomeroy Rankings"
         },
         "zeroline": true
        }
       }
      },
      "text/html": [
       "<div id=\"28d0d690-96bf-4778-84c1-e4074d81b803\" style=\"height: 525px; width: 100%;\" class=\"plotly-graph-div\"></div><script type=\"text/javascript\">require([\"plotly\"], function(Plotly) { window.PLOTLYENV=window.PLOTLYENV || {};window.PLOTLYENV.BASE_URL=\"https://plot.ly\";\n",
       "        Plotly.plot(\n",
       "            '28d0d690-96bf-4778-84c1-e4074d81b803',\n",
       "            [{\"marker\": {\"size\": 10}, \"mode\": \"markers\", \"name\": \"Villanova - 2018\", \"text\": [\"1437\"], \"x\": [1], \"y\": [1], \"type\": \"scatter\", \"uid\": \"1e9de6bc-87ec-4670-b335-6f33ba6bac0a\"}, {\"marker\": {\"size\": 10}, \"mode\": \"markers\", \"name\": \"North Carolina - 2017\", \"text\": [\"1314\"], \"x\": [1], \"y\": [3], \"type\": \"scatter\", \"uid\": \"94e92556-0497-47d3-a134-f26fe44ca580\"}, {\"marker\": {\"size\": 10}, \"mode\": \"markers\", \"name\": \"Villanova - 2016\", \"text\": [\"1437\"], \"x\": [1], \"y\": [5], \"type\": \"scatter\", \"uid\": \"3e3ba0f9-87bc-4f4e-95a9-fcf76edb6397\"}, {\"marker\": {\"size\": 10}, \"mode\": \"markers\", \"name\": \"Duke - 2015\", \"text\": [\"1181\"], \"x\": [1], \"y\": [2], \"type\": \"scatter\", \"uid\": \"3c734f35-f85c-46f3-850e-991e8e997d4b\"}, {\"marker\": {\"size\": 10}, \"mode\": \"markers\", \"name\": \"Connecticut - 2014\", \"text\": [\"1163\"], \"x\": [1], \"y\": [22], \"type\": \"scatter\", \"uid\": \"ae813eb0-677f-45f6-97dd-b5234223c504\"}, {\"marker\": {\"size\": 10}, \"mode\": \"markers\", \"name\": \"Louisville - 2013\", \"text\": [\"1257\"], \"x\": [1], \"y\": [3], \"type\": \"scatter\", \"uid\": \"7f664032-cc80-49b2-a888-3be23747140a\"}, {\"marker\": {\"size\": 10}, \"mode\": \"markers\", \"name\": \"Kentucky - 2012\", \"text\": [\"1246\"], \"x\": [1], \"y\": [2], \"type\": \"scatter\", \"uid\": \"98d7207e-525f-418b-bca5-b28c264457ba\"}, {\"marker\": {\"size\": 10}, \"mode\": \"markers\", \"name\": \"Connecticut - 2011\", \"text\": [\"1163\"], \"x\": [1], \"y\": [26], \"type\": \"scatter\", \"uid\": \"4df6aa68-b8d0-4a1a-b61c-88de85c422a8\"}, {\"marker\": {\"size\": 10}, \"mode\": \"markers\", \"name\": \"Duke - 2010\", \"text\": [\"1181\"], \"x\": [1], \"y\": [3], \"type\": \"scatter\", \"uid\": \"49c45c0b-a3e6-4e24-9862-ae70096aeea8\"}, {\"marker\": {\"size\": 10}, \"mode\": \"markers\", \"name\": \"North Carolina - 2009\", \"text\": [\"1314\"], \"x\": [1], \"y\": [1], \"type\": \"scatter\", \"uid\": \"3f067abf-7aa2-492e-9cc3-b6147dd83fef\"}],\n",
       "            {\"hovermode\": \"closest\", \"sliders\": [{\"active\": 0, \"currentvalue\": {\"font\": {\"size\": 20}, \"prefix\": \"Week:\", \"visible\": true, \"xanchor\": \"right\"}, \"len\": 0.9, \"pad\": {\"b\": 10, \"t\": 50}, \"steps\": [{\"args\": [[1], {\"frame\": {\"duration\": 300, \"redraw\": false}, \"mode\": \"immediate\", \"transition\": {\"duration\": 300}}], \"label\": \"1\", \"method\": \"animate\"}, {\"args\": [[2], {\"frame\": {\"duration\": 300, \"redraw\": false}, \"mode\": \"immediate\", \"transition\": {\"duration\": 300}}], \"label\": \"2\", \"method\": \"animate\"}, {\"args\": [[3], {\"frame\": {\"duration\": 300, \"redraw\": false}, \"mode\": \"immediate\", \"transition\": {\"duration\": 300}}], \"label\": \"3\", \"method\": \"animate\"}, {\"args\": [[4], {\"frame\": {\"duration\": 300, \"redraw\": false}, \"mode\": \"immediate\", \"transition\": {\"duration\": 300}}], \"label\": \"4\", \"method\": \"animate\"}, {\"args\": [[5], {\"frame\": {\"duration\": 300, \"redraw\": false}, \"mode\": \"immediate\", \"transition\": {\"duration\": 300}}], \"label\": \"5\", \"method\": \"animate\"}, {\"args\": [[6], {\"frame\": {\"duration\": 300, \"redraw\": false}, \"mode\": \"immediate\", \"transition\": {\"duration\": 300}}], \"label\": \"6\", \"method\": \"animate\"}, {\"args\": [[7], {\"frame\": {\"duration\": 300, \"redraw\": false}, \"mode\": \"immediate\", \"transition\": {\"duration\": 300}}], \"label\": \"7\", \"method\": \"animate\"}, {\"args\": [[8], {\"frame\": {\"duration\": 300, \"redraw\": false}, \"mode\": \"immediate\", \"transition\": {\"duration\": 300}}], \"label\": \"8\", \"method\": \"animate\"}, {\"args\": [[9], {\"frame\": {\"duration\": 300, \"redraw\": false}, \"mode\": \"immediate\", \"transition\": {\"duration\": 300}}], \"label\": \"9\", \"method\": \"animate\"}, {\"args\": [[10], {\"frame\": {\"duration\": 300, \"redraw\": false}, \"mode\": \"immediate\", \"transition\": {\"duration\": 300}}], \"label\": \"10\", \"method\": \"animate\"}, {\"args\": [[11], {\"frame\": {\"duration\": 300, \"redraw\": false}, \"mode\": \"immediate\", \"transition\": {\"duration\": 300}}], \"label\": \"11\", \"method\": \"animate\"}, {\"args\": [[12], {\"frame\": {\"duration\": 300, \"redraw\": false}, \"mode\": \"immediate\", \"transition\": {\"duration\": 300}}], \"label\": \"12\", \"method\": \"animate\"}, {\"args\": [[13], {\"frame\": {\"duration\": 300, \"redraw\": false}, \"mode\": \"immediate\", \"transition\": {\"duration\": 300}}], \"label\": \"13\", \"method\": \"animate\"}, {\"args\": [[14], {\"frame\": {\"duration\": 300, \"redraw\": false}, \"mode\": \"immediate\", \"transition\": {\"duration\": 300}}], \"label\": \"14\", \"method\": \"animate\"}, {\"args\": [[15], {\"frame\": {\"duration\": 300, \"redraw\": false}, \"mode\": \"immediate\", \"transition\": {\"duration\": 300}}], \"label\": \"15\", \"method\": \"animate\"}], \"transition\": {\"duration\": 300, \"easing\": \"cubic-in-out\"}, \"x\": 0.1, \"xanchor\": \"left\", \"y\": 0, \"yanchor\": \"top\"}], \"title\": {\"text\": \"2009-2018 NCAA Mens Basketball Champions\"}, \"updatemenus\": [{\"buttons\": [{\"args\": [null, {\"frame\": {\"duration\": 500, \"redraw\": false}, \"fromcurrent\": true, \"transition\": {\"duration\": 300, \"easing\": \"quadratic-in-out\"}}], \"label\": \"Play\", \"method\": \"animate\"}, {\"args\": [[null], {\"frame\": {\"duration\": 0, \"redraw\": false}, \"mode\": \"immediate\", \"transition\": {\"duration\": 0}}], \"label\": \"Pause\", \"method\": \"animate\"}], \"direction\": \"left\", \"pad\": {\"r\": 10, \"t\": 87}, \"showactive\": false, \"type\": \"buttons\", \"x\": 0.1, \"xanchor\": \"right\", \"y\": 0, \"yanchor\": \"top\"}], \"xaxis\": {\"dtick\": 1, \"range\": [1, 15.5], \"title\": {\"text\": \"Ranking Week\"}, \"zeroline\": true}, \"yaxis\": {\"dtick\": 5, \"range\": [0, 45], \"title\": {\"text\": \"Pomeroy Rankings\"}, \"zeroline\": true}},\n",
       "            {\"showLink\": false, \"linkText\": \"Export to plot.ly\", \"plotlyServerURL\": \"https://plot.ly\"}\n",
       "        ).then(function () {return Plotly.addFrames('28d0d690-96bf-4778-84c1-e4074d81b803',[{\"data\": [{\"marker\": {\"size\": 10}, \"mode\": \"markers\", \"name\": \"Villanova - 2018\", \"text\": [\"1437\"], \"x\": [1], \"y\": [1], \"type\": \"scatter\"}, {\"marker\": {\"size\": 10}, \"mode\": \"markers\", \"name\": \"North Carolina - 2017\", \"text\": [\"1314\"], \"x\": [1], \"y\": [3], \"type\": \"scatter\"}, {\"marker\": {\"size\": 10}, \"mode\": \"markers\", \"name\": \"Villanova - 2016\", \"text\": [\"1437\"], \"x\": [1], \"y\": [5], \"type\": \"scatter\"}, {\"marker\": {\"size\": 10}, \"mode\": \"markers\", \"name\": \"Duke - 2015\", \"text\": [\"1181\"], \"x\": [1], \"y\": [2], \"type\": \"scatter\"}, {\"marker\": {\"size\": 10}, \"mode\": \"markers\", \"name\": \"Connecticut - 2014\", \"text\": [\"1163\"], \"x\": [1], \"y\": [22], \"type\": \"scatter\"}, {\"marker\": {\"size\": 10}, \"mode\": \"markers\", \"name\": \"Louisville - 2013\", \"text\": [\"1257\"], \"x\": [1], \"y\": [3], \"type\": \"scatter\"}, {\"marker\": {\"size\": 10}, \"mode\": \"markers\", \"name\": \"Kentucky - 2012\", \"text\": [\"1246\"], \"x\": [1], \"y\": [2], \"type\": \"scatter\"}, {\"marker\": {\"size\": 10}, \"mode\": \"markers\", \"name\": \"Connecticut - 2011\", \"text\": [\"1163\"], \"x\": [1], \"y\": [26], \"type\": \"scatter\"}, {\"marker\": {\"size\": 10}, \"mode\": \"markers\", \"name\": \"Duke - 2010\", \"text\": [\"1181\"], \"x\": [1], \"y\": [3], \"type\": \"scatter\"}, {\"marker\": {\"size\": 10}, \"mode\": \"markers\", \"name\": \"North Carolina - 2009\", \"text\": [\"1314\"], \"x\": [1], \"y\": [1], \"type\": \"scatter\"}], \"name\": \"1\"}, {\"data\": [{\"marker\": {\"size\": 10}, \"mode\": \"markers\", \"name\": \"Villanova - 2018\", \"text\": [\"1437\"], \"x\": [2], \"y\": [1], \"type\": \"scatter\"}, {\"marker\": {\"size\": 10}, \"mode\": \"markers\", \"name\": \"North Carolina - 2017\", \"text\": [\"1314\"], \"x\": [2], \"y\": [6], \"type\": \"scatter\"}, {\"marker\": {\"size\": 10}, \"mode\": \"markers\", \"name\": \"Villanova - 2016\", \"text\": [\"1437\"], \"x\": [2], \"y\": [4], \"type\": \"scatter\"}, {\"marker\": {\"size\": 10}, \"mode\": \"markers\", \"name\": \"Duke - 2015\", \"text\": [\"1181\"], \"x\": [2], \"y\": [2], \"type\": \"scatter\"}, {\"marker\": {\"size\": 10}, \"mode\": \"markers\", \"name\": \"Connecticut - 2014\", \"text\": [\"1163\"], \"x\": [2], \"y\": [20], \"type\": \"scatter\"}, {\"marker\": {\"size\": 10}, \"mode\": \"markers\", \"name\": \"Louisville - 2013\", \"text\": [\"1257\"], \"x\": [2], \"y\": [3], \"type\": \"scatter\"}, {\"marker\": {\"size\": 10}, \"mode\": \"markers\", \"name\": \"Kentucky - 2012\", \"text\": [\"1246\"], \"x\": [2], \"y\": [2], \"type\": \"scatter\"}, {\"marker\": {\"size\": 10}, \"mode\": \"markers\", \"name\": \"Connecticut - 2011\", \"text\": [\"1163\"], \"x\": [2], \"y\": [29], \"type\": \"scatter\"}, {\"marker\": {\"size\": 10}, \"mode\": \"markers\", \"name\": \"Duke - 2010\", \"text\": [\"1181\"], \"x\": [2], \"y\": [3], \"type\": \"scatter\"}, {\"marker\": {\"size\": 10}, \"mode\": \"markers\", \"name\": \"North Carolina - 2009\", \"text\": [\"1314\"], \"x\": [2], \"y\": [2], \"type\": \"scatter\"}], \"name\": \"2\"}, {\"data\": [{\"marker\": {\"size\": 10}, \"mode\": \"markers\", \"name\": \"Villanova - 2018\", \"text\": [\"1437\"], \"x\": [3], \"y\": [1], \"type\": \"scatter\"}, {\"marker\": {\"size\": 10}, \"mode\": \"markers\", \"name\": \"North Carolina - 2017\", \"text\": [\"1314\"], \"x\": [3], \"y\": [6], \"type\": \"scatter\"}, {\"marker\": {\"size\": 10}, \"mode\": \"markers\", \"name\": \"Villanova - 2016\", \"text\": [\"1437\"], \"x\": [3], \"y\": [8], \"type\": \"scatter\"}, {\"marker\": {\"size\": 10}, \"mode\": \"markers\", \"name\": \"Duke - 2015\", \"text\": [\"1181\"], \"x\": [3], \"y\": [3], \"type\": \"scatter\"}, {\"marker\": {\"size\": 10}, \"mode\": \"markers\", \"name\": \"Connecticut - 2014\", \"text\": [\"1163\"], \"x\": [3], \"y\": [25], \"type\": \"scatter\"}, {\"marker\": {\"size\": 10}, \"mode\": \"markers\", \"name\": \"Louisville - 2013\", \"text\": [\"1257\"], \"x\": [3], \"y\": [2], \"type\": \"scatter\"}, {\"marker\": {\"size\": 10}, \"mode\": \"markers\", \"name\": \"Kentucky - 2012\", \"text\": [\"1246\"], \"x\": [3], \"y\": [2], \"type\": \"scatter\"}, {\"marker\": {\"size\": 10}, \"mode\": \"markers\", \"name\": \"Connecticut - 2011\", \"text\": [\"1163\"], \"x\": [3], \"y\": [35], \"type\": \"scatter\"}, {\"marker\": {\"size\": 10}, \"mode\": \"markers\", \"name\": \"Duke - 2010\", \"text\": [\"1181\"], \"x\": [3], \"y\": [2], \"type\": \"scatter\"}, {\"marker\": {\"size\": 10}, \"mode\": \"markers\", \"name\": \"North Carolina - 2009\", \"text\": [\"1314\"], \"x\": [3], \"y\": [3], \"type\": \"scatter\"}], \"name\": \"3\"}, {\"data\": [{\"marker\": {\"size\": 10}, \"mode\": \"markers\", \"name\": \"Villanova - 2018\", \"text\": [\"1437\"], \"x\": [4], \"y\": [1], \"type\": \"scatter\"}, {\"marker\": {\"size\": 10}, \"mode\": \"markers\", \"name\": \"North Carolina - 2017\", \"text\": [\"1314\"], \"x\": [4], \"y\": [5], \"type\": \"scatter\"}, {\"marker\": {\"size\": 10}, \"mode\": \"markers\", \"name\": \"Villanova - 2016\", \"text\": [\"1437\"], \"x\": [4], \"y\": [7], \"type\": \"scatter\"}, {\"marker\": {\"size\": 10}, \"mode\": \"markers\", \"name\": \"Duke - 2015\", \"text\": [\"1181\"], \"x\": [4], \"y\": [3], \"type\": \"scatter\"}, {\"marker\": {\"size\": 10}, \"mode\": \"markers\", \"name\": \"Connecticut - 2014\", \"text\": [\"1163\"], \"x\": [4], \"y\": [30], \"type\": \"scatter\"}, {\"marker\": {\"size\": 10}, \"mode\": \"markers\", \"name\": \"Louisville - 2013\", \"text\": [\"1257\"], \"x\": [4], \"y\": [3], \"type\": \"scatter\"}, {\"marker\": {\"size\": 10}, \"mode\": \"markers\", \"name\": \"Kentucky - 2012\", \"text\": [\"1246\"], \"x\": [4], \"y\": [3], \"type\": \"scatter\"}, {\"marker\": {\"size\": 10}, \"mode\": \"markers\", \"name\": \"Connecticut - 2011\", \"text\": [\"1163\"], \"x\": [4], \"y\": [31], \"type\": \"scatter\"}, {\"marker\": {\"size\": 10}, \"mode\": \"markers\", \"name\": \"Duke - 2010\", \"text\": [\"1181\"], \"x\": [4], \"y\": [2], \"type\": \"scatter\"}, {\"marker\": {\"size\": 10}, \"mode\": \"markers\", \"name\": \"North Carolina - 2009\", \"text\": [\"1314\"], \"x\": [4], \"y\": [5], \"type\": \"scatter\"}], \"name\": \"4\"}, {\"data\": [{\"marker\": {\"size\": 10}, \"mode\": \"markers\", \"name\": \"Villanova - 2018\", \"text\": [\"1437\"], \"x\": [5], \"y\": [1], \"type\": \"scatter\"}, {\"marker\": {\"size\": 10}, \"mode\": \"markers\", \"name\": \"North Carolina - 2017\", \"text\": [\"1314\"], \"x\": [5], \"y\": [8], \"type\": \"scatter\"}, {\"marker\": {\"size\": 10}, \"mode\": \"markers\", \"name\": \"Villanova - 2016\", \"text\": [\"1437\"], \"x\": [5], \"y\": [1], \"type\": \"scatter\"}, {\"marker\": {\"size\": 10}, \"mode\": \"markers\", \"name\": \"Duke - 2015\", \"text\": [\"1181\"], \"x\": [5], \"y\": [3], \"type\": \"scatter\"}, {\"marker\": {\"size\": 10}, \"mode\": \"markers\", \"name\": \"Connecticut - 2014\", \"text\": [\"1163\"], \"x\": [5], \"y\": [44], \"type\": \"scatter\"}, {\"marker\": {\"size\": 10}, \"mode\": \"markers\", \"name\": \"Louisville - 2013\", \"text\": [\"1257\"], \"x\": [5], \"y\": [4], \"type\": \"scatter\"}, {\"marker\": {\"size\": 10}, \"mode\": \"markers\", \"name\": \"Kentucky - 2012\", \"text\": [\"1246\"], \"x\": [5], \"y\": [3], \"type\": \"scatter\"}, {\"marker\": {\"size\": 10}, \"mode\": \"markers\", \"name\": \"Connecticut - 2011\", \"text\": [\"1163\"], \"x\": [5], \"y\": [33], \"type\": \"scatter\"}, {\"marker\": {\"size\": 10}, \"mode\": \"markers\", \"name\": \"Duke - 2010\", \"text\": [\"1181\"], \"x\": [5], \"y\": [2], \"type\": \"scatter\"}, {\"marker\": {\"size\": 10}, \"mode\": \"markers\", \"name\": \"North Carolina - 2009\", \"text\": [\"1314\"], \"x\": [5], \"y\": [5], \"type\": \"scatter\"}], \"name\": \"5\"}, {\"data\": [{\"marker\": {\"size\": 10}, \"mode\": \"markers\", \"name\": \"Villanova - 2018\", \"text\": [\"1437\"], \"x\": [6], \"y\": [1], \"type\": \"scatter\"}, {\"marker\": {\"size\": 10}, \"mode\": \"markers\", \"name\": \"North Carolina - 2017\", \"text\": [\"1314\"], \"x\": [6], \"y\": [5], \"type\": \"scatter\"}, {\"marker\": {\"size\": 10}, \"mode\": \"markers\", \"name\": \"Villanova - 2016\", \"text\": [\"1437\"], \"x\": [6], \"y\": [2], \"type\": \"scatter\"}, {\"marker\": {\"size\": 10}, \"mode\": \"markers\", \"name\": \"Duke - 2015\", \"text\": [\"1181\"], \"x\": [6], \"y\": [4], \"type\": \"scatter\"}, {\"marker\": {\"size\": 10}, \"mode\": \"markers\", \"name\": \"Connecticut - 2014\", \"text\": [\"1163\"], \"x\": [6], \"y\": [36], \"type\": \"scatter\"}, {\"marker\": {\"size\": 10}, \"mode\": \"markers\", \"name\": \"Louisville - 2013\", \"text\": [\"1257\"], \"x\": [6], \"y\": [2], \"type\": \"scatter\"}, {\"marker\": {\"size\": 10}, \"mode\": \"markers\", \"name\": \"Kentucky - 2012\", \"text\": [\"1246\"], \"x\": [6], \"y\": [3], \"type\": \"scatter\"}, {\"marker\": {\"size\": 10}, \"mode\": \"markers\", \"name\": \"Connecticut - 2011\", \"text\": [\"1163\"], \"x\": [6], \"y\": [26], \"type\": \"scatter\"}, {\"marker\": {\"size\": 10}, \"mode\": \"markers\", \"name\": \"Duke - 2010\", \"text\": [\"1181\"], \"x\": [6], \"y\": [2], \"type\": \"scatter\"}, {\"marker\": {\"size\": 10}, \"mode\": \"markers\", \"name\": \"North Carolina - 2009\", \"text\": [\"1314\"], \"x\": [6], \"y\": [3], \"type\": \"scatter\"}], \"name\": \"6\"}, {\"data\": [{\"marker\": {\"size\": 10}, \"mode\": \"markers\", \"name\": \"Villanova - 2018\", \"text\": [\"1437\"], \"x\": [7], \"y\": [1], \"type\": \"scatter\"}, {\"marker\": {\"size\": 10}, \"mode\": \"markers\", \"name\": \"North Carolina - 2017\", \"text\": [\"1314\"], \"x\": [7], \"y\": [6], \"type\": \"scatter\"}, {\"marker\": {\"size\": 10}, \"mode\": \"markers\", \"name\": \"Villanova - 2016\", \"text\": [\"1437\"], \"x\": [7], \"y\": [1], \"type\": \"scatter\"}, {\"marker\": {\"size\": 10}, \"mode\": \"markers\", \"name\": \"Duke - 2015\", \"text\": [\"1181\"], \"x\": [7], \"y\": [9], \"type\": \"scatter\"}, {\"marker\": {\"size\": 10}, \"mode\": \"markers\", \"name\": \"Connecticut - 2014\", \"text\": [\"1163\"], \"x\": [7], \"y\": [36], \"type\": \"scatter\"}, {\"marker\": {\"size\": 10}, \"mode\": \"markers\", \"name\": \"Louisville - 2013\", \"text\": [\"1257\"], \"x\": [7], \"y\": [2], \"type\": \"scatter\"}, {\"marker\": {\"size\": 10}, \"mode\": \"markers\", \"name\": \"Kentucky - 2012\", \"text\": [\"1246\"], \"x\": [7], \"y\": [5], \"type\": \"scatter\"}, {\"marker\": {\"size\": 10}, \"mode\": \"markers\", \"name\": \"Connecticut - 2011\", \"text\": [\"1163\"], \"x\": [7], \"y\": [24], \"type\": \"scatter\"}, {\"marker\": {\"size\": 10}, \"mode\": \"markers\", \"name\": \"Duke - 2010\", \"text\": [\"1181\"], \"x\": [7], \"y\": [1], \"type\": \"scatter\"}, {\"marker\": {\"size\": 10}, \"mode\": \"markers\", \"name\": \"North Carolina - 2009\", \"text\": [\"1314\"], \"x\": [7], \"y\": [2], \"type\": \"scatter\"}], \"name\": \"7\"}, {\"data\": [{\"marker\": {\"size\": 10}, \"mode\": \"markers\", \"name\": \"Villanova - 2018\", \"text\": [\"1437\"], \"x\": [8], \"y\": [1], \"type\": \"scatter\"}, {\"marker\": {\"size\": 10}, \"mode\": \"markers\", \"name\": \"North Carolina - 2017\", \"text\": [\"1314\"], \"x\": [8], \"y\": [7], \"type\": \"scatter\"}, {\"marker\": {\"size\": 10}, \"mode\": \"markers\", \"name\": \"Villanova - 2016\", \"text\": [\"1437\"], \"x\": [8], \"y\": [4], \"type\": \"scatter\"}, {\"marker\": {\"size\": 10}, \"mode\": \"markers\", \"name\": \"Duke - 2015\", \"text\": [\"1181\"], \"x\": [8], \"y\": [8], \"type\": \"scatter\"}, {\"marker\": {\"size\": 10}, \"mode\": \"markers\", \"name\": \"Connecticut - 2014\", \"text\": [\"1163\"], \"x\": [8], \"y\": [33], \"type\": \"scatter\"}, {\"marker\": {\"size\": 10}, \"mode\": \"markers\", \"name\": \"Louisville - 2013\", \"text\": [\"1257\"], \"x\": [8], \"y\": [4], \"type\": \"scatter\"}, {\"marker\": {\"size\": 10}, \"mode\": \"markers\", \"name\": \"Kentucky - 2012\", \"text\": [\"1246\"], \"x\": [8], \"y\": [6], \"type\": \"scatter\"}, {\"marker\": {\"size\": 10}, \"mode\": \"markers\", \"name\": \"Connecticut - 2011\", \"text\": [\"1163\"], \"x\": [8], \"y\": [14], \"type\": \"scatter\"}, {\"marker\": {\"size\": 10}, \"mode\": \"markers\", \"name\": \"Duke - 2010\", \"text\": [\"1181\"], \"x\": [8], \"y\": [2], \"type\": \"scatter\"}, {\"marker\": {\"size\": 10}, \"mode\": \"markers\", \"name\": \"North Carolina - 2009\", \"text\": [\"1314\"], \"x\": [8], \"y\": [2], \"type\": \"scatter\"}], \"name\": \"8\"}, {\"data\": [{\"marker\": {\"size\": 10}, \"mode\": \"markers\", \"name\": \"Villanova - 2018\", \"text\": [\"1437\"], \"x\": [9], \"y\": [1], \"type\": \"scatter\"}, {\"marker\": {\"size\": 10}, \"mode\": \"markers\", \"name\": \"North Carolina - 2017\", \"text\": [\"1314\"], \"x\": [9], \"y\": [10], \"type\": \"scatter\"}, {\"marker\": {\"size\": 10}, \"mode\": \"markers\", \"name\": \"Villanova - 2016\", \"text\": [\"1437\"], \"x\": [9], \"y\": [3], \"type\": \"scatter\"}, {\"marker\": {\"size\": 10}, \"mode\": \"markers\", \"name\": \"Duke - 2015\", \"text\": [\"1181\"], \"x\": [9], \"y\": [7], \"type\": \"scatter\"}, {\"marker\": {\"size\": 10}, \"mode\": \"markers\", \"name\": \"Connecticut - 2014\", \"text\": [\"1163\"], \"x\": [9], \"y\": [29], \"type\": \"scatter\"}, {\"marker\": {\"size\": 10}, \"mode\": \"markers\", \"name\": \"Louisville - 2013\", \"text\": [\"1257\"], \"x\": [9], \"y\": [4], \"type\": \"scatter\"}, {\"marker\": {\"size\": 10}, \"mode\": \"markers\", \"name\": \"Kentucky - 2012\", \"text\": [\"1246\"], \"x\": [9], \"y\": [3], \"type\": \"scatter\"}, {\"marker\": {\"size\": 10}, \"mode\": \"markers\", \"name\": \"Connecticut - 2011\", \"text\": [\"1163\"], \"x\": [9], \"y\": [14], \"type\": \"scatter\"}, {\"marker\": {\"size\": 10}, \"mode\": \"markers\", \"name\": \"Duke - 2010\", \"text\": [\"1181\"], \"x\": [9], \"y\": [2], \"type\": \"scatter\"}, {\"marker\": {\"size\": 10}, \"mode\": \"markers\", \"name\": \"North Carolina - 2009\", \"text\": [\"1314\"], \"x\": [9], \"y\": [3], \"type\": \"scatter\"}], \"name\": \"9\"}, {\"data\": [{\"marker\": {\"size\": 10}, \"mode\": \"markers\", \"name\": \"Villanova - 2018\", \"text\": [\"1437\"], \"x\": [10], \"y\": [1], \"type\": \"scatter\"}, {\"marker\": {\"size\": 10}, \"mode\": \"markers\", \"name\": \"North Carolina - 2017\", \"text\": [\"1314\"], \"x\": [10], \"y\": [10], \"type\": \"scatter\"}, {\"marker\": {\"size\": 10}, \"mode\": \"markers\", \"name\": \"Villanova - 2016\", \"text\": [\"1437\"], \"x\": [10], \"y\": [2], \"type\": \"scatter\"}, {\"marker\": {\"size\": 10}, \"mode\": \"markers\", \"name\": \"Duke - 2015\", \"text\": [\"1181\"], \"x\": [10], \"y\": [8], \"type\": \"scatter\"}, {\"marker\": {\"size\": 10}, \"mode\": \"markers\", \"name\": \"Connecticut - 2014\", \"text\": [\"1163\"], \"x\": [10], \"y\": [25], \"type\": \"scatter\"}, {\"marker\": {\"size\": 10}, \"mode\": \"markers\", \"name\": \"Louisville - 2013\", \"text\": [\"1257\"], \"x\": [10], \"y\": [3], \"type\": \"scatter\"}, {\"marker\": {\"size\": 10}, \"mode\": \"markers\", \"name\": \"Kentucky - 2012\", \"text\": [\"1246\"], \"x\": [10], \"y\": [2], \"type\": \"scatter\"}, {\"marker\": {\"size\": 10}, \"mode\": \"markers\", \"name\": \"Connecticut - 2011\", \"text\": [\"1163\"], \"x\": [10], \"y\": [17], \"type\": \"scatter\"}, {\"marker\": {\"size\": 10}, \"mode\": \"markers\", \"name\": \"Duke - 2010\", \"text\": [\"1181\"], \"x\": [10], \"y\": [2], \"type\": \"scatter\"}, {\"marker\": {\"size\": 10}, \"mode\": \"markers\", \"name\": \"North Carolina - 2009\", \"text\": [\"1314\"], \"x\": [10], \"y\": [3], \"type\": \"scatter\"}], \"name\": \"10\"}, {\"data\": [{\"marker\": {\"size\": 10}, \"mode\": \"markers\", \"name\": \"Villanova - 2018\", \"text\": [\"1437\"], \"x\": [11], \"y\": [2], \"type\": \"scatter\"}, {\"marker\": {\"size\": 10}, \"mode\": \"markers\", \"name\": \"North Carolina - 2017\", \"text\": [\"1314\"], \"x\": [11], \"y\": [10], \"type\": \"scatter\"}, {\"marker\": {\"size\": 10}, \"mode\": \"markers\", \"name\": \"Villanova - 2016\", \"text\": [\"1437\"], \"x\": [11], \"y\": [1], \"type\": \"scatter\"}, {\"marker\": {\"size\": 10}, \"mode\": \"markers\", \"name\": \"Duke - 2015\", \"text\": [\"1181\"], \"x\": [11], \"y\": [8], \"type\": \"scatter\"}, {\"marker\": {\"size\": 10}, \"mode\": \"markers\", \"name\": \"Connecticut - 2014\", \"text\": [\"1163\"], \"x\": [11], \"y\": [20], \"type\": \"scatter\"}, {\"marker\": {\"size\": 10}, \"mode\": \"markers\", \"name\": \"Louisville - 2013\", \"text\": [\"1257\"], \"x\": [11], \"y\": [3], \"type\": \"scatter\"}, {\"marker\": {\"size\": 10}, \"mode\": \"markers\", \"name\": \"Kentucky - 2012\", \"text\": [\"1246\"], \"x\": [11], \"y\": [2], \"type\": \"scatter\"}, {\"marker\": {\"size\": 10}, \"mode\": \"markers\", \"name\": \"Connecticut - 2011\", \"text\": [\"1163\"], \"x\": [11], \"y\": [21], \"type\": \"scatter\"}, {\"marker\": {\"size\": 10}, \"mode\": \"markers\", \"name\": \"Duke - 2010\", \"text\": [\"1181\"], \"x\": [11], \"y\": [2], \"type\": \"scatter\"}, {\"marker\": {\"size\": 10}, \"mode\": \"markers\", \"name\": \"North Carolina - 2009\", \"text\": [\"1314\"], \"x\": [11], \"y\": [1], \"type\": \"scatter\"}], \"name\": \"11\"}, {\"data\": [{\"marker\": {\"size\": 10}, \"mode\": \"markers\", \"name\": \"Villanova - 2018\", \"text\": [\"1437\"], \"x\": [12], \"y\": [2], \"type\": \"scatter\"}, {\"marker\": {\"size\": 10}, \"mode\": \"markers\", \"name\": \"North Carolina - 2017\", \"text\": [\"1314\"], \"x\": [12], \"y\": [6], \"type\": \"scatter\"}, {\"marker\": {\"size\": 10}, \"mode\": \"markers\", \"name\": \"Villanova - 2016\", \"text\": [\"1437\"], \"x\": [12], \"y\": [1], \"type\": \"scatter\"}, {\"marker\": {\"size\": 10}, \"mode\": \"markers\", \"name\": \"Duke - 2015\", \"text\": [\"1181\"], \"x\": [12], \"y\": [8], \"type\": \"scatter\"}, {\"marker\": {\"size\": 10}, \"mode\": \"markers\", \"name\": \"Connecticut - 2014\", \"text\": [\"1163\"], \"x\": [12], \"y\": [24], \"type\": \"scatter\"}, {\"marker\": {\"size\": 10}, \"mode\": \"markers\", \"name\": \"Louisville - 2013\", \"text\": [\"1257\"], \"x\": [12], \"y\": [3], \"type\": \"scatter\"}, {\"marker\": {\"size\": 10}, \"mode\": \"markers\", \"name\": \"Kentucky - 2012\", \"text\": [\"1246\"], \"x\": [12], \"y\": [1], \"type\": \"scatter\"}, {\"marker\": {\"size\": 10}, \"mode\": \"markers\", \"name\": \"Connecticut - 2011\", \"text\": [\"1163\"], \"x\": [12], \"y\": [26], \"type\": \"scatter\"}, {\"marker\": {\"size\": 10}, \"mode\": \"markers\", \"name\": \"Duke - 2010\", \"text\": [\"1181\"], \"x\": [12], \"y\": [1], \"type\": \"scatter\"}, {\"marker\": {\"size\": 10}, \"mode\": \"markers\", \"name\": \"North Carolina - 2009\", \"text\": [\"1314\"], \"x\": [12], \"y\": [2], \"type\": \"scatter\"}], \"name\": \"12\"}, {\"data\": [{\"marker\": {\"size\": 10}, \"mode\": \"markers\", \"name\": \"Villanova - 2018\", \"text\": [\"1437\"], \"x\": [13], \"y\": [2], \"type\": \"scatter\"}, {\"marker\": {\"size\": 10}, \"mode\": \"markers\", \"name\": \"North Carolina - 2017\", \"text\": [\"1314\"], \"x\": [13], \"y\": [3], \"type\": \"scatter\"}, {\"marker\": {\"size\": 10}, \"mode\": \"markers\", \"name\": \"Villanova - 2016\", \"text\": [\"1437\"], \"x\": [13], \"y\": [3], \"type\": \"scatter\"}, {\"marker\": {\"size\": 10}, \"mode\": \"markers\", \"name\": \"Duke - 2015\", \"text\": [\"1181\"], \"x\": [13], \"y\": [8], \"type\": \"scatter\"}, {\"marker\": {\"size\": 10}, \"mode\": \"markers\", \"name\": \"Connecticut - 2014\", \"text\": [\"1163\"], \"x\": [13], \"y\": [23], \"type\": \"scatter\"}, {\"marker\": {\"size\": 10}, \"mode\": \"markers\", \"name\": \"Louisville - 2013\", \"text\": [\"1257\"], \"x\": [13], \"y\": [3], \"type\": \"scatter\"}, {\"marker\": {\"size\": 10}, \"mode\": \"markers\", \"name\": \"Kentucky - 2012\", \"text\": [\"1246\"], \"x\": [13], \"y\": [1], \"type\": \"scatter\"}, {\"marker\": {\"size\": 10}, \"mode\": \"markers\", \"name\": \"Connecticut - 2011\", \"text\": [\"1163\"], \"x\": [13], \"y\": [23], \"type\": \"scatter\"}, {\"marker\": {\"size\": 10}, \"mode\": \"markers\", \"name\": \"Duke - 2010\", \"text\": [\"1181\"], \"x\": [13], \"y\": [1], \"type\": \"scatter\"}, {\"marker\": {\"size\": 10}, \"mode\": \"markers\", \"name\": \"North Carolina - 2009\", \"text\": [\"1314\"], \"x\": [13], \"y\": [2], \"type\": \"scatter\"}], \"name\": \"13\"}, {\"data\": [{\"marker\": {\"size\": 10}, \"mode\": \"markers\", \"name\": \"Villanova - 2018\", \"text\": [\"1437\"], \"x\": [14], \"y\": [2], \"type\": \"scatter\"}, {\"marker\": {\"size\": 10}, \"mode\": \"markers\", \"name\": \"North Carolina - 2017\", \"text\": [\"1314\"], \"x\": [14], \"y\": [4], \"type\": \"scatter\"}, {\"marker\": {\"size\": 10}, \"mode\": \"markers\", \"name\": \"Villanova - 2016\", \"text\": [\"1437\"], \"x\": [14], \"y\": [4], \"type\": \"scatter\"}, {\"marker\": {\"size\": 10}, \"mode\": \"markers\", \"name\": \"Duke - 2015\", \"text\": [\"1181\"], \"x\": [14], \"y\": [7], \"type\": \"scatter\"}, {\"marker\": {\"size\": 10}, \"mode\": \"markers\", \"name\": \"Connecticut - 2014\", \"text\": [\"1163\"], \"x\": [14], \"y\": [30], \"type\": \"scatter\"}, {\"marker\": {\"size\": 10}, \"mode\": \"markers\", \"name\": \"Louisville - 2013\", \"text\": [\"1257\"], \"x\": [14], \"y\": [3], \"type\": \"scatter\"}, {\"marker\": {\"size\": 10}, \"mode\": \"markers\", \"name\": \"Kentucky - 2012\", \"text\": [\"1246\"], \"x\": [14], \"y\": [1], \"type\": \"scatter\"}, {\"marker\": {\"size\": 10}, \"mode\": \"markers\", \"name\": \"Connecticut - 2011\", \"text\": [\"1163\"], \"x\": [14], \"y\": [23], \"type\": \"scatter\"}, {\"marker\": {\"size\": 10}, \"mode\": \"markers\", \"name\": \"Duke - 2010\", \"text\": [\"1181\"], \"x\": [14], \"y\": [1], \"type\": \"scatter\"}, {\"marker\": {\"size\": 10}, \"mode\": \"markers\", \"name\": \"North Carolina - 2009\", \"text\": [\"1314\"], \"x\": [14], \"y\": [2], \"type\": \"scatter\"}], \"name\": \"14\"}, {\"data\": [{\"marker\": {\"size\": 10}, \"mode\": \"markers\", \"name\": \"Villanova - 2018\", \"text\": [\"1437\"], \"x\": [15], \"y\": [2], \"type\": \"scatter\"}, {\"marker\": {\"size\": 10}, \"mode\": \"markers\", \"name\": \"North Carolina - 2017\", \"text\": [\"1314\"], \"x\": [15], \"y\": [3], \"type\": \"scatter\"}, {\"marker\": {\"size\": 10}, \"mode\": \"markers\", \"name\": \"Villanova - 2016\", \"text\": [\"1437\"], \"x\": [15], \"y\": [5], \"type\": \"scatter\"}, {\"marker\": {\"size\": 10}, \"mode\": \"markers\", \"name\": \"Duke - 2015\", \"text\": [\"1181\"], \"x\": [15], \"y\": [7], \"type\": \"scatter\"}, {\"marker\": {\"size\": 10}, \"mode\": \"markers\", \"name\": \"Connecticut - 2014\", \"text\": [\"1163\"], \"x\": [15], \"y\": [26], \"type\": \"scatter\"}, {\"marker\": {\"size\": 10}, \"mode\": \"markers\", \"name\": \"Louisville - 2013\", \"text\": [\"1257\"], \"x\": [15], \"y\": [2], \"type\": \"scatter\"}, {\"marker\": {\"size\": 10}, \"mode\": \"markers\", \"name\": \"Kentucky - 2012\", \"text\": [\"1246\"], \"x\": [15], \"y\": [1], \"type\": \"scatter\"}, {\"marker\": {\"size\": 10}, \"mode\": \"markers\", \"name\": \"Connecticut - 2011\", \"text\": [\"1163\"], \"x\": [15], \"y\": [17], \"type\": \"scatter\"}, {\"marker\": {\"size\": 10}, \"mode\": \"markers\", \"name\": \"Duke - 2010\", \"text\": [\"1181\"], \"x\": [15], \"y\": [1], \"type\": \"scatter\"}, {\"marker\": {\"size\": 10}, \"mode\": \"markers\", \"name\": \"North Carolina - 2009\", \"text\": [\"1314\"], \"x\": [15], \"y\": [2], \"type\": \"scatter\"}], \"name\": \"15\"}]);}).then(function(){Plotly.animate('28d0d690-96bf-4778-84c1-e4074d81b803');})\n",
       "        });</script><script type=\"text/javascript\">window.addEventListener(\"resize\", function(){window._Plotly.Plots.resize(document.getElementById(\"28d0d690-96bf-4778-84c1-e4074d81b803\"));});</script>"
      ],
      "text/vnd.plotly.v1+html": [
       "<div id=\"28d0d690-96bf-4778-84c1-e4074d81b803\" style=\"height: 525px; width: 100%;\" class=\"plotly-graph-div\"></div><script type=\"text/javascript\">require([\"plotly\"], function(Plotly) { window.PLOTLYENV=window.PLOTLYENV || {};window.PLOTLYENV.BASE_URL=\"https://plot.ly\";\n",
       "        Plotly.plot(\n",
       "            '28d0d690-96bf-4778-84c1-e4074d81b803',\n",
       "            [{\"marker\": {\"size\": 10}, \"mode\": \"markers\", \"name\": \"Villanova - 2018\", \"text\": [\"1437\"], \"x\": [1], \"y\": [1], \"type\": \"scatter\", \"uid\": \"1e9de6bc-87ec-4670-b335-6f33ba6bac0a\"}, {\"marker\": {\"size\": 10}, \"mode\": \"markers\", \"name\": \"North Carolina - 2017\", \"text\": [\"1314\"], \"x\": [1], \"y\": [3], \"type\": \"scatter\", \"uid\": \"94e92556-0497-47d3-a134-f26fe44ca580\"}, {\"marker\": {\"size\": 10}, \"mode\": \"markers\", \"name\": \"Villanova - 2016\", \"text\": [\"1437\"], \"x\": [1], \"y\": [5], \"type\": \"scatter\", \"uid\": \"3e3ba0f9-87bc-4f4e-95a9-fcf76edb6397\"}, {\"marker\": {\"size\": 10}, \"mode\": \"markers\", \"name\": \"Duke - 2015\", \"text\": [\"1181\"], \"x\": [1], \"y\": [2], \"type\": \"scatter\", \"uid\": \"3c734f35-f85c-46f3-850e-991e8e997d4b\"}, {\"marker\": {\"size\": 10}, \"mode\": \"markers\", \"name\": \"Connecticut - 2014\", \"text\": [\"1163\"], \"x\": [1], \"y\": [22], \"type\": \"scatter\", \"uid\": \"ae813eb0-677f-45f6-97dd-b5234223c504\"}, {\"marker\": {\"size\": 10}, \"mode\": \"markers\", \"name\": \"Louisville - 2013\", \"text\": [\"1257\"], \"x\": [1], \"y\": [3], \"type\": \"scatter\", \"uid\": \"7f664032-cc80-49b2-a888-3be23747140a\"}, {\"marker\": {\"size\": 10}, \"mode\": \"markers\", \"name\": \"Kentucky - 2012\", \"text\": [\"1246\"], \"x\": [1], \"y\": [2], \"type\": \"scatter\", \"uid\": \"98d7207e-525f-418b-bca5-b28c264457ba\"}, {\"marker\": {\"size\": 10}, \"mode\": \"markers\", \"name\": \"Connecticut - 2011\", \"text\": [\"1163\"], \"x\": [1], \"y\": [26], \"type\": \"scatter\", \"uid\": \"4df6aa68-b8d0-4a1a-b61c-88de85c422a8\"}, {\"marker\": {\"size\": 10}, \"mode\": \"markers\", \"name\": \"Duke - 2010\", \"text\": [\"1181\"], \"x\": [1], \"y\": [3], \"type\": \"scatter\", \"uid\": \"49c45c0b-a3e6-4e24-9862-ae70096aeea8\"}, {\"marker\": {\"size\": 10}, \"mode\": \"markers\", \"name\": \"North Carolina - 2009\", \"text\": [\"1314\"], \"x\": [1], \"y\": [1], \"type\": \"scatter\", \"uid\": \"3f067abf-7aa2-492e-9cc3-b6147dd83fef\"}],\n",
       "            {\"hovermode\": \"closest\", \"sliders\": [{\"active\": 0, \"currentvalue\": {\"font\": {\"size\": 20}, \"prefix\": \"Week:\", \"visible\": true, \"xanchor\": \"right\"}, \"len\": 0.9, \"pad\": {\"b\": 10, \"t\": 50}, \"steps\": [{\"args\": [[1], {\"frame\": {\"duration\": 300, \"redraw\": false}, \"mode\": \"immediate\", \"transition\": {\"duration\": 300}}], \"label\": \"1\", \"method\": \"animate\"}, {\"args\": [[2], {\"frame\": {\"duration\": 300, \"redraw\": false}, \"mode\": \"immediate\", \"transition\": {\"duration\": 300}}], \"label\": \"2\", \"method\": \"animate\"}, {\"args\": [[3], {\"frame\": {\"duration\": 300, \"redraw\": false}, \"mode\": \"immediate\", \"transition\": {\"duration\": 300}}], \"label\": \"3\", \"method\": \"animate\"}, {\"args\": [[4], {\"frame\": {\"duration\": 300, \"redraw\": false}, \"mode\": \"immediate\", \"transition\": {\"duration\": 300}}], \"label\": \"4\", \"method\": \"animate\"}, {\"args\": [[5], {\"frame\": {\"duration\": 300, \"redraw\": false}, \"mode\": \"immediate\", \"transition\": {\"duration\": 300}}], \"label\": \"5\", \"method\": \"animate\"}, {\"args\": [[6], {\"frame\": {\"duration\": 300, \"redraw\": false}, \"mode\": \"immediate\", \"transition\": {\"duration\": 300}}], \"label\": \"6\", \"method\": \"animate\"}, {\"args\": [[7], {\"frame\": {\"duration\": 300, \"redraw\": false}, \"mode\": \"immediate\", \"transition\": {\"duration\": 300}}], \"label\": \"7\", \"method\": \"animate\"}, {\"args\": [[8], {\"frame\": {\"duration\": 300, \"redraw\": false}, \"mode\": \"immediate\", \"transition\": {\"duration\": 300}}], \"label\": \"8\", \"method\": \"animate\"}, {\"args\": [[9], {\"frame\": {\"duration\": 300, \"redraw\": false}, \"mode\": \"immediate\", \"transition\": {\"duration\": 300}}], \"label\": \"9\", \"method\": \"animate\"}, {\"args\": [[10], {\"frame\": {\"duration\": 300, \"redraw\": false}, \"mode\": \"immediate\", \"transition\": {\"duration\": 300}}], \"label\": \"10\", \"method\": \"animate\"}, {\"args\": [[11], {\"frame\": {\"duration\": 300, \"redraw\": false}, \"mode\": \"immediate\", \"transition\": {\"duration\": 300}}], \"label\": \"11\", \"method\": \"animate\"}, {\"args\": [[12], {\"frame\": {\"duration\": 300, \"redraw\": false}, \"mode\": \"immediate\", \"transition\": {\"duration\": 300}}], \"label\": \"12\", \"method\": \"animate\"}, {\"args\": [[13], {\"frame\": {\"duration\": 300, \"redraw\": false}, \"mode\": \"immediate\", \"transition\": {\"duration\": 300}}], \"label\": \"13\", \"method\": \"animate\"}, {\"args\": [[14], {\"frame\": {\"duration\": 300, \"redraw\": false}, \"mode\": \"immediate\", \"transition\": {\"duration\": 300}}], \"label\": \"14\", \"method\": \"animate\"}, {\"args\": [[15], {\"frame\": {\"duration\": 300, \"redraw\": false}, \"mode\": \"immediate\", \"transition\": {\"duration\": 300}}], \"label\": \"15\", \"method\": \"animate\"}], \"transition\": {\"duration\": 300, \"easing\": \"cubic-in-out\"}, \"x\": 0.1, \"xanchor\": \"left\", \"y\": 0, \"yanchor\": \"top\"}], \"title\": {\"text\": \"2009-2018 NCAA Mens Basketball Champions\"}, \"updatemenus\": [{\"buttons\": [{\"args\": [null, {\"frame\": {\"duration\": 500, \"redraw\": false}, \"fromcurrent\": true, \"transition\": {\"duration\": 300, \"easing\": \"quadratic-in-out\"}}], \"label\": \"Play\", \"method\": \"animate\"}, {\"args\": [[null], {\"frame\": {\"duration\": 0, \"redraw\": false}, \"mode\": \"immediate\", \"transition\": {\"duration\": 0}}], \"label\": \"Pause\", \"method\": \"animate\"}], \"direction\": \"left\", \"pad\": {\"r\": 10, \"t\": 87}, \"showactive\": false, \"type\": \"buttons\", \"x\": 0.1, \"xanchor\": \"right\", \"y\": 0, \"yanchor\": \"top\"}], \"xaxis\": {\"dtick\": 1, \"range\": [1, 15.5], \"title\": {\"text\": \"Ranking Week\"}, \"zeroline\": true}, \"yaxis\": {\"dtick\": 5, \"range\": [0, 45], \"title\": {\"text\": \"Pomeroy Rankings\"}, \"zeroline\": true}},\n",
       "            {\"showLink\": false, \"linkText\": \"Export to plot.ly\", \"plotlyServerURL\": \"https://plot.ly\"}\n",
       "        ).then(function () {return Plotly.addFrames('28d0d690-96bf-4778-84c1-e4074d81b803',[{\"data\": [{\"marker\": {\"size\": 10}, \"mode\": \"markers\", \"name\": \"Villanova - 2018\", \"text\": [\"1437\"], \"x\": [1], \"y\": [1], \"type\": \"scatter\"}, {\"marker\": {\"size\": 10}, \"mode\": \"markers\", \"name\": \"North Carolina - 2017\", \"text\": [\"1314\"], \"x\": [1], \"y\": [3], \"type\": \"scatter\"}, {\"marker\": {\"size\": 10}, \"mode\": \"markers\", \"name\": \"Villanova - 2016\", \"text\": [\"1437\"], \"x\": [1], \"y\": [5], \"type\": \"scatter\"}, {\"marker\": {\"size\": 10}, \"mode\": \"markers\", \"name\": \"Duke - 2015\", \"text\": [\"1181\"], \"x\": [1], \"y\": [2], \"type\": \"scatter\"}, {\"marker\": {\"size\": 10}, \"mode\": \"markers\", \"name\": \"Connecticut - 2014\", \"text\": [\"1163\"], \"x\": [1], \"y\": [22], \"type\": \"scatter\"}, {\"marker\": {\"size\": 10}, \"mode\": \"markers\", \"name\": \"Louisville - 2013\", \"text\": [\"1257\"], \"x\": [1], \"y\": [3], \"type\": \"scatter\"}, {\"marker\": {\"size\": 10}, \"mode\": \"markers\", \"name\": \"Kentucky - 2012\", \"text\": [\"1246\"], \"x\": [1], \"y\": [2], \"type\": \"scatter\"}, {\"marker\": {\"size\": 10}, \"mode\": \"markers\", \"name\": \"Connecticut - 2011\", \"text\": [\"1163\"], \"x\": [1], \"y\": [26], \"type\": \"scatter\"}, {\"marker\": {\"size\": 10}, \"mode\": \"markers\", \"name\": \"Duke - 2010\", \"text\": [\"1181\"], \"x\": [1], \"y\": [3], \"type\": \"scatter\"}, {\"marker\": {\"size\": 10}, \"mode\": \"markers\", \"name\": \"North Carolina - 2009\", \"text\": [\"1314\"], \"x\": [1], \"y\": [1], \"type\": \"scatter\"}], \"name\": \"1\"}, {\"data\": [{\"marker\": {\"size\": 10}, \"mode\": \"markers\", \"name\": \"Villanova - 2018\", \"text\": [\"1437\"], \"x\": [2], \"y\": [1], \"type\": \"scatter\"}, {\"marker\": {\"size\": 10}, \"mode\": \"markers\", \"name\": \"North Carolina - 2017\", \"text\": [\"1314\"], \"x\": [2], \"y\": [6], \"type\": \"scatter\"}, {\"marker\": {\"size\": 10}, \"mode\": \"markers\", \"name\": \"Villanova - 2016\", \"text\": [\"1437\"], \"x\": [2], \"y\": [4], \"type\": \"scatter\"}, {\"marker\": {\"size\": 10}, \"mode\": \"markers\", \"name\": \"Duke - 2015\", \"text\": [\"1181\"], \"x\": [2], \"y\": [2], \"type\": \"scatter\"}, {\"marker\": {\"size\": 10}, \"mode\": \"markers\", \"name\": \"Connecticut - 2014\", \"text\": [\"1163\"], \"x\": [2], \"y\": [20], \"type\": \"scatter\"}, {\"marker\": {\"size\": 10}, \"mode\": \"markers\", \"name\": \"Louisville - 2013\", \"text\": [\"1257\"], \"x\": [2], \"y\": [3], \"type\": \"scatter\"}, {\"marker\": {\"size\": 10}, \"mode\": \"markers\", \"name\": \"Kentucky - 2012\", \"text\": [\"1246\"], \"x\": [2], \"y\": [2], \"type\": \"scatter\"}, {\"marker\": {\"size\": 10}, \"mode\": \"markers\", \"name\": \"Connecticut - 2011\", \"text\": [\"1163\"], \"x\": [2], \"y\": [29], \"type\": \"scatter\"}, {\"marker\": {\"size\": 10}, \"mode\": \"markers\", \"name\": \"Duke - 2010\", \"text\": [\"1181\"], \"x\": [2], \"y\": [3], \"type\": \"scatter\"}, {\"marker\": {\"size\": 10}, \"mode\": \"markers\", \"name\": \"North Carolina - 2009\", \"text\": [\"1314\"], \"x\": [2], \"y\": [2], \"type\": \"scatter\"}], \"name\": \"2\"}, {\"data\": [{\"marker\": {\"size\": 10}, \"mode\": \"markers\", \"name\": \"Villanova - 2018\", \"text\": [\"1437\"], \"x\": [3], \"y\": [1], \"type\": \"scatter\"}, {\"marker\": {\"size\": 10}, \"mode\": \"markers\", \"name\": \"North Carolina - 2017\", \"text\": [\"1314\"], \"x\": [3], \"y\": [6], \"type\": \"scatter\"}, {\"marker\": {\"size\": 10}, \"mode\": \"markers\", \"name\": \"Villanova - 2016\", \"text\": [\"1437\"], \"x\": [3], \"y\": [8], \"type\": \"scatter\"}, {\"marker\": {\"size\": 10}, \"mode\": \"markers\", \"name\": \"Duke - 2015\", \"text\": [\"1181\"], \"x\": [3], \"y\": [3], \"type\": \"scatter\"}, {\"marker\": {\"size\": 10}, \"mode\": \"markers\", \"name\": \"Connecticut - 2014\", \"text\": [\"1163\"], \"x\": [3], \"y\": [25], \"type\": \"scatter\"}, {\"marker\": {\"size\": 10}, \"mode\": \"markers\", \"name\": \"Louisville - 2013\", \"text\": [\"1257\"], \"x\": [3], \"y\": [2], \"type\": \"scatter\"}, {\"marker\": {\"size\": 10}, \"mode\": \"markers\", \"name\": \"Kentucky - 2012\", \"text\": [\"1246\"], \"x\": [3], \"y\": [2], \"type\": \"scatter\"}, {\"marker\": {\"size\": 10}, \"mode\": \"markers\", \"name\": \"Connecticut - 2011\", \"text\": [\"1163\"], \"x\": [3], \"y\": [35], \"type\": \"scatter\"}, {\"marker\": {\"size\": 10}, \"mode\": \"markers\", \"name\": \"Duke - 2010\", \"text\": [\"1181\"], \"x\": [3], \"y\": [2], \"type\": \"scatter\"}, {\"marker\": {\"size\": 10}, \"mode\": \"markers\", \"name\": \"North Carolina - 2009\", \"text\": [\"1314\"], \"x\": [3], \"y\": [3], \"type\": \"scatter\"}], \"name\": \"3\"}, {\"data\": [{\"marker\": {\"size\": 10}, \"mode\": \"markers\", \"name\": \"Villanova - 2018\", \"text\": [\"1437\"], \"x\": [4], \"y\": [1], \"type\": \"scatter\"}, {\"marker\": {\"size\": 10}, \"mode\": \"markers\", \"name\": \"North Carolina - 2017\", \"text\": [\"1314\"], \"x\": [4], \"y\": [5], \"type\": \"scatter\"}, {\"marker\": {\"size\": 10}, \"mode\": \"markers\", \"name\": \"Villanova - 2016\", \"text\": [\"1437\"], \"x\": [4], \"y\": [7], \"type\": \"scatter\"}, {\"marker\": {\"size\": 10}, \"mode\": \"markers\", \"name\": \"Duke - 2015\", \"text\": [\"1181\"], \"x\": [4], \"y\": [3], \"type\": \"scatter\"}, {\"marker\": {\"size\": 10}, \"mode\": \"markers\", \"name\": \"Connecticut - 2014\", \"text\": [\"1163\"], \"x\": [4], \"y\": [30], \"type\": \"scatter\"}, {\"marker\": {\"size\": 10}, \"mode\": \"markers\", \"name\": \"Louisville - 2013\", \"text\": [\"1257\"], \"x\": [4], \"y\": [3], \"type\": \"scatter\"}, {\"marker\": {\"size\": 10}, \"mode\": \"markers\", \"name\": \"Kentucky - 2012\", \"text\": [\"1246\"], \"x\": [4], \"y\": [3], \"type\": \"scatter\"}, {\"marker\": {\"size\": 10}, \"mode\": \"markers\", \"name\": \"Connecticut - 2011\", \"text\": [\"1163\"], \"x\": [4], \"y\": [31], \"type\": \"scatter\"}, {\"marker\": {\"size\": 10}, \"mode\": \"markers\", \"name\": \"Duke - 2010\", \"text\": [\"1181\"], \"x\": [4], \"y\": [2], \"type\": \"scatter\"}, {\"marker\": {\"size\": 10}, \"mode\": \"markers\", \"name\": \"North Carolina - 2009\", \"text\": [\"1314\"], \"x\": [4], \"y\": [5], \"type\": \"scatter\"}], \"name\": \"4\"}, {\"data\": [{\"marker\": {\"size\": 10}, \"mode\": \"markers\", \"name\": \"Villanova - 2018\", \"text\": [\"1437\"], \"x\": [5], \"y\": [1], \"type\": \"scatter\"}, {\"marker\": {\"size\": 10}, \"mode\": \"markers\", \"name\": \"North Carolina - 2017\", \"text\": [\"1314\"], \"x\": [5], \"y\": [8], \"type\": \"scatter\"}, {\"marker\": {\"size\": 10}, \"mode\": \"markers\", \"name\": \"Villanova - 2016\", \"text\": [\"1437\"], \"x\": [5], \"y\": [1], \"type\": \"scatter\"}, {\"marker\": {\"size\": 10}, \"mode\": \"markers\", \"name\": \"Duke - 2015\", \"text\": [\"1181\"], \"x\": [5], \"y\": [3], \"type\": \"scatter\"}, {\"marker\": {\"size\": 10}, \"mode\": \"markers\", \"name\": \"Connecticut - 2014\", \"text\": [\"1163\"], \"x\": [5], \"y\": [44], \"type\": \"scatter\"}, {\"marker\": {\"size\": 10}, \"mode\": \"markers\", \"name\": \"Louisville - 2013\", \"text\": [\"1257\"], \"x\": [5], \"y\": [4], \"type\": \"scatter\"}, {\"marker\": {\"size\": 10}, \"mode\": \"markers\", \"name\": \"Kentucky - 2012\", \"text\": [\"1246\"], \"x\": [5], \"y\": [3], \"type\": \"scatter\"}, {\"marker\": {\"size\": 10}, \"mode\": \"markers\", \"name\": \"Connecticut - 2011\", \"text\": [\"1163\"], \"x\": [5], \"y\": [33], \"type\": \"scatter\"}, {\"marker\": {\"size\": 10}, \"mode\": \"markers\", \"name\": \"Duke - 2010\", \"text\": [\"1181\"], \"x\": [5], \"y\": [2], \"type\": \"scatter\"}, {\"marker\": {\"size\": 10}, \"mode\": \"markers\", \"name\": \"North Carolina - 2009\", \"text\": [\"1314\"], \"x\": [5], \"y\": [5], \"type\": \"scatter\"}], \"name\": \"5\"}, {\"data\": [{\"marker\": {\"size\": 10}, \"mode\": \"markers\", \"name\": \"Villanova - 2018\", \"text\": [\"1437\"], \"x\": [6], \"y\": [1], \"type\": \"scatter\"}, {\"marker\": {\"size\": 10}, \"mode\": \"markers\", \"name\": \"North Carolina - 2017\", \"text\": [\"1314\"], \"x\": [6], \"y\": [5], \"type\": \"scatter\"}, {\"marker\": {\"size\": 10}, \"mode\": \"markers\", \"name\": \"Villanova - 2016\", \"text\": [\"1437\"], \"x\": [6], \"y\": [2], \"type\": \"scatter\"}, {\"marker\": {\"size\": 10}, \"mode\": \"markers\", \"name\": \"Duke - 2015\", \"text\": [\"1181\"], \"x\": [6], \"y\": [4], \"type\": \"scatter\"}, {\"marker\": {\"size\": 10}, \"mode\": \"markers\", \"name\": \"Connecticut - 2014\", \"text\": [\"1163\"], \"x\": [6], \"y\": [36], \"type\": \"scatter\"}, {\"marker\": {\"size\": 10}, \"mode\": \"markers\", \"name\": \"Louisville - 2013\", \"text\": [\"1257\"], \"x\": [6], \"y\": [2], \"type\": \"scatter\"}, {\"marker\": {\"size\": 10}, \"mode\": \"markers\", \"name\": \"Kentucky - 2012\", \"text\": [\"1246\"], \"x\": [6], \"y\": [3], \"type\": \"scatter\"}, {\"marker\": {\"size\": 10}, \"mode\": \"markers\", \"name\": \"Connecticut - 2011\", \"text\": [\"1163\"], \"x\": [6], \"y\": [26], \"type\": \"scatter\"}, {\"marker\": {\"size\": 10}, \"mode\": \"markers\", \"name\": \"Duke - 2010\", \"text\": [\"1181\"], \"x\": [6], \"y\": [2], \"type\": \"scatter\"}, {\"marker\": {\"size\": 10}, \"mode\": \"markers\", \"name\": \"North Carolina - 2009\", \"text\": [\"1314\"], \"x\": [6], \"y\": [3], \"type\": \"scatter\"}], \"name\": \"6\"}, {\"data\": [{\"marker\": {\"size\": 10}, \"mode\": \"markers\", \"name\": \"Villanova - 2018\", \"text\": [\"1437\"], \"x\": [7], \"y\": [1], \"type\": \"scatter\"}, {\"marker\": {\"size\": 10}, \"mode\": \"markers\", \"name\": \"North Carolina - 2017\", \"text\": [\"1314\"], \"x\": [7], \"y\": [6], \"type\": \"scatter\"}, {\"marker\": {\"size\": 10}, \"mode\": \"markers\", \"name\": \"Villanova - 2016\", \"text\": [\"1437\"], \"x\": [7], \"y\": [1], \"type\": \"scatter\"}, {\"marker\": {\"size\": 10}, \"mode\": \"markers\", \"name\": \"Duke - 2015\", \"text\": [\"1181\"], \"x\": [7], \"y\": [9], \"type\": \"scatter\"}, {\"marker\": {\"size\": 10}, \"mode\": \"markers\", \"name\": \"Connecticut - 2014\", \"text\": [\"1163\"], \"x\": [7], \"y\": [36], \"type\": \"scatter\"}, {\"marker\": {\"size\": 10}, \"mode\": \"markers\", \"name\": \"Louisville - 2013\", \"text\": [\"1257\"], \"x\": [7], \"y\": [2], \"type\": \"scatter\"}, {\"marker\": {\"size\": 10}, \"mode\": \"markers\", \"name\": \"Kentucky - 2012\", \"text\": [\"1246\"], \"x\": [7], \"y\": [5], \"type\": \"scatter\"}, {\"marker\": {\"size\": 10}, \"mode\": \"markers\", \"name\": \"Connecticut - 2011\", \"text\": [\"1163\"], \"x\": [7], \"y\": [24], \"type\": \"scatter\"}, {\"marker\": {\"size\": 10}, \"mode\": \"markers\", \"name\": \"Duke - 2010\", \"text\": [\"1181\"], \"x\": [7], \"y\": [1], \"type\": \"scatter\"}, {\"marker\": {\"size\": 10}, \"mode\": \"markers\", \"name\": \"North Carolina - 2009\", \"text\": [\"1314\"], \"x\": [7], \"y\": [2], \"type\": \"scatter\"}], \"name\": \"7\"}, {\"data\": [{\"marker\": {\"size\": 10}, \"mode\": \"markers\", \"name\": \"Villanova - 2018\", \"text\": [\"1437\"], \"x\": [8], \"y\": [1], \"type\": \"scatter\"}, {\"marker\": {\"size\": 10}, \"mode\": \"markers\", \"name\": \"North Carolina - 2017\", \"text\": [\"1314\"], \"x\": [8], \"y\": [7], \"type\": \"scatter\"}, {\"marker\": {\"size\": 10}, \"mode\": \"markers\", \"name\": \"Villanova - 2016\", \"text\": [\"1437\"], \"x\": [8], \"y\": [4], \"type\": \"scatter\"}, {\"marker\": {\"size\": 10}, \"mode\": \"markers\", \"name\": \"Duke - 2015\", \"text\": [\"1181\"], \"x\": [8], \"y\": [8], \"type\": \"scatter\"}, {\"marker\": {\"size\": 10}, \"mode\": \"markers\", \"name\": \"Connecticut - 2014\", \"text\": [\"1163\"], \"x\": [8], \"y\": [33], \"type\": \"scatter\"}, {\"marker\": {\"size\": 10}, \"mode\": \"markers\", \"name\": \"Louisville - 2013\", \"text\": [\"1257\"], \"x\": [8], \"y\": [4], \"type\": \"scatter\"}, {\"marker\": {\"size\": 10}, \"mode\": \"markers\", \"name\": \"Kentucky - 2012\", \"text\": [\"1246\"], \"x\": [8], \"y\": [6], \"type\": \"scatter\"}, {\"marker\": {\"size\": 10}, \"mode\": \"markers\", \"name\": \"Connecticut - 2011\", \"text\": [\"1163\"], \"x\": [8], \"y\": [14], \"type\": \"scatter\"}, {\"marker\": {\"size\": 10}, \"mode\": \"markers\", \"name\": \"Duke - 2010\", \"text\": [\"1181\"], \"x\": [8], \"y\": [2], \"type\": \"scatter\"}, {\"marker\": {\"size\": 10}, \"mode\": \"markers\", \"name\": \"North Carolina - 2009\", \"text\": [\"1314\"], \"x\": [8], \"y\": [2], \"type\": \"scatter\"}], \"name\": \"8\"}, {\"data\": [{\"marker\": {\"size\": 10}, \"mode\": \"markers\", \"name\": \"Villanova - 2018\", \"text\": [\"1437\"], \"x\": [9], \"y\": [1], \"type\": \"scatter\"}, {\"marker\": {\"size\": 10}, \"mode\": \"markers\", \"name\": \"North Carolina - 2017\", \"text\": [\"1314\"], \"x\": [9], \"y\": [10], \"type\": \"scatter\"}, {\"marker\": {\"size\": 10}, \"mode\": \"markers\", \"name\": \"Villanova - 2016\", \"text\": [\"1437\"], \"x\": [9], \"y\": [3], \"type\": \"scatter\"}, {\"marker\": {\"size\": 10}, \"mode\": \"markers\", \"name\": \"Duke - 2015\", \"text\": [\"1181\"], \"x\": [9], \"y\": [7], \"type\": \"scatter\"}, {\"marker\": {\"size\": 10}, \"mode\": \"markers\", \"name\": \"Connecticut - 2014\", \"text\": [\"1163\"], \"x\": [9], \"y\": [29], \"type\": \"scatter\"}, {\"marker\": {\"size\": 10}, \"mode\": \"markers\", \"name\": \"Louisville - 2013\", \"text\": [\"1257\"], \"x\": [9], \"y\": [4], \"type\": \"scatter\"}, {\"marker\": {\"size\": 10}, \"mode\": \"markers\", \"name\": \"Kentucky - 2012\", \"text\": [\"1246\"], \"x\": [9], \"y\": [3], \"type\": \"scatter\"}, {\"marker\": {\"size\": 10}, \"mode\": \"markers\", \"name\": \"Connecticut - 2011\", \"text\": [\"1163\"], \"x\": [9], \"y\": [14], \"type\": \"scatter\"}, {\"marker\": {\"size\": 10}, \"mode\": \"markers\", \"name\": \"Duke - 2010\", \"text\": [\"1181\"], \"x\": [9], \"y\": [2], \"type\": \"scatter\"}, {\"marker\": {\"size\": 10}, \"mode\": \"markers\", \"name\": \"North Carolina - 2009\", \"text\": [\"1314\"], \"x\": [9], \"y\": [3], \"type\": \"scatter\"}], \"name\": \"9\"}, {\"data\": [{\"marker\": {\"size\": 10}, \"mode\": \"markers\", \"name\": \"Villanova - 2018\", \"text\": [\"1437\"], \"x\": [10], \"y\": [1], \"type\": \"scatter\"}, {\"marker\": {\"size\": 10}, \"mode\": \"markers\", \"name\": \"North Carolina - 2017\", \"text\": [\"1314\"], \"x\": [10], \"y\": [10], \"type\": \"scatter\"}, {\"marker\": {\"size\": 10}, \"mode\": \"markers\", \"name\": \"Villanova - 2016\", \"text\": [\"1437\"], \"x\": [10], \"y\": [2], \"type\": \"scatter\"}, {\"marker\": {\"size\": 10}, \"mode\": \"markers\", \"name\": \"Duke - 2015\", \"text\": [\"1181\"], \"x\": [10], \"y\": [8], \"type\": \"scatter\"}, {\"marker\": {\"size\": 10}, \"mode\": \"markers\", \"name\": \"Connecticut - 2014\", \"text\": [\"1163\"], \"x\": [10], \"y\": [25], \"type\": \"scatter\"}, {\"marker\": {\"size\": 10}, \"mode\": \"markers\", \"name\": \"Louisville - 2013\", \"text\": [\"1257\"], \"x\": [10], \"y\": [3], \"type\": \"scatter\"}, {\"marker\": {\"size\": 10}, \"mode\": \"markers\", \"name\": \"Kentucky - 2012\", \"text\": [\"1246\"], \"x\": [10], \"y\": [2], \"type\": \"scatter\"}, {\"marker\": {\"size\": 10}, \"mode\": \"markers\", \"name\": \"Connecticut - 2011\", \"text\": [\"1163\"], \"x\": [10], \"y\": [17], \"type\": \"scatter\"}, {\"marker\": {\"size\": 10}, \"mode\": \"markers\", \"name\": \"Duke - 2010\", \"text\": [\"1181\"], \"x\": [10], \"y\": [2], \"type\": \"scatter\"}, {\"marker\": {\"size\": 10}, \"mode\": \"markers\", \"name\": \"North Carolina - 2009\", \"text\": [\"1314\"], \"x\": [10], \"y\": [3], \"type\": \"scatter\"}], \"name\": \"10\"}, {\"data\": [{\"marker\": {\"size\": 10}, \"mode\": \"markers\", \"name\": \"Villanova - 2018\", \"text\": [\"1437\"], \"x\": [11], \"y\": [2], \"type\": \"scatter\"}, {\"marker\": {\"size\": 10}, \"mode\": \"markers\", \"name\": \"North Carolina - 2017\", \"text\": [\"1314\"], \"x\": [11], \"y\": [10], \"type\": \"scatter\"}, {\"marker\": {\"size\": 10}, \"mode\": \"markers\", \"name\": \"Villanova - 2016\", \"text\": [\"1437\"], \"x\": [11], \"y\": [1], \"type\": \"scatter\"}, {\"marker\": {\"size\": 10}, \"mode\": \"markers\", \"name\": \"Duke - 2015\", \"text\": [\"1181\"], \"x\": [11], \"y\": [8], \"type\": \"scatter\"}, {\"marker\": {\"size\": 10}, \"mode\": \"markers\", \"name\": \"Connecticut - 2014\", \"text\": [\"1163\"], \"x\": [11], \"y\": [20], \"type\": \"scatter\"}, {\"marker\": {\"size\": 10}, \"mode\": \"markers\", \"name\": \"Louisville - 2013\", \"text\": [\"1257\"], \"x\": [11], \"y\": [3], \"type\": \"scatter\"}, {\"marker\": {\"size\": 10}, \"mode\": \"markers\", \"name\": \"Kentucky - 2012\", \"text\": [\"1246\"], \"x\": [11], \"y\": [2], \"type\": \"scatter\"}, {\"marker\": {\"size\": 10}, \"mode\": \"markers\", \"name\": \"Connecticut - 2011\", \"text\": [\"1163\"], \"x\": [11], \"y\": [21], \"type\": \"scatter\"}, {\"marker\": {\"size\": 10}, \"mode\": \"markers\", \"name\": \"Duke - 2010\", \"text\": [\"1181\"], \"x\": [11], \"y\": [2], \"type\": \"scatter\"}, {\"marker\": {\"size\": 10}, \"mode\": \"markers\", \"name\": \"North Carolina - 2009\", \"text\": [\"1314\"], \"x\": [11], \"y\": [1], \"type\": \"scatter\"}], \"name\": \"11\"}, {\"data\": [{\"marker\": {\"size\": 10}, \"mode\": \"markers\", \"name\": \"Villanova - 2018\", \"text\": [\"1437\"], \"x\": [12], \"y\": [2], \"type\": \"scatter\"}, {\"marker\": {\"size\": 10}, \"mode\": \"markers\", \"name\": \"North Carolina - 2017\", \"text\": [\"1314\"], \"x\": [12], \"y\": [6], \"type\": \"scatter\"}, {\"marker\": {\"size\": 10}, \"mode\": \"markers\", \"name\": \"Villanova - 2016\", \"text\": [\"1437\"], \"x\": [12], \"y\": [1], \"type\": \"scatter\"}, {\"marker\": {\"size\": 10}, \"mode\": \"markers\", \"name\": \"Duke - 2015\", \"text\": [\"1181\"], \"x\": [12], \"y\": [8], \"type\": \"scatter\"}, {\"marker\": {\"size\": 10}, \"mode\": \"markers\", \"name\": \"Connecticut - 2014\", \"text\": [\"1163\"], \"x\": [12], \"y\": [24], \"type\": \"scatter\"}, {\"marker\": {\"size\": 10}, \"mode\": \"markers\", \"name\": \"Louisville - 2013\", \"text\": [\"1257\"], \"x\": [12], \"y\": [3], \"type\": \"scatter\"}, {\"marker\": {\"size\": 10}, \"mode\": \"markers\", \"name\": \"Kentucky - 2012\", \"text\": [\"1246\"], \"x\": [12], \"y\": [1], \"type\": \"scatter\"}, {\"marker\": {\"size\": 10}, \"mode\": \"markers\", \"name\": \"Connecticut - 2011\", \"text\": [\"1163\"], \"x\": [12], \"y\": [26], \"type\": \"scatter\"}, {\"marker\": {\"size\": 10}, \"mode\": \"markers\", \"name\": \"Duke - 2010\", \"text\": [\"1181\"], \"x\": [12], \"y\": [1], \"type\": \"scatter\"}, {\"marker\": {\"size\": 10}, \"mode\": \"markers\", \"name\": \"North Carolina - 2009\", \"text\": [\"1314\"], \"x\": [12], \"y\": [2], \"type\": \"scatter\"}], \"name\": \"12\"}, {\"data\": [{\"marker\": {\"size\": 10}, \"mode\": \"markers\", \"name\": \"Villanova - 2018\", \"text\": [\"1437\"], \"x\": [13], \"y\": [2], \"type\": \"scatter\"}, {\"marker\": {\"size\": 10}, \"mode\": \"markers\", \"name\": \"North Carolina - 2017\", \"text\": [\"1314\"], \"x\": [13], \"y\": [3], \"type\": \"scatter\"}, {\"marker\": {\"size\": 10}, \"mode\": \"markers\", \"name\": \"Villanova - 2016\", \"text\": [\"1437\"], \"x\": [13], \"y\": [3], \"type\": \"scatter\"}, {\"marker\": {\"size\": 10}, \"mode\": \"markers\", \"name\": \"Duke - 2015\", \"text\": [\"1181\"], \"x\": [13], \"y\": [8], \"type\": \"scatter\"}, {\"marker\": {\"size\": 10}, \"mode\": \"markers\", \"name\": \"Connecticut - 2014\", \"text\": [\"1163\"], \"x\": [13], \"y\": [23], \"type\": \"scatter\"}, {\"marker\": {\"size\": 10}, \"mode\": \"markers\", \"name\": \"Louisville - 2013\", \"text\": [\"1257\"], \"x\": [13], \"y\": [3], \"type\": \"scatter\"}, {\"marker\": {\"size\": 10}, \"mode\": \"markers\", \"name\": \"Kentucky - 2012\", \"text\": [\"1246\"], \"x\": [13], \"y\": [1], \"type\": \"scatter\"}, {\"marker\": {\"size\": 10}, \"mode\": \"markers\", \"name\": \"Connecticut - 2011\", \"text\": [\"1163\"], \"x\": [13], \"y\": [23], \"type\": \"scatter\"}, {\"marker\": {\"size\": 10}, \"mode\": \"markers\", \"name\": \"Duke - 2010\", \"text\": [\"1181\"], \"x\": [13], \"y\": [1], \"type\": \"scatter\"}, {\"marker\": {\"size\": 10}, \"mode\": \"markers\", \"name\": \"North Carolina - 2009\", \"text\": [\"1314\"], \"x\": [13], \"y\": [2], \"type\": \"scatter\"}], \"name\": \"13\"}, {\"data\": [{\"marker\": {\"size\": 10}, \"mode\": \"markers\", \"name\": \"Villanova - 2018\", \"text\": [\"1437\"], \"x\": [14], \"y\": [2], \"type\": \"scatter\"}, {\"marker\": {\"size\": 10}, \"mode\": \"markers\", \"name\": \"North Carolina - 2017\", \"text\": [\"1314\"], \"x\": [14], \"y\": [4], \"type\": \"scatter\"}, {\"marker\": {\"size\": 10}, \"mode\": \"markers\", \"name\": \"Villanova - 2016\", \"text\": [\"1437\"], \"x\": [14], \"y\": [4], \"type\": \"scatter\"}, {\"marker\": {\"size\": 10}, \"mode\": \"markers\", \"name\": \"Duke - 2015\", \"text\": [\"1181\"], \"x\": [14], \"y\": [7], \"type\": \"scatter\"}, {\"marker\": {\"size\": 10}, \"mode\": \"markers\", \"name\": \"Connecticut - 2014\", \"text\": [\"1163\"], \"x\": [14], \"y\": [30], \"type\": \"scatter\"}, {\"marker\": {\"size\": 10}, \"mode\": \"markers\", \"name\": \"Louisville - 2013\", \"text\": [\"1257\"], \"x\": [14], \"y\": [3], \"type\": \"scatter\"}, {\"marker\": {\"size\": 10}, \"mode\": \"markers\", \"name\": \"Kentucky - 2012\", \"text\": [\"1246\"], \"x\": [14], \"y\": [1], \"type\": \"scatter\"}, {\"marker\": {\"size\": 10}, \"mode\": \"markers\", \"name\": \"Connecticut - 2011\", \"text\": [\"1163\"], \"x\": [14], \"y\": [23], \"type\": \"scatter\"}, {\"marker\": {\"size\": 10}, \"mode\": \"markers\", \"name\": \"Duke - 2010\", \"text\": [\"1181\"], \"x\": [14], \"y\": [1], \"type\": \"scatter\"}, {\"marker\": {\"size\": 10}, \"mode\": \"markers\", \"name\": \"North Carolina - 2009\", \"text\": [\"1314\"], \"x\": [14], \"y\": [2], \"type\": \"scatter\"}], \"name\": \"14\"}, {\"data\": [{\"marker\": {\"size\": 10}, \"mode\": \"markers\", \"name\": \"Villanova - 2018\", \"text\": [\"1437\"], \"x\": [15], \"y\": [2], \"type\": \"scatter\"}, {\"marker\": {\"size\": 10}, \"mode\": \"markers\", \"name\": \"North Carolina - 2017\", \"text\": [\"1314\"], \"x\": [15], \"y\": [3], \"type\": \"scatter\"}, {\"marker\": {\"size\": 10}, \"mode\": \"markers\", \"name\": \"Villanova - 2016\", \"text\": [\"1437\"], \"x\": [15], \"y\": [5], \"type\": \"scatter\"}, {\"marker\": {\"size\": 10}, \"mode\": \"markers\", \"name\": \"Duke - 2015\", \"text\": [\"1181\"], \"x\": [15], \"y\": [7], \"type\": \"scatter\"}, {\"marker\": {\"size\": 10}, \"mode\": \"markers\", \"name\": \"Connecticut - 2014\", \"text\": [\"1163\"], \"x\": [15], \"y\": [26], \"type\": \"scatter\"}, {\"marker\": {\"size\": 10}, \"mode\": \"markers\", \"name\": \"Louisville - 2013\", \"text\": [\"1257\"], \"x\": [15], \"y\": [2], \"type\": \"scatter\"}, {\"marker\": {\"size\": 10}, \"mode\": \"markers\", \"name\": \"Kentucky - 2012\", \"text\": [\"1246\"], \"x\": [15], \"y\": [1], \"type\": \"scatter\"}, {\"marker\": {\"size\": 10}, \"mode\": \"markers\", \"name\": \"Connecticut - 2011\", \"text\": [\"1163\"], \"x\": [15], \"y\": [17], \"type\": \"scatter\"}, {\"marker\": {\"size\": 10}, \"mode\": \"markers\", \"name\": \"Duke - 2010\", \"text\": [\"1181\"], \"x\": [15], \"y\": [1], \"type\": \"scatter\"}, {\"marker\": {\"size\": 10}, \"mode\": \"markers\", \"name\": \"North Carolina - 2009\", \"text\": [\"1314\"], \"x\": [15], \"y\": [2], \"type\": \"scatter\"}], \"name\": \"15\"}]);}).then(function(){Plotly.animate('28d0d690-96bf-4778-84c1-e4074d81b803');})\n",
       "        });</script><script type=\"text/javascript\">window.addEventListener(\"resize\", function(){window._Plotly.Plots.resize(document.getElementById(\"28d0d690-96bf-4778-84c1-e4074d81b803\"));});</script>"
      ]
     },
     "metadata": {},
     "output_type": "display_data"
    }
   ],
   "source": [
    "#Read in Data\n",
    "massey_df = pd.read_csv('../input/masseyordinals/MasseyOrdinals.csv')\n",
    "teams = pd.read_csv('../input/datafiles/Teams.csv')\n",
    "\n",
    "#Merge DataFrames and select only POM rankings\n",
    "ranks_names = massey_df.merge(teams, how ='left', on = 'TeamID')\n",
    "ranks_names_pom = ranks_names.loc[ranks_names.SystemName == 'POM']\n",
    "\n",
    "#Create a dictionary for each year and team champion\n",
    "champ_dict = OrderedDict([(2018,1437), (2017,1314), \n",
    "                          (2016,1437), (2015,1181), \n",
    "                          (2014,1163), (2013,1257),\n",
    "                          (2012,1246), (2011,1163), \n",
    "                          (2010,1181), (2009,1314)]\n",
    "                        )\n",
    "\n",
    "#Pull the champions by year out of the ranking dataframe.\n",
    "#Then concatenate them into 1 DF\n",
    "df_lst = []\n",
    "for year, team in champ_dict.items():\n",
    "    subset_df = ranks_names_pom.loc[(ranks_names_pom.Season == year) &\n",
    "                                    (ranks_names_pom.TeamID == team)\n",
    "                                   ].tail(15)\n",
    "    subset_df['rank_week'] = range(1, 16)\n",
    "    df_lst.append(subset_df)\n",
    "\n",
    "champ_df = pd.concat(df_lst).reset_index(drop=True)\n",
    "\n",
    "weeks = list(range(1, 16))\n",
    "week = 1\n",
    "\n",
    "#Create the layout for the animation\n",
    "figure = {\n",
    "    'data': [],\n",
    "    'layout': {},\n",
    "    'frames': []\n",
    "}\n",
    "\n",
    "figure['layout']['xaxis'] = {'range': [1, 15.5], 'title': 'Ranking Week','dtick':1,'zeroline':True}\n",
    "figure['layout']['yaxis'] = {'range': [0, 45], 'title': 'Pomeroy Rankings','dtick':5,'zeroline':True}\n",
    "figure['layout']['title'] = '2009-2018 NCAA Mens Basketball Champions'\n",
    "figure['layout']['hovermode'] = 'closest'\n",
    "figure['layout']['sliders'] = {\n",
    "    'args': [\n",
    "        'transition', {\n",
    "            'duration': 400,\n",
    "            'easing': 'cubic-in-out'\n",
    "        }\n",
    "    ],\n",
    "    'initialValue': '1',\n",
    "    'plotlycommand': 'animate',\n",
    "    'values': weeks,\n",
    "    'visible': True\n",
    "}\n",
    "\n",
    "figure['layout']['updatemenus'] = [\n",
    "    {\n",
    "        'buttons': [\n",
    "            {\n",
    "                'args': [None, {'frame': {'duration': 500, 'redraw': False},\n",
    "                         'fromcurrent': True, 'transition': {'duration': 300, 'easing': 'quadratic-in-out'}}],\n",
    "                'label': 'Play',\n",
    "                'method': 'animate'\n",
    "            },\n",
    "            {\n",
    "                'args': [[None], {'frame': {'duration': 0, 'redraw': False}, 'mode': 'immediate',\n",
    "                'transition': {'duration': 0}}],\n",
    "                'label': 'Pause',\n",
    "                'method': 'animate'\n",
    "            }\n",
    "        ],\n",
    "        'direction': 'left',\n",
    "        'pad': {'r': 10, 't': 87},\n",
    "        'showactive': False,\n",
    "        'type': 'buttons',\n",
    "        'x': 0.1,\n",
    "        'xanchor': 'right',\n",
    "        'y': 0,\n",
    "        'yanchor': 'top'\n",
    "    }\n",
    "]\n",
    "\n",
    "sliders_dict = {\n",
    "    'active': 0,\n",
    "    'yanchor': 'top',\n",
    "    'xanchor': 'left',\n",
    "    'currentvalue': {\n",
    "        'font': {'size': 20},\n",
    "        'prefix': 'Week:',\n",
    "        'visible': True,\n",
    "        'xanchor': 'right'\n",
    "    },\n",
    "    'transition': {'duration': 300, 'easing': 'cubic-in-out'},\n",
    "    'pad': {'b': 10, 't': 50},\n",
    "    'len': 0.9,\n",
    "    'x': 0.1,\n",
    "    'y': 0,\n",
    "    'steps': []\n",
    "}\n",
    "\n",
    "#Make the Data\n",
    "for year, team in champ_dict.items():\n",
    "    dataset_filtered = champ_df.loc[(champ_df.rank_week == week) &\n",
    "                                    (champ_df.TeamID == team) &\n",
    "                                    (champ_df.Season == year)].reset_index(drop=True)\n",
    "    data_dict = {\n",
    "        'x': list(dataset_filtered['rank_week']),\n",
    "        'y': list(dataset_filtered['OrdinalRank']),\n",
    "        'mode': 'markers',\n",
    "        'text': list(dataset_filtered['TeamID']),\n",
    "        'marker': {\n",
    "            'size': 10\n",
    "        },\n",
    "        'name': dataset_filtered.TeamName[0] + ' - ' + str(year)\n",
    "    }\n",
    "    figure['data'].append(data_dict)\n",
    "    \n",
    "    #Make Frames\n",
    "for week in weeks:\n",
    "    frame = {'data': [], 'name': str(week)}\n",
    "    for year, team in champ_dict.items():\n",
    "        dataset_filtered = champ_df.loc[(champ_df.rank_week == week) &\n",
    "                                        (champ_df.TeamID == team) &\n",
    "                                        (champ_df.Season == year)].reset_index(drop=True)\n",
    "        \n",
    "        data_dict = {\n",
    "            'x': list(dataset_filtered['rank_week']),\n",
    "            'y': list(dataset_filtered['OrdinalRank']),\n",
    "            'mode': 'markers',\n",
    "            'text': list(dataset_filtered['TeamID']),\n",
    "            'marker': {\n",
    "                'size': 10\n",
    "            },\n",
    "            'name': dataset_filtered.TeamName[0] + ' - ' + str(year)\n",
    "        }\n",
    "        frame['data'].append(data_dict)\n",
    "\n",
    "    figure['frames'].append(frame)\n",
    "    slider_step = {'args': [\n",
    "        [week],\n",
    "        {'frame': {'duration': 300, 'redraw': False},\n",
    "         'mode': 'immediate',\n",
    "       'transition': {'duration': 300}}\n",
    "     ],\n",
    "     'label': week,\n",
    "     'method': 'animate'}\n",
    "    sliders_dict['steps'].append(slider_step)\n",
    "    \n",
    "figure['layout']['sliders'] = [sliders_dict]\n",
    "\n",
    "iplot(figure)"
   ]
  },
  {
   "cell_type": "code",
   "execution_count": 4,
   "metadata": {
    "_kg_hide-input": true,
    "_uuid": "8d27206c69952232362b7499834b84cc6b7669de"
   },
   "outputs": [
    {
     "data": {
      "text/html": [
       "<div>\n",
       "<style scoped>\n",
       "    .dataframe tbody tr th:only-of-type {\n",
       "        vertical-align: middle;\n",
       "    }\n",
       "\n",
       "    .dataframe tbody tr th {\n",
       "        vertical-align: top;\n",
       "    }\n",
       "\n",
       "    .dataframe thead th {\n",
       "        text-align: right;\n",
       "    }\n",
       "</style>\n",
       "<table border=\"1\" class=\"dataframe\">\n",
       "  <thead>\n",
       "    <tr style=\"text-align: right;\">\n",
       "      <th></th>\n",
       "      <th></th>\n",
       "      <th>min</th>\n",
       "      <th>max</th>\n",
       "      <th>mean</th>\n",
       "      <th>std</th>\n",
       "    </tr>\n",
       "    <tr>\n",
       "      <th>Season</th>\n",
       "      <th>TeamName</th>\n",
       "      <th></th>\n",
       "      <th></th>\n",
       "      <th></th>\n",
       "      <th></th>\n",
       "    </tr>\n",
       "  </thead>\n",
       "  <tbody>\n",
       "    <tr>\n",
       "      <th>2009</th>\n",
       "      <th>North Carolina</th>\n",
       "      <td>1</td>\n",
       "      <td>5</td>\n",
       "      <td>2.5</td>\n",
       "      <td>1.2</td>\n",
       "    </tr>\n",
       "    <tr>\n",
       "      <th>2010</th>\n",
       "      <th>Duke</th>\n",
       "      <td>1</td>\n",
       "      <td>3</td>\n",
       "      <td>1.8</td>\n",
       "      <td>0.7</td>\n",
       "    </tr>\n",
       "    <tr>\n",
       "      <th>2011</th>\n",
       "      <th>Connecticut</th>\n",
       "      <td>14</td>\n",
       "      <td>35</td>\n",
       "      <td>23.9</td>\n",
       "      <td>6.5</td>\n",
       "    </tr>\n",
       "    <tr>\n",
       "      <th>2012</th>\n",
       "      <th>Kentucky</th>\n",
       "      <td>1</td>\n",
       "      <td>6</td>\n",
       "      <td>2.5</td>\n",
       "      <td>1.5</td>\n",
       "    </tr>\n",
       "    <tr>\n",
       "      <th>2013</th>\n",
       "      <th>Louisville</th>\n",
       "      <td>2</td>\n",
       "      <td>4</td>\n",
       "      <td>2.9</td>\n",
       "      <td>0.7</td>\n",
       "    </tr>\n",
       "    <tr>\n",
       "      <th>2014</th>\n",
       "      <th>Connecticut</th>\n",
       "      <td>20</td>\n",
       "      <td>44</td>\n",
       "      <td>28.2</td>\n",
       "      <td>6.8</td>\n",
       "    </tr>\n",
       "    <tr>\n",
       "      <th>2015</th>\n",
       "      <th>Duke</th>\n",
       "      <td>2</td>\n",
       "      <td>9</td>\n",
       "      <td>5.8</td>\n",
       "      <td>2.6</td>\n",
       "    </tr>\n",
       "    <tr>\n",
       "      <th>2016</th>\n",
       "      <th>Villanova</th>\n",
       "      <td>1</td>\n",
       "      <td>8</td>\n",
       "      <td>3.4</td>\n",
       "      <td>2.2</td>\n",
       "    </tr>\n",
       "    <tr>\n",
       "      <th>2017</th>\n",
       "      <th>North Carolina</th>\n",
       "      <td>3</td>\n",
       "      <td>10</td>\n",
       "      <td>6.1</td>\n",
       "      <td>2.5</td>\n",
       "    </tr>\n",
       "    <tr>\n",
       "      <th>2018</th>\n",
       "      <th>Villanova</th>\n",
       "      <td>1</td>\n",
       "      <td>2</td>\n",
       "      <td>1.3</td>\n",
       "      <td>0.5</td>\n",
       "    </tr>\n",
       "  </tbody>\n",
       "</table>\n",
       "</div>"
      ],
      "text/plain": [
       "                       min  max  mean  std\n",
       "Season TeamName                           \n",
       "2009   North Carolina    1    5   2.5  1.2\n",
       "2010   Duke              1    3   1.8  0.7\n",
       "2011   Connecticut      14   35  23.9  6.5\n",
       "2012   Kentucky          1    6   2.5  1.5\n",
       "2013   Louisville        2    4   2.9  0.7\n",
       "2014   Connecticut      20   44  28.2  6.8\n",
       "2015   Duke              2    9   5.8  2.6\n",
       "2016   Villanova         1    8   3.4  2.2\n",
       "2017   North Carolina    3   10   6.1  2.5\n",
       "2018   Villanova         1    2   1.3  0.5"
      ]
     },
     "execution_count": 4,
     "metadata": {},
     "output_type": "execute_result"
    }
   ],
   "source": [
    "champ_grouped_df = champ_df.groupby(['Season', 'TeamName'])['OrdinalRank']\\\n",
    "                    .agg(['min', 'max', np.mean, np.std]).round(1)\n",
    "champ_grouped_df"
   ]
  },
  {
   "cell_type": "code",
   "execution_count": 5,
   "metadata": {
    "_kg_hide-input": true,
    "_uuid": "de175d9c33fca77197b8c34f13098ac84af8f3f8"
   },
   "outputs": [
    {
     "data": {
      "text/plain": [
       "[Text(0,0.5,'Max Rank'),\n",
       " Text(0.5,0,'Seasons'),\n",
       " Text(0.5,1,'Max Ranking from Champions')]"
      ]
     },
     "execution_count": 5,
     "metadata": {},
     "output_type": "execute_result"
    },
    {
     "data": {
      "image/png": "[encoded data removed]",
      "text/plain": [
       "<Figure size 432x288 with 1 Axes>"
      ]
     },
     "metadata": {},
     "output_type": "display_data"
    }
   ],
   "source": [
    "plot_df = champ_grouped_df.reset_index()\n",
    "ax = sns.barplot(x= 'Season', y = 'max', data = plot_df, color = 'green')\n",
    "ax.set(xlabel='Seasons', ylabel='Max Rank', title = 'Max Ranking from Champions')"
   ]
  },
  {
   "cell_type": "code",
   "execution_count": 6,
   "metadata": {
    "_uuid": "a7403caeb9e0727fed4cdc772ded1bc443751e23"
   },
   "outputs": [],
   "source": []
  }
 ],
 "metadata": {
  "kernelspec": {
   "display_name": "Python 3",
   "language": "python",
   "name": "python3"
  },
  "language_info": {
   "codemirror_mode": {
    "name": "ipython",
    "version": 3
   },
   "file_extension": ".py",
   "mimetype": "text/x-python",
   "name": "python",
   "nbconvert_exporter": "python",
   "pygments_lexer": "ipython3",
   "version": "3.6.6"
  }
 },
 "nbformat": 4,
 "nbformat_minor": 1
}

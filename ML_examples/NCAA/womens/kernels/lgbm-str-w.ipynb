{
 "cells": [
  {
   "cell_type": "code",
   "execution_count": 1,
   "metadata": {
    "_uuid": "666dcfc780c86f9b5460abedb3c6e6e45ba7d189"
   },
   "outputs": [],
   "source": [
    "import numpy as np\n",
    "import pandas as pd\n",
    "from sklearn.model_selection import train_test_split \n",
    "import lightgbm as lgb"
   ]
  },
  {
   "cell_type": "code",
   "execution_count": 2,
   "metadata": {
    "_uuid": "b6e82d8b7ee33690fee90428cbb3e33c236d8ff5"
   },
   "outputs": [],
   "source": [
    "t_res = pd.read_csv('../input/wdatafiles/WNCAATourneyCompactResults.csv')\n",
    "t_ds = pd.read_csv('../input/wdatafiles/WNCAATourneySeeds.csv')\n",
    "sub = pd.read_csv('../input/WSampleSubmissionStage1.csv')"
   ]
  },
  {
   "cell_type": "code",
   "execution_count": 3,
   "metadata": {
    "_uuid": "b3a5daf7f49dd74ba10fddb9a324133b97b14eaf"
   },
   "outputs": [],
   "source": [
    "t_ds['seed_int'] = t_ds.Seed.apply(lambda a : int(a[1:3]))"
   ]
  },
  {
   "cell_type": "code",
   "execution_count": 4,
   "metadata": {
    "_uuid": "db07b8cba11aa195461e477972f559329afd6fdb"
   },
   "outputs": [],
   "source": [
    "drop_lbls = ['DayNum', 'WScore', 'LScore', 'WLoc', 'NumOT']\n",
    "t_ds.drop(labels=['Seed'], inplace=True, axis=1)\n",
    "t_res.drop(labels=drop_lbls, inplace=True, axis=1)"
   ]
  },
  {
   "cell_type": "code",
   "execution_count": 5,
   "metadata": {
    "_uuid": "fa57e116888a27ff1183b3c2a60a21d7f85a53c6"
   },
   "outputs": [],
   "source": [
    "ren1 = {'TeamID':'WTeamID', 'seed_int':'WS'}\n",
    "ren2 = {'TeamID':'LTeamID', 'seed_int':'LS'}"
   ]
  },
  {
   "cell_type": "code",
   "execution_count": 6,
   "metadata": {
    "_uuid": "0cb520e34033eadc81670abd286bfd8e8a9480ea"
   },
   "outputs": [],
   "source": [
    "df1 = pd.merge(left=t_res, right=t_ds.rename(columns=ren1), how='left', on=['Season', 'WTeamID'])\n",
    "df2 = pd.merge(left=df1, right=t_ds.rename(columns=ren2), on=['Season', 'LTeamID'])\n",
    "\n",
    "df_w = pd.DataFrame()\n",
    "df_w['dff'] = df2.WS - df2.LS\n",
    "df_w['rsl'] = 1\n",
    "\n",
    "df_l = pd.DataFrame()\n",
    "df_l['dff'] = -df_w['dff']\n",
    "df_l['rsl'] = 0\n",
    "\n",
    "df_prd = pd.concat((df_w, df_l))"
   ]
  },
  {
   "cell_type": "code",
   "execution_count": 7,
   "metadata": {
    "_uuid": "b92d749f664cbd102a1636574ae9dfe34f65dcf2"
   },
   "outputs": [],
   "source": [
    "X = df_prd.dff.values.reshape(-1,1)\n",
    "y = df_prd.rsl.values"
   ]
  },
  {
   "cell_type": "code",
   "execution_count": 8,
   "metadata": {
    "_uuid": "41f82f8fb0a2b837c2c555243dd8bee6f585320a"
   },
   "outputs": [],
   "source": [
    "X_test = np.zeros(shape=(len(sub), 1))"
   ]
  },
  {
   "cell_type": "code",
   "execution_count": 9,
   "metadata": {
    "_uuid": "d4e4e6af3f7a8d7b564bb2a178bdebbb66efbc2f"
   },
   "outputs": [],
   "source": [
    "for ind, row in sub.iterrows():\n",
    "    yr, o, t = [int(x) for x in row.ID.split('_')]  \n",
    "    X_test[ind, 0] = t_ds[(t_ds.TeamID == o) & (t_ds.Season == yr)].seed_int.values[0] - t_ds[(t_ds.TeamID == t) & (t_ds.Season == yr)].seed_int.values[0]"
   ]
  },
  {
   "cell_type": "code",
   "execution_count": 10,
   "metadata": {
    "_uuid": "383d735a1443b75ed8760b6ce51eade6c89830e5"
   },
   "outputs": [],
   "source": [
    "X_train, X_val, y_train, y_val = train_test_split(X, y, test_size=0.1, random_state=0)"
   ]
  },
  {
   "cell_type": "code",
   "execution_count": 11,
   "metadata": {
    "_uuid": "3afda011ee5b942352c3534ddd6e761d25c5ec96"
   },
   "outputs": [
    {
     "name": "stdout",
     "output_type": "stream",
     "text": [
      "Training until validation scores don't improve for 50 rounds.\n",
      "[200]\tvalid_0's binary_logloss: 0.438172\n",
      "[400]\tvalid_0's binary_logloss: 0.417364\n",
      "[600]\tvalid_0's binary_logloss: 0.414828\n",
      "[800]\tvalid_0's binary_logloss: 0.41449\n",
      "Early stopping, best iteration is:\n",
      "[887]\tvalid_0's binary_logloss: 0.41447\n"
     ]
    }
   ],
   "source": [
    "params = {\"objective\": \"binary\",\n",
    "          \"boosting_type\": \"gbdt\",\n",
    "          \"learning_rate\": 0.01,\n",
    "          \"num_leaves\": 31,\n",
    "          \"min_data_in_leaf\": 10,\n",
    "          \"min_child_samples\": 10,\n",
    "          }\n",
    "\n",
    "dtrain = lgb.Dataset(X_train, y_train)\n",
    "dvalid = lgb.Dataset(X_val, y_val, reference=dtrain)\n",
    "bst = lgb.train(params, dtrain, 1000, valid_sets=dvalid, verbose_eval=200,\n",
    "    early_stopping_rounds=50)"
   ]
  },
  {
   "cell_type": "code",
   "execution_count": 12,
   "metadata": {
    "_uuid": "7beaefe3df13c8a626144a7564b67b804d43d8ca"
   },
   "outputs": [],
   "source": [
    "test_pred = bst.predict(\n",
    "    X_test, num_iteration=bst.best_iteration)"
   ]
  },
  {
   "cell_type": "code",
   "execution_count": 13,
   "metadata": {
    "_uuid": "465d6da827aca0303d7e34ce43db756523e9b0f6"
   },
   "outputs": [],
   "source": [
    "sub.Pred = test_pred   \n",
    "sub.to_csv('sub.csv', index=False)"
   ]
  }
 ],
 "metadata": {
  "kernelspec": {
   "display_name": "Python 3",
   "language": "python",
   "name": "python3"
  },
  "language_info": {
   "codemirror_mode": {
    "name": "ipython",
    "version": 3
   },
   "file_extension": ".py",
   "mimetype": "text/x-python",
   "name": "python",
   "nbconvert_exporter": "python",
   "pygments_lexer": "ipython3",
   "version": "3.6.6"
  }
 },
 "nbformat": 4,
 "nbformat_minor": 1
}

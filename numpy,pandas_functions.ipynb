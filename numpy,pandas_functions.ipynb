{
 "cells": [
  {
   "cell_type": "markdown",
   "metadata": {},
   "source": [
    "# probability plot"
   ]
  },
  {
   "cell_type": "code",
   "execution_count": 1,
   "metadata": {},
   "outputs": [
    {
     "data": {
      "image/png": "[encoded data removed]",
      "text/plain": [
       "<Figure size 432x288 with 1 Axes>"
      ]
     },
     "metadata": {
      "needs_background": "light"
     },
     "output_type": "display_data"
    }
   ],
   "source": [
    "import numpy\n",
    "from scipy import stats\n",
    "import seaborn as sns\n",
    "import matplotlib.pyplot as plt\n",
    "import pandas as pd\n",
    "\n",
    "data = numpy.random.random((100,1))\n",
    "data.sort(0)\n",
    "data_standardized = (data - data.mean())/data.std()  # already sorted\n",
    "\n",
    "# alternatively, can use zscore function, does the same standardization\n",
    "data_standardized_zscore = stats.zscore(data)  # already sorted\n",
    "\n",
    "df = pd.DataFrame({'data': data[:,0], 'data_standardized': data_standardized[:,0]})\n",
    "\n",
    "%matplotlib inline\n",
    "plt.close(\"all\")\n",
    "ax = sns.lineplot(x='data_standardized', y='data', data=df)\n",
    "plt.show()\n",
    "\n"
   ]
  },
  {
   "cell_type": "markdown",
   "metadata": {},
   "source": [
    "# norm prices"
   ]
  },
  {
   "cell_type": "code",
   "execution_count": 2,
   "metadata": {},
   "outputs": [
    {
     "name": "stdout",
     "output_type": "stream",
     "text": [
      "        SPY  AAPL       HNZ       XOM  GLD\n",
      "0  1.000000   0.0  1.000000  1.000000  1.0\n",
      "1  0.998848   0.0  0.996171  0.999866  0.0\n",
      "[[[[1. 1. 1. 1. 1.]\n",
      "   [1. 1. 1. 1. 1.]\n",
      "   [1. 1. 1. 1. 1.]\n",
      "   [1. 1. 1. 1. 1.]]\n",
      "\n",
      "  [[1. 1. 1. 1. 1.]\n",
      "   [1. 1. 1. 1. 1.]\n",
      "   [1. 1. 1. 1. 1.]\n",
      "   [1. 1. 1. 1. 1.]]\n",
      "\n",
      "  [[1. 1. 1. 1. 1.]\n",
      "   [1. 1. 1. 1. 1.]\n",
      "   [1. 1. 1. 1. 1.]\n",
      "   [1. 1. 1. 1. 1.]]]\n",
      "\n",
      "\n",
      " [[[1. 1. 1. 1. 1.]\n",
      "   [1. 1. 1. 1. 1.]\n",
      "   [1. 1. 1. 1. 1.]\n",
      "   [1. 1. 1. 1. 1.]]\n",
      "\n",
      "  [[1. 1. 1. 1. 1.]\n",
      "   [1. 1. 1. 1. 1.]\n",
      "   [1. 1. 1. 1. 1.]\n",
      "   [1. 1. 1. 1. 1.]]\n",
      "\n",
      "  [[1. 1. 1. 1. 1.]\n",
      "   [1. 1. 1. 1. 1.]\n",
      "   [1. 1. 1. 1. 1.]\n",
      "   [1. 1. 1. 1. 1.]]]]\n"
     ]
    }
   ],
   "source": [
    "import pandas as pd\n",
    "import numpy as np\n",
    "d = {\"SPY\" : [86.80, 86.70, 87.28, 84.67, 85.01],\n",
    "    \"AAPL\": [90.36, 94.18, 92.62, 90.62, 92.30],\n",
    "    \"HNZ\" : [33.95, 33.82, 33.38, 32.59, 31.99],\n",
    "    \"XOM\" : [74.48, 74.47, 73.26, 71.39, 85.13],\n",
    "    \"GLD\" : [86.23, 0, 85.13, 82.75, 84.46]}\n",
    "\n",
    "df = pd.DataFrame(d)\n",
    "\n",
    "# .loc for label based indexing or\n",
    "# .iloc for positional indexing\n",
    "\n",
    "normed = df/df.iloc[0]\n",
    "normed['AAPL'] = np.nan\n",
    "normed = normed.fillna(value=0)\n",
    "print(normed[0:2])"
   ]
  },
  {
   "cell_type": "markdown",
   "metadata": {},
   "source": [
    "# dataframe functions"
   ]
  },
  {
   "cell_type": "code",
   "execution_count": 3,
   "metadata": {},
   "outputs": [
    {
     "name": "stdout",
     "output_type": "stream",
     "text": [
      "     0  1  2\n",
      "0    1  0 -5\n",
      "1  !1!  0 -1\n",
      "2    1  4  0\n",
      "     0    1    2\n",
      "0    1    0  !2!\n",
      "1  !2!    0   -1\n",
      "2    1  !2!    0\n"
     ]
    }
   ],
   "source": [
    "import pandas as pd\n",
    "import numpy as np\n",
    "\n",
    "f = lambda x: np.abs(x)>1\n",
    "\n",
    "df1 = pd.DataFrame([[1,0,-5],[2,0,-1],[1,4,0]])\n",
    "df1[0][f(df1[0])] = \"!1!\"\n",
    "print(df1)\n",
    "\n",
    "df2 = pd.DataFrame([[1,0,-5],[2,0,-1],[1,4,0]])\n",
    "df2[f(df2)] = \"!2!\"\n",
    "print(df2)"
   ]
  },
  {
   "cell_type": "markdown",
   "metadata": {},
   "source": [
    "# numpy operations"
   ]
  },
  {
   "cell_type": "code",
   "execution_count": 13,
   "metadata": {},
   "outputs": [
    {
     "name": "stdout",
     "output_type": "stream",
     "text": [
      "[2 2 2 2]\n",
      "[2 2 2 2 1 2 3 4 5 6 7]\n",
      "[3.5, 3.0, 2.5, 2.0, 1.5, 1.0]\n"
     ]
    }
   ],
   "source": [
    "import numpy as np\n",
    "\n",
    "a = np.array([2]*4)\n",
    "print(a)\n",
    "b = np.array([1, 2, 3, 4, 5, 6, 7])\n",
    "print(np.concatenate((a, b)))\n",
    "\n",
    "j = [8, 7, 6, 5, 4, 3, 2, 1]\n",
    "print ([x/j[-2] for x in j[1:-1]])\n"
   ]
  },
  {
   "cell_type": "markdown",
   "metadata": {},
   "source": [
    "# parse numpy"
   ]
  },
  {
   "cell_type": "code",
   "execution_count": 5,
   "metadata": {},
   "outputs": [
    {
     "name": "stdout",
     "output_type": "stream",
     "text": [
      "x[0:2,[0,2]] [[1 3]\n",
      " [4 6]]\n",
      "x[0:2,1:2] [[2]\n",
      " [5]]\n"
     ]
    }
   ],
   "source": [
    "import numpy as np\n",
    "import pandas as pd\n",
    "\n",
    "x = np.array([[1,2,3,4],\n",
    "             [4,5,6,7],\n",
    "             [8,9,0,1]])\n",
    "\n",
    "print ('x[0:2,[0,2]]', x[0:2,[0,2]])\n",
    "\n",
    "print ('x[0:2,1:2]', x[0:2,1:2])"
   ]
  },
  {
   "cell_type": "markdown",
   "metadata": {},
   "source": [
    "# change index"
   ]
  },
  {
   "cell_type": "code",
   "execution_count": 4,
   "metadata": {},
   "outputs": [
    {
     "name": "stdout",
     "output_type": "stream",
     "text": [
      "            count\n",
      "Date             \n",
      "2015-01-01      0\n",
      "2015-01-02      1\n",
      "2015-01-03      2\n",
      "2015-01-04      3\n",
      "            Date\n",
      "count           \n",
      "0     2015-01-01\n",
      "1     2015-01-02\n",
      "2     2015-01-03\n",
      "3     2015-01-04\n"
     ]
    }
   ],
   "source": [
    "import numpy as np\n",
    "import pandas as pd\n",
    "\n",
    "dates = pd.date_range('2015-01-01', '2015-01-04', name='Date')\n",
    "df = pd.DataFrame(index=dates)\n",
    "df['count'] = [i for i in range(len(df))]\n",
    "\n",
    "print (df)\n",
    "\n",
    "df = df.reset_index(['Date'])\n",
    "df.set_index('count', inplace=True)\n",
    "\n",
    "print (df)"
   ]
  },
  {
   "cell_type": "markdown",
   "metadata": {},
   "source": [
    "# numpy/pandas aggregation"
   ]
  },
  {
   "cell_type": "code",
   "execution_count": 7,
   "metadata": {},
   "outputs": [
    {
     "name": "stdout",
     "output_type": "stream",
     "text": [
      "Matrix a is  [[8 2 0]\n",
      " [0 3 9]\n",
      " [8 2 9]]\n",
      "min is [0 2 0]\n",
      "mean is [5.33333333 2.33333333 6.        ]\n",
      "          Coffee     Donuts     Bagels\n",
      "Sun    43.673896  49.933382  67.130574\n",
      "Mon    64.776749  93.830667  91.929947\n",
      "Tues   32.019656  80.228009  44.277023\n",
      "Wed    69.714534  80.524808   3.342842\n",
      "Thurs  93.749022  65.058449  45.491055\n",
      "Fri    17.045941  47.321320  28.674118\n",
      "Sat    30.070772  37.338195  27.716826\n",
      "Coffee    351.050569\n",
      "Donuts    454.234830\n",
      "Bagels    308.562386\n",
      "dtype: float64\n"
     ]
    }
   ],
   "source": [
    "import numpy as np\n",
    "import pandas as pd\n",
    "\n",
    "#18\n",
    "a = np.random.randint(0,10,size=(3,3))\n",
    "print (\"Matrix a is \",a)\n",
    "value = a.min(axis = 0)\n",
    "print (\"min is\", value)\n",
    "\n",
    "value = a.mean(axis = 0)\n",
    "print (\"mean is\", value)\n",
    "\n",
    "\n",
    "weekSales =  pd.DataFrame(np.random.random([7,3])*100,\n",
    "            index=['Sun', 'Mon', 'Tues', 'Wed', 'Thurs', 'Fri', 'Sat'],\n",
    "            columns=['Coffee', 'Donuts', 'Bagels'])\n",
    "\n",
    "print (weekSales)\n",
    "print (weekSales.sum(axis=0))"
   ]
  },
  {
   "cell_type": "markdown",
   "metadata": {},
   "source": [
    "# parsing multidimensional array"
   ]
  },
  {
   "cell_type": "code",
   "execution_count": 15,
   "metadata": {},
   "outputs": [
    {
     "name": "stdout",
     "output_type": "stream",
     "text": [
      "[[[1 2]\n",
      "  [3 4]]\n",
      "\n",
      " [[5 6]\n",
      "  [7 8]]]\n",
      "[[1 3]\n",
      " [5 7]]\n"
     ]
    }
   ],
   "source": [
    "import numpy as np\n",
    "\n",
    "ary = np.array([[[1, 2], [3, 4]], [[5, 6], [7,8]]])\n",
    "print(ary)\n",
    "print(ary[:, :, 0])"
   ]
  },
  {
   "cell_type": "markdown",
   "metadata": {},
   "source": [
    "# parsing in increments"
   ]
  },
  {
   "cell_type": "code",
   "execution_count": 16,
   "metadata": {},
   "outputs": [
    {
     "name": "stdout",
     "output_type": "stream",
     "text": [
      "[[ 2  4]\n",
      " [ 7  9]\n",
      " [12 14]\n",
      " [17 19]\n",
      " [22 24]]\n"
     ]
    }
   ],
   "source": [
    "import numpy as np\n",
    "\n",
    "a = np.array([[1,2,3,4,5],\n",
    "             [6,7,8,9,10],\n",
    "             [11,12,13,14,15],\n",
    "             [16,17,18,19,20],\n",
    "             [21,22,23,24,25]])\n",
    "\n",
    "print(a[:,1:5:2])"
   ]
  },
  {
   "cell_type": "markdown",
   "metadata": {},
   "source": [
    "# multiplication"
   ]
  },
  {
   "cell_type": "code",
   "execution_count": 127,
   "metadata": {},
   "outputs": [
    {
     "name": "stdout",
     "output_type": "stream",
     "text": [
      "[[2. 2. 2.]\n",
      " [2. 2. 2.]\n",
      " [2. 2. 2.]]\n",
      "[[12. 12. 12.]\n",
      " [12. 12. 12.]\n",
      " [12. 12. 12.]]\n",
      "[[24. 24. 24.]\n",
      " [24. 24. 24.]\n",
      " [24. 24. 24.]]\n",
      "[[24. 24. 24.]\n",
      " [24. 24. 24.]\n",
      " [24. 24. 24.]]\n"
     ]
    }
   ],
   "source": [
    "import numpy as np\n",
    "a=np.ones((3,3))*2\n",
    "print(a)\n",
    "\n",
    "b=a.dot(a)\n",
    "print(b)\n",
    "\n",
    "c = np.multiply(a, b)\n",
    "print(c)\n",
    "\n",
    "d = a * b\n",
    "print(d)"
   ]
  },
  {
   "cell_type": "markdown",
   "metadata": {},
   "source": [
    "# join"
   ]
  },
  {
   "cell_type": "code",
   "execution_count": 23,
   "metadata": {},
   "outputs": [
    {
     "name": "stdout",
     "output_type": "stream",
     "text": [
      "13\n"
     ]
    }
   ],
   "source": [
    "df1 = pd.DataFrame( {'var1': [1,2,3,4,5], 'var2': [11,12,13,14,15]}, index = ['cat','dog', 'bird', 'fish', 'turtle'] )\n",
    "df2 = pd.DataFrame( {'var3': [101,102,103,104,105]}, index = ['dog', 'bird', 'cat', 'turtle', 'fish'] )\n",
    "df3 = df1.join(df2, how='left')\n",
    "print (df3.loc['bird','var2'])"
   ]
  },
  {
   "cell_type": "markdown",
   "metadata": {},
   "source": [
    "# filling values"
   ]
  },
  {
   "cell_type": "code",
   "execution_count": 35,
   "metadata": {},
   "outputs": [
    {
     "name": "stdout",
     "output_type": "stream",
     "text": [
      "              a         b         c\n",
      "count  5.000000  5.000000  5.000000\n",
      "mean   0.706771 -1.055741  0.050199\n",
      "std    1.297262  0.619317  0.549231\n",
      "min   -0.957049 -1.659872 -0.771095\n",
      "25%    0.440449 -1.563626 -0.135997\n",
      "50%    0.616213 -1.013717  0.126084\n",
      "75%    0.757298 -0.931286  0.346106\n",
      "max    2.676943 -0.110205  0.685894\n",
      "                   a         b         c\n",
      "2013-01-01       NaN       NaN       NaN\n",
      "2013-01-02  0.757298 -1.013717  0.126084\n",
      "                   a         b         c\n",
      "2013-01-08  2.676943 -0.110205 -0.135997\n",
      "2013-01-09       NaN       NaN       NaN\n",
      "                   a         b         c\n",
      "2013-01-01       NaN       NaN       NaN\n",
      "2013-01-02  0.757298 -1.013717  0.126084\n",
      "2013-01-03 -0.957049 -0.931286  0.685894\n",
      "2013-01-04  0.616213 -1.563626  0.346106\n",
      "2013-01-05  0.440449 -1.659872 -0.771095\n",
      "2013-01-07       NaN       NaN       NaN\n",
      "2013-01-08  2.676943 -0.110205 -0.135997\n",
      "2013-01-09       NaN       NaN       NaN\n",
      "                   a         b         c\n",
      "2013-01-01  0.757298 -1.013717  0.126084\n",
      "2013-01-02  0.757298 -1.013717  0.126084\n",
      "2013-01-03 -0.957049 -0.931286  0.685894\n",
      "2013-01-04  0.616213 -1.563626  0.346106\n",
      "2013-01-05  0.440449 -1.659872 -0.771095\n",
      "2013-01-07  0.440449 -1.659872 -0.771095\n",
      "2013-01-08  2.676943 -0.110205 -0.135997\n",
      "2013-01-09  2.676943 -0.110205 -0.135997\n"
     ]
    }
   ],
   "source": [
    "import pandas as pd\n",
    "import numpy as np\n",
    "df = pd.DataFrame(np.random.randn(5, 3), index=['2013-01-02', '2013-01-03', '2013-01-04', '2013-01-05', '2013-01-08'], columns=['a', 'b', 'c'])\n",
    "df = df.reindex(['2013-01-01', '2013-01-02', '2013-01-03', '2013-01-04', '2013-01-05','2013-01-07', '2013-01-08', '2013-01-09'])\n",
    "\n",
    "print(df.describe())\n",
    "print(df.head(2))\n",
    "print(df.tail(2))\n",
    "\n",
    "print (df)\n",
    "df.fillna(method='ffill', inplace=True)\n",
    "df.fillna(method='bfill', inplace=True)\n",
    "print (df)\n",
    "\n"
   ]
  },
  {
   "cell_type": "markdown",
   "metadata": {},
   "source": [
    "# dataframes need .copy() function like ndarrays and lists"
   ]
  },
  {
   "cell_type": "code",
   "execution_count": 31,
   "metadata": {},
   "outputs": [
    {
     "name": "stdout",
     "output_type": "stream",
     "text": [
      "    Type\n",
      "0  Stock\n",
      "1   None\n",
      "    Type\n",
      "0  Stock\n",
      "1    ETF\n",
      "          Type\n",
      "0        Stock\n",
      "1  Mutual Fund\n",
      "          Type\n",
      "0        Stock\n",
      "1  Mutual Fund\n"
     ]
    }
   ],
   "source": [
    "import pandas as pd\n",
    "\n",
    "df1 = pd.DataFrame({'Type': [\"Stock\", None]})\n",
    "df2 = df1.copy()\n",
    "df2.fillna(\"ETF\", inplace=True)\n",
    "print (df1)\n",
    "print (df2)\n",
    "\n",
    "df1 = pd.DataFrame({'Type': [\"Stock\", None]})\n",
    "df2 = df1\n",
    "df1.fillna(\"Mutual Fund\", inplace=True)\n",
    "print (df1)\n",
    "print (df2)\n",
    "\n"
   ]
  },
  {
   "cell_type": "markdown",
   "metadata": {},
   "source": [
    "# concat"
   ]
  },
  {
   "cell_type": "code",
   "execution_count": 65,
   "metadata": {},
   "outputs": [
    {
     "name": "stdout",
     "output_type": "stream",
     "text": [
      "    A   B   C   D\n",
      "0  A0  B0  C0  D0\n",
      "1  A1  B1  C1  D1\n",
      "2  A2  B2  C2  D2\n",
      "3  A3  B3  C3  D3\n",
      "    B   D   F\n",
      "2  B2  D2  F2\n",
      "3  B3  D3  F3\n",
      "6  B6  D6  F6\n",
      "7  B7  D7  F7\n",
      "     A   B    C   D    F\n",
      "0   A0  B0   C0  D0  NaN\n",
      "1   A1  B1   C1  D1  NaN\n",
      "2   A2  B2   C2  D2  NaN\n",
      "3   A3  B3   C3  D3  NaN\n",
      "2  NaN  B2  NaN  D2   F2\n",
      "3  NaN  B3  NaN  D3   F3\n",
      "6  NaN  B6  NaN  D6   F6\n",
      "7  NaN  B7  NaN  D7   F7\n",
      "    A   B   C   D   B   D   F\n",
      "2  A2  B2  C2  D2  B2  D2  F2\n",
      "3  A3  B3  C3  D3  B3  D3  F3\n",
      "       A   B    C   D    F\n",
      "x 0   A0  B0   C0  D0  NaN\n",
      "  1   A1  B1   C1  D1  NaN\n",
      "  2   A2  B2   C2  D2  NaN\n",
      "  3   A3  B3   C3  D3  NaN\n",
      "y 2  NaN  B2  NaN  D2   F2\n",
      "  3  NaN  B3  NaN  D3   F3\n",
      "  6  NaN  B6  NaN  D6   F6\n",
      "  7  NaN  B7  NaN  D7   F7\n",
      "     A   B    C   D   F\n",
      "2  NaN  B2  NaN  D2  F2\n",
      "3  NaN  B3  NaN  D3  F3\n",
      "6  NaN  B6  NaN  D6  F6\n",
      "7  NaN  B7  NaN  D7  F7\n"
     ]
    }
   ],
   "source": [
    "import pandas as pd\n",
    "\n",
    "# https://pandas.pydata.org/pandas-docs/stable/user_guide/merging.html\n",
    "\n",
    "df1 = pd.DataFrame({'A': ['A0', 'A1', 'A2', 'A3'],\n",
    "        'B': ['B0', 'B1', 'B2', 'B3'],\n",
    "        'C': ['C0', 'C1', 'C2', 'C3'],\n",
    "        'D': ['D0', 'D1', 'D2', 'D3']},\n",
    "        index=[0, 1, 2, 3])\n",
    "print(df1)\n",
    "\n",
    "df2 = pd.DataFrame({'B': ['B2', 'B3', 'B6', 'B7'],\n",
    "        'D': ['D2', 'D3', 'D6', 'D7'],\n",
    "        'F': ['F2', 'F3', 'F6', 'F7']},\n",
    "        index=[2, 3, 6, 7])\n",
    "print(df2)\n",
    "\n",
    "frames = [df1, df2]\n",
    "print(pd.concat(frames, sort=False))\n",
    "print(pd.concat(frames, axis=1, join=\"inner\"))\n",
    "\n",
    "result = pd.concat(frames, keys=['x', 'y'], sort=False)\n",
    "print(result)\n",
    "print(result.loc['y'])"
   ]
  },
  {
   "cell_type": "markdown",
   "metadata": {},
   "source": [
    "# merge"
   ]
  },
  {
   "cell_type": "code",
   "execution_count": 66,
   "metadata": {},
   "outputs": [
    {
     "name": "stdout",
     "output_type": "stream",
     "text": [
      "    A   B   C   D\n",
      "0  A0  B0  C0  D0\n",
      "1  A1  B1  C1  D1\n",
      "2  A2  B2  C2  D2\n",
      "3  A3  B3  C3  D3\n",
      "    B   D   F\n",
      "2  B2  D2  F2\n",
      "3  B3  D3  F3\n",
      "6  B6  D6  F6\n",
      "7  B7  D7  F7\n",
      "     A  B_x    C   D B_y   F\n",
      "0   A2   B2   C2  D2  B2  F2\n",
      "1   A3   B3   C3  D3  B3  F3\n",
      "2  NaN  NaN  NaN  D6  B6  F6\n",
      "3  NaN  NaN  NaN  D7  B7  F7\n"
     ]
    }
   ],
   "source": [
    "import pandas as pd\n",
    "\n",
    "# https://pandas.pydata.org/pandas-docs/stable/user_guide/merging.html\n",
    "\n",
    "df1 = pd.DataFrame({'A': ['A0', 'A1', 'A2', 'A3'],\n",
    "        'B': ['B0', 'B1', 'B2', 'B3'],\n",
    "        'C': ['C0', 'C1', 'C2', 'C3'],\n",
    "        'D': ['D0', 'D1', 'D2', 'D3']},\n",
    "        index=[0, 1, 2, 3])\n",
    "print(df1)\n",
    "\n",
    "df2 = pd.DataFrame({'B': ['B2', 'B3', 'B6', 'B7'],\n",
    "        'D': ['D2', 'D3', 'D6', 'D7'],\n",
    "        'F': ['F2', 'F3', 'F6', 'F7']},\n",
    "        index=[2, 3, 6, 7])\n",
    "print(df2)\n",
    "\n",
    "result = pd.merge(df1, df2, how='right', on=['D', 'D'])\n",
    "# can add this to ensure keys on both sides are the same: \"validate='one_to_one'\"\n",
    "print(result)"
   ]
  },
  {
   "cell_type": "markdown",
   "metadata": {},
   "source": [
    "# join"
   ]
  },
  {
   "cell_type": "code",
   "execution_count": 69,
   "metadata": {},
   "outputs": [
    {
     "name": "stdout",
     "output_type": "stream",
     "text": [
      "     A   B\n",
      "K0  A0  B0\n",
      "K1  A1  B1\n",
      "K2  A2  B2\n",
      "     C   D\n",
      "K0  C0  D0\n",
      "K2  C2  D2\n",
      "K3  C3  D3\n",
      "      A    B    C    D\n",
      "K0   A0   B0   C0   D0\n",
      "K1   A1   B1  NaN  NaN\n",
      "K2   A2   B2   C2   D2\n",
      "K3  NaN  NaN   C3   D3\n"
     ]
    }
   ],
   "source": [
    "import pandas as pd\n",
    "\n",
    "# https://pandas.pydata.org/pandas-docs/stable/user_guide/merging.html\n",
    "\n",
    "\n",
    "left = pd.DataFrame({'A': ['A0', 'A1', 'A2'],\n",
    "                     'B': ['B0', 'B1', 'B2']},\n",
    "                    index=['K0', 'K1', 'K2'])\n",
    "\n",
    "print(left)\n",
    "right = pd.DataFrame({'C': ['C0', 'C2', 'C3'],\n",
    "                       'D': ['D0', 'D2', 'D3']},\n",
    "                      index=['K0', 'K2', 'K3'])\n",
    "print(right)\n",
    "\n",
    "result = left.join(right, how='outer')\n",
    "print(result)"
   ]
  },
  {
   "cell_type": "markdown",
   "metadata": {},
   "source": [
    "# groupby"
   ]
  },
  {
   "cell_type": "code",
   "execution_count": 78,
   "metadata": {},
   "outputs": [
    {
     "name": "stdout",
     "output_type": "stream",
     "text": [
      "       B         C         D\n",
      "0    one -0.366154  0.267009\n",
      "1    one -0.301409 -0.195599\n",
      "2    two  0.745095  0.657402\n",
      "3  three  0.495083 -1.074915\n",
      "4    two -0.026693  0.800519\n",
      "5    two -0.012856 -1.480661\n",
      "6    one  1.380933  1.263056\n",
      "7  three  0.435191 -0.050741 \n",
      "\n",
      "\n",
      "     A\n",
      "0  foo\n",
      "1  bar\n",
      "2  foo\n",
      "3  bar\n",
      "4  foo\n",
      "5  bar\n",
      "6  foo\n",
      "7  foo \n",
      "\n",
      "\n",
      "            count       mean       std       min        25%       50%  \\\n",
      "consonant C     8   0.293649  0.589503 -0.366154 -0.0953723  0.211168   \n",
      "          D     8  0.0232588  0.935332  -1.48066  -0.415428  0.108134   \n",
      "vowel     A     8        NaN       NaN       NaN        NaN       NaN   \n",
      "\n",
      "                  75%      max unique  top freq  \n",
      "consonant C  0.557586  1.38093    NaN  NaN  NaN  \n",
      "          D  0.693181  1.26306    NaN  NaN  NaN  \n",
      "vowel     A       NaN      NaN      2  foo    5  \n"
     ]
    }
   ],
   "source": [
    "df = pd.DataFrame({'A' : ['foo', 'bar', 'foo', 'bar',\n",
    "                           'foo', 'bar', 'foo', 'foo'],\n",
    "                    'B' : ['one', 'one', 'two', 'three',\n",
    "                           'two', 'two', 'one', 'three'],\n",
    "                    'C' : np.random.randn(8),\n",
    "                    'D' : np.random.randn(8)})\n",
    "\n",
    "def get_letter_type(letter):\n",
    "     if letter.lower() in 'aeiou':\n",
    "        return 'vowel'\n",
    "     else:\n",
    "        return 'consonant'\n",
    "    \n",
    "grouped = df.groupby(get_letter_type, axis=1)\n",
    "\n",
    "for key, item in grouped:\n",
    "    print(grouped.get_group(key), \"\\n\\n\")\n",
    "    \n",
    "print(grouped.describe())"
   ]
  },
  {
   "cell_type": "markdown",
   "metadata": {},
   "source": [
    "# groupby 2"
   ]
  },
  {
   "cell_type": "code",
   "execution_count": 88,
   "metadata": {},
   "outputs": [
    {
     "data": {
      "text/html": [
       "<div>\n",
       "<style scoped>\n",
       "    .dataframe tbody tr th:only-of-type {\n",
       "        vertical-align: middle;\n",
       "    }\n",
       "\n",
       "    .dataframe tbody tr th {\n",
       "        vertical-align: top;\n",
       "    }\n",
       "\n",
       "    .dataframe thead tr th {\n",
       "        text-align: left;\n",
       "    }\n",
       "\n",
       "    .dataframe thead tr:last-of-type th {\n",
       "        text-align: right;\n",
       "    }\n",
       "</style>\n",
       "<table border=\"1\" class=\"dataframe\">\n",
       "  <thead>\n",
       "    <tr>\n",
       "      <th></th>\n",
       "      <th></th>\n",
       "      <th colspan=\"2\" halign=\"left\">tip</th>\n",
       "    </tr>\n",
       "    <tr>\n",
       "      <th></th>\n",
       "      <th></th>\n",
       "      <th>size</th>\n",
       "      <th>mean</th>\n",
       "    </tr>\n",
       "    <tr>\n",
       "      <th>smoker</th>\n",
       "      <th>day</th>\n",
       "      <th></th>\n",
       "      <th></th>\n",
       "    </tr>\n",
       "  </thead>\n",
       "  <tbody>\n",
       "    <tr>\n",
       "      <th rowspan=\"4\" valign=\"top\">No</th>\n",
       "      <th>Fri</th>\n",
       "      <td>4.0</td>\n",
       "      <td>2.812500</td>\n",
       "    </tr>\n",
       "    <tr>\n",
       "      <th>Sat</th>\n",
       "      <td>45.0</td>\n",
       "      <td>3.102889</td>\n",
       "    </tr>\n",
       "    <tr>\n",
       "      <th>Sun</th>\n",
       "      <td>57.0</td>\n",
       "      <td>3.167895</td>\n",
       "    </tr>\n",
       "    <tr>\n",
       "      <th>Thur</th>\n",
       "      <td>45.0</td>\n",
       "      <td>2.673778</td>\n",
       "    </tr>\n",
       "    <tr>\n",
       "      <th rowspan=\"4\" valign=\"top\">Yes</th>\n",
       "      <th>Fri</th>\n",
       "      <td>15.0</td>\n",
       "      <td>2.714000</td>\n",
       "    </tr>\n",
       "    <tr>\n",
       "      <th>Sat</th>\n",
       "      <td>42.0</td>\n",
       "      <td>2.875476</td>\n",
       "    </tr>\n",
       "    <tr>\n",
       "      <th>Sun</th>\n",
       "      <td>19.0</td>\n",
       "      <td>3.516842</td>\n",
       "    </tr>\n",
       "    <tr>\n",
       "      <th>Thur</th>\n",
       "      <td>17.0</td>\n",
       "      <td>3.030000</td>\n",
       "    </tr>\n",
       "  </tbody>\n",
       "</table>\n",
       "</div>"
      ],
      "text/plain": [
       "              tip          \n",
       "             size      mean\n",
       "smoker day                 \n",
       "No     Fri    4.0  2.812500\n",
       "       Sat   45.0  3.102889\n",
       "       Sun   57.0  3.167895\n",
       "       Thur  45.0  2.673778\n",
       "Yes    Fri   15.0  2.714000\n",
       "       Sat   42.0  2.875476\n",
       "       Sun   19.0  3.516842\n",
       "       Thur  17.0  3.030000"
      ]
     },
     "execution_count": 88,
     "metadata": {},
     "output_type": "execute_result"
    }
   ],
   "source": [
    "# https://pandas.pydata.org/pandas-docs/stable/getting_started/comparison/comparison_with_sql.html\n",
    "import pandas as pd\n",
    "import numpy as np\n",
    "url = ('https://raw.github.com/pandas-dev/pandas/master/pandas/tests/data/tips.csv')\n",
    "tips = pd.read_csv(url)\n",
    "\n",
    "############ similar to:\n",
    "# SELECT smoker, day, COUNT(*), AVG(tip)\n",
    "# FROM tips\n",
    "# GROUP BY smoker, day;\n",
    "\n",
    "tips.groupby(['smoker', 'day']).agg({'tip': [np.size, np.mean]})"
   ]
  },
  {
   "cell_type": "markdown",
   "metadata": {},
   "source": [
    "# where"
   ]
  },
  {
   "cell_type": "code",
   "execution_count": 79,
   "metadata": {},
   "outputs": [
    {
     "data": {
      "text/html": [
       "<div>\n",
       "<style scoped>\n",
       "    .dataframe tbody tr th:only-of-type {\n",
       "        vertical-align: middle;\n",
       "    }\n",
       "\n",
       "    .dataframe tbody tr th {\n",
       "        vertical-align: top;\n",
       "    }\n",
       "\n",
       "    .dataframe thead th {\n",
       "        text-align: right;\n",
       "    }\n",
       "</style>\n",
       "<table border=\"1\" class=\"dataframe\">\n",
       "  <thead>\n",
       "    <tr style=\"text-align: right;\">\n",
       "      <th></th>\n",
       "      <th>total_bill</th>\n",
       "      <th>tip</th>\n",
       "      <th>sex</th>\n",
       "      <th>smoker</th>\n",
       "      <th>day</th>\n",
       "      <th>time</th>\n",
       "      <th>size</th>\n",
       "    </tr>\n",
       "  </thead>\n",
       "  <tbody>\n",
       "    <tr>\n",
       "      <th>59</th>\n",
       "      <td>48.27</td>\n",
       "      <td>6.73</td>\n",
       "      <td>Male</td>\n",
       "      <td>No</td>\n",
       "      <td>Sat</td>\n",
       "      <td>Dinner</td>\n",
       "      <td>4</td>\n",
       "    </tr>\n",
       "    <tr>\n",
       "      <th>125</th>\n",
       "      <td>29.80</td>\n",
       "      <td>4.20</td>\n",
       "      <td>Female</td>\n",
       "      <td>No</td>\n",
       "      <td>Thur</td>\n",
       "      <td>Lunch</td>\n",
       "      <td>6</td>\n",
       "    </tr>\n",
       "    <tr>\n",
       "      <th>141</th>\n",
       "      <td>34.30</td>\n",
       "      <td>6.70</td>\n",
       "      <td>Male</td>\n",
       "      <td>No</td>\n",
       "      <td>Thur</td>\n",
       "      <td>Lunch</td>\n",
       "      <td>6</td>\n",
       "    </tr>\n",
       "    <tr>\n",
       "      <th>142</th>\n",
       "      <td>41.19</td>\n",
       "      <td>5.00</td>\n",
       "      <td>Male</td>\n",
       "      <td>No</td>\n",
       "      <td>Thur</td>\n",
       "      <td>Lunch</td>\n",
       "      <td>5</td>\n",
       "    </tr>\n",
       "    <tr>\n",
       "      <th>143</th>\n",
       "      <td>27.05</td>\n",
       "      <td>5.00</td>\n",
       "      <td>Female</td>\n",
       "      <td>No</td>\n",
       "      <td>Thur</td>\n",
       "      <td>Lunch</td>\n",
       "      <td>6</td>\n",
       "    </tr>\n",
       "    <tr>\n",
       "      <th>155</th>\n",
       "      <td>29.85</td>\n",
       "      <td>5.14</td>\n",
       "      <td>Female</td>\n",
       "      <td>No</td>\n",
       "      <td>Sun</td>\n",
       "      <td>Dinner</td>\n",
       "      <td>5</td>\n",
       "    </tr>\n",
       "    <tr>\n",
       "      <th>156</th>\n",
       "      <td>48.17</td>\n",
       "      <td>5.00</td>\n",
       "      <td>Male</td>\n",
       "      <td>No</td>\n",
       "      <td>Sun</td>\n",
       "      <td>Dinner</td>\n",
       "      <td>6</td>\n",
       "    </tr>\n",
       "    <tr>\n",
       "      <th>170</th>\n",
       "      <td>50.81</td>\n",
       "      <td>10.00</td>\n",
       "      <td>Male</td>\n",
       "      <td>Yes</td>\n",
       "      <td>Sat</td>\n",
       "      <td>Dinner</td>\n",
       "      <td>3</td>\n",
       "    </tr>\n",
       "    <tr>\n",
       "      <th>182</th>\n",
       "      <td>45.35</td>\n",
       "      <td>3.50</td>\n",
       "      <td>Male</td>\n",
       "      <td>Yes</td>\n",
       "      <td>Sun</td>\n",
       "      <td>Dinner</td>\n",
       "      <td>3</td>\n",
       "    </tr>\n",
       "    <tr>\n",
       "      <th>185</th>\n",
       "      <td>20.69</td>\n",
       "      <td>5.00</td>\n",
       "      <td>Male</td>\n",
       "      <td>No</td>\n",
       "      <td>Sun</td>\n",
       "      <td>Dinner</td>\n",
       "      <td>5</td>\n",
       "    </tr>\n",
       "    <tr>\n",
       "      <th>187</th>\n",
       "      <td>30.46</td>\n",
       "      <td>2.00</td>\n",
       "      <td>Male</td>\n",
       "      <td>Yes</td>\n",
       "      <td>Sun</td>\n",
       "      <td>Dinner</td>\n",
       "      <td>5</td>\n",
       "    </tr>\n",
       "    <tr>\n",
       "      <th>212</th>\n",
       "      <td>48.33</td>\n",
       "      <td>9.00</td>\n",
       "      <td>Male</td>\n",
       "      <td>No</td>\n",
       "      <td>Sat</td>\n",
       "      <td>Dinner</td>\n",
       "      <td>4</td>\n",
       "    </tr>\n",
       "    <tr>\n",
       "      <th>216</th>\n",
       "      <td>28.15</td>\n",
       "      <td>3.00</td>\n",
       "      <td>Male</td>\n",
       "      <td>Yes</td>\n",
       "      <td>Sat</td>\n",
       "      <td>Dinner</td>\n",
       "      <td>5</td>\n",
       "    </tr>\n",
       "  </tbody>\n",
       "</table>\n",
       "</div>"
      ],
      "text/plain": [
       "     total_bill    tip     sex smoker   day    time  size\n",
       "59        48.27   6.73    Male     No   Sat  Dinner     4\n",
       "125       29.80   4.20  Female     No  Thur   Lunch     6\n",
       "141       34.30   6.70    Male     No  Thur   Lunch     6\n",
       "142       41.19   5.00    Male     No  Thur   Lunch     5\n",
       "143       27.05   5.00  Female     No  Thur   Lunch     6\n",
       "155       29.85   5.14  Female     No   Sun  Dinner     5\n",
       "156       48.17   5.00    Male     No   Sun  Dinner     6\n",
       "170       50.81  10.00    Male    Yes   Sat  Dinner     3\n",
       "182       45.35   3.50    Male    Yes   Sun  Dinner     3\n",
       "185       20.69   5.00    Male     No   Sun  Dinner     5\n",
       "187       30.46   2.00    Male    Yes   Sun  Dinner     5\n",
       "212       48.33   9.00    Male     No   Sat  Dinner     4\n",
       "216       28.15   3.00    Male    Yes   Sat  Dinner     5"
      ]
     },
     "execution_count": 79,
     "metadata": {},
     "output_type": "execute_result"
    }
   ],
   "source": [
    "# https://pandas.pydata.org/pandas-docs/stable/getting_started/comparison/comparison_with_sql.html\n",
    "import pandas as pd\n",
    "url = ('https://raw.github.com/pandas-dev/pandas/master/pandas/tests/data/tips.csv')\n",
    "tips = pd.read_csv(url)\n",
    "\n",
    "tips[(tips['size'] >= 5) | (tips['total_bill'] > 45)]"
   ]
  },
  {
   "cell_type": "markdown",
   "metadata": {},
   "source": [
    "# location"
   ]
  },
  {
   "cell_type": "code",
   "execution_count": 6,
   "metadata": {},
   "outputs": [
    {
     "name": "stdout",
     "output_type": "stream",
     "text": [
      "############# iloc #############\n",
      "\n",
      "       A   B   C   D\n",
      "zero  A0  B0  C0  D0\n",
      "one   A1  B1  C1  D1\n",
      "\n",
      "        A   B   C   D\n",
      "two    A2  B2  C2  D2\n",
      "three  A3  B3  C3  D3\n",
      "\n",
      "zero     C0\n",
      "one      C1\n",
      "two      C2\n",
      "three    C3\n",
      "Name: C, dtype: object\n",
      "\n",
      "       A   B   C\n",
      "zero  A0  B0  C0\n",
      "one   A1  B1  C1\n",
      "\n",
      "############# loc #############\n",
      "\n",
      "A    A0\n",
      "B    B0\n",
      "C    C0\n",
      "D    D0\n",
      "Name: zero, dtype: object\n",
      "\n",
      "        A   B   C   D\n",
      "one    A1  B1  C1  D1\n",
      "two    A2  B2  C2  D2\n",
      "three  A3  B3  C3  D3\n",
      "############# columns #############\n",
      "\n",
      "zero     B0\n",
      "one      B1\n",
      "two      B2\n",
      "three    B3\n",
      "Name: B, dtype: object\n",
      "\n",
      "        B   D\n",
      "zero   B0  D0\n",
      "one    B1  D1\n",
      "two    B2  D2\n",
      "three  B3  D3\n",
      "\n",
      "############# remove #############\n",
      "\n",
      "        A   C   D\n",
      "zero   A0  C0  D0\n",
      "one    A1  C1  D1\n",
      "two    A2  C2  D2\n",
      "three  A3  C3  D3\n",
      "\n",
      "        A   B   C   D\n",
      "zero   A0  B0  C0  D0\n",
      "one    A1  B1  C1  D1\n",
      "three  A3  B3  C3  D3\n"
     ]
    }
   ],
   "source": [
    "import pandas as pd\n",
    "df = pd.DataFrame({'A': ['A0', 'A1', 'A2', 'A3'],\n",
    "        'B': ['B0', 'B1', 'B2', 'B3'],\n",
    "        'C': ['C0', 'C1', 'C2', 'C3'],\n",
    "        'D': ['D0', 'D1', 'D2', 'D3']},\n",
    "        index=['zero', 'one', 'two', 'three'])\n",
    "\n",
    "print('############# iloc #############')\n",
    "print('')\n",
    "print(df.iloc[:2]) # rows\n",
    "print('')\n",
    "print(df.iloc[-2:]) # rows\n",
    "print('')\n",
    "print(df.iloc[:, 2]) # cols\n",
    "print('')\n",
    "print(df.iloc[:2, :3]) # upper left\n",
    "print('')\n",
    "\n",
    "print('############# loc #############')\n",
    "print('')\n",
    "print(df.loc['zero'])\n",
    "print('')\n",
    "print(df.loc['one':'three']) # careful, this is inclusive unlike the rest of python!\n",
    "\n",
    "print('############# columns #############')\n",
    "print('')\n",
    "print(df['B'])\n",
    "print('')\n",
    "print(df[['B', 'D']])\n",
    "print('')\n",
    "\n",
    "print('############# remove #############')\n",
    "print('')\n",
    "print(df.drop(\"B\", axis=1))\n",
    "print('')\n",
    "print(df.drop(\"two\", axis=0))"
   ]
  },
  {
   "cell_type": "markdown",
   "metadata": {},
   "source": [
    "# amax"
   ]
  },
  {
   "cell_type": "code",
   "execution_count": 136,
   "metadata": {},
   "outputs": [
    {
     "name": "stdout",
     "output_type": "stream",
     "text": [
      "[3 6 9]\n"
     ]
    }
   ],
   "source": [
    "import numpy as np\n",
    "\n",
    "x= np.array([[1,2,3],[4,5,6], [7,8,9]])\n",
    "\n",
    "y = np.amax(x, axis=1)\n",
    "print(y)"
   ]
  },
  {
   "cell_type": "markdown",
   "metadata": {},
   "source": [
    "# matrix"
   ]
  },
  {
   "cell_type": "code",
   "execution_count": 138,
   "metadata": {},
   "outputs": [
    {
     "name": "stdout",
     "output_type": "stream",
     "text": [
      "[[10  9  8]\n",
      " [ 6  5  4]]\n"
     ]
    }
   ],
   "source": [
    "import numpy as np\n",
    "\n",
    "a = np.matrix([[0,1,2,3],\n",
    "               [4,5,6,7],\n",
    "               [8,9,10,11],\n",
    "               [12,13,14,15]])\n",
    "\n",
    "a = a[::-1,::-1]\n",
    "\n",
    "print (a[1:3,1:])"
   ]
  },
  {
   "cell_type": "markdown",
   "metadata": {},
   "source": [
    "# shift"
   ]
  },
  {
   "cell_type": "code",
   "execution_count": 68,
   "metadata": {},
   "outputs": [
    {
     "name": "stdout",
     "output_type": "stream",
     "text": [
      "     A   B    C   D\n",
      "0  100   5  100  20\n",
      "1   60  15  300  20\n",
      "2   30  15  100  30\n",
      "3  130   5  200  30\n",
      "    A   B      C     D\n",
      "0 NaN NaN  100.0   5.0\n",
      "1 NaN NaN   60.0  15.0\n",
      "2 NaN NaN   30.0  15.0\n",
      "3 NaN NaN  130.0   5.0\n",
      "A     NaN\n",
      "B     NaN\n",
      "C    80.0\n",
      "D    10.0\n",
      "dtype: float64\n"
     ]
    }
   ],
   "source": [
    "import pandas as pd\n",
    "\n",
    "data = {'A': [100, 60, 30, 130],\n",
    "         'B': [5, 15, 15, 5],\n",
    "         'C': [100, 300, 100, 200],\n",
    "         'D': [20, 20, 30, 30]}\n",
    "df = pd.DataFrame(data)\n",
    "print(df)\n",
    "df = df.shift(2, axis=1)\n",
    "print(df)\n",
    "print(df.mean())"
   ]
  },
  {
   "cell_type": "markdown",
   "metadata": {},
   "source": [
    "# columns"
   ]
  },
  {
   "cell_type": "code",
   "execution_count": 17,
   "metadata": {},
   "outputs": [
    {
     "name": "stdout",
     "output_type": "stream",
     "text": [
      "['AU', 'Silver', 'USD', 'CAD', 'Copper']\n"
     ]
    }
   ],
   "source": [
    "import pandas as pd\n",
    "\n",
    "scala = pd.DataFrame(columns = ['Gold', 'Silver', 'USD', 'CAD'])\n",
    "scala = scala.dropna(subset=['USD'])\n",
    "scala = scala.rename(columns = {'Gold': 'AU'})\n",
    "scala = scala.join(pd.DataFrame(columns = ['Copper']), how = 'left')\n",
    "# joins rows together, all columns stay\n",
    "\n",
    "print(scala.columns.tolist())"
   ]
  },
  {
   "cell_type": "markdown",
   "metadata": {},
   "source": [
    "# reshape"
   ]
  },
  {
   "cell_type": "code",
   "execution_count": 31,
   "metadata": {},
   "outputs": [],
   "source": [
    "import pandas as pd\n",
    "\n",
    "# https://pandas.pydata.org/pandas-docs/stable/user_guide/reshaping.html#\n",
    "\n"
   ]
  },
  {
   "cell_type": "markdown",
   "metadata": {},
   "source": [
    "# apply"
   ]
  },
  {
   "cell_type": "code",
   "execution_count": 96,
   "metadata": {},
   "outputs": [
    {
     "name": "stdout",
     "output_type": "stream",
     "text": [
      "            AAPL  GOOG  MSFT\n",
      "2012-04-02   2.0   2.0   2.0\n",
      "2012-04-03   2.0   2.0   2.0\n",
      "2012-04-04   2.0   2.0   2.0\n"
     ]
    }
   ],
   "source": [
    "import pandas as pd\n",
    "\n",
    "d = {'AAPL' : pd.Series([615.99,626.63,621.64], index=['2012-04-02','2012-04-03','2012-04-04']),\n",
    "     'GOOG' : pd.Series([646.92,642.62,635.15], index=['2012-04-02','2012-04-03','2012-04-04']),\n",
    "     'MSFT' : pd.Series([31.87,31.52,30.80], index=['2012-04-02','2012-04-03','2012-04-04'])\n",
    "    }\n",
    "df1 = pd.DataFrame(d)\n",
    "\n",
    "df2 = df1.apply(lambda x: x * 2)\n",
    "\n",
    "result = df2 / df1\n",
    "\n",
    "print(result)"
   ]
  },
  {
   "cell_type": "markdown",
   "metadata": {},
   "source": [
    "# apply 2"
   ]
  },
  {
   "cell_type": "code",
   "execution_count": 120,
   "metadata": {},
   "outputs": [
    {
     "name": "stdout",
     "output_type": "stream",
     "text": [
      "   height  width\n",
      "0    40.0     10\n",
      "1    20.0      9\n",
      "2     3.4      4\n",
      "   height  width   area\n",
      "0    40.0     10  400.0\n",
      "1    20.0      9  180.0\n",
      "2     3.4      4   13.6\n",
      "   height  width   area  area2\n",
      "0    40.0     10  400.0  400.0\n",
      "1    20.0      9  180.0  180.0\n",
      "2     3.4      4   13.6   13.6\n"
     ]
    }
   ],
   "source": [
    "rectangles = [\n",
    "    { 'height': 40, 'width': 10 },\n",
    "    { 'height': 20, 'width': 9 },\n",
    "    { 'height': 3.4, 'width': 4 }\n",
    "]\n",
    "rectangles_df = pd.DataFrame(rectangles)\n",
    "print(rectangles_df)\n",
    "\n",
    "def calculate_area(row):\n",
    "    return row['height'] * row['width']\n",
    "\n",
    "rectangles_df['area'] = None\n",
    "rectangles_df['area'] = rectangles_df.apply(calculate_area, axis=1)\n",
    "print(rectangles_df)\n",
    "\n",
    "rectangles_df['area2'] = None\n",
    "rectangles_df['area2'] = rectangles_df.apply(lambda row: row['height'] * row['width'], axis=1)\n",
    "print(rectangles_df)"
   ]
  },
  {
   "cell_type": "markdown",
   "metadata": {},
   "source": [
    "# arrange, reshape"
   ]
  },
  {
   "cell_type": "code",
   "execution_count": 118,
   "metadata": {},
   "outputs": [
    {
     "name": "stdout",
     "output_type": "stream",
     "text": [
      "[0 1 2 3 4 5]\n",
      "[[0]\n",
      " [1]\n",
      " [2]\n",
      " [3]\n",
      " [4]\n",
      " [5]]\n",
      "[[0]\n",
      " [1]\n",
      " [2]\n",
      " [3]\n",
      " [4]\n",
      " [5]]\n",
      "[[0 1 2]\n",
      " [3 4 5]]\n",
      "[[0 3]\n",
      " [1 4]\n",
      " [2 5]]\n"
     ]
    }
   ],
   "source": [
    "import numpy as np\n",
    "\n",
    "a = np.arange(6)\n",
    "print(a)\n",
    "\n",
    "print(a.reshape(6,1))\n",
    "print(a.reshape(6,-5))\n",
    "print(a.reshape(2,3))\n",
    "print(a.reshape(2,3).T)"
   ]
  },
  {
   "cell_type": "markdown",
   "metadata": {},
   "source": [
    "# sort in order of QWERTY keyboard"
   ]
  },
  {
   "cell_type": "code",
   "execution_count": 109,
   "metadata": {},
   "outputs": [
    {
     "name": "stdout",
     "output_type": "stream",
     "text": [
      "eerrtuuiiiiiiiooppaaasssdfglllxccc\n",
      "eerrtuuiiiiiiiooppaaasssdfglllxccc\n",
      "erruiipaasfgllc etiiipsxc uiiooasdlc\n"
     ]
    }
   ],
   "source": [
    "def qwerty(inp): \n",
    "    alphabet = 'qwertyuiopasdfghjklzxcvbnm'\n",
    "    a_list = list(alphabet)\n",
    "\n",
    "    num_alpha = []\n",
    "    for i in range(len(inp)):\n",
    "        for j in range(len(a_list)):\n",
    "            if inp[i] == a_list[j]:\n",
    "                num_alpha.append(j)\n",
    "    \n",
    "    num_alpha.sort()\n",
    "    fin = []\n",
    "    for i in range(len(num_alpha)):\n",
    "        fin.append(a_list[num_alpha[i]])\n",
    "    \n",
    "    return ''.join(fin)\n",
    "\n",
    "print (qwerty('supercalifragilistic expialidocious'))\n",
    "\n",
    "qwerty2 = lambda x: ''.join(sorted(x, key=lambda l: 'qwertyuiopasdfghjklzxcvbnm'.index(l)))\n",
    "print(qwerty2('supercalifragilisticexpialidocious'))\n",
    "\n",
    "qwerty3 = lambda x: ' '.join(map(lambda i: ''.join(sorted(i, key=lambda l: 'qwertyuiopasdfghjklzxcvbnm'.index(l[0]))), x.split(' ')))\n",
    "print(qwerty3('supercalifragil isticexpi alidocious'))"
   ]
  },
  {
   "cell_type": "markdown",
   "metadata": {},
   "source": [
    "# pandas manipulation"
   ]
  },
  {
   "cell_type": "code",
   "execution_count": 115,
   "metadata": {},
   "outputs": [
    {
     "name": "stdout",
     "output_type": "stream",
     "text": [
      "        0\n",
      "0  1.0000\n",
      "1  1.1000\n",
      "2  1.2100\n",
      "3  1.3310\n",
      "4  1.4641\n",
      "0    1.0000\n",
      "1    1.1000\n",
      "2    1.2100\n",
      "3    1.3310\n",
      "4    1.4641\n",
      "Name: 0, dtype: float64\n",
      "0    NaN\n",
      "1    0.1\n",
      "2    0.1\n",
      "3    0.1\n",
      "4    0.1\n",
      "Name: 0, dtype: float64\n",
      "[nan, 0.1, 0.1, 0.1, 0.1]\n"
     ]
    }
   ],
   "source": [
    "a = [1.1 ** i for i in range(0,5)]\n",
    "\n",
    "dvs = pd.DataFrame(a)\n",
    "print(dvs)\n",
    "print(dvs[0])\n",
    "\n",
    "drs = dvs[0] / dvs[0].shift(1) - 1\n",
    "print(drs)\n",
    "\n",
    "print([round(num, 1) for num in drs])"
   ]
  },
  {
   "cell_type": "code",
   "execution_count": null,
   "metadata": {},
   "outputs": [],
   "source": []
  },
  {
   "cell_type": "code",
   "execution_count": null,
   "metadata": {},
   "outputs": [],
   "source": []
  }
 ],
 "metadata": {
  "kernelspec": {
   "display_name": "Python 3",
   "language": "python",
   "name": "python3"
  },
  "language_info": {
   "codemirror_mode": {
    "name": "ipython",
    "version": 3
   },
   "file_extension": ".py",
   "mimetype": "text/x-python",
   "name": "python",
   "nbconvert_exporter": "python",
   "pygments_lexer": "ipython3",
   "version": "3.6.5"
  }
 },
 "nbformat": 4,
 "nbformat_minor": 2
}

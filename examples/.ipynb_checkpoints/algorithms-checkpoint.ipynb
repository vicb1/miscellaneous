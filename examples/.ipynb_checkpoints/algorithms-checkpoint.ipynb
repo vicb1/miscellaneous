{
 "cells": [
  {
   "cell_type": "markdown",
   "metadata": {},
   "source": [
    "# algorithms"
   ]
  },
  {
   "cell_type": "markdown",
   "metadata": {},
   "source": [
    "https://www.hackerrank.com/challenges/sock-merchant/problem"
   ]
  },
  {
   "cell_type": "code",
   "execution_count": 2,
   "metadata": {},
   "outputs": [
    {
     "data": {
      "text/plain": [
       "3"
      ]
     },
     "execution_count": 2,
     "metadata": {},
     "output_type": "execute_result"
    }
   ],
   "source": [
    "import math\n",
    "import os\n",
    "import random\n",
    "import re\n",
    "import sys\n",
    "\n",
    "def sockMerchant(n, ar):\n",
    "    reserved = []\n",
    "    pairs = 0\n",
    "    for i in range(len(ar)):\n",
    "        for j in range(len(ar)):\n",
    "            if i != j:\n",
    "                if ar[i] == ar[j] and i not in reserved and j not in reserved:\n",
    "                    pairs += 1\n",
    "                    reserved.append(i)\n",
    "                    reserved.append(j)      \n",
    "    return pairs\n",
    "\n",
    "\n",
    "n = int(9)\n",
    "\n",
    "ar = list(map(int, '10 20 20 10 10 30 50 10 20'.rstrip().split()))\n",
    "\n",
    "sockMerchant(n, ar)"
   ]
  },
  {
   "cell_type": "code",
   "execution_count": 6,
   "metadata": {},
   "outputs": [
    {
     "data": {
      "text/plain": [
       "['10', '20', '20', '10', '10', '30', '50', '10', '20']"
      ]
     },
     "execution_count": 6,
     "metadata": {},
     "output_type": "execute_result"
    }
   ],
   "source": [
    "'10 20 20 10 10 30 50 10 20'.rstrip().split()"
   ]
  },
  {
   "cell_type": "code",
   "execution_count": null,
   "metadata": {},
   "outputs": [],
   "source": []
  }
 ],
 "metadata": {
  "kernelspec": {
   "display_name": "Python 3",
   "language": "python",
   "name": "python3"
  },
  "language_info": {
   "codemirror_mode": {
    "name": "ipython",
    "version": 3
   },
   "file_extension": ".py",
   "mimetype": "text/x-python",
   "name": "python",
   "nbconvert_exporter": "python",
   "pygments_lexer": "ipython3",
   "version": "3.7.1"
  }
 },
 "nbformat": 4,
 "nbformat_minor": 2
}

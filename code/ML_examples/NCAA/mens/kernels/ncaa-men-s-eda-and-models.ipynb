{
 "cells": [
  {
   "cell_type": "markdown",
   "metadata": {
    "_cell_guid": "b1076dfc-b9ad-4769-8c92-a6c4dae69d19",
    "_uuid": "8f2839f25d086af736a60e9eeb907d3b93b6e0e5"
   },
   "source": [
    "## General information\n",
    "\n",
    "In this kernel I'm working with data from Google Cloud & NCAA® ML Competition 2019-Men's Challenge. We'll try to predict winners of NCAA based on previous tournaments! We have a lot of data, so let's start with EDA.\n",
    "\n",
    "![](https://www.ncaa.com/sites/default/files/public/styles/large/public-s3/images/2018-11-06/2019-NCAA-bracket-March-Madness-tournament-PDF.png?itok=etptsRdC)\n",
    "\n",
    "Work in progress.\n"
   ]
  },
  {
   "cell_type": "code",
   "execution_count": 1,
   "metadata": {
    "_kg_hide-input": true,
    "_uuid": "db53c20661dbe55c6311bcc8acac0a1a3f219726"
   },
   "outputs": [
    {
     "data": {
      "text/html": [
       "<script type=\"text/javascript\">window.PlotlyConfig = {MathJaxConfig: 'local'};</script><script type=\"text/javascript\">if (window.MathJax) {MathJax.Hub.Config({SVG: {font: \"STIX-Web\"}});}</script><script>requirejs.config({paths: { 'plotly': ['https://cdn.plot.ly/plotly-latest.min']},});if(!window._Plotly) {require(['plotly'],function(plotly) {window._Plotly=plotly;});}</script>"
      ],
      "text/vnd.plotly.v1+html": [
       "<script type=\"text/javascript\">window.PlotlyConfig = {MathJaxConfig: 'local'};</script><script type=\"text/javascript\">if (window.MathJax) {MathJax.Hub.Config({SVG: {font: \"STIX-Web\"}});}</script><script>requirejs.config({paths: { 'plotly': ['https://cdn.plot.ly/plotly-latest.min']},});if(!window._Plotly) {require(['plotly'],function(plotly) {window._Plotly=plotly;});}</script>"
      ]
     },
     "metadata": {},
     "output_type": "display_data"
    }
   ],
   "source": [
    "# Libraries\n",
    "import numpy as np\n",
    "import pandas as pd\n",
    "pd.set_option('max_columns', None)\n",
    "import matplotlib.pyplot as plt\n",
    "import seaborn as sns\n",
    "%matplotlib inline\n",
    "\n",
    "import datetime\n",
    "import lightgbm as lgb\n",
    "from scipy import stats\n",
    "from sklearn.model_selection import train_test_split, StratifiedKFold, KFold, cross_val_score, GridSearchCV, RepeatedStratifiedKFold\n",
    "from sklearn.preprocessing import StandardScaler\n",
    "import os\n",
    "import plotly.offline as py\n",
    "py.init_notebook_mode(connected=True)\n",
    "import plotly.graph_objs as go\n",
    "import plotly.tools as tls\n",
    "import xgboost as xgb\n",
    "import lightgbm as lgb\n",
    "from sklearn import model_selection\n",
    "from sklearn.metrics import accuracy_score, roc_auc_score, log_loss\n",
    "import json\n",
    "import ast\n",
    "import time\n",
    "from sklearn import linear_model\n",
    "import eli5\n",
    "from eli5.sklearn import PermutationImportance\n",
    "import shap\n",
    "\n",
    "from mlxtend.feature_selection import SequentialFeatureSelector as SFS\n",
    "from mlxtend.plotting import plot_sequential_feature_selection as plot_sfs\n",
    "from sklearn.neighbors import NearestNeighbors\n",
    "from sklearn.feature_selection import GenericUnivariateSelect, SelectPercentile, SelectKBest, f_classif, mutual_info_classif, RFE\n",
    "import statsmodels.api as sm\n",
    "import warnings\n",
    "warnings.filterwarnings('ignore')\n",
    "\n",
    "import os\n",
    "import glob"
   ]
  },
  {
   "cell_type": "markdown",
   "metadata": {
    "_uuid": "e6fb407ec7a3cc384b9c4fa38f9f2b6e2ea1f86d"
   },
   "source": [
    "## Data overview and loading\n",
    "\n",
    "We have a lof of files and data. Let's have a look at them!"
   ]
  },
  {
   "cell_type": "code",
   "execution_count": 2,
   "metadata": {
    "_cell_guid": "79c7e3d0-c299-4dcb-8224-4455121ee9b0",
    "_uuid": "d629ff2d2480ee46fbb7e2d37f6b5fab8052498a"
   },
   "outputs": [
    {
     "name": "stdout",
     "output_type": "stream",
     "text": [
      "['playbyplay_2016', 'masseyordinals', 'playbyplay_2011', 'SampleSubmissionStage1.csv', 'playbyplay_2018', 'datafiles', 'playbyplay_2017', 'playbyplay_2014', 'playbyplay_2012', 'playbyplay_2010', 'playbyplay_2015', 'playbyplay_2013']\n",
      "['ConferenceTourneyGames.csv', 'Conferences.csv', 'NCAATourneySlots.csv', 'Cities.csv', 'NCAATourneySeeds.csv', 'TeamConferences.csv', 'Teams.csv', 'RegularSeasonCompactResults.csv', 'GameCities.csv', 'NCAATourneyDetailedResults.csv', 'Seasons.csv', 'TeamCoaches.csv', 'RegularSeasonDetailedResults.csv', 'SecondaryTourneyTeams.csv', 'SecondaryTourneyCompactResults.csv', 'NCAATourneyCompactResults.csv', 'NCAATourneySeedRoundSlots.csv', 'TeamSpellings.csv']\n"
     ]
    }
   ],
   "source": [
    "print(os.listdir('../input/'))\n",
    "print(os.listdir('../input/datafiles'))"
   ]
  },
  {
   "cell_type": "markdown",
   "metadata": {
    "_uuid": "8e87539afcacf02a08ac42fdfb8d19f3d69e9453"
   },
   "source": [
    "We have a folder `datafiles` with main data, we have playbyplay info (play-by-play event logs) and masseyordinals (various rankings over years).\n",
    "\n",
    "In the submission we must predict probabilities of victory for all pairs of teams."
   ]
  },
  {
   "cell_type": "code",
   "execution_count": 3,
   "metadata": {
    "_uuid": "5bd3f0097279891a290ddd6fa3643bace28cea2c"
   },
   "outputs": [
    {
     "data": {
      "text/html": [
       "<div>\n",
       "<style scoped>\n",
       "    .dataframe tbody tr th:only-of-type {\n",
       "        vertical-align: middle;\n",
       "    }\n",
       "\n",
       "    .dataframe tbody tr th {\n",
       "        vertical-align: top;\n",
       "    }\n",
       "\n",
       "    .dataframe thead th {\n",
       "        text-align: right;\n",
       "    }\n",
       "</style>\n",
       "<table border=\"1\" class=\"dataframe\">\n",
       "  <thead>\n",
       "    <tr style=\"text-align: right;\">\n",
       "      <th></th>\n",
       "      <th>ID</th>\n",
       "      <th>Pred</th>\n",
       "    </tr>\n",
       "  </thead>\n",
       "  <tbody>\n",
       "    <tr>\n",
       "      <th>0</th>\n",
       "      <td>2014_1107_1110</td>\n",
       "      <td>0.5</td>\n",
       "    </tr>\n",
       "    <tr>\n",
       "      <th>1</th>\n",
       "      <td>2014_1107_1112</td>\n",
       "      <td>0.5</td>\n",
       "    </tr>\n",
       "    <tr>\n",
       "      <th>2</th>\n",
       "      <td>2014_1107_1113</td>\n",
       "      <td>0.5</td>\n",
       "    </tr>\n",
       "    <tr>\n",
       "      <th>3</th>\n",
       "      <td>2014_1107_1124</td>\n",
       "      <td>0.5</td>\n",
       "    </tr>\n",
       "    <tr>\n",
       "      <th>4</th>\n",
       "      <td>2014_1107_1140</td>\n",
       "      <td>0.5</td>\n",
       "    </tr>\n",
       "  </tbody>\n",
       "</table>\n",
       "</div>"
      ],
      "text/plain": [
       "               ID  Pred\n",
       "0  2014_1107_1110   0.5\n",
       "1  2014_1107_1112   0.5\n",
       "2  2014_1107_1113   0.5\n",
       "3  2014_1107_1124   0.5\n",
       "4  2014_1107_1140   0.5"
      ]
     },
     "execution_count": 3,
     "metadata": {},
     "output_type": "execute_result"
    }
   ],
   "source": [
    "masseyordinals = pd.read_csv('../input/masseyordinals/MasseyOrdinals.csv')\n",
    "sub = pd.read_csv('../input/SampleSubmissionStage1.csv')\n",
    "sub.head()"
   ]
  },
  {
   "cell_type": "markdown",
   "metadata": {
    "_uuid": "842816d7e2655080f5f17468caa0277deb89de98"
   },
   "source": [
    "Notice that submission has data since 2014 year."
   ]
  },
  {
   "cell_type": "markdown",
   "metadata": {
    "_uuid": "65d9a225dca6639fdf85d3c9f246ba92cb37c2cf"
   },
   "source": [
    "Let's read all files in `datafiles` into one dictionary for convenience."
   ]
  },
  {
   "cell_type": "code",
   "execution_count": 4,
   "metadata": {
    "_uuid": "b0d9ea7374bd74faa5baa5e289196d9b9cfd1093"
   },
   "outputs": [
    {
     "name": "stdout",
     "output_type": "stream",
     "text": [
      "../input/datafiles/ConferenceTourneyGames.csv\n",
      "../input/datafiles/Conferences.csv\n",
      "../input/datafiles/NCAATourneySlots.csv\n",
      "../input/datafiles/Cities.csv\n",
      "../input/datafiles/NCAATourneySeeds.csv\n",
      "../input/datafiles/TeamConferences.csv\n",
      "../input/datafiles/Teams.csv\n",
      "../input/datafiles/RegularSeasonCompactResults.csv\n",
      "../input/datafiles/GameCities.csv\n",
      "../input/datafiles/NCAATourneyDetailedResults.csv\n",
      "../input/datafiles/Seasons.csv\n",
      "../input/datafiles/TeamCoaches.csv\n",
      "../input/datafiles/RegularSeasonDetailedResults.csv\n",
      "../input/datafiles/SecondaryTourneyTeams.csv\n",
      "../input/datafiles/SecondaryTourneyCompactResults.csv\n",
      "../input/datafiles/NCAATourneyCompactResults.csv\n",
      "../input/datafiles/NCAATourneySeedRoundSlots.csv\n",
      "../input/datafiles/TeamSpellings.csv\n"
     ]
    }
   ],
   "source": [
    "data_dict = {}\n",
    "for i in glob.glob('../input/datafiles/*'):\n",
    "    name = i.split('/')[-1].split('.')[0]\n",
    "    print(i)\n",
    "    if name != 'TeamSpellings':\n",
    "        data_dict[name] = pd.read_csv(i)\n",
    "    else:\n",
    "        data_dict[name] = pd.read_csv(i, encoding='latin-1')        "
   ]
  },
  {
   "cell_type": "code",
   "execution_count": 5,
   "metadata": {
    "_uuid": "51c5877062b0b7267113ff2f68036554de6f4fdc",
    "scrolled": true
   },
   "outputs": [
    {
     "data": {
      "text/html": [
       "<div>\n",
       "<style scoped>\n",
       "    .dataframe tbody tr th:only-of-type {\n",
       "        vertical-align: middle;\n",
       "    }\n",
       "\n",
       "    .dataframe tbody tr th {\n",
       "        vertical-align: top;\n",
       "    }\n",
       "\n",
       "    .dataframe thead th {\n",
       "        text-align: right;\n",
       "    }\n",
       "</style>\n",
       "<table border=\"1\" class=\"dataframe\">\n",
       "  <thead>\n",
       "    <tr style=\"text-align: right;\">\n",
       "      <th></th>\n",
       "      <th>TeamID</th>\n",
       "      <th>TeamName</th>\n",
       "      <th>FirstD1Season</th>\n",
       "      <th>LastD1Season</th>\n",
       "    </tr>\n",
       "  </thead>\n",
       "  <tbody>\n",
       "    <tr>\n",
       "      <th>0</th>\n",
       "      <td>1101</td>\n",
       "      <td>Abilene Chr</td>\n",
       "      <td>2014</td>\n",
       "      <td>2019</td>\n",
       "    </tr>\n",
       "    <tr>\n",
       "      <th>1</th>\n",
       "      <td>1102</td>\n",
       "      <td>Air Force</td>\n",
       "      <td>1985</td>\n",
       "      <td>2019</td>\n",
       "    </tr>\n",
       "    <tr>\n",
       "      <th>2</th>\n",
       "      <td>1103</td>\n",
       "      <td>Akron</td>\n",
       "      <td>1985</td>\n",
       "      <td>2019</td>\n",
       "    </tr>\n",
       "    <tr>\n",
       "      <th>3</th>\n",
       "      <td>1104</td>\n",
       "      <td>Alabama</td>\n",
       "      <td>1985</td>\n",
       "      <td>2019</td>\n",
       "    </tr>\n",
       "    <tr>\n",
       "      <th>4</th>\n",
       "      <td>1105</td>\n",
       "      <td>Alabama A&amp;M</td>\n",
       "      <td>2000</td>\n",
       "      <td>2019</td>\n",
       "    </tr>\n",
       "  </tbody>\n",
       "</table>\n",
       "</div>"
      ],
      "text/plain": [
       "   TeamID     TeamName  FirstD1Season  LastD1Season\n",
       "0    1101  Abilene Chr           2014          2019\n",
       "1    1102    Air Force           1985          2019\n",
       "2    1103        Akron           1985          2019\n",
       "3    1104      Alabama           1985          2019\n",
       "4    1105  Alabama A&M           2000          2019"
      ]
     },
     "execution_count": 5,
     "metadata": {},
     "output_type": "execute_result"
    }
   ],
   "source": [
    "data_dict['Teams'].head()"
   ]
  },
  {
   "cell_type": "markdown",
   "metadata": {
    "_uuid": "184be872e8bf354423c380248febf9b51b754016"
   },
   "source": [
    "In `Teams` we have info on first and last season of each team."
   ]
  },
  {
   "cell_type": "code",
   "execution_count": 6,
   "metadata": {
    "_uuid": "3e825ab1a1ba070c761fda15f83499dde704ca35",
    "scrolled": true
   },
   "outputs": [
    {
     "data": {
      "text/html": [
       "<div>\n",
       "<style scoped>\n",
       "    .dataframe tbody tr th:only-of-type {\n",
       "        vertical-align: middle;\n",
       "    }\n",
       "\n",
       "    .dataframe tbody tr th {\n",
       "        vertical-align: top;\n",
       "    }\n",
       "\n",
       "    .dataframe thead th {\n",
       "        text-align: right;\n",
       "    }\n",
       "</style>\n",
       "<table border=\"1\" class=\"dataframe\">\n",
       "  <thead>\n",
       "    <tr style=\"text-align: right;\">\n",
       "      <th></th>\n",
       "      <th>TeamNameSpelling</th>\n",
       "      <th>TeamID</th>\n",
       "    </tr>\n",
       "  </thead>\n",
       "  <tbody>\n",
       "    <tr>\n",
       "      <th>0</th>\n",
       "      <td>a&amp;m-corpus chris</td>\n",
       "      <td>1394</td>\n",
       "    </tr>\n",
       "    <tr>\n",
       "      <th>1</th>\n",
       "      <td>a&amp;m-corpus christi</td>\n",
       "      <td>1394</td>\n",
       "    </tr>\n",
       "    <tr>\n",
       "      <th>2</th>\n",
       "      <td>abilene chr</td>\n",
       "      <td>1101</td>\n",
       "    </tr>\n",
       "    <tr>\n",
       "      <th>3</th>\n",
       "      <td>abilene christian</td>\n",
       "      <td>1101</td>\n",
       "    </tr>\n",
       "    <tr>\n",
       "      <th>4</th>\n",
       "      <td>abilene-christian</td>\n",
       "      <td>1101</td>\n",
       "    </tr>\n",
       "  </tbody>\n",
       "</table>\n",
       "</div>"
      ],
      "text/plain": [
       "     TeamNameSpelling  TeamID\n",
       "0    a&m-corpus chris    1394\n",
       "1  a&m-corpus christi    1394\n",
       "2         abilene chr    1101\n",
       "3   abilene christian    1101\n",
       "4   abilene-christian    1101"
      ]
     },
     "execution_count": 6,
     "metadata": {},
     "output_type": "execute_result"
    }
   ],
   "source": [
    "data_dict['TeamSpellings'].head()"
   ]
  },
  {
   "cell_type": "markdown",
   "metadata": {
    "_uuid": "c868f59d84d0b4af9afa2b2e500f76aa4d759e1e"
   },
   "source": [
    "In `TeamSpellings` we have info about all spellings of all teams. Let's use this as a feature!"
   ]
  },
  {
   "cell_type": "code",
   "execution_count": 7,
   "metadata": {
    "_uuid": "c1faeaffb84c9d8eb8671f6f5df6c05510b376a9"
   },
   "outputs": [],
   "source": [
    "team_counts = data_dict['TeamSpellings'].groupby('TeamID')['TeamNameSpelling'].count().reset_index()\n",
    "team_counts.columns = ['TeamID', 'TeamSpellingCount']"
   ]
  },
  {
   "cell_type": "code",
   "execution_count": 8,
   "metadata": {
    "_uuid": "10d06312c030938a545208ea1aeaa3f6e85479a8"
   },
   "outputs": [
    {
     "data": {
      "image/png": "[encoded data removed]",
      "text/plain": [
       "<Figure size 432x288 with 1 Axes>"
      ]
     },
     "metadata": {},
     "output_type": "display_data"
    }
   ],
   "source": [
    "plt.title('Count of team counts');\n",
    "team_counts['TeamSpellingCount'].value_counts().sort_index().plot(kind='barh', color='teal');"
   ]
  },
  {
   "cell_type": "markdown",
   "metadata": {
    "_uuid": "277a35825347f3bb9aca3806b3761a4112709e4a"
   },
   "source": [
    "## Creating training data\n",
    "\n",
    "At first we need to create some training data. We need to predict the results of matches between teams. So the data should have season (year), two teams and the result. Features should be based on teams or on teams and season.\n",
    "Also we need to remember that we will need to predict the performance of teams before the beginning of the tournament, so we won't have information on teams performance in that tournament and need to use previously available information.\n",
    "\n",
    "In stage 1 we need to make predictions for certain matches since 2014 year. To prevent leaks I'll use the data up to 2013 for training.\n",
    "\n",
    "Let's use NCAATourneySeeds data as a blueprint!"
   ]
  },
  {
   "cell_type": "code",
   "execution_count": 9,
   "metadata": {
    "_uuid": "fb5e35d911846f45dd2d48d17fe8926304fcdc29",
    "scrolled": true
   },
   "outputs": [
    {
     "data": {
      "text/html": [
       "<div>\n",
       "<style scoped>\n",
       "    .dataframe tbody tr th:only-of-type {\n",
       "        vertical-align: middle;\n",
       "    }\n",
       "\n",
       "    .dataframe tbody tr th {\n",
       "        vertical-align: top;\n",
       "    }\n",
       "\n",
       "    .dataframe thead th {\n",
       "        text-align: right;\n",
       "    }\n",
       "</style>\n",
       "<table border=\"1\" class=\"dataframe\">\n",
       "  <thead>\n",
       "    <tr style=\"text-align: right;\">\n",
       "      <th></th>\n",
       "      <th>Season</th>\n",
       "      <th>Seed</th>\n",
       "      <th>TeamID</th>\n",
       "    </tr>\n",
       "  </thead>\n",
       "  <tbody>\n",
       "    <tr>\n",
       "      <th>0</th>\n",
       "      <td>1985</td>\n",
       "      <td>W01</td>\n",
       "      <td>1207</td>\n",
       "    </tr>\n",
       "    <tr>\n",
       "      <th>1</th>\n",
       "      <td>1985</td>\n",
       "      <td>W02</td>\n",
       "      <td>1210</td>\n",
       "    </tr>\n",
       "    <tr>\n",
       "      <th>2</th>\n",
       "      <td>1985</td>\n",
       "      <td>W03</td>\n",
       "      <td>1228</td>\n",
       "    </tr>\n",
       "    <tr>\n",
       "      <th>3</th>\n",
       "      <td>1985</td>\n",
       "      <td>W04</td>\n",
       "      <td>1260</td>\n",
       "    </tr>\n",
       "    <tr>\n",
       "      <th>4</th>\n",
       "      <td>1985</td>\n",
       "      <td>W05</td>\n",
       "      <td>1374</td>\n",
       "    </tr>\n",
       "  </tbody>\n",
       "</table>\n",
       "</div>"
      ],
      "text/plain": [
       "   Season Seed  TeamID\n",
       "0    1985  W01    1207\n",
       "1    1985  W02    1210\n",
       "2    1985  W03    1228\n",
       "3    1985  W04    1260\n",
       "4    1985  W05    1374"
      ]
     },
     "execution_count": 9,
     "metadata": {},
     "output_type": "execute_result"
    }
   ],
   "source": [
    "data_dict['NCAATourneySeeds'].head()"
   ]
  },
  {
   "cell_type": "markdown",
   "metadata": {
    "_uuid": "bbbca6e2e33d4b6fc5ef3e60d73dab1e4c6749a0"
   },
   "source": [
    "Seed is very important for determining which team is better, so we will use it as a feature. Let's convert it into number and rearrange the columns."
   ]
  },
  {
   "cell_type": "code",
   "execution_count": 10,
   "metadata": {
    "_uuid": "acd2cc33ffc65226e16fde4f96bf09cb046e5fa0",
    "scrolled": true
   },
   "outputs": [
    {
     "data": {
      "text/html": [
       "<div>\n",
       "<style scoped>\n",
       "    .dataframe tbody tr th:only-of-type {\n",
       "        vertical-align: middle;\n",
       "    }\n",
       "\n",
       "    .dataframe tbody tr th {\n",
       "        vertical-align: top;\n",
       "    }\n",
       "\n",
       "    .dataframe thead th {\n",
       "        text-align: right;\n",
       "    }\n",
       "</style>\n",
       "<table border=\"1\" class=\"dataframe\">\n",
       "  <thead>\n",
       "    <tr style=\"text-align: right;\">\n",
       "      <th></th>\n",
       "      <th>Season</th>\n",
       "      <th>TeamID</th>\n",
       "      <th>Seed</th>\n",
       "    </tr>\n",
       "  </thead>\n",
       "  <tbody>\n",
       "    <tr>\n",
       "      <th>0</th>\n",
       "      <td>1985</td>\n",
       "      <td>1207</td>\n",
       "      <td>1</td>\n",
       "    </tr>\n",
       "    <tr>\n",
       "      <th>1</th>\n",
       "      <td>1985</td>\n",
       "      <td>1210</td>\n",
       "      <td>2</td>\n",
       "    </tr>\n",
       "    <tr>\n",
       "      <th>2</th>\n",
       "      <td>1985</td>\n",
       "      <td>1228</td>\n",
       "      <td>3</td>\n",
       "    </tr>\n",
       "    <tr>\n",
       "      <th>3</th>\n",
       "      <td>1985</td>\n",
       "      <td>1260</td>\n",
       "      <td>4</td>\n",
       "    </tr>\n",
       "    <tr>\n",
       "      <th>4</th>\n",
       "      <td>1985</td>\n",
       "      <td>1374</td>\n",
       "      <td>5</td>\n",
       "    </tr>\n",
       "  </tbody>\n",
       "</table>\n",
       "</div>"
      ],
      "text/plain": [
       "   Season  TeamID  Seed\n",
       "0    1985    1207     1\n",
       "1    1985    1210     2\n",
       "2    1985    1228     3\n",
       "3    1985    1260     4\n",
       "4    1985    1374     5"
      ]
     },
     "execution_count": 10,
     "metadata": {},
     "output_type": "execute_result"
    }
   ],
   "source": [
    "data_dict['NCAATourneySeeds']['Seed'] = data_dict['NCAATourneySeeds']['Seed'].apply(lambda x: int(x[1:3]))\n",
    "data_dict['NCAATourneySeeds'] = data_dict['NCAATourneySeeds'][['Season', 'TeamID', 'Seed']]\n",
    "data_dict['NCAATourneySeeds'].head()"
   ]
  },
  {
   "cell_type": "markdown",
   "metadata": {
    "_uuid": "4e6f1f7d24e2437d383a723e80096f49de559925"
   },
   "source": [
    "We also have information about the results of season matches."
   ]
  },
  {
   "cell_type": "code",
   "execution_count": 11,
   "metadata": {
    "_uuid": "5e60ca17da2e02d77cf1357fa997d7c62214f456"
   },
   "outputs": [
    {
     "data": {
      "text/html": [
       "<div>\n",
       "<style scoped>\n",
       "    .dataframe tbody tr th:only-of-type {\n",
       "        vertical-align: middle;\n",
       "    }\n",
       "\n",
       "    .dataframe tbody tr th {\n",
       "        vertical-align: top;\n",
       "    }\n",
       "\n",
       "    .dataframe thead th {\n",
       "        text-align: right;\n",
       "    }\n",
       "</style>\n",
       "<table border=\"1\" class=\"dataframe\">\n",
       "  <thead>\n",
       "    <tr style=\"text-align: right;\">\n",
       "      <th></th>\n",
       "      <th>Season</th>\n",
       "      <th>WTeamID</th>\n",
       "      <th>LTeamID</th>\n",
       "    </tr>\n",
       "  </thead>\n",
       "  <tbody>\n",
       "    <tr>\n",
       "      <th>0</th>\n",
       "      <td>1985</td>\n",
       "      <td>1116</td>\n",
       "      <td>1234</td>\n",
       "    </tr>\n",
       "    <tr>\n",
       "      <th>1</th>\n",
       "      <td>1985</td>\n",
       "      <td>1120</td>\n",
       "      <td>1345</td>\n",
       "    </tr>\n",
       "    <tr>\n",
       "      <th>2</th>\n",
       "      <td>1985</td>\n",
       "      <td>1207</td>\n",
       "      <td>1250</td>\n",
       "    </tr>\n",
       "    <tr>\n",
       "      <th>3</th>\n",
       "      <td>1985</td>\n",
       "      <td>1229</td>\n",
       "      <td>1425</td>\n",
       "    </tr>\n",
       "    <tr>\n",
       "      <th>4</th>\n",
       "      <td>1985</td>\n",
       "      <td>1242</td>\n",
       "      <td>1325</td>\n",
       "    </tr>\n",
       "  </tbody>\n",
       "</table>\n",
       "</div>"
      ],
      "text/plain": [
       "   Season  WTeamID  LTeamID\n",
       "0    1985     1116     1234\n",
       "1    1985     1120     1345\n",
       "2    1985     1207     1250\n",
       "3    1985     1229     1425\n",
       "4    1985     1242     1325"
      ]
     },
     "execution_count": 11,
     "metadata": {},
     "output_type": "execute_result"
    }
   ],
   "source": [
    "data_dict['NCAATourneyCompactResults'] = data_dict['NCAATourneyCompactResults'][['Season','WTeamID', 'LTeamID']]\n",
    "data_dict['NCAATourneyCompactResults'].head()"
   ]
  },
  {
   "cell_type": "markdown",
   "metadata": {
    "_uuid": "1bf4a3eed694df2eb6034e82e52025bbcfa8259f"
   },
   "source": [
    "We can create a new dataframe which will have info about matches and seeds of teams"
   ]
  },
  {
   "cell_type": "code",
   "execution_count": 12,
   "metadata": {
    "_kg_hide-input": true,
    "_uuid": "d2b57f6b26fd7198826d985561d52e3af3b04dbf"
   },
   "outputs": [
    {
     "data": {
      "text/html": [
       "<div>\n",
       "<style scoped>\n",
       "    .dataframe tbody tr th:only-of-type {\n",
       "        vertical-align: middle;\n",
       "    }\n",
       "\n",
       "    .dataframe tbody tr th {\n",
       "        vertical-align: top;\n",
       "    }\n",
       "\n",
       "    .dataframe thead th {\n",
       "        text-align: right;\n",
       "    }\n",
       "</style>\n",
       "<table border=\"1\" class=\"dataframe\">\n",
       "  <thead>\n",
       "    <tr style=\"text-align: right;\">\n",
       "      <th></th>\n",
       "      <th>Season</th>\n",
       "      <th>WTeamID</th>\n",
       "      <th>LTeamID</th>\n",
       "      <th>Seed_x</th>\n",
       "      <th>Seed_y</th>\n",
       "      <th>seed_diff</th>\n",
       "    </tr>\n",
       "  </thead>\n",
       "  <tbody>\n",
       "    <tr>\n",
       "      <th>0</th>\n",
       "      <td>1985</td>\n",
       "      <td>1116</td>\n",
       "      <td>1234</td>\n",
       "      <td>9</td>\n",
       "      <td>8</td>\n",
       "      <td>1</td>\n",
       "    </tr>\n",
       "    <tr>\n",
       "      <th>1</th>\n",
       "      <td>1985</td>\n",
       "      <td>1120</td>\n",
       "      <td>1345</td>\n",
       "      <td>11</td>\n",
       "      <td>6</td>\n",
       "      <td>5</td>\n",
       "    </tr>\n",
       "    <tr>\n",
       "      <th>2</th>\n",
       "      <td>1985</td>\n",
       "      <td>1207</td>\n",
       "      <td>1250</td>\n",
       "      <td>1</td>\n",
       "      <td>16</td>\n",
       "      <td>-15</td>\n",
       "    </tr>\n",
       "    <tr>\n",
       "      <th>3</th>\n",
       "      <td>1985</td>\n",
       "      <td>1229</td>\n",
       "      <td>1425</td>\n",
       "      <td>9</td>\n",
       "      <td>8</td>\n",
       "      <td>1</td>\n",
       "    </tr>\n",
       "    <tr>\n",
       "      <th>4</th>\n",
       "      <td>1985</td>\n",
       "      <td>1242</td>\n",
       "      <td>1325</td>\n",
       "      <td>3</td>\n",
       "      <td>14</td>\n",
       "      <td>-11</td>\n",
       "    </tr>\n",
       "  </tbody>\n",
       "</table>\n",
       "</div>"
      ],
      "text/plain": [
       "   Season  WTeamID  LTeamID  Seed_x  Seed_y  seed_diff\n",
       "0    1985     1116     1234       9       8          1\n",
       "1    1985     1120     1345      11       6          5\n",
       "2    1985     1207     1250       1      16        -15\n",
       "3    1985     1229     1425       9       8          1\n",
       "4    1985     1242     1325       3      14        -11"
      ]
     },
     "execution_count": 12,
     "metadata": {},
     "output_type": "execute_result"
    }
   ],
   "source": [
    "df = pd.merge(data_dict['NCAATourneyCompactResults'], data_dict['NCAATourneySeeds'], how='left', left_on=['Season', 'WTeamID'], right_on=['Season', 'TeamID'])\n",
    "df = pd.merge(df, data_dict['NCAATourneySeeds'], how='left', left_on=['Season', 'LTeamID'], right_on=['Season', 'TeamID'])\n",
    "df = df.drop(['TeamID_x', 'TeamID_y'], axis=1)\n",
    "df['seed_diff'] = df['Seed_x'] - df['Seed_y']\n",
    "df.head()"
   ]
  },
  {
   "cell_type": "markdown",
   "metadata": {
    "_uuid": "c40ad8f8866957da9735bd1d241a4dd80e1e2353"
   },
   "source": [
    "### Regular season results\n",
    "\n",
    "Let's try using some info from regular seasons"
   ]
  },
  {
   "cell_type": "code",
   "execution_count": 13,
   "metadata": {
    "_uuid": "c29717fd4812d5a90d00f88514b2b1405febdc3c"
   },
   "outputs": [
    {
     "data": {
      "text/html": [
       "<div>\n",
       "<style scoped>\n",
       "    .dataframe tbody tr th:only-of-type {\n",
       "        vertical-align: middle;\n",
       "    }\n",
       "\n",
       "    .dataframe tbody tr th {\n",
       "        vertical-align: top;\n",
       "    }\n",
       "\n",
       "    .dataframe thead th {\n",
       "        text-align: right;\n",
       "    }\n",
       "</style>\n",
       "<table border=\"1\" class=\"dataframe\">\n",
       "  <thead>\n",
       "    <tr style=\"text-align: right;\">\n",
       "      <th></th>\n",
       "      <th>Season</th>\n",
       "      <th>DayNum</th>\n",
       "      <th>WTeamID</th>\n",
       "      <th>WScore</th>\n",
       "      <th>LTeamID</th>\n",
       "      <th>LScore</th>\n",
       "      <th>WLoc</th>\n",
       "      <th>NumOT</th>\n",
       "    </tr>\n",
       "  </thead>\n",
       "  <tbody>\n",
       "    <tr>\n",
       "      <th>0</th>\n",
       "      <td>1985</td>\n",
       "      <td>20</td>\n",
       "      <td>1228</td>\n",
       "      <td>81</td>\n",
       "      <td>1328</td>\n",
       "      <td>64</td>\n",
       "      <td>N</td>\n",
       "      <td>0</td>\n",
       "    </tr>\n",
       "    <tr>\n",
       "      <th>1</th>\n",
       "      <td>1985</td>\n",
       "      <td>25</td>\n",
       "      <td>1106</td>\n",
       "      <td>77</td>\n",
       "      <td>1354</td>\n",
       "      <td>70</td>\n",
       "      <td>H</td>\n",
       "      <td>0</td>\n",
       "    </tr>\n",
       "    <tr>\n",
       "      <th>2</th>\n",
       "      <td>1985</td>\n",
       "      <td>25</td>\n",
       "      <td>1112</td>\n",
       "      <td>63</td>\n",
       "      <td>1223</td>\n",
       "      <td>56</td>\n",
       "      <td>H</td>\n",
       "      <td>0</td>\n",
       "    </tr>\n",
       "    <tr>\n",
       "      <th>3</th>\n",
       "      <td>1985</td>\n",
       "      <td>25</td>\n",
       "      <td>1165</td>\n",
       "      <td>70</td>\n",
       "      <td>1432</td>\n",
       "      <td>54</td>\n",
       "      <td>H</td>\n",
       "      <td>0</td>\n",
       "    </tr>\n",
       "    <tr>\n",
       "      <th>4</th>\n",
       "      <td>1985</td>\n",
       "      <td>25</td>\n",
       "      <td>1192</td>\n",
       "      <td>86</td>\n",
       "      <td>1447</td>\n",
       "      <td>74</td>\n",
       "      <td>H</td>\n",
       "      <td>0</td>\n",
       "    </tr>\n",
       "  </tbody>\n",
       "</table>\n",
       "</div>"
      ],
      "text/plain": [
       "   Season  DayNum  WTeamID  WScore  LTeamID  LScore WLoc  NumOT\n",
       "0    1985      20     1228      81     1328      64    N      0\n",
       "1    1985      25     1106      77     1354      70    H      0\n",
       "2    1985      25     1112      63     1223      56    H      0\n",
       "3    1985      25     1165      70     1432      54    H      0\n",
       "4    1985      25     1192      86     1447      74    H      0"
      ]
     },
     "execution_count": 13,
     "metadata": {},
     "output_type": "execute_result"
    }
   ],
   "source": [
    "data_dict['RegularSeasonCompactResults'].head()"
   ]
  },
  {
   "cell_type": "code",
   "execution_count": 14,
   "metadata": {
    "_uuid": "8c42315e436c1bc97de574688bec0e111658d400"
   },
   "outputs": [
    {
     "data": {
      "image/png": "[encoded data removed]",
      "text/plain": [
       "<Figure size 432x288 with 1 Axes>"
      ]
     },
     "metadata": {},
     "output_type": "display_data"
    }
   ],
   "source": [
    "plt.title('Mean scores of winning teams by season');\n",
    "data_dict['RegularSeasonCompactResults'].groupby(['Season'])['WScore'].mean().plot();"
   ]
  },
  {
   "cell_type": "markdown",
   "metadata": {
    "_uuid": "b821fc42c0c189ce052dd81474c7fb7913f94302"
   },
   "source": [
    "We can see that mean scores peaked in ~1900 and steadily decreased since that time, but in recent years mean scores rise again. Sadly, I don't know enough info about history of matches in NCAA, so I don't have an explanation for such a phenomenon."
   ]
  },
  {
   "cell_type": "markdown",
   "metadata": {
    "_uuid": "b41b9c98f1e0387b5d3f287ea50f8f3cae492b0d"
   },
   "source": [
    "I think that using scores in current season as a feature can be considered a leak, so let's add `1` to a year - this way we'll get scores of previous year while merging."
   ]
  },
  {
   "cell_type": "code",
   "execution_count": 15,
   "metadata": {
    "_uuid": "a17925abd150e61974d50e6fad48ad97e3241b1c"
   },
   "outputs": [],
   "source": [
    "data_dict['RegularSeasonCompactResults']['Season'] += 1"
   ]
  },
  {
   "cell_type": "markdown",
   "metadata": {
    "_uuid": "a4b2765a3d2b5ce2479a37106b8e71c2360a3e3c"
   },
   "source": [
    "Let's try using mean scores of teams!"
   ]
  },
  {
   "cell_type": "code",
   "execution_count": 16,
   "metadata": {
    "_kg_hide-input": true,
    "_uuid": "1de2acdf19737773f208bcd969a46ee2a66a2e15",
    "scrolled": true
   },
   "outputs": [
    {
     "data": {
      "text/html": [
       "<div>\n",
       "<style scoped>\n",
       "    .dataframe tbody tr th:only-of-type {\n",
       "        vertical-align: middle;\n",
       "    }\n",
       "\n",
       "    .dataframe tbody tr th {\n",
       "        vertical-align: top;\n",
       "    }\n",
       "\n",
       "    .dataframe thead th {\n",
       "        text-align: right;\n",
       "    }\n",
       "</style>\n",
       "<table border=\"1\" class=\"dataframe\">\n",
       "  <thead>\n",
       "    <tr style=\"text-align: right;\">\n",
       "      <th></th>\n",
       "      <th>Season</th>\n",
       "      <th>WTeamID_x</th>\n",
       "      <th>LTeamID_x</th>\n",
       "      <th>Seed_x</th>\n",
       "      <th>Seed_y</th>\n",
       "      <th>seed_diff</th>\n",
       "      <th>WScore_x</th>\n",
       "      <th>LScore_x</th>\n",
       "      <th>LScore_y</th>\n",
       "      <th>WScore_y</th>\n",
       "    </tr>\n",
       "  </thead>\n",
       "  <tbody>\n",
       "    <tr>\n",
       "      <th>63</th>\n",
       "      <td>1986</td>\n",
       "      <td>1133</td>\n",
       "      <td>1431</td>\n",
       "      <td>7</td>\n",
       "      <td>10</td>\n",
       "      <td>-3</td>\n",
       "      <td>72.687500</td>\n",
       "      <td>66.555556</td>\n",
       "      <td>67.166667</td>\n",
       "      <td>76.750000</td>\n",
       "    </tr>\n",
       "    <tr>\n",
       "      <th>64</th>\n",
       "      <td>1986</td>\n",
       "      <td>1177</td>\n",
       "      <td>1438</td>\n",
       "      <td>12</td>\n",
       "      <td>5</td>\n",
       "      <td>7</td>\n",
       "      <td>74.444444</td>\n",
       "      <td>57.533333</td>\n",
       "      <td>66.111111</td>\n",
       "      <td>63.615385</td>\n",
       "    </tr>\n",
       "    <tr>\n",
       "      <th>65</th>\n",
       "      <td>1986</td>\n",
       "      <td>1181</td>\n",
       "      <td>1290</td>\n",
       "      <td>1</td>\n",
       "      <td>16</td>\n",
       "      <td>-15</td>\n",
       "      <td>81.500000</td>\n",
       "      <td>76.727273</td>\n",
       "      <td>72.142857</td>\n",
       "      <td>81.363636</td>\n",
       "    </tr>\n",
       "    <tr>\n",
       "      <th>66</th>\n",
       "      <td>1986</td>\n",
       "      <td>1207</td>\n",
       "      <td>1403</td>\n",
       "      <td>4</td>\n",
       "      <td>13</td>\n",
       "      <td>-9</td>\n",
       "      <td>76.680000</td>\n",
       "      <td>58.285714</td>\n",
       "      <td>64.000000</td>\n",
       "      <td>72.545455</td>\n",
       "    </tr>\n",
       "    <tr>\n",
       "      <th>67</th>\n",
       "      <td>1986</td>\n",
       "      <td>1210</td>\n",
       "      <td>1265</td>\n",
       "      <td>2</td>\n",
       "      <td>15</td>\n",
       "      <td>-13</td>\n",
       "      <td>73.083333</td>\n",
       "      <td>59.500000</td>\n",
       "      <td>63.428571</td>\n",
       "      <td>64.937500</td>\n",
       "    </tr>\n",
       "  </tbody>\n",
       "</table>\n",
       "</div>"
      ],
      "text/plain": [
       "    Season  WTeamID_x  LTeamID_x  Seed_x  Seed_y  seed_diff   WScore_x  \\\n",
       "63    1986       1133       1431       7      10         -3  72.687500   \n",
       "64    1986       1177       1438      12       5          7  74.444444   \n",
       "65    1986       1181       1290       1      16        -15  81.500000   \n",
       "66    1986       1207       1403       4      13         -9  76.680000   \n",
       "67    1986       1210       1265       2      15        -13  73.083333   \n",
       "\n",
       "     LScore_x   LScore_y   WScore_y  \n",
       "63  66.555556  67.166667  76.750000  \n",
       "64  57.533333  66.111111  63.615385  \n",
       "65  76.727273  72.142857  81.363636  \n",
       "66  58.285714  64.000000  72.545455  \n",
       "67  59.500000  63.428571  64.937500  "
      ]
     },
     "execution_count": 16,
     "metadata": {},
     "output_type": "execute_result"
    }
   ],
   "source": [
    "team_win_score = data_dict['RegularSeasonCompactResults'].groupby(['Season', 'WTeamID'])['WScore'].mean().reset_index()\n",
    "team_loss_score = data_dict['RegularSeasonCompactResults'].groupby(['Season', 'LTeamID'])['LScore'].mean().reset_index()\n",
    "df = pd.merge(df, team_win_score, how='left', left_on=['Season', 'WTeamID'], right_on=['Season', 'WTeamID'])\n",
    "df = pd.merge(df, team_loss_score, how='left', left_on=['Season', 'LTeamID'], right_on=['Season', 'LTeamID'])\n",
    "df = pd.merge(df, team_loss_score, how='left', left_on=['Season', 'WTeamID'], right_on=['Season', 'LTeamID'])\n",
    "df = pd.merge(df, team_win_score, how='left', left_on=['Season', 'LTeamID_x'], right_on=['Season', 'WTeamID'])\n",
    "df.drop(['LTeamID_y', 'WTeamID_y'], axis=1, inplace=True)\n",
    "df = df.loc[(df['Season'] > 1985) & (df['Season'] < 2014)]\n",
    "df.head()"
   ]
  },
  {
   "cell_type": "markdown",
   "metadata": {
    "_uuid": "87d2d8db6a2eaaf7e32e5b66346297633c599ad2"
   },
   "source": [
    "## Regular seasons detailed results"
   ]
  },
  {
   "cell_type": "code",
   "execution_count": 17,
   "metadata": {
    "_uuid": "20d60e4cec6d0dd7fa2c4ca52f82c2345c28957c"
   },
   "outputs": [
    {
     "data": {
      "text/html": [
       "<div>\n",
       "<style scoped>\n",
       "    .dataframe tbody tr th:only-of-type {\n",
       "        vertical-align: middle;\n",
       "    }\n",
       "\n",
       "    .dataframe tbody tr th {\n",
       "        vertical-align: top;\n",
       "    }\n",
       "\n",
       "    .dataframe thead th {\n",
       "        text-align: right;\n",
       "    }\n",
       "</style>\n",
       "<table border=\"1\" class=\"dataframe\">\n",
       "  <thead>\n",
       "    <tr style=\"text-align: right;\">\n",
       "      <th></th>\n",
       "      <th>Season</th>\n",
       "      <th>DayNum</th>\n",
       "      <th>WTeamID</th>\n",
       "      <th>WScore</th>\n",
       "      <th>LTeamID</th>\n",
       "      <th>LScore</th>\n",
       "      <th>WLoc</th>\n",
       "      <th>NumOT</th>\n",
       "      <th>WFGM</th>\n",
       "      <th>WFGA</th>\n",
       "      <th>WFGM3</th>\n",
       "      <th>WFGA3</th>\n",
       "      <th>WFTM</th>\n",
       "      <th>WFTA</th>\n",
       "      <th>WOR</th>\n",
       "      <th>WDR</th>\n",
       "      <th>WAst</th>\n",
       "      <th>WTO</th>\n",
       "      <th>WStl</th>\n",
       "      <th>WBlk</th>\n",
       "      <th>WPF</th>\n",
       "      <th>LFGM</th>\n",
       "      <th>LFGA</th>\n",
       "      <th>LFGM3</th>\n",
       "      <th>LFGA3</th>\n",
       "      <th>LFTM</th>\n",
       "      <th>LFTA</th>\n",
       "      <th>LOR</th>\n",
       "      <th>LDR</th>\n",
       "      <th>LAst</th>\n",
       "      <th>LTO</th>\n",
       "      <th>LStl</th>\n",
       "      <th>LBlk</th>\n",
       "      <th>LPF</th>\n",
       "    </tr>\n",
       "  </thead>\n",
       "  <tbody>\n",
       "    <tr>\n",
       "      <th>0</th>\n",
       "      <td>2003</td>\n",
       "      <td>10</td>\n",
       "      <td>1104</td>\n",
       "      <td>68</td>\n",
       "      <td>1328</td>\n",
       "      <td>62</td>\n",
       "      <td>N</td>\n",
       "      <td>0</td>\n",
       "      <td>27</td>\n",
       "      <td>58</td>\n",
       "      <td>3</td>\n",
       "      <td>14</td>\n",
       "      <td>11</td>\n",
       "      <td>18</td>\n",
       "      <td>14</td>\n",
       "      <td>24</td>\n",
       "      <td>13</td>\n",
       "      <td>23</td>\n",
       "      <td>7</td>\n",
       "      <td>1</td>\n",
       "      <td>22</td>\n",
       "      <td>22</td>\n",
       "      <td>53</td>\n",
       "      <td>2</td>\n",
       "      <td>10</td>\n",
       "      <td>16</td>\n",
       "      <td>22</td>\n",
       "      <td>10</td>\n",
       "      <td>22</td>\n",
       "      <td>8</td>\n",
       "      <td>18</td>\n",
       "      <td>9</td>\n",
       "      <td>2</td>\n",
       "      <td>20</td>\n",
       "    </tr>\n",
       "    <tr>\n",
       "      <th>1</th>\n",
       "      <td>2003</td>\n",
       "      <td>10</td>\n",
       "      <td>1272</td>\n",
       "      <td>70</td>\n",
       "      <td>1393</td>\n",
       "      <td>63</td>\n",
       "      <td>N</td>\n",
       "      <td>0</td>\n",
       "      <td>26</td>\n",
       "      <td>62</td>\n",
       "      <td>8</td>\n",
       "      <td>20</td>\n",
       "      <td>10</td>\n",
       "      <td>19</td>\n",
       "      <td>15</td>\n",
       "      <td>28</td>\n",
       "      <td>16</td>\n",
       "      <td>13</td>\n",
       "      <td>4</td>\n",
       "      <td>4</td>\n",
       "      <td>18</td>\n",
       "      <td>24</td>\n",
       "      <td>67</td>\n",
       "      <td>6</td>\n",
       "      <td>24</td>\n",
       "      <td>9</td>\n",
       "      <td>20</td>\n",
       "      <td>20</td>\n",
       "      <td>25</td>\n",
       "      <td>7</td>\n",
       "      <td>12</td>\n",
       "      <td>8</td>\n",
       "      <td>6</td>\n",
       "      <td>16</td>\n",
       "    </tr>\n",
       "    <tr>\n",
       "      <th>2</th>\n",
       "      <td>2003</td>\n",
       "      <td>11</td>\n",
       "      <td>1266</td>\n",
       "      <td>73</td>\n",
       "      <td>1437</td>\n",
       "      <td>61</td>\n",
       "      <td>N</td>\n",
       "      <td>0</td>\n",
       "      <td>24</td>\n",
       "      <td>58</td>\n",
       "      <td>8</td>\n",
       "      <td>18</td>\n",
       "      <td>17</td>\n",
       "      <td>29</td>\n",
       "      <td>17</td>\n",
       "      <td>26</td>\n",
       "      <td>15</td>\n",
       "      <td>10</td>\n",
       "      <td>5</td>\n",
       "      <td>2</td>\n",
       "      <td>25</td>\n",
       "      <td>22</td>\n",
       "      <td>73</td>\n",
       "      <td>3</td>\n",
       "      <td>26</td>\n",
       "      <td>14</td>\n",
       "      <td>23</td>\n",
       "      <td>31</td>\n",
       "      <td>22</td>\n",
       "      <td>9</td>\n",
       "      <td>12</td>\n",
       "      <td>2</td>\n",
       "      <td>5</td>\n",
       "      <td>23</td>\n",
       "    </tr>\n",
       "    <tr>\n",
       "      <th>3</th>\n",
       "      <td>2003</td>\n",
       "      <td>11</td>\n",
       "      <td>1296</td>\n",
       "      <td>56</td>\n",
       "      <td>1457</td>\n",
       "      <td>50</td>\n",
       "      <td>N</td>\n",
       "      <td>0</td>\n",
       "      <td>18</td>\n",
       "      <td>38</td>\n",
       "      <td>3</td>\n",
       "      <td>9</td>\n",
       "      <td>17</td>\n",
       "      <td>31</td>\n",
       "      <td>6</td>\n",
       "      <td>19</td>\n",
       "      <td>11</td>\n",
       "      <td>12</td>\n",
       "      <td>14</td>\n",
       "      <td>2</td>\n",
       "      <td>18</td>\n",
       "      <td>18</td>\n",
       "      <td>49</td>\n",
       "      <td>6</td>\n",
       "      <td>22</td>\n",
       "      <td>8</td>\n",
       "      <td>15</td>\n",
       "      <td>17</td>\n",
       "      <td>20</td>\n",
       "      <td>9</td>\n",
       "      <td>19</td>\n",
       "      <td>4</td>\n",
       "      <td>3</td>\n",
       "      <td>23</td>\n",
       "    </tr>\n",
       "    <tr>\n",
       "      <th>4</th>\n",
       "      <td>2003</td>\n",
       "      <td>11</td>\n",
       "      <td>1400</td>\n",
       "      <td>77</td>\n",
       "      <td>1208</td>\n",
       "      <td>71</td>\n",
       "      <td>N</td>\n",
       "      <td>0</td>\n",
       "      <td>30</td>\n",
       "      <td>61</td>\n",
       "      <td>6</td>\n",
       "      <td>14</td>\n",
       "      <td>11</td>\n",
       "      <td>13</td>\n",
       "      <td>17</td>\n",
       "      <td>22</td>\n",
       "      <td>12</td>\n",
       "      <td>14</td>\n",
       "      <td>4</td>\n",
       "      <td>4</td>\n",
       "      <td>20</td>\n",
       "      <td>24</td>\n",
       "      <td>62</td>\n",
       "      <td>6</td>\n",
       "      <td>16</td>\n",
       "      <td>17</td>\n",
       "      <td>27</td>\n",
       "      <td>21</td>\n",
       "      <td>15</td>\n",
       "      <td>12</td>\n",
       "      <td>10</td>\n",
       "      <td>7</td>\n",
       "      <td>1</td>\n",
       "      <td>14</td>\n",
       "    </tr>\n",
       "  </tbody>\n",
       "</table>\n",
       "</div>"
      ],
      "text/plain": [
       "   Season  DayNum  WTeamID  WScore  LTeamID  LScore WLoc  NumOT  WFGM  WFGA  \\\n",
       "0    2003      10     1104      68     1328      62    N      0    27    58   \n",
       "1    2003      10     1272      70     1393      63    N      0    26    62   \n",
       "2    2003      11     1266      73     1437      61    N      0    24    58   \n",
       "3    2003      11     1296      56     1457      50    N      0    18    38   \n",
       "4    2003      11     1400      77     1208      71    N      0    30    61   \n",
       "\n",
       "   WFGM3  WFGA3  WFTM  WFTA  WOR  WDR  WAst  WTO  WStl  WBlk  WPF  LFGM  LFGA  \\\n",
       "0      3     14    11    18   14   24    13   23     7     1   22    22    53   \n",
       "1      8     20    10    19   15   28    16   13     4     4   18    24    67   \n",
       "2      8     18    17    29   17   26    15   10     5     2   25    22    73   \n",
       "3      3      9    17    31    6   19    11   12    14     2   18    18    49   \n",
       "4      6     14    11    13   17   22    12   14     4     4   20    24    62   \n",
       "\n",
       "   LFGM3  LFGA3  LFTM  LFTA  LOR  LDR  LAst  LTO  LStl  LBlk  LPF  \n",
       "0      2     10    16    22   10   22     8   18     9     2   20  \n",
       "1      6     24     9    20   20   25     7   12     8     6   16  \n",
       "2      3     26    14    23   31   22     9   12     2     5   23  \n",
       "3      6     22     8    15   17   20     9   19     4     3   23  \n",
       "4      6     16    17    27   21   15    12   10     7     1   14  "
      ]
     },
     "execution_count": 17,
     "metadata": {},
     "output_type": "execute_result"
    }
   ],
   "source": [
    "data_dict['RegularSeasonDetailedResults'].head()"
   ]
  },
  {
   "cell_type": "code",
   "execution_count": 18,
   "metadata": {
    "_uuid": "f3bb2847d94b687a7bf7b5f3b476f8fbb3be6f36"
   },
   "outputs": [],
   "source": [
    "data_dict['RegularSeasonDetailedResults']['Season_join'] = data_dict['RegularSeasonDetailedResults']['Season'] + 1"
   ]
  },
  {
   "cell_type": "code",
   "execution_count": 19,
   "metadata": {
    "_uuid": "bc2a5dae288ed09e4943879d5da2f3af48950c65"
   },
   "outputs": [
    {
     "data": {
      "image/png": "[encoded data removed]",
      "text/plain": [
       "<Figure size 432x288 with 1 Axes>"
      ]
     },
     "metadata": {},
     "output_type": "display_data"
    }
   ],
   "source": [
    "plt.title('Mean number of field goals made by winning teams by season');\n",
    "data_dict['RegularSeasonDetailedResults'].groupby(['Season'])['WFGM'].mean().plot();"
   ]
  },
  {
   "cell_type": "code",
   "execution_count": 20,
   "metadata": {
    "_uuid": "caa67a197cc3139afd47a37c20728a634ad74b5e"
   },
   "outputs": [
    {
     "data": {
      "image/png": "[encoded data removed]",
      "text/plain": [
       "<Figure size 432x288 with 1 Axes>"
      ]
     },
     "metadata": {},
     "output_type": "display_data"
    }
   ],
   "source": [
    "plt.title('Mean number of field goals attempted by winning teams by season');\n",
    "data_dict['RegularSeasonDetailedResults'].groupby(['Season'])['WFGA'].mean().plot();"
   ]
  },
  {
   "cell_type": "code",
   "execution_count": 21,
   "metadata": {
    "_uuid": "94e3d192f793323fccfa699bc638892723594b5a"
   },
   "outputs": [
    {
     "data": {
      "image/png": "[encoded data removed]",
      "text/plain": [
       "<Figure size 432x288 with 1 Axes>"
      ]
     },
     "metadata": {},
     "output_type": "display_data"
    }
   ],
   "source": [
    "plt.title('Mean number of three pointers made by winning teams by season');\n",
    "data_dict['RegularSeasonDetailedResults'].groupby(['Season'])['WFGM3'].mean().plot();"
   ]
  },
  {
   "cell_type": "code",
   "execution_count": 22,
   "metadata": {
    "_uuid": "6e67a83fac0fd97c52c385019dffbd733d10f628"
   },
   "outputs": [
    {
     "data": {
      "image/png": "[encoded data removed]",
      "text/plain": [
       "<Figure size 432x288 with 1 Axes>"
      ]
     },
     "metadata": {},
     "output_type": "display_data"
    }
   ],
   "source": [
    "plt.title('Mean number of three pointers attempted by winning teams by season');\n",
    "data_dict['RegularSeasonDetailedResults'].groupby(['Season'])['WFGA3'].mean().plot();"
   ]
  },
  {
   "cell_type": "code",
   "execution_count": 23,
   "metadata": {
    "_uuid": "d3e76ee975433ba46c8576923f65b96368ee900d"
   },
   "outputs": [
    {
     "data": {
      "image/png": "[encoded data removed]",
      "text/plain": [
       "<Figure size 432x288 with 1 Axes>"
      ]
     },
     "metadata": {},
     "output_type": "display_data"
    }
   ],
   "source": [
    "plt.title('Mean number of free throws made by winning teams by season');\n",
    "data_dict['RegularSeasonDetailedResults'].groupby(['Season'])['WFTM'].mean().plot();"
   ]
  },
  {
   "cell_type": "code",
   "execution_count": 24,
   "metadata": {
    "_uuid": "2806ec204327ef0040bec45bd37a337f01d952d0"
   },
   "outputs": [
    {
     "data": {
      "image/png": "[encoded data removed]",
      "text/plain": [
       "<Figure size 432x288 with 1 Axes>"
      ]
     },
     "metadata": {},
     "output_type": "display_data"
    }
   ],
   "source": [
    "plt.title('Mean number of free throws made by winning teams by season');\n",
    "data_dict['RegularSeasonDetailedResults'].groupby(['Season'])['WFTA'].mean().plot();"
   ]
  },
  {
   "cell_type": "code",
   "execution_count": 25,
   "metadata": {
    "_uuid": "8e82f888e4a860d8e7e830d377ce0b66fc948ae9"
   },
   "outputs": [
    {
     "data": {
      "image/png": "[encoded data removed]",
      "text/plain": [
       "<Figure size 432x288 with 1 Axes>"
      ]
     },
     "metadata": {},
     "output_type": "display_data"
    }
   ],
   "source": [
    "plt.title('Mean number of offensive rebounds pulled by winning teams by season');\n",
    "data_dict['RegularSeasonDetailedResults'].groupby(['Season'])['WOR'].mean().plot();"
   ]
  },
  {
   "cell_type": "code",
   "execution_count": 26,
   "metadata": {
    "_uuid": "c666ced4b5e26159bfe3df52c2252e0bf6d2b50f"
   },
   "outputs": [
    {
     "data": {
      "image/png": "[encoded data removed]",
      "text/plain": [
       "<Figure size 432x288 with 1 Axes>"
      ]
     },
     "metadata": {},
     "output_type": "display_data"
    }
   ],
   "source": [
    "plt.title('Mean number of defensive rebounds pulled by winning teams by season');\n",
    "data_dict['RegularSeasonDetailedResults'].groupby(['Season'])['WDR'].mean().plot();"
   ]
  },
  {
   "cell_type": "code",
   "execution_count": 27,
   "metadata": {
    "_uuid": "fe94ee6539604ad77f6972c1384bb8fe5bf24ed5"
   },
   "outputs": [
    {
     "data": {
      "image/png": "[encoded data removed]",
      "text/plain": [
       "<Figure size 432x288 with 1 Axes>"
      ]
     },
     "metadata": {},
     "output_type": "display_data"
    }
   ],
   "source": [
    "plt.title('Mean number of assists by winning teams by season');\n",
    "data_dict['RegularSeasonDetailedResults'].groupby(['Season'])['WAst'].mean().plot();"
   ]
  },
  {
   "cell_type": "code",
   "execution_count": 28,
   "metadata": {
    "_uuid": "d1fd64d52a1bc0ebd82cb0365e2c81131e2816bf"
   },
   "outputs": [
    {
     "data": {
      "image/png": "[encoded data removed]",
      "text/plain": [
       "<Figure size 432x288 with 1 Axes>"
      ]
     },
     "metadata": {},
     "output_type": "display_data"
    }
   ],
   "source": [
    "plt.title('Mean number of turnovers committed by winning teams by season');\n",
    "data_dict['RegularSeasonDetailedResults'].groupby(['Season'])['WTO'].mean().plot();"
   ]
  },
  {
   "cell_type": "code",
   "execution_count": 29,
   "metadata": {
    "_uuid": "a938876863b8635ecc4b5ff6a6a2b3af227edf57"
   },
   "outputs": [
    {
     "data": {
      "image/png": "[encoded data removed]",
      "text/plain": [
       "<Figure size 432x288 with 1 Axes>"
      ]
     },
     "metadata": {},
     "output_type": "display_data"
    }
   ],
   "source": [
    "plt.title('Mean number of steals accomplished by winning teams by season');\n",
    "data_dict['RegularSeasonDetailedResults'].groupby(['Season'])['WStl'].mean().plot();"
   ]
  },
  {
   "cell_type": "code",
   "execution_count": 30,
   "metadata": {
    "_uuid": "414137c8168fc45b94afd4f730dd8a6907337fb0"
   },
   "outputs": [
    {
     "data": {
      "image/png": "[encoded data removed]",
      "text/plain": [
       "<Figure size 432x288 with 1 Axes>"
      ]
     },
     "metadata": {},
     "output_type": "display_data"
    }
   ],
   "source": [
    "plt.title('Mean number of blocks accomplished by winning teams by season');\n",
    "data_dict['RegularSeasonDetailedResults'].groupby(['Season'])['WBlk'].mean().plot();"
   ]
  },
  {
   "cell_type": "code",
   "execution_count": 31,
   "metadata": {
    "_uuid": "5712212fffccd1480a05196ac941360feda14868"
   },
   "outputs": [
    {
     "data": {
      "image/png": "[encoded data removed]",
      "text/plain": [
       "<Figure size 432x288 with 1 Axes>"
      ]
     },
     "metadata": {},
     "output_type": "display_data"
    }
   ],
   "source": [
    "plt.title('Mean number of personal fouls committed by winning teams by season');\n",
    "data_dict['RegularSeasonDetailedResults'].groupby(['Season'])['WPF'].mean().plot();"
   ]
  },
  {
   "cell_type": "markdown",
   "metadata": {
    "_uuid": "7187d639d0ad37b47095f086901ab73508a2138e"
   },
   "source": [
    "### Target variable\n",
    "\n",
    "**Important**\n",
    "\n",
    "The idea is the following: currently we have pairs of teams and we know which of them is loser, which is winner. For predictions we have pairs of teams, where we won't know who is winner, but we know that the teams will be sorted (like 1214_1246 and not the other way). So we can modify the training dataframe in the following way:\n",
    "- create columns not for winning/losing team, but for teams with lower and higher number;\n",
    "- of team with lower number of the winner, the target is 1 and 0 otherwise."
   ]
  },
  {
   "cell_type": "code",
   "execution_count": 32,
   "metadata": {
    "_uuid": "1afe25cfe63e7723a7ffac53aafc542d3387868d"
   },
   "outputs": [
    {
     "data": {
      "text/html": [
       "<div>\n",
       "<style scoped>\n",
       "    .dataframe tbody tr th:only-of-type {\n",
       "        vertical-align: middle;\n",
       "    }\n",
       "\n",
       "    .dataframe tbody tr th {\n",
       "        vertical-align: top;\n",
       "    }\n",
       "\n",
       "    .dataframe thead th {\n",
       "        text-align: right;\n",
       "    }\n",
       "</style>\n",
       "<table border=\"1\" class=\"dataframe\">\n",
       "  <thead>\n",
       "    <tr style=\"text-align: right;\">\n",
       "      <th></th>\n",
       "      <th>Season</th>\n",
       "      <th>WTeamID_x</th>\n",
       "      <th>LTeamID_x</th>\n",
       "      <th>Seed_x</th>\n",
       "      <th>Seed_y</th>\n",
       "      <th>seed_diff</th>\n",
       "      <th>WScore_x</th>\n",
       "      <th>LScore_x</th>\n",
       "      <th>LScore_y</th>\n",
       "      <th>WScore_y</th>\n",
       "    </tr>\n",
       "  </thead>\n",
       "  <tbody>\n",
       "    <tr>\n",
       "      <th>63</th>\n",
       "      <td>1986</td>\n",
       "      <td>1133</td>\n",
       "      <td>1431</td>\n",
       "      <td>7</td>\n",
       "      <td>10</td>\n",
       "      <td>-3</td>\n",
       "      <td>72.687500</td>\n",
       "      <td>66.555556</td>\n",
       "      <td>67.166667</td>\n",
       "      <td>76.750000</td>\n",
       "    </tr>\n",
       "    <tr>\n",
       "      <th>64</th>\n",
       "      <td>1986</td>\n",
       "      <td>1177</td>\n",
       "      <td>1438</td>\n",
       "      <td>12</td>\n",
       "      <td>5</td>\n",
       "      <td>7</td>\n",
       "      <td>74.444444</td>\n",
       "      <td>57.533333</td>\n",
       "      <td>66.111111</td>\n",
       "      <td>63.615385</td>\n",
       "    </tr>\n",
       "    <tr>\n",
       "      <th>65</th>\n",
       "      <td>1986</td>\n",
       "      <td>1181</td>\n",
       "      <td>1290</td>\n",
       "      <td>1</td>\n",
       "      <td>16</td>\n",
       "      <td>-15</td>\n",
       "      <td>81.500000</td>\n",
       "      <td>76.727273</td>\n",
       "      <td>72.142857</td>\n",
       "      <td>81.363636</td>\n",
       "    </tr>\n",
       "    <tr>\n",
       "      <th>66</th>\n",
       "      <td>1986</td>\n",
       "      <td>1207</td>\n",
       "      <td>1403</td>\n",
       "      <td>4</td>\n",
       "      <td>13</td>\n",
       "      <td>-9</td>\n",
       "      <td>76.680000</td>\n",
       "      <td>58.285714</td>\n",
       "      <td>64.000000</td>\n",
       "      <td>72.545455</td>\n",
       "    </tr>\n",
       "    <tr>\n",
       "      <th>67</th>\n",
       "      <td>1986</td>\n",
       "      <td>1210</td>\n",
       "      <td>1265</td>\n",
       "      <td>2</td>\n",
       "      <td>15</td>\n",
       "      <td>-13</td>\n",
       "      <td>73.083333</td>\n",
       "      <td>59.500000</td>\n",
       "      <td>63.428571</td>\n",
       "      <td>64.937500</td>\n",
       "    </tr>\n",
       "  </tbody>\n",
       "</table>\n",
       "</div>"
      ],
      "text/plain": [
       "    Season  WTeamID_x  LTeamID_x  Seed_x  Seed_y  seed_diff   WScore_x  \\\n",
       "63    1986       1133       1431       7      10         -3  72.687500   \n",
       "64    1986       1177       1438      12       5          7  74.444444   \n",
       "65    1986       1181       1290       1      16        -15  81.500000   \n",
       "66    1986       1207       1403       4      13         -9  76.680000   \n",
       "67    1986       1210       1265       2      15        -13  73.083333   \n",
       "\n",
       "     LScore_x   LScore_y   WScore_y  \n",
       "63  66.555556  67.166667  76.750000  \n",
       "64  57.533333  66.111111  63.615385  \n",
       "65  76.727273  72.142857  81.363636  \n",
       "66  58.285714  64.000000  72.545455  \n",
       "67  59.500000  63.428571  64.937500  "
      ]
     },
     "execution_count": 32,
     "metadata": {},
     "output_type": "execute_result"
    }
   ],
   "source": [
    "df.head()"
   ]
  },
  {
   "cell_type": "code",
   "execution_count": 33,
   "metadata": {
    "_kg_hide-input": true,
    "_uuid": "7fbcd896cb806a53fb82661415ac7ce3bb4cc921"
   },
   "outputs": [],
   "source": [
    "loss_df = df[df['WTeamID_x'] > df['LTeamID_x']]\n",
    "win_df = df[df['WTeamID_x'] < df['LTeamID_x']]\n",
    "win_df['target'] = 1\n",
    "win_df.columns = ['Season', 'Team1', 'Team2', 'Seed_1', 'Seed_2', 'seed_diff',\n",
    "       'WScore_1', 'LScore_1', 'LScore_2', 'WScore_2', 'target']\n",
    "loss_df['target'] = 0\n",
    "loss_df = loss_df[['Season', 'LTeamID_x', 'WTeamID_x', 'Seed_y', 'Seed_x', 'seed_diff',\n",
    "       'LScore_y', 'WScore_y', 'WScore_x', 'LScore_x', 'target']]\n",
    "loss_df.columns = ['Season', 'Team1', 'Team2', 'Seed_1', 'Seed_2', 'seed_diff',\n",
    "       'WScore_1', 'LScore_1', 'LScore_2', 'WScore_2', 'target']\n",
    "loss_df['seed_diff'] = -1 * loss_df['seed_diff']\n",
    "new_df = win_df.append(loss_df)"
   ]
  },
  {
   "cell_type": "code",
   "execution_count": 34,
   "metadata": {
    "_uuid": "95897a1388b92bf2bae04bf81ace8101c4177a4c"
   },
   "outputs": [
    {
     "data": {
      "text/html": [
       "<div>\n",
       "<style scoped>\n",
       "    .dataframe tbody tr th:only-of-type {\n",
       "        vertical-align: middle;\n",
       "    }\n",
       "\n",
       "    .dataframe tbody tr th {\n",
       "        vertical-align: top;\n",
       "    }\n",
       "\n",
       "    .dataframe thead th {\n",
       "        text-align: right;\n",
       "    }\n",
       "</style>\n",
       "<table border=\"1\" class=\"dataframe\">\n",
       "  <thead>\n",
       "    <tr style=\"text-align: right;\">\n",
       "      <th></th>\n",
       "      <th>Season</th>\n",
       "      <th>Team1</th>\n",
       "      <th>Team2</th>\n",
       "      <th>Seed_1</th>\n",
       "      <th>Seed_2</th>\n",
       "      <th>seed_diff</th>\n",
       "      <th>WScore_1</th>\n",
       "      <th>LScore_1</th>\n",
       "      <th>LScore_2</th>\n",
       "      <th>WScore_2</th>\n",
       "      <th>target</th>\n",
       "    </tr>\n",
       "  </thead>\n",
       "  <tbody>\n",
       "    <tr>\n",
       "      <th>63</th>\n",
       "      <td>1986</td>\n",
       "      <td>1133</td>\n",
       "      <td>1431</td>\n",
       "      <td>7</td>\n",
       "      <td>10</td>\n",
       "      <td>-3</td>\n",
       "      <td>72.687500</td>\n",
       "      <td>66.555556</td>\n",
       "      <td>67.166667</td>\n",
       "      <td>76.750000</td>\n",
       "      <td>1</td>\n",
       "    </tr>\n",
       "    <tr>\n",
       "      <th>64</th>\n",
       "      <td>1986</td>\n",
       "      <td>1177</td>\n",
       "      <td>1438</td>\n",
       "      <td>12</td>\n",
       "      <td>5</td>\n",
       "      <td>7</td>\n",
       "      <td>74.444444</td>\n",
       "      <td>57.533333</td>\n",
       "      <td>66.111111</td>\n",
       "      <td>63.615385</td>\n",
       "      <td>1</td>\n",
       "    </tr>\n",
       "    <tr>\n",
       "      <th>65</th>\n",
       "      <td>1986</td>\n",
       "      <td>1181</td>\n",
       "      <td>1290</td>\n",
       "      <td>1</td>\n",
       "      <td>16</td>\n",
       "      <td>-15</td>\n",
       "      <td>81.500000</td>\n",
       "      <td>76.727273</td>\n",
       "      <td>72.142857</td>\n",
       "      <td>81.363636</td>\n",
       "      <td>1</td>\n",
       "    </tr>\n",
       "    <tr>\n",
       "      <th>66</th>\n",
       "      <td>1986</td>\n",
       "      <td>1207</td>\n",
       "      <td>1403</td>\n",
       "      <td>4</td>\n",
       "      <td>13</td>\n",
       "      <td>-9</td>\n",
       "      <td>76.680000</td>\n",
       "      <td>58.285714</td>\n",
       "      <td>64.000000</td>\n",
       "      <td>72.545455</td>\n",
       "      <td>1</td>\n",
       "    </tr>\n",
       "    <tr>\n",
       "      <th>67</th>\n",
       "      <td>1986</td>\n",
       "      <td>1210</td>\n",
       "      <td>1265</td>\n",
       "      <td>2</td>\n",
       "      <td>15</td>\n",
       "      <td>-13</td>\n",
       "      <td>73.083333</td>\n",
       "      <td>59.500000</td>\n",
       "      <td>63.428571</td>\n",
       "      <td>64.937500</td>\n",
       "      <td>1</td>\n",
       "    </tr>\n",
       "  </tbody>\n",
       "</table>\n",
       "</div>"
      ],
      "text/plain": [
       "    Season  Team1  Team2  Seed_1  Seed_2  seed_diff   WScore_1   LScore_1  \\\n",
       "63    1986   1133   1431       7      10         -3  72.687500  66.555556   \n",
       "64    1986   1177   1438      12       5          7  74.444444  57.533333   \n",
       "65    1986   1181   1290       1      16        -15  81.500000  76.727273   \n",
       "66    1986   1207   1403       4      13         -9  76.680000  58.285714   \n",
       "67    1986   1210   1265       2      15        -13  73.083333  59.500000   \n",
       "\n",
       "     LScore_2   WScore_2  target  \n",
       "63  67.166667  76.750000       1  \n",
       "64  66.111111  63.615385       1  \n",
       "65  72.142857  81.363636       1  \n",
       "66  64.000000  72.545455       1  \n",
       "67  63.428571  64.937500       1  "
      ]
     },
     "execution_count": 34,
     "metadata": {},
     "output_type": "execute_result"
    }
   ],
   "source": [
    "new_df.head()"
   ]
  },
  {
   "cell_type": "markdown",
   "metadata": {
    "_uuid": "e5ead60febdc77b58b335c7a42a40f48ed6ee638"
   },
   "source": [
    "## Preparing test data"
   ]
  },
  {
   "cell_type": "code",
   "execution_count": 35,
   "metadata": {
    "_kg_hide-input": true,
    "_uuid": "a7bef9c4a900298fb7a030b01e4a8ca514478c56"
   },
   "outputs": [
    {
     "data": {
      "text/html": [
       "<div>\n",
       "<style scoped>\n",
       "    .dataframe tbody tr th:only-of-type {\n",
       "        vertical-align: middle;\n",
       "    }\n",
       "\n",
       "    .dataframe tbody tr th {\n",
       "        vertical-align: top;\n",
       "    }\n",
       "\n",
       "    .dataframe thead th {\n",
       "        text-align: right;\n",
       "    }\n",
       "</style>\n",
       "<table border=\"1\" class=\"dataframe\">\n",
       "  <thead>\n",
       "    <tr style=\"text-align: right;\">\n",
       "      <th></th>\n",
       "      <th>ID</th>\n",
       "      <th>Pred</th>\n",
       "      <th>Season</th>\n",
       "      <th>Team1</th>\n",
       "      <th>Team2</th>\n",
       "      <th>TeamID_x</th>\n",
       "      <th>Seed_x</th>\n",
       "      <th>TeamID_y</th>\n",
       "      <th>Seed_y</th>\n",
       "      <th>WTeamID_x</th>\n",
       "      <th>WScore_x</th>\n",
       "      <th>LTeamID_x</th>\n",
       "      <th>LScore_x</th>\n",
       "      <th>LTeamID_y</th>\n",
       "      <th>LScore_y</th>\n",
       "      <th>WTeamID_y</th>\n",
       "      <th>WScore_y</th>\n",
       "      <th>seed_diff</th>\n",
       "    </tr>\n",
       "  </thead>\n",
       "  <tbody>\n",
       "    <tr>\n",
       "      <th>0</th>\n",
       "      <td>2014_1107_1110</td>\n",
       "      <td>0.5</td>\n",
       "      <td>2014</td>\n",
       "      <td>1107</td>\n",
       "      <td>1110</td>\n",
       "      <td>1107</td>\n",
       "      <td>16</td>\n",
       "      <td>1110</td>\n",
       "      <td>15</td>\n",
       "      <td>1107</td>\n",
       "      <td>66.708333</td>\n",
       "      <td>1110.0</td>\n",
       "      <td>53.450000</td>\n",
       "      <td>1107.0</td>\n",
       "      <td>58.9</td>\n",
       "      <td>1110</td>\n",
       "      <td>66.600000</td>\n",
       "      <td>1</td>\n",
       "    </tr>\n",
       "    <tr>\n",
       "      <th>1</th>\n",
       "      <td>2014_1107_1112</td>\n",
       "      <td>0.5</td>\n",
       "      <td>2014</td>\n",
       "      <td>1107</td>\n",
       "      <td>1112</td>\n",
       "      <td>1107</td>\n",
       "      <td>16</td>\n",
       "      <td>1112</td>\n",
       "      <td>1</td>\n",
       "      <td>1107</td>\n",
       "      <td>66.708333</td>\n",
       "      <td>1112.0</td>\n",
       "      <td>68.142857</td>\n",
       "      <td>1107.0</td>\n",
       "      <td>58.9</td>\n",
       "      <td>1112</td>\n",
       "      <td>74.720000</td>\n",
       "      <td>15</td>\n",
       "    </tr>\n",
       "    <tr>\n",
       "      <th>2</th>\n",
       "      <td>2014_1107_1113</td>\n",
       "      <td>0.5</td>\n",
       "      <td>2014</td>\n",
       "      <td>1107</td>\n",
       "      <td>1113</td>\n",
       "      <td>1107</td>\n",
       "      <td>16</td>\n",
       "      <td>1113</td>\n",
       "      <td>10</td>\n",
       "      <td>1107</td>\n",
       "      <td>66.708333</td>\n",
       "      <td>1113.0</td>\n",
       "      <td>65.083333</td>\n",
       "      <td>1107.0</td>\n",
       "      <td>58.9</td>\n",
       "      <td>1113</td>\n",
       "      <td>74.380952</td>\n",
       "      <td>6</td>\n",
       "    </tr>\n",
       "    <tr>\n",
       "      <th>3</th>\n",
       "      <td>2014_1107_1124</td>\n",
       "      <td>0.5</td>\n",
       "      <td>2014</td>\n",
       "      <td>1107</td>\n",
       "      <td>1124</td>\n",
       "      <td>1107</td>\n",
       "      <td>16</td>\n",
       "      <td>1124</td>\n",
       "      <td>6</td>\n",
       "      <td>1107</td>\n",
       "      <td>66.708333</td>\n",
       "      <td>1124.0</td>\n",
       "      <td>67.785714</td>\n",
       "      <td>1107.0</td>\n",
       "      <td>58.9</td>\n",
       "      <td>1124</td>\n",
       "      <td>77.941176</td>\n",
       "      <td>10</td>\n",
       "    </tr>\n",
       "    <tr>\n",
       "      <th>4</th>\n",
       "      <td>2014_1107_1140</td>\n",
       "      <td>0.5</td>\n",
       "      <td>2014</td>\n",
       "      <td>1107</td>\n",
       "      <td>1140</td>\n",
       "      <td>1107</td>\n",
       "      <td>16</td>\n",
       "      <td>1140</td>\n",
       "      <td>10</td>\n",
       "      <td>1107</td>\n",
       "      <td>66.708333</td>\n",
       "      <td>1140.0</td>\n",
       "      <td>67.454545</td>\n",
       "      <td>1107.0</td>\n",
       "      <td>58.9</td>\n",
       "      <td>1140</td>\n",
       "      <td>80.550000</td>\n",
       "      <td>6</td>\n",
       "    </tr>\n",
       "  </tbody>\n",
       "</table>\n",
       "</div>"
      ],
      "text/plain": [
       "               ID  Pred  Season  Team1  Team2  TeamID_x  Seed_x  TeamID_y  \\\n",
       "0  2014_1107_1110   0.5    2014   1107   1110      1107      16      1110   \n",
       "1  2014_1107_1112   0.5    2014   1107   1112      1107      16      1112   \n",
       "2  2014_1107_1113   0.5    2014   1107   1113      1107      16      1113   \n",
       "3  2014_1107_1124   0.5    2014   1107   1124      1107      16      1124   \n",
       "4  2014_1107_1140   0.5    2014   1107   1140      1107      16      1140   \n",
       "\n",
       "   Seed_y  WTeamID_x   WScore_x  LTeamID_x   LScore_x  LTeamID_y  LScore_y  \\\n",
       "0      15       1107  66.708333     1110.0  53.450000     1107.0      58.9   \n",
       "1       1       1107  66.708333     1112.0  68.142857     1107.0      58.9   \n",
       "2      10       1107  66.708333     1113.0  65.083333     1107.0      58.9   \n",
       "3       6       1107  66.708333     1124.0  67.785714     1107.0      58.9   \n",
       "4      10       1107  66.708333     1140.0  67.454545     1107.0      58.9   \n",
       "\n",
       "   WTeamID_y   WScore_y  seed_diff  \n",
       "0       1110  66.600000          1  \n",
       "1       1112  74.720000         15  \n",
       "2       1113  74.380952          6  \n",
       "3       1124  77.941176         10  \n",
       "4       1140  80.550000          6  "
      ]
     },
     "execution_count": 35,
     "metadata": {},
     "output_type": "execute_result"
    }
   ],
   "source": [
    "test = sub.copy()\n",
    "sub['Season'] = sub['ID'].apply(lambda x: int(x.split('_')[0]))\n",
    "sub['Team1'] = sub['ID'].apply(lambda x: int(x.split('_')[1]))\n",
    "sub['Team2'] = sub['ID'].apply(lambda x: int(x.split('_')[2]))\n",
    "sub = pd.merge(sub, data_dict['NCAATourneySeeds'], how='left', left_on=['Season', 'Team1'], right_on=['Season', 'TeamID'])\n",
    "sub = pd.merge(sub, data_dict['NCAATourneySeeds'], how='left', left_on=['Season', 'Team2'], right_on=['Season', 'TeamID'])\n",
    "sub = pd.merge(sub, team_win_score, how='left', left_on=['Season', 'Team1'], right_on=['Season', 'WTeamID'])\n",
    "sub = pd.merge(sub, team_loss_score, how='left', left_on=['Season', 'Team2'], right_on=['Season', 'LTeamID'])\n",
    "sub = pd.merge(sub, team_loss_score, how='left', left_on=['Season', 'Team1'], right_on=['Season', 'LTeamID'])\n",
    "sub = pd.merge(sub, team_win_score, how='left', left_on=['Season', 'Team2'], right_on=['Season', 'WTeamID'])\n",
    "sub['seed_diff'] = sub['Seed_x'] - sub['Seed_y']\n",
    "sub.head()"
   ]
  },
  {
   "cell_type": "markdown",
   "metadata": {
    "_uuid": "ed978f9559d978c44022331c32547c09910289ef"
   },
   "source": [
    "## Preparing data for training"
   ]
  },
  {
   "cell_type": "code",
   "execution_count": 36,
   "metadata": {
    "_kg_hide-input": true,
    "_uuid": "5d3fc5fdcca8c4c7cc1f8b305efd592ff98b7dc6"
   },
   "outputs": [],
   "source": [
    "new_df = pd.merge(new_df, team_counts, how='left', left_on='Team1', right_on='TeamID')\n",
    "new_df = new_df.drop(['TeamID'], axis=1)\n",
    "new_df = pd.merge(new_df, team_counts, how='left', left_on='Team2', right_on='TeamID')\n",
    "new_df = new_df.drop(['TeamID'], axis=1)\n",
    "\n",
    "sub = pd.merge(sub, team_counts, how='left', left_on='Team1', right_on='TeamID')\n",
    "sub = sub.drop(['TeamID'], axis=1)\n",
    "sub = pd.merge(sub, team_counts, how='left', left_on='Team2', right_on='TeamID')\n",
    "sub = sub.drop(['TeamID'], axis=1)\n",
    "\n",
    "new_df = new_df.drop(['Season', 'Team1', 'Team2'], axis=1)\n",
    "sub = sub.drop(['Pred', 'Season', 'Team1', 'Team2', 'TeamID_x', 'TeamID_y', 'WTeamID_x', 'WTeamID_y', 'LTeamID_x', 'LTeamID_y'], axis=1)\n",
    "sub.columns = ['ID', 'Seed_1', 'Seed_2', 'WScore_1', 'LScore_1', 'LScore_2', 'WScore_2', 'seed_diff', 'TeamSpellingCount_x', 'TeamSpellingCount_y']\n",
    "sub = sub[['ID', 'Seed_1', 'Seed_2', 'seed_diff', 'WScore_1', 'LScore_1', 'LScore_2', 'WScore_2', 'TeamSpellingCount_x', 'TeamSpellingCount_y']]\n",
    "new_df = new_df.fillna(0)\n",
    "sub = sub.fillna(0)"
   ]
  },
  {
   "cell_type": "code",
   "execution_count": 37,
   "metadata": {
    "_uuid": "58206b5a021d73040cee12d9ea3b9f17ab8bae20"
   },
   "outputs": [],
   "source": [
    "X = new_df.drop(['target'], axis=1)\n",
    "y = new_df['target']\n",
    "X_test = sub.drop(['ID'], axis=1)"
   ]
  },
  {
   "cell_type": "code",
   "execution_count": 38,
   "metadata": {
    "_uuid": "20d1b6a592966345f50a2e1dc147bacc00f0031d"
   },
   "outputs": [],
   "source": [
    "n_fold = 5\n",
    "folds = StratifiedKFold(n_splits=n_fold, shuffle=True, random_state=42)"
   ]
  },
  {
   "cell_type": "code",
   "execution_count": 39,
   "metadata": {
    "_kg_hide-input": true,
    "_uuid": "c80d9b1b18c5c6b1edbf304a24de8d2bcba3b273"
   },
   "outputs": [],
   "source": [
    "def train_model(X, X_test, y, params, folds, model_type='lgb', plot_feature_importance=False, averaging='usual', model=None):\n",
    "    oof = np.zeros(len(X))\n",
    "    prediction = np.zeros(len(X_test))\n",
    "    scores = []\n",
    "    feature_importance = pd.DataFrame()\n",
    "    for fold_n, (train_index, valid_index) in enumerate(folds.split(X, y)):\n",
    "        print('Fold', fold_n, 'started at', time.ctime())\n",
    "        X_train, X_valid = X.values[train_index], X.values[valid_index]\n",
    "        y_train, y_valid = y.values[train_index], y.values[valid_index]\n",
    "        \n",
    "        if model_type == 'lgb':\n",
    "            train_data = lgb.Dataset(X_train, label=y_train)\n",
    "            valid_data = lgb.Dataset(X_valid, label=y_valid)\n",
    "            \n",
    "            model = lgb.train(params,\n",
    "                    train_data,\n",
    "                    num_boost_round=20000,\n",
    "                    valid_sets = [train_data, valid_data],\n",
    "                    verbose_eval=1000,\n",
    "                    early_stopping_rounds = 200)\n",
    "            \n",
    "            y_pred_valid = model.predict(X_valid)\n",
    "            y_pred = model.predict(X_test, num_iteration=model.best_iteration)\n",
    "            \n",
    "        if model_type == 'xgb':\n",
    "            train_data = xgb.DMatrix(data=X_train, label=y_train, feature_names=X_train.columns)\n",
    "            valid_data = xgb.DMatrix(data=X_valid, label=y_valid, feature_names=X_train.columns)\n",
    "\n",
    "            watchlist = [(train_data, 'train'), (valid_data, 'valid_data')]\n",
    "            model = xgb.train(dtrain=train_data, num_boost_round=20000, evals=watchlist, early_stopping_rounds=200, verbose_eval=500, params=params)\n",
    "            y_pred_valid = model.predict(xgb.DMatrix(X_valid, feature_names=X_train.columns), ntree_limit=model.best_ntree_limit)\n",
    "            y_pred = model.predict(xgb.DMatrix(X_test, feature_names=X_train.columns), ntree_limit=model.best_ntree_limit)\n",
    "        \n",
    "        if model_type == 'sklearn':\n",
    "            model = model\n",
    "            model.fit(X_train, y_train)\n",
    "            y_pred_valid = model.predict_proba(X_valid)[:, 1].reshape(-1,)\n",
    "            score = roc_auc_score(y_valid, y_pred_valid)\n",
    "            # print(f'Fold {fold_n}. AUC: {score:.4f}.')\n",
    "            # print('')\n",
    "            \n",
    "            y_pred = model.predict_proba(X_test)[:, 1]\n",
    "            \n",
    "        if model_type == 'glm':\n",
    "            model = sm.GLM(y_train, X_train, family=sm.families.Binomial())\n",
    "            model_results = model.fit()\n",
    "            model_results.predict(X_test)\n",
    "            y_pred_valid = model_results.predict(X_valid).reshape(-1,)\n",
    "            score = roc_auc_score(y_valid, y_pred_valid)\n",
    "            \n",
    "            y_pred = model_results.predict(X_test)\n",
    "            \n",
    "        if model_type == 'cat':\n",
    "            model = CatBoostClassifier(iterations=20000, learning_rate=0.1, loss_function='Logloss',  eval_metric='AUC', **params)\n",
    "            model.fit(X_train, y_train, eval_set=(X_valid, y_valid), cat_features=[], use_best_model=True, verbose=False)\n",
    "\n",
    "            y_pred_valid = model.predict_proba(X_valid)\n",
    "            y_pred = model.predict_proba(X_test)\n",
    "            \n",
    "        oof[valid_index] = y_pred_valid.reshape(-1,)\n",
    "        scores.append(log_loss(y_valid, y_pred_valid))\n",
    "\n",
    "        if averaging == 'usual':\n",
    "            prediction += y_pred\n",
    "        elif averaging == 'rank':\n",
    "            prediction += pd.Series(y_pred).rank().values  \n",
    "        \n",
    "        if model_type == 'lgb':\n",
    "            # feature importance\n",
    "            fold_importance = pd.DataFrame()\n",
    "            fold_importance[\"feature\"] = X.columns\n",
    "            fold_importance[\"importance\"] = model.feature_importance()\n",
    "            fold_importance[\"fold\"] = fold_n + 1\n",
    "            feature_importance = pd.concat([feature_importance, fold_importance], axis=0)\n",
    "\n",
    "    prediction /= n_fold\n",
    "    \n",
    "    print('CV mean score: {0:.4f}, std: {1:.4f}.'.format(np.mean(scores), np.std(scores)))\n",
    "    \n",
    "    if model_type == 'lgb':\n",
    "        feature_importance[\"importance\"] /= n_fold\n",
    "        if plot_feature_importance:\n",
    "            cols = feature_importance[[\"feature\", \"importance\"]].groupby(\"feature\").mean().sort_values(\n",
    "                by=\"importance\", ascending=False)[:50].index\n",
    "\n",
    "            best_features = feature_importance.loc[feature_importance.feature.isin(cols)]\n",
    "\n",
    "            plt.figure(figsize=(16, 12));\n",
    "            sns.barplot(x=\"importance\", y=\"feature\", data=best_features.sort_values(by=\"importance\", ascending=False));\n",
    "            plt.title('LGB Features (avg over folds)');\n",
    "        \n",
    "            return oof, prediction, feature_importance\n",
    "        return oof, prediction, scores\n",
    "    \n",
    "    else:\n",
    "        return oof, prediction, scores"
   ]
  },
  {
   "cell_type": "code",
   "execution_count": 40,
   "metadata": {
    "_uuid": "9b5aadf91bf33c539914a96c06da2bbd4b5d3833"
   },
   "outputs": [],
   "source": [
    "X1 = X.copy()\n",
    "X_test1 = X_test.copy()"
   ]
  },
  {
   "cell_type": "markdown",
   "metadata": {
    "_uuid": "ab51d7c80138a4c8e7b64716718992e597c98b9a"
   },
   "source": [
    "Scaling is necessary for linear models!"
   ]
  },
  {
   "cell_type": "code",
   "execution_count": 41,
   "metadata": {
    "_uuid": "2132e04c68518da07bf62d6df0a0f39cd0ba5722"
   },
   "outputs": [],
   "source": [
    "scaler = StandardScaler()\n",
    "X1[['WScore_1', 'LScore_1', 'LScore_2', 'WScore_2']] = scaler.fit_transform(X1[['WScore_1', 'LScore_1', 'LScore_2', 'WScore_2']])\n",
    "X_test1[['WScore_1', 'LScore_1', 'LScore_2', 'WScore_2']] = scaler.transform(X_test1[['WScore_1', 'LScore_1', 'LScore_2', 'WScore_2']])"
   ]
  },
  {
   "cell_type": "code",
   "execution_count": 42,
   "metadata": {
    "_uuid": "ebe5bb8e0273243127533cfe1bf5d9fb988b63fa"
   },
   "outputs": [
    {
     "name": "stdout",
     "output_type": "stream",
     "text": [
      "Fold 0 started at Tue Feb 19 06:26:14 2019\n",
      "Fold 1 started at Tue Feb 19 06:26:14 2019\n",
      "Fold 2 started at Tue Feb 19 06:26:14 2019\n",
      "Fold 3 started at Tue Feb 19 06:26:14 2019\n",
      "Fold 4 started at Tue Feb 19 06:26:14 2019\n",
      "CV mean score: 0.5277, std: 0.0184.\n",
      "CPU times: user 68 ms, sys: 92 ms, total: 160 ms\n",
      "Wall time: 49.3 ms\n"
     ]
    }
   ],
   "source": [
    "%%time\n",
    "model = linear_model.LogisticRegression(C=0.0001)\n",
    "oof_lr, prediction_lr, scores = train_model(X1, X_test1, y, params=None, folds=folds, model_type='sklearn', model=model)"
   ]
  },
  {
   "cell_type": "code",
   "execution_count": 43,
   "metadata": {
    "_uuid": "ebe234a28f80981bdffd2bbb916261d3fc72492b",
    "scrolled": true
   },
   "outputs": [
    {
     "name": "stdout",
     "output_type": "stream",
     "text": [
      "Fold 0 started at Tue Feb 19 06:26:14 2019\n",
      "Training until validation scores don't improve for 200 rounds.\n",
      "Early stopping, best iteration is:\n",
      "[671]\ttraining's binary_logloss: 0.0439102\tvalid_1's binary_logloss: 0.0402531\n",
      "Fold 1 started at Tue Feb 19 06:26:14 2019\n",
      "Training until validation scores don't improve for 200 rounds.\n",
      "Early stopping, best iteration is:\n",
      "[649]\ttraining's binary_logloss: 0.0418671\tvalid_1's binary_logloss: 0.0533256\n",
      "Fold 2 started at Tue Feb 19 06:26:15 2019\n",
      "Training until validation scores don't improve for 200 rounds.\n",
      "Early stopping, best iteration is:\n",
      "[645]\ttraining's binary_logloss: 0.0430793\tvalid_1's binary_logloss: 0.0515054\n",
      "Fold 3 started at Tue Feb 19 06:26:15 2019\n",
      "Training until validation scores don't improve for 200 rounds.\n",
      "Early stopping, best iteration is:\n",
      "[655]\ttraining's binary_logloss: 0.0440307\tvalid_1's binary_logloss: 0.0458865\n",
      "Fold 4 started at Tue Feb 19 06:26:16 2019\n",
      "Training until validation scores don't improve for 200 rounds.\n",
      "Early stopping, best iteration is:\n",
      "[639]\ttraining's binary_logloss: 0.0443187\tvalid_1's binary_logloss: 0.0512192\n",
      "CV mean score: 0.0484, std: 0.0048.\n"
     ]
    },
    {
     "data": {
      "image/png": "[encoded data removed]",
      "text/plain": [
       "<Figure size 1152x864 with 1 Axes>"
      ]
     },
     "metadata": {},
     "output_type": "display_data"
    }
   ],
   "source": [
    "params = {'num_leaves': 8,\n",
    "         'min_data_in_leaf': 42,\n",
    "         'objective': 'binary',\n",
    "         'max_depth': 5,\n",
    "         'learning_rate': 0.0123,\n",
    "         'boosting': 'gbdt',\n",
    "         'bagging_freq': 5,\n",
    "         'feature_fraction': 0.8201,\n",
    "         'bagging_seed': 11,\n",
    "         'reg_alpha': 1.728910519108444,\n",
    "         'reg_lambda': 4.9847051755586085,\n",
    "         'random_state': 42,\n",
    "         'verbosity': -1,\n",
    "         'subsample': 0.81,\n",
    "         'min_gain_to_split': 0.01077313523861969,\n",
    "         'min_child_weight': 19.428902804238373,\n",
    "         'num_threads': 4}\n",
    "oof_lgb, prediction_lgb, scores = train_model(X, X_test, y, params=params, folds=folds, model_type='lgb', plot_feature_importance=True)"
   ]
  },
  {
   "cell_type": "code",
   "execution_count": 44,
   "metadata": {
    "_uuid": "6d038095b55698742e887d4c08e5212b2e65122b"
   },
   "outputs": [],
   "source": [
    "test['Pred'] = prediction_lr\n",
    "test.to_csv('submission.csv', index=False)"
   ]
  },
  {
   "cell_type": "code",
   "execution_count": 45,
   "metadata": {
    "_uuid": "a640c9e9bdef1297e9a67d8fa4d57157938c7326"
   },
   "outputs": [],
   "source": [
    "test['Pred'] = prediction_lgb\n",
    "test.to_csv('lgb.csv', index=False)"
   ]
  }
 ],
 "metadata": {
  "kernelspec": {
   "display_name": "Python 3",
   "language": "python",
   "name": "python3"
  },
  "language_info": {
   "codemirror_mode": {
    "name": "ipython",
    "version": 3
   },
   "file_extension": ".py",
   "mimetype": "text/x-python",
   "name": "python",
   "nbconvert_exporter": "python",
   "pygments_lexer": "ipython3",
   "version": "3.6.6"
  }
 },
 "nbformat": 4,
 "nbformat_minor": 1
}

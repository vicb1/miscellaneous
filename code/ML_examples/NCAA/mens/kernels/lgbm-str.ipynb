{
 "cells": [
  {
   "cell_type": "code",
   "execution_count": 1,
   "metadata": {
    "_cell_guid": "79c7e3d0-c299-4dcb-8224-4455121ee9b0",
    "_uuid": "d629ff2d2480ee46fbb7e2d37f6b5fab8052498a"
   },
   "outputs": [],
   "source": [
    "import numpy as np\n",
    "import pandas as pd\n",
    "from sklearn.model_selection import train_test_split \n",
    "import lightgbm as lgb"
   ]
  },
  {
   "cell_type": "code",
   "execution_count": 2,
   "metadata": {
    "_uuid": "3cc566e5d1800183353c01bddf49e39e56add165"
   },
   "outputs": [],
   "source": [
    "t_res = pd.read_csv('../input/datafiles/NCAATourneyCompactResults.csv')\n",
    "t_ds = pd.read_csv('../input/datafiles/NCAATourneySeeds.csv')\n",
    "sub = pd.read_csv('../input/SampleSubmissionStage1.csv')"
   ]
  },
  {
   "cell_type": "code",
   "execution_count": 3,
   "metadata": {
    "_uuid": "019510cd79ef82a22cda8a9317b6ee47a5104e1b"
   },
   "outputs": [],
   "source": [
    "t_ds['seed_int'] = t_ds.Seed.apply(lambda a : int(a[1:3]))"
   ]
  },
  {
   "cell_type": "code",
   "execution_count": 4,
   "metadata": {
    "_uuid": "946f77d50ca574daed7cea688e99f87a3e0d3c30"
   },
   "outputs": [],
   "source": [
    "drop_lbls = ['DayNum', 'WScore', 'LScore', 'WLoc', 'NumOT']\n",
    "t_ds.drop(labels=['Seed'], inplace=True, axis=1)\n",
    "t_res.drop(labels=drop_lbls, inplace=True, axis=1)"
   ]
  },
  {
   "cell_type": "code",
   "execution_count": 5,
   "metadata": {
    "_uuid": "2cbd8d4963ff333e739d1c1084fa50cb17812f08"
   },
   "outputs": [],
   "source": [
    "ren1 = {'TeamID':'WTeamID', 'seed_int':'WS'}\n",
    "ren2 = {'TeamID':'LTeamID', 'seed_int':'LS'}"
   ]
  },
  {
   "cell_type": "code",
   "execution_count": 6,
   "metadata": {
    "_uuid": "5a836b193c369b994f399d466466a29d8bef0c8a"
   },
   "outputs": [],
   "source": [
    "df1 = pd.merge(left=t_res, right=t_ds.rename(columns=ren1), how='left', on=['Season', 'WTeamID'])\n",
    "df2 = pd.merge(left=df1, right=t_ds.rename(columns=ren2), on=['Season', 'LTeamID'])\n",
    "\n",
    "df_w = pd.DataFrame()\n",
    "df_w['dff'] = df2.WS - df2.LS\n",
    "df_w['rsl'] = 1\n",
    "\n",
    "df_l = pd.DataFrame()\n",
    "df_l['dff'] = -df_w['dff']\n",
    "df_l['rsl'] = 0\n",
    "\n",
    "df_prd = pd.concat((df_w, df_l))"
   ]
  },
  {
   "cell_type": "code",
   "execution_count": 7,
   "metadata": {
    "_uuid": "37d5ab72b53a029d4d019f77b981dbf76aeea5a7"
   },
   "outputs": [],
   "source": [
    "X = df_prd.dff.values.reshape(-1,1)\n",
    "y = df_prd.rsl.values"
   ]
  },
  {
   "cell_type": "code",
   "execution_count": 8,
   "metadata": {
    "_uuid": "6cb43d7571a42d27c116245245543012862b41a0"
   },
   "outputs": [],
   "source": [
    "X_test = np.zeros(shape=(len(sub), 1))"
   ]
  },
  {
   "cell_type": "code",
   "execution_count": 9,
   "metadata": {
    "_uuid": "1fad13980cc928c462f3cb96879a3ec6297bf421"
   },
   "outputs": [],
   "source": [
    "for ind, row in sub.iterrows():\n",
    "    yr, o, t = [int(x) for x in row.ID.split('_')]  \n",
    "    X_test[ind, 0] = t_ds[(t_ds.TeamID == o) & (t_ds.Season == yr)].seed_int.values[0] - t_ds[(t_ds.TeamID == t) & (t_ds.Season == yr)].seed_int.values[0]"
   ]
  },
  {
   "cell_type": "code",
   "execution_count": 10,
   "metadata": {
    "_uuid": "6310e6d92b5782c534e45582d3a94c1eff2f840f"
   },
   "outputs": [],
   "source": [
    "X_train, X_val, y_train, y_val = train_test_split(X, y, test_size=0.1, random_state=0)"
   ]
  },
  {
   "cell_type": "code",
   "execution_count": 11,
   "metadata": {
    "_uuid": "d30d925db2d807fda56023f172c4f4496b14d58c"
   },
   "outputs": [
    {
     "name": "stdout",
     "output_type": "stream",
     "text": [
      "Training until validation scores don't improve for 50 rounds.\n",
      "[200]\tvalid_0's binary_logloss: 0.548127\n",
      "[400]\tvalid_0's binary_logloss: 0.54068\n",
      "[600]\tvalid_0's binary_logloss: 0.539931\n",
      "[800]\tvalid_0's binary_logloss: 0.539775\n",
      "Early stopping, best iteration is:\n",
      "[798]\tvalid_0's binary_logloss: 0.539775\n"
     ]
    }
   ],
   "source": [
    "params = {\"objective\": \"binary\",\n",
    "          \"boosting_type\": \"gbdt\",\n",
    "          \"learning_rate\": 0.01,\n",
    "          \"num_leaves\": 31,\n",
    "          \"min_data_in_leaf\": 10,\n",
    "          \"min_child_samples\": 10,\n",
    "          }\n",
    "\n",
    "dtrain = lgb.Dataset(X_train, y_train)\n",
    "dvalid = lgb.Dataset(X_val, y_val, reference=dtrain)\n",
    "bst = lgb.train(params, dtrain, 1000, valid_sets=dvalid, verbose_eval=200,\n",
    "    early_stopping_rounds=50)"
   ]
  },
  {
   "cell_type": "code",
   "execution_count": 12,
   "metadata": {
    "_uuid": "eeedec37fd39afd9d090c0155132c04c09b84a3f"
   },
   "outputs": [],
   "source": [
    "test_pred = bst.predict(\n",
    "    X_test, num_iteration=bst.best_iteration)"
   ]
  },
  {
   "cell_type": "code",
   "execution_count": 13,
   "metadata": {
    "_uuid": "f7c025d37ce35e0abf558258b15b5f2ec4c77312"
   },
   "outputs": [],
   "source": [
    "sub.Pred = test_pred   \n",
    "sub.to_csv('sub.csv', index=False)"
   ]
  }
 ],
 "metadata": {
  "kernelspec": {
   "display_name": "Python 3",
   "language": "python",
   "name": "python3"
  },
  "language_info": {
   "codemirror_mode": {
    "name": "ipython",
    "version": 3
   },
   "file_extension": ".py",
   "mimetype": "text/x-python",
   "name": "python",
   "nbconvert_exporter": "python",
   "pygments_lexer": "ipython3",
   "version": "3.6.6"
  }
 },
 "nbformat": 4,
 "nbformat_minor": 1
}

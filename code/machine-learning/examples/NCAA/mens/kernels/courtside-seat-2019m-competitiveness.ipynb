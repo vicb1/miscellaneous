{
 "cells": [
  {
   "cell_type": "code",
   "execution_count": 1,
   "metadata": {
    "_cell_guid": "b1076dfc-b9ad-4769-8c92-a6c4dae69d19",
    "_uuid": "8f2839f25d086af736a60e9eeb907d3b93b6e0e5"
   },
   "outputs": [],
   "source": [
    "import numpy as np\n",
    "import pandas as pd\n",
    "from sklearn import *\n",
    "\n",
    "teams = pd.read_csv('../input/datafiles/Teams.csv')\n",
    "teams2 = pd.read_csv('../input/datafiles/TeamSpellings.csv', encoding='latin-1')\n",
    "season_cresults = pd.read_csv('../input/datafiles/RegularSeasonCompactResults.csv')\n",
    "season_dresults = pd.read_csv('../input/datafiles/RegularSeasonDetailedResults.csv')\n",
    "tourney_cresults = pd.read_csv('../input/datafiles/NCAATourneyCompactResults.csv')\n",
    "tourney_dresults = pd.read_csv('../input/datafiles/NCAATourneyDetailedResults.csv')\n",
    "slots = pd.read_csv('../input/datafiles/NCAATourneySlots.csv')\n",
    "seeds = pd.read_csv('../input/datafiles/NCAATourneySeeds.csv')\n",
    "seeds = {'_'.join(map(str,[int(k1),k2])):int(v[1:3]) for k1, v, k2 in seeds[['Season', 'Seed', 'TeamID']].values}\n",
    "seeds = {**seeds, **{k.replace('2018_','2019_'):seeds[k] for k in seeds if '2018_' in k}}\n",
    "mo = pd.read_csv('../input/masseyordinals/MasseyOrdinals.csv')\n",
    "mo = {'_'.join(map(str,[int(k1),k2])):int(v) for k1, v, k2 in mo[['Season','OrdinalRank','TeamID']].values}\n",
    "mo = {**mo, **{k.replace('2018_','2019_'):mo[k] for k in mo if '2018_' in k}}\n",
    "cities = pd.read_csv('../input/datafiles/Cities.csv')\n",
    "gcities = pd.read_csv('../input/datafiles/GameCities.csv')\n",
    "seasons = pd.read_csv('../input/datafiles/Seasons.csv')\n",
    "sub = pd.read_csv('../input/SampleSubmissionStage1.csv')\n",
    "\n",
    "#TeamCoaches.csv\n",
    "#TeamConferences.csv\n",
    "#Conferences.csv"
   ]
  },
  {
   "cell_type": "code",
   "execution_count": 2,
   "metadata": {
    "_uuid": "7300074d966fa0de156cfcf881264da819a9c208"
   },
   "outputs": [],
   "source": [
    "teams2 = teams2.groupby(by='TeamID', as_index=False)['TeamNameSpelling'].count()\n",
    "teams2.columns = ['TeamID', 'TeamNameCount']\n",
    "teams = pd.merge(teams, teams2, how='left', on=['TeamID'])\n",
    "del teams2"
   ]
  },
  {
   "cell_type": "code",
   "execution_count": 3,
   "metadata": {
    "_uuid": "c11ba0eb5d72035c8e5ef1f4959284d505095658"
   },
   "outputs": [],
   "source": [
    "season_cresults['ST'] = 'S'\n",
    "season_dresults['ST'] = 'S'\n",
    "tourney_cresults['ST'] = 'T'\n",
    "tourney_dresults['ST'] = 'T'\n",
    "#games = pd.concat((season_cresults, tourney_cresults), axis=0, ignore_index=True)\n",
    "games = pd.concat((season_dresults, tourney_dresults), axis=0, ignore_index=True)\n",
    "games.reset_index(drop=True, inplace=True)\n",
    "games['WLoc'] = games['WLoc'].map({'A': 1, 'H': 2, 'N': 3})"
   ]
  },
  {
   "cell_type": "code",
   "execution_count": 4,
   "metadata": {
    "_uuid": "12c3ca42aefba7510e8e6470b27ceafec2d66a06"
   },
   "outputs": [],
   "source": [
    "games['ID'] = games.apply(lambda r: '_'.join(map(str, [r['Season']]+sorted([r['WTeamID'],r['LTeamID']]))), axis=1)\n",
    "games['IDTeams'] = games.apply(lambda r: '_'.join(map(str, sorted([r['WTeamID'],r['LTeamID']]))), axis=1)\n",
    "games['Team1'] = games.apply(lambda r: sorted([r['WTeamID'],r['LTeamID']])[0], axis=1)\n",
    "games['Team2'] = games.apply(lambda r: sorted([r['WTeamID'],r['LTeamID']])[1], axis=1)\n",
    "games['IDTeam1'] = games.apply(lambda r: '_'.join(map(str, [r['Season'], r['Team1']])), axis=1)\n",
    "games['IDTeam2'] = games.apply(lambda r: '_'.join(map(str, [r['Season'], r['Team2']])), axis=1)"
   ]
  },
  {
   "cell_type": "code",
   "execution_count": 5,
   "metadata": {
    "_uuid": "fe415e9d129f1fb6186c7c0771617f2b40516a09"
   },
   "outputs": [],
   "source": [
    "games['Team1Seed'] = games['IDTeam1'].map(seeds).fillna(0)\n",
    "games['Team2Seed'] = games['IDTeam2'].map(seeds).fillna(0)\n",
    "games['Team1MO'] = games['IDTeam1'].map(mo).fillna(0)\n",
    "games['Team2MO'] = games['IDTeam2'].map(mo).fillna(0)"
   ]
  },
  {
   "cell_type": "code",
   "execution_count": 6,
   "metadata": {
    "_uuid": "e69cf869edbe1320e20be0d71640fdf1ef6d89c4"
   },
   "outputs": [],
   "source": [
    "games['ScoreDiff'] = games['WScore'] - games['LScore']\n",
    "games['Pred'] = games.apply(lambda r: 1. if sorted([r['WTeamID'],r['LTeamID']])[0]==r['WTeamID'] else 0., axis=1)\n",
    "games['ScoreDiffNorm'] = games.apply(lambda r: r['ScoreDiff'] * -1 if r['Pred'] == 0. else r['ScoreDiff'], axis=1)\n",
    "games['SeedDiff'] = games['Team1Seed'] - games['Team2Seed']\n",
    "games['MODiff'] = games['Team1MO'] - games['Team2MO']\n",
    "games = games.fillna(-1)"
   ]
  },
  {
   "cell_type": "code",
   "execution_count": 7,
   "metadata": {
    "_uuid": "90de10861433afb9bd185ed1a505babe252803e0"
   },
   "outputs": [],
   "source": [
    "#competitiveness include more options - overfitting for now\n",
    "c_score_col = ['NumOT', 'WFGM', 'WFGA', 'WFGM3', 'WFGA3', 'WFTM', 'WFTA', 'WOR', 'WDR', 'WAst', 'WTO', 'WStl',\n",
    " 'WBlk', 'WPF', 'LFGM', 'LFGA', 'LFGM3', 'LFGA3', 'LFTM', 'LFTA', 'LOR', 'LDR', 'LAst', 'LTO', 'LStl',\n",
    " 'LBlk', 'LPF']\n",
    "c_score_agg = ['sum', 'mean', 'median', 'max', 'min', 'std', 'skew', 'nunique']\n",
    "gb = games.groupby(by=['IDTeams']).agg({k: c_score_agg for k in c_score_col}).reset_index()\n",
    "gb.columns = [''.join(c) + '_c_score' for c in gb.columns]\n",
    "\n",
    "#for now\n",
    "games = games[games['ST']=='T']"
   ]
  },
  {
   "cell_type": "code",
   "execution_count": 8,
   "metadata": {
    "_uuid": "c4ced1beff06d68d64b67599f012d3746e453f72"
   },
   "outputs": [],
   "source": [
    "sub['WLoc'] = 3\n",
    "sub['Season'] = sub['ID'].map(lambda x: x.split('_')[0])\n",
    "sub['Season'] = sub['ID'].map(lambda x: x.split('_')[0])\n",
    "sub['Season'] = sub['Season'].astype(int)\n",
    "sub['Team1'] = sub['ID'].map(lambda x: x.split('_')[1])\n",
    "sub['Team2'] = sub['ID'].map(lambda x: x.split('_')[2])\n",
    "sub['IDTeams'] = sub.apply(lambda r: '_'.join(map(str, [r['Team1'], r['Team2']])), axis=1)\n",
    "sub['IDTeam1'] = sub.apply(lambda r: '_'.join(map(str, [r['Season'], r['Team1']])), axis=1)\n",
    "sub['IDTeam2'] = sub.apply(lambda r: '_'.join(map(str, [r['Season'], r['Team2']])), axis=1)\n",
    "sub['Team1Seed'] = sub['IDTeam1'].map(seeds).fillna(0)\n",
    "sub['Team2Seed'] = sub['IDTeam2'].map(seeds).fillna(0)\n",
    "sub['Team1MO'] = sub['IDTeam1'].map(mo).fillna(0)\n",
    "sub['Team2MO'] = sub['IDTeam2'].map(mo).fillna(0)\n",
    "sub['SeedDiff'] = sub['Team1Seed'] - sub['Team2Seed'] \n",
    "sub['MODiff'] = sub['Team1MO'] - sub['Team2MO']\n",
    "sub = sub.fillna(-1)"
   ]
  },
  {
   "cell_type": "code",
   "execution_count": 9,
   "metadata": {
    "_uuid": "c3c42f1b15c7fed0bff047495e4ea62d5a640c7f"
   },
   "outputs": [],
   "source": [
    "games = pd.merge(games, gb, how='left', left_on='IDTeams', right_on='IDTeams_c_score')\n",
    "sub = pd.merge(sub, gb, how='left', left_on='IDTeams', right_on='IDTeams_c_score')"
   ]
  },
  {
   "cell_type": "code",
   "execution_count": 10,
   "metadata": {
    "_uuid": "8fb06eebd048618e6d40a949e4dbc44ec6366bb3"
   },
   "outputs": [
    {
     "name": "stdout",
     "output_type": "stream",
     "text": [
      "Log Loss: 0.514168028998628\n"
     ]
    }
   ],
   "source": [
    "col = [c for c in games.columns if c not in ['ID', 'DayNum', 'ST', 'Team1', 'Team2', 'IDTeams', 'IDTeam1', 'IDTeam2', 'WTeamID', 'WScore', 'LTeamID', 'LScore', 'NumOT', 'Pred', 'ScoreDiff', 'ScoreDiffNorm', 'WLoc'] + c_score_col]\n",
    "\n",
    "reg = linear_model.LinearRegression()\n",
    "reg.fit(games[col].fillna(-1), games['Pred'])\n",
    "pred = reg.predict(games[col].fillna(-1)).clip(0,1)\n",
    "print('Log Loss:', metrics.log_loss(games['Pred'], pred))\n",
    "sub['Pred'] = reg.predict(sub[col].fillna(-1)).clip(0,1)\n",
    "sub[['ID', 'Pred']].to_csv('submission.csv', index=False)"
   ]
  }
 ],
 "metadata": {
  "kernelspec": {
   "display_name": "Python 3",
   "language": "python",
   "name": "python3"
  },
  "language_info": {
   "codemirror_mode": {
    "name": "ipython",
    "version": 3
   },
   "file_extension": ".py",
   "mimetype": "text/x-python",
   "name": "python",
   "nbconvert_exporter": "python",
   "pygments_lexer": "ipython3",
   "version": "3.6.6"
  }
 },
 "nbformat": 4,
 "nbformat_minor": 1
}

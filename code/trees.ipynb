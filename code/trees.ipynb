{
 "cells": [
  {
   "cell_type": "code",
   "execution_count": 7,
   "metadata": {},
   "outputs": [
    {
     "name": "stdout",
     "output_type": "stream",
     "text": [
      "Node('/Udo')\n",
      "Node('/Udo/Dan/Joe')\n",
      "Udo\n",
      "├── Marc\n",
      "│   └── Lian\n",
      "└── Dan\n",
      "    ├── Jet\n",
      "    ├── Jan\n",
      "    └── Joe\n",
      "(Node('/Udo/Dan/Jet'), Node('/Udo/Dan/Jan'), Node('/Udo/Dan/Joe'))\n"
     ]
    }
   ],
   "source": [
    "from anytree import Node, RenderTree\n",
    "\n",
    "udo = Node(\"Udo\")\n",
    "marc = Node(\"Marc\", parent=udo)\n",
    "lian = Node(\"Lian\", parent=marc)\n",
    "dan = Node(\"Dan\", parent=udo)\n",
    "jet = Node(\"Jet\", parent=dan)\n",
    "jan = Node(\"Jan\", parent=dan)\n",
    "joe = Node(\"Joe\", parent=dan)\n",
    "\n",
    "print(udo)\n",
    "# Node('/Udo')\n",
    "print(joe)\n",
    "# Node('/Udo/Dan/Joe')\n",
    "\n",
    "for pre, fill, node in RenderTree(udo):\n",
    "    print(\"%s%s\" % (pre, node.name))\n",
    "# Udo\n",
    "# ├── Marc\n",
    "# │   └── Lian\n",
    "# └── Dan\n",
    "#     ├── Jet\n",
    "#     ├── Jan\n",
    "#     └── Joe\n",
    "\n",
    "print(dan.children)\n",
    "# (Node('/Udo/Dan/Jet'), Node('/Udo/Dan/Jan'), Node('/Udo/Dan/Joe'))"
   ]
  },
  {
   "cell_type": "code",
   "execution_count": 14,
   "metadata": {},
   "outputs": [
    {
     "name": "stdout",
     "output_type": "stream",
     "text": [
      "Creating new node for  a\n",
      "Creating new node for  ab\n",
      "Creating new node for  bc\n",
      "Creating new node for  bd\n",
      "Creating new node for  ae\n",
      "Creating new node for  ec\n",
      "Creating new node for  ad\n",
      "Creating new node for  dd\n",
      "Creating new node for  dc\n",
      "Creating new node for  cf\n",
      "a\n",
      "├── ab\n",
      "│   ├── bc\n",
      "│   └── bd\n",
      "├── ae\n",
      "│   └── ec\n",
      "└── ad\n",
      "    ├── dd\n",
      "    └── dc\n",
      "        └── cf\n"
     ]
    }
   ],
   "source": [
    "import anytree\n",
    "from anytree import Node, RenderTree\n",
    "\n",
    "data = [\"abc\", \"abd\", \"aec\", \"add\", \"adcf\"]\n",
    "\n",
    "nodes = {}\n",
    "first_node = None\n",
    "\n",
    "for elem in data:\n",
    "    parent_node = None\n",
    "    parent_node_name = \"\"\n",
    "    for i, val in enumerate(elem):\n",
    "        if i not in nodes:\n",
    "            nodes[i] = {}\n",
    "        key = parent_node_name + val\n",
    "        if key not in nodes[i]:\n",
    "            print(\"Creating new node for \", key)\n",
    "            nodes[i][key] = Node(key, parent=parent_node)\n",
    "\n",
    "        if first_node is None:\n",
    "            first_node = nodes[i][key]\n",
    "        parent_node = nodes[i][key]\n",
    "        parent_node_name = val\n",
    "\n",
    "for pre, fill, node in RenderTree(first_node):\n",
    "    print(\"%s%s\" % (pre, node.name))"
   ]
  }
 ],
 "metadata": {
  "kernelspec": {
   "display_name": "crypto-arbitrage",
   "language": "python",
   "name": "crypto-arbitrage"
  },
  "language_info": {
   "codemirror_mode": {
    "name": "ipython",
    "version": 3
   },
   "file_extension": ".py",
   "mimetype": "text/x-python",
   "name": "python",
   "nbconvert_exporter": "python",
   "pygments_lexer": "ipython3",
   "version": "3.7.7"
  }
 },
 "nbformat": 4,
 "nbformat_minor": 4
}

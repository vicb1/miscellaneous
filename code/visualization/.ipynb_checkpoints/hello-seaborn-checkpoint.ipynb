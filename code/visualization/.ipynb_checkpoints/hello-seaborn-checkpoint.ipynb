{
 "cells": [
  {
   "cell_type": "markdown",
   "metadata": {},
   "source": [
    "**[Data Visualization: From Non-Coder to Coder Micro-Course Home Page](https://www.kaggle.com/learn/data-visualization-from-non-coder-to-coder)**\n",
    "\n",
    "---\n"
   ]
  },
  {
   "cell_type": "markdown",
   "metadata": {},
   "source": [
    "# Welcome to Data Visualization: From Non-Coder to Coder!  \n",
    "\n",
    "In this hands-on micro-course, you'll learn how to take your data visualizations to the next level with [seaborn](https://seaborn.pydata.org/index.html), a powerful but easy-to-use data visualization tool.  To use seaborn, you'll also learn a bit about how to write code in Python, a popular programming language.  That said,\n",
    "- the micro-course is aimed at those with no prior programming experience, and\n",
    "- each chart uses short and simple code, making seaborn much faster and easier to use than many other data visualization tools (_such as Excel, for instance_).  \n",
    "\n",
    "So, if you've never written a line of code, and you want to learn the **_bare minimum_** to start making faster, more attractive plots today, you're in the right place!  To take a peek at some of the charts you'll make, check out the figures below.\n",
    "\n",
    "![tut1_plots_you_make](https://i.imgur.com/54BoIBW.png)\n",
    "\n",
    "_Note: If you have a strong background in Python (and Pandas), you might prefer to take our more advanced [Data Visualization micro-course](https://www.kaggle.com/learn/data-visualization)._\n",
    "\n",
    "# Your coding environment\n",
    "\n",
    "Take the time now to scroll quickly up and down this page.  You'll notice that there are a lot of different types of information, including:\n",
    "1. **text** (like the text you're reading right now!),\n",
    "2. **code** (which is always contained inside a gray box called a **code cell**), and\n",
    "2. **code output** (or the printed result from running code that always appears immediately below the corresponding code).\n",
    "\n",
    "We refer to these pages as **Jupyter notebooks** (or, often just **notebooks**), and we'll work with them throughout the mini-course.  Another example of a notebook can be found in the image below.  \n",
    "\n",
    "![tut0_notebook](https://i.imgur.com/AD1dIVg.png)\n",
    "\n",
    "In the notebook you're reading now, we've already run all of the code for you.  Soon, you will work with a notebook that allows you to write and run your own code!  \n",
    "\n",
    "# Set up the notebook\n",
    "\n",
    "There are a few lines of code that you'll need to run at the top of every notebook to set up your coding environment.  It's not important to understand these lines of code now, and so we won't go into the details just yet.  (_Notice that it returns as output: `Setup Complete`._)"
   ]
  },
  {
   "cell_type": "code",
   "execution_count": 5,
   "metadata": {
    "collapsed": false
   },
   "outputs": [
    {
     "name": "stdout",
     "output_type": "stream",
     "text": [
      "Setup Complete\n"
     ]
    }
   ],
   "source": [
    "import pandas as pd\n",
    "import matplotlib.pyplot as plt\n",
    "%matplotlib inline\n",
    "import seaborn as sns\n",
    "print(\"Setup Complete\")"
   ]
  },
  {
   "cell_type": "markdown",
   "metadata": {},
   "source": [
    "# Load the data\n",
    "\n",
    "In this notebook, we'll work with a dataset of historical FIFA rankings for six countries: Argentina (ARG), Brazil (BRA), Spain (ESP), France (FRA), Germany (GER), and Italy (ITA).  The dataset is stored as a CSV file (short for [comma-separated values file](https://en.wikipedia.org/wiki/Comma-separated_values). Opening the CSV file in Excel shows a row for each date, along with a column for each country. \n",
    "\n",
    "![tut0_fifa_head](https://i.imgur.com/W0E7GjV.png)\n",
    "\n",
    "To load the data into the notebook, we'll use two distinct steps, implemented in the code cell below as follows:\n",
    "- begin by specifying the location (or [filepath](https://bit.ly/1lWCX7s)) where the dataset can be accessed, and then\n",
    "- use the filepath to load the contents of the dataset into the notebook."
   ]
  },
  {
   "cell_type": "code",
   "execution_count": 6,
   "metadata": {
    "collapsed": true
   },
   "outputs": [],
   "source": [
    "# Path of the file to read\n",
    "fifa_filepath = \"./input/fifa.csv\"\n",
    "\n",
    "# Read the file into a variable fifa_data\n",
    "fifa_data = pd.read_csv(fifa_filepath, index_col=\"Date\", parse_dates=True)"
   ]
  },
  {
   "cell_type": "markdown",
   "metadata": {},
   "source": [
    "![tut0_read_csv](https://i.imgur.com/I6UEDSK.png)\n",
    "\n",
    "Note that the code cell above has **four** different lines.\n",
    "\n",
    "### Comments\n",
    "\n",
    "Two of the lines are preceded by a pound sign (`#`) and contain text that appears faded and italicized. \n",
    "\n",
    "Both of these lines are completely ignored by the computer when the code is run, and they only appear here so that any human who reads the code can quickly understand it.  We refer to these two lines as **comments**, and it's good practice to include them to make sure that your code is readily interpretable.\n",
    "\n",
    "### Executable code\n",
    "\n",
    "The other two lines are **executable code**, or code that is run by the computer (_in this case, to find and load the dataset_). \n",
    "\n",
    "The first line sets the value of `fifa_filepath` to the location where the dataset can be accessed.  In this case, we've provided the filepath for you (in quotation marks).  _Note that the **comment** immediately above this line of **executable code** provides a quick description of what it does!_\n",
    "\n",
    "The second line sets the value of `fifa_data` to contain all of the information in the dataset.  This is done with `pd.read_csv`.  It is immediately followed by three different pieces of text (underlined in the image above) that are enclosed in parentheses and separated by commas.  These are used to customize the behavior when the dataset is loaded into the notebook:\n",
    " - `fifa_filepath` - The filepath for the dataset always needs to be provided first.\n",
    " - `index_col=\"Date\"` - When we load the dataset, we want each entry in the first column to denote a different row.  To do this, we set the value of `index_col` to the name of the first column (`\"Date\"`, found in cell A1 of the file when it's opened in Excel).\n",
    " - `parse_dates=True` - This tells the notebook to understand the each row label as a date (as opposed to a number or other text with a different meaning).\n",
    " \n",
    "These details will make more sense soon, when you have a chance to load your own dataset in a hands-on exercise.  \n",
    "\n",
    "> For now, it's important to remember that the end result of running both lines of code is that we can now access the dataset from the notebook by using `fifa_data`.\n",
    "\n",
    "By the way, you might have noticed that these lines of code don't have any output (whereas the lines of code you ran earlier in the notebook returned `Setup Complete` as output).  This is expected behavior -- not all code will return output, and this code is a prime example!\n",
    "\n",
    "# Examine the data\n",
    "\n",
    "Now, we'll take a quick look at the dataset in `fifa_data`, to make sure that it loaded properly.  \n",
    "\n",
    "We print the _first_ five rows of the dataset by writing one line of code as follows:\n",
    "- begin with the variable containing the dataset (in this case, `fifa_data`), and then \n",
    "- follow it with `.head()`.\n",
    "\n",
    "You can see this in the line of code below.  "
   ]
  },
  {
   "cell_type": "code",
   "execution_count": 7,
   "metadata": {
    "collapsed": false
   },
   "outputs": [
    {
     "data": {
      "text/html": [
       "<div>\n",
       "<table border=\"1\" class=\"dataframe\">\n",
       "  <thead>\n",
       "    <tr style=\"text-align: right;\">\n",
       "      <th></th>\n",
       "      <th>ARG</th>\n",
       "      <th>BRA</th>\n",
       "      <th>ESP</th>\n",
       "      <th>FRA</th>\n",
       "      <th>GER</th>\n",
       "      <th>ITA</th>\n",
       "    </tr>\n",
       "    <tr>\n",
       "      <th>Date</th>\n",
       "      <th></th>\n",
       "      <th></th>\n",
       "      <th></th>\n",
       "      <th></th>\n",
       "      <th></th>\n",
       "      <th></th>\n",
       "    </tr>\n",
       "  </thead>\n",
       "  <tbody>\n",
       "    <tr>\n",
       "      <th>1993-08-08</th>\n",
       "      <td>5.0</td>\n",
       "      <td>8.0</td>\n",
       "      <td>13.0</td>\n",
       "      <td>12.0</td>\n",
       "      <td>1.0</td>\n",
       "      <td>2.0</td>\n",
       "    </tr>\n",
       "    <tr>\n",
       "      <th>1993-09-23</th>\n",
       "      <td>12.0</td>\n",
       "      <td>1.0</td>\n",
       "      <td>14.0</td>\n",
       "      <td>7.0</td>\n",
       "      <td>5.0</td>\n",
       "      <td>2.0</td>\n",
       "    </tr>\n",
       "    <tr>\n",
       "      <th>1993-10-22</th>\n",
       "      <td>9.0</td>\n",
       "      <td>1.0</td>\n",
       "      <td>7.0</td>\n",
       "      <td>14.0</td>\n",
       "      <td>4.0</td>\n",
       "      <td>3.0</td>\n",
       "    </tr>\n",
       "    <tr>\n",
       "      <th>1993-11-19</th>\n",
       "      <td>9.0</td>\n",
       "      <td>4.0</td>\n",
       "      <td>7.0</td>\n",
       "      <td>15.0</td>\n",
       "      <td>3.0</td>\n",
       "      <td>1.0</td>\n",
       "    </tr>\n",
       "    <tr>\n",
       "      <th>1993-12-23</th>\n",
       "      <td>8.0</td>\n",
       "      <td>3.0</td>\n",
       "      <td>5.0</td>\n",
       "      <td>15.0</td>\n",
       "      <td>1.0</td>\n",
       "      <td>2.0</td>\n",
       "    </tr>\n",
       "  </tbody>\n",
       "</table>\n",
       "</div>"
      ],
      "text/plain": [
       "             ARG  BRA   ESP   FRA  GER  ITA\n",
       "Date                                       \n",
       "1993-08-08   5.0  8.0  13.0  12.0  1.0  2.0\n",
       "1993-09-23  12.0  1.0  14.0   7.0  5.0  2.0\n",
       "1993-10-22   9.0  1.0   7.0  14.0  4.0  3.0\n",
       "1993-11-19   9.0  4.0   7.0  15.0  3.0  1.0\n",
       "1993-12-23   8.0  3.0   5.0  15.0  1.0  2.0"
      ]
     },
     "execution_count": 7,
     "metadata": {},
     "output_type": "execute_result"
    }
   ],
   "source": [
    "# Print the first 5 rows of the data\n",
    "fifa_data.head()"
   ]
  },
  {
   "cell_type": "markdown",
   "metadata": {},
   "source": [
    "Check now that the first five rows agree with the image of the dataset (_from when we saw what it would look like in Excel_) above.\n",
    "\n",
    "# Plot the data\n",
    "\n",
    "In this micro-course, you'll learn about many different plot types.  In many cases, you'll only need one line of code to make a chart!\n",
    "\n",
    "For a sneak peak at what you'll learn, check out the code below that generates a line chart."
   ]
  },
  {
   "cell_type": "code",
   "execution_count": 8,
   "metadata": {
    "collapsed": false
   },
   "outputs": [
    {
     "ename": "AttributeError",
     "evalue": "module 'seaborn' has no attribute 'lineplot'",
     "output_type": "error",
     "traceback": [
      "\u001b[0;31m---------------------------------------------------------------------------\u001b[0m",
      "\u001b[0;31mAttributeError\u001b[0m                            Traceback (most recent call last)",
      "\u001b[0;32m<ipython-input-8-18ea7de9c9a1>\u001b[0m in \u001b[0;36m<module>\u001b[0;34m()\u001b[0m\n\u001b[1;32m      3\u001b[0m \u001b[1;33m\u001b[0m\u001b[0m\n\u001b[1;32m      4\u001b[0m \u001b[1;31m# Line chart showing how FIFA rankings evolved over time\u001b[0m\u001b[1;33m\u001b[0m\u001b[1;33m\u001b[0m\u001b[0m\n\u001b[0;32m----> 5\u001b[0;31m \u001b[0msns\u001b[0m\u001b[1;33m.\u001b[0m\u001b[0mlineplot\u001b[0m\u001b[1;33m(\u001b[0m\u001b[0mdata\u001b[0m\u001b[1;33m=\u001b[0m\u001b[0mfifa_data\u001b[0m\u001b[1;33m)\u001b[0m\u001b[1;33m\u001b[0m\u001b[0m\n\u001b[0m",
      "\u001b[0;31mAttributeError\u001b[0m: module 'seaborn' has no attribute 'lineplot'"
     ]
    },
    {
     "data": {
      "text/plain": [
       "<matplotlib.figure.Figure at 0x2739f6f7c50>"
      ]
     },
     "metadata": {},
     "output_type": "display_data"
    }
   ],
   "source": [
    "# Set the width and height of the figure\n",
    "plt.figure(figsize=(16,6))\n",
    "\n",
    "# Line chart showing how FIFA rankings evolved over time \n",
    "sns.lineplot(data=fifa_data)"
   ]
  },
  {
   "cell_type": "markdown",
   "metadata": {},
   "source": [
    "This code shouldn't make sense just yet, and you'll learn more about it in the upcoming tutorials.  For now, continue to your first exercise, where you'll get a chance to experiment with the coding environment yourself!\n",
    "\n",
    "# What's next?\n",
    "\n",
    "Write your first lines of code in the **[first coding exercise](https://www.kaggle.com/kernels/fork/3303713)**!"
   ]
  },
  {
   "cell_type": "markdown",
   "metadata": {},
   "source": [
    "---\n",
    "**[Data Visualization: From Non-Coder to Coder Micro-Course Home Page](https://www.kaggle.com/learn/data-visualization-from-non-coder-to-coder)**\n",
    "\n"
   ]
  }
 ],
 "metadata": {
  "kernelspec": {
   "display_name": "Python 3",
   "language": "python",
   "name": "python3"
  },
  "language_info": {
   "codemirror_mode": {
    "name": "ipython",
    "version": 3
   },
   "file_extension": ".py",
   "mimetype": "text/x-python",
   "name": "python",
   "nbconvert_exporter": "python",
   "pygments_lexer": "ipython3",
   "version": "3.6.0"
  }
 },
 "nbformat": 4,
 "nbformat_minor": 1
}

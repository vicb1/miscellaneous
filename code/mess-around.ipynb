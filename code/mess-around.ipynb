{
 "cells": [
  {
   "cell_type": "code",
   "execution_count": 2,
   "metadata": {
    "collapsed": true
   },
   "outputs": [
    {
     "data": {
      "text/plain": [
       "10"
      ]
     },
     "execution_count": 2,
     "metadata": {},
     "output_type": "execute_result"
    }
   ],
   "source": [
    "def largestRectangle(histogram):\n",
    "    # This function calulates maximum  \n",
    "    # rectangular area under given  \n",
    "    # histogram with n bars \n",
    "  \n",
    "    # Create an empty stack. The stack  \n",
    "    # holds indexes of histogram[] list.  \n",
    "    # The bars stored in the stack are \n",
    "    # always in increasing order of  \n",
    "    # their heights. \n",
    "    stack = []\n",
    "  \n",
    "    max_area = 0 # Initalize max area \n",
    "  \n",
    "    # Run through all bars of \n",
    "    # given histogram \n",
    "    index = 0\n",
    "    while index < len(histogram): \n",
    "          \n",
    "        # If this bar is higher  \n",
    "        # than the bar on top \n",
    "        # stack, push it to stack \n",
    "  \n",
    "        if stack == [] or histogram[stack[-1]] <= histogram[index]: \n",
    "            stack.append(index) \n",
    "            index += 1\n",
    "  \n",
    "        # If this bar is lower than top of stack, \n",
    "        # then calculate area of rectangle with  \n",
    "        # stack top as the smallest (or minimum \n",
    "        # height) bar.'i' is 'right index' for  \n",
    "        # the top and element before top in stack \n",
    "        # is 'left index' \n",
    "        else: \n",
    "            # pop the top \n",
    "            top_of_stack = stack.pop() \n",
    "  \n",
    "            # Calculate the area with  \n",
    "            # histogram[top_of_stack] stack \n",
    "            # as smallest bar \n",
    "            area = (histogram[top_of_stack] * \n",
    "                   ((index - stack[-1] - 1)  \n",
    "                   if stack else index)) \n",
    "  \n",
    "            # update max area, if needed \n",
    "            max_area = max(max_area, area) \n",
    "  \n",
    "    # Now pop the remaining bars from  \n",
    "    # stack and calculate area with  \n",
    "    # every popped bar as the smallest bar \n",
    "    while stack != []: \n",
    "          \n",
    "        # pop the top \n",
    "        top_of_stack = stack.pop() \n",
    "  \n",
    "        # Calculate the area with  \n",
    "        # histogram[top_of_stack]  \n",
    "        # stack as smallest bar \n",
    "        area = (histogram[top_of_stack] * \n",
    "              ((index - stack[-1] - 1) if stack else index)) \n",
    "  \n",
    "        # update max area, if needed \n",
    "        max_area = max(max_area, area) \n",
    "  \n",
    "    # Return maximum area under  \n",
    "    # the given histogram \n",
    "    return max_area\n",
    "\n",
    "largestRectangle([3,2,5,6,1,4,4])"
   ]
  }
 ],
 "metadata": {
  "kernelspec": {
   "display_name": "Python 3",
   "language": "python",
   "name": "python3"
  },
  "language_info": {
   "codemirror_mode": {
    "name": "ipython",
    "version": 3
   },
   "file_extension": ".py",
   "mimetype": "text/x-python",
   "name": "python",
   "nbconvert_exporter": "python",
   "pygments_lexer": "ipython3",
   "version": "3.7.1"
  }
 },
 "nbformat": 4,
 "nbformat_minor": 2
}

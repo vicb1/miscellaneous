{
 "cells": [
  {
   "cell_type": "markdown",
   "metadata": {},
   "source": [
    "# permutations/combinations"
   ]
  },
  {
   "cell_type": "markdown",
   "metadata": {},
   "source": [
    "`n` is the number of things to choose from, and we choose `r` of them\n",
    "\n",
    "### PERMUTATIONS (order matters)\n",
    "- Repetition is Allowed: such as a lock. It could be \"333\". <br>\n",
    "    `= n^r` <br>\n",
    "    \n",
    "- No Repetition: for example the first three people in a running race. You can't be first and second. <br>\n",
    "    `= n!/(n − r)!` <br>\n",
    "\n",
    "### COMBINATIONS (order doesn't matter)\n",
    "- Repetition is Allowed: such as coins in your pocket (5,5,5,10,10)  <br>\n",
    "    `= (r+n-1)!/(r!*(n − 1)!)` <br>\n",
    "\n",
    "- No Repetition: such as lottery numbers (2,14,15,27,30,33)  <br>\n",
    "    `= n!/(r!*(n − r)!)` <br>\n"
   ]
  },
  {
   "cell_type": "code",
   "execution_count": 1,
   "metadata": {
    "scrolled": true
   },
   "outputs": [
    {
     "name": "stdout",
     "output_type": "stream",
     "text": [
      "ans = 1716.0\n"
     ]
    }
   ],
   "source": [
    "import math\n",
    "f = math.factorial\n",
    "def permutation_repetition(n, r): # such as a lock, it could be \"333\"\n",
    "    return n^r\n",
    "\n",
    "def permutation_no_repetition(n, r): # for example the first three people in a running race. You can't be first and second.\n",
    "    return f(n)/f(n-r)\n",
    "\n",
    "def combination_repetition(n, r):  # such as coins in your pocket (5,5,5,10,10)\n",
    "    return f(r+n-1)/(f(r)*f(n-1))\n",
    "\n",
    "def combination__no_repetition(n, r):  # such as lottery numbers (2,14,15,27,30,33)\n",
    "    return f(n)/(f(r)*f(n-r))\n",
    "\n",
    "print('ans =', permutation_no_repetition(13, 3))"
   ]
  },
  {
   "cell_type": "markdown",
   "metadata": {},
   "source": [
    "## factorial"
   ]
  },
  {
   "cell_type": "code",
   "execution_count": 14,
   "metadata": {},
   "outputs": [
    {
     "data": {
      "text/plain": [
       "788657867364790503552363213932185062295135977687173263294742533244359449963403342920304284011984623904177212138919638830257642790242637105061926624952829931113462857270763317237396988943922445621451664240254033291864131227428294853277524242407573903240321257405579568660226031904170324062351700858796178922222789623703897374720000000000000000000000000000000000000000000000000"
      ]
     },
     "execution_count": 14,
     "metadata": {},
     "output_type": "execute_result"
    }
   ],
   "source": [
    "import math\n",
    "math.factorial(200)"
   ]
  },
  {
   "cell_type": "code",
   "execution_count": 33,
   "metadata": {},
   "outputs": [
    {
     "data": {
      "text/plain": [
       "7.886578673647905036e+374"
      ]
     },
     "execution_count": 33,
     "metadata": {},
     "output_type": "execute_result"
    }
   ],
   "source": [
    "import numpy as np\n",
    "np.float128(math.factorial(200))"
   ]
  },
  {
   "cell_type": "code",
   "execution_count": 20,
   "metadata": {},
   "outputs": [
    {
     "data": {
      "text/plain": [
       "863.2319871924054"
      ]
     },
     "execution_count": 20,
     "metadata": {},
     "output_type": "execute_result"
    }
   ],
   "source": [
    "math.log(math.factorial(200))"
   ]
  },
  {
   "cell_type": "code",
   "execution_count": 15,
   "metadata": {},
   "outputs": [
    {
     "ename": "OverflowError",
     "evalue": "math range error",
     "output_type": "error",
     "traceback": [
      "\u001b[0;31m---------------------------------------------------------------------------\u001b[0m",
      "\u001b[0;31mOverflowError\u001b[0m                             Traceback (most recent call last)",
      "\u001b[0;32m<ipython-input-15-4fa9aaaad750>\u001b[0m in \u001b[0;36m<module>\u001b[0;34m\u001b[0m\n\u001b[0;32m----> 1\u001b[0;31m \u001b[0mmath\u001b[0m\u001b[0;34m.\u001b[0m\u001b[0mgamma\u001b[0m\u001b[0;34m(\u001b[0m\u001b[0;36m200\u001b[0m\u001b[0;34m)\u001b[0m\u001b[0;34m\u001b[0m\u001b[0;34m\u001b[0m\u001b[0m\n\u001b[0m",
      "\u001b[0;31mOverflowError\u001b[0m: math range error"
     ]
    }
   ],
   "source": [
    "math.gamma(200)"
   ]
  },
  {
   "cell_type": "code",
   "execution_count": 34,
   "metadata": {},
   "outputs": [
    {
     "data": {
      "text/plain": [
       "863.23198719240542687"
      ]
     },
     "execution_count": 34,
     "metadata": {},
     "output_type": "execute_result"
    }
   ],
   "source": [
    "np.float128(math.lgamma(200 + 1))"
   ]
  },
  {
   "cell_type": "code",
   "execution_count": 35,
   "metadata": {},
   "outputs": [
    {
     "data": {
      "text/plain": [
       "7.8865786736471752354e+374"
      ]
     },
     "execution_count": 35,
     "metadata": {},
     "output_type": "execute_result"
    }
   ],
   "source": [
    "np.float128(math.e) ** np.float128(math.lgamma(200 + 1))"
   ]
  },
  {
   "cell_type": "code",
   "execution_count": null,
   "metadata": {},
   "outputs": [],
   "source": []
  },
  {
   "cell_type": "code",
   "execution_count": null,
   "metadata": {},
   "outputs": [],
   "source": []
  },
  {
   "cell_type": "markdown",
   "metadata": {},
   "source": [
    "## permutation_no_repetition for very large numbers"
   ]
  },
  {
   "cell_type": "code",
   "execution_count": 36,
   "metadata": {},
   "outputs": [
    {
     "data": {
      "text/plain": [
       "7880400.0"
      ]
     },
     "execution_count": 36,
     "metadata": {},
     "output_type": "execute_result"
    }
   ],
   "source": [
    "n = 200\n",
    "r = 3\n",
    "math.factorial(n) / math.factorial(n-r)"
   ]
  },
  {
   "cell_type": "code",
   "execution_count": 39,
   "metadata": {},
   "outputs": [
    {
     "data": {
      "text/plain": [
       "7880400.0"
      ]
     },
     "execution_count": 39,
     "metadata": {},
     "output_type": "execute_result"
    }
   ],
   "source": [
    "n = 200\n",
    "r = 3\n",
    "np.rint(math.e ** (math.lgamma(n + 1) - math.lgamma(n - r + 1)))"
   ]
  },
  {
   "cell_type": "code",
   "execution_count": 8,
   "metadata": {},
   "outputs": [
    {
     "data": {
      "text/plain": [
       "7880400.0"
      ]
     },
     "execution_count": 8,
     "metadata": {},
     "output_type": "execute_result"
    }
   ],
   "source": [
    "import numpy as np\n",
    "import math\n",
    "# import numba \n",
    "\n",
    "# @numba.jit(nopython=True)\n",
    "def num_permutations_no_repetition(n, r):\n",
    "    return np.rint(math.e ** (math.lgamma(n + 1) - math.lgamma(n - r + 1)))\n",
    "\n",
    "num_permutations_no_repetition(200, 3)"
   ]
  },
  {
   "cell_type": "code",
   "execution_count": null,
   "metadata": {},
   "outputs": [],
   "source": []
  },
  {
   "cell_type": "code",
   "execution_count": null,
   "metadata": {},
   "outputs": [],
   "source": []
  },
  {
   "cell_type": "markdown",
   "metadata": {},
   "source": [
    "# probability plot"
   ]
  },
  {
   "cell_type": "code",
   "execution_count": 2,
   "metadata": {},
   "outputs": [
    {
     "data": {
      "image/png": "[encoded data removed]",
      "text/plain": [
       "<Figure size 432x288 with 1 Axes>"
      ]
     },
     "metadata": {
      "needs_background": "light"
     },
     "output_type": "display_data"
    }
   ],
   "source": [
    "import numpy\n",
    "from scipy import stats\n",
    "import seaborn as sns\n",
    "import matplotlib.pyplot as plt\n",
    "import pandas as pd\n",
    "\n",
    "data = numpy.random.random((100,1))\n",
    "data.sort(0)\n",
    "data_standardized = (data - data.mean())/data.std()  # already sorted\n",
    "\n",
    "# alternatively, can use zscore function, does the same standardization\n",
    "data_standardized_zscore = stats.zscore(data)  # already sorted\n",
    "\n",
    "df = pd.DataFrame({'data': data[:,0], 'data_standardized': data_standardized[:,0]})\n",
    "\n",
    "%matplotlib inline\n",
    "plt.close(\"all\")\n",
    "ax = sns.lineplot(x='data_standardized', y='data', data=df)\n",
    "plt.show()\n",
    "\n"
   ]
  },
  {
   "cell_type": "markdown",
   "metadata": {},
   "source": [
    "# norm prices"
   ]
  },
  {
   "cell_type": "code",
   "execution_count": 1,
   "metadata": {},
   "outputs": [
    {
     "name": "stdout",
     "output_type": "stream",
     "text": [
      "        SPY  AAPL       HNZ       XOM  GLD\n",
      "0  1.000000   0.0  1.000000  1.000000  1.0\n",
      "1  0.998848   0.0  0.996171  0.999866  0.0\n"
     ]
    }
   ],
   "source": [
    "import pandas as pd\n",
    "import numpy as np\n",
    "d = {\"SPY\" : [86.80, 86.70, 87.28, 84.67, 85.01],\n",
    "    \"AAPL\": [90.36, 94.18, 92.62, 90.62, 92.30],\n",
    "    \"HNZ\" : [33.95, 33.82, 33.38, 32.59, 31.99],\n",
    "    \"XOM\" : [74.48, 74.47, 73.26, 71.39, 85.13],\n",
    "    \"GLD\" : [86.23, 0, 85.13, 82.75, 84.46]}\n",
    "\n",
    "df = pd.DataFrame(d)\n",
    "\n",
    "# .loc for label based indexing or\n",
    "# .iloc for positional indexing\n",
    "\n",
    "normed = df/df.iloc[0]\n",
    "normed['AAPL'] = np.nan\n",
    "normed = normed.fillna(value=0)\n",
    "print(normed[0:2])"
   ]
  }
 ],
 "metadata": {
  "kernelspec": {
   "display_name": "Python 3",
   "language": "python",
   "name": "python3"
  },
  "language_info": {
   "codemirror_mode": {
    "name": "ipython",
    "version": 3
   },
   "file_extension": ".py",
   "mimetype": "text/x-python",
   "name": "python",
   "nbconvert_exporter": "python",
   "pygments_lexer": "ipython3",
   "version": "3.7.5"
  }
 },
 "nbformat": 4,
 "nbformat_minor": 4
}

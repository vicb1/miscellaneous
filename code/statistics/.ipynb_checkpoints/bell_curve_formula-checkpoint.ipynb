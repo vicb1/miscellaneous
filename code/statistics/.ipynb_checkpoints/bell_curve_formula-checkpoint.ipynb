{
 "cells": [
  {
   "cell_type": "markdown",
   "metadata": {},
   "source": [
    "# Bell curve formula\n",
    "\n",
    "Bell curve formula equation and parameter interaction:\n",
    "- graph: https://www.desmos.com/calculator/idg0pi2pbf\n",
    "- TODO: add kurtosis\n",
    "\n",
    "![image](./bell_curve_formula_graph.png)\n",
    "- with mean, sigma, skew:\n",
    "    - \\frac{2}{s}\\cdot\\frac{1}{\\sqrt{2\\cdot\\pi}}\\cdot e^{-\\frac{\\left(x-m\\right)^2}{2\\cdot s^2}}\\cdot\\frac{1}{2}\\left(1+\\operatorname{erf}\\left(\\frac{k\\cdot\\frac{\\left(x-m\\right)}{s}}{\\sqrt{2}}\\right)\\right)\n",
    "- with skew only:\n",
    "    - 2\\cdot\\frac{1}{\\sqrt{2\\cdot\\pi}}\\cdot e^{-\\frac{\\left(x\\right)^2}{2}}\\cdot\\frac{1}{2}\\left(1+\\operatorname{erf}\\left(\\frac{k\\cdot x}{\\sqrt{2}}\\right)\\right)\n",
    "\n",
    "### References:\n",
    "- https://en.wikipedia.org/wiki/Skew_normal_distribution\n",
    "- https://www.thoughtco.com/normal-distribution-bell-curve-formula-3126278\n",
    "- https://www.originlab.com/doc/Origin-Help/Gaussian-Function-FitFunc\n",
    "- https://math.stackexchange.com/questions/1128781/whats-the-formula-for-the-probability-density-function-of-skewed-normal-distribu\n",
    "- https://en.wikipedia.org/wiki/Skew_normal_distribution"
   ]
  }
 ],
 "metadata": {
  "kernelspec": {
   "display_name": "Python 3",
   "language": "python",
   "name": "python3"
  },
  "language_info": {
   "codemirror_mode": {
    "name": "ipython",
    "version": 3
   },
   "file_extension": ".py",
   "mimetype": "text/x-python",
   "name": "python",
   "nbconvert_exporter": "python",
   "pygments_lexer": "ipython3",
   "version": "3.7.5"
  }
 },
 "nbformat": 4,
 "nbformat_minor": 2
}

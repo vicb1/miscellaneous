{
 "cells": [
  {
   "cell_type": "code",
   "execution_count": null,
   "metadata": {},
   "outputs": [],
   "source": []
  },
  {
   "cell_type": "code",
   "execution_count": 40,
   "metadata": {},
   "outputs": [
    {
     "data": {
      "text/plain": [
       "<function __main__.test_with_yield.<locals>.<lambda>(x)>"
      ]
     },
     "execution_count": 40,
     "metadata": {},
     "output_type": "execute_result"
    }
   ],
   "source": [
    "def test_with_yield():\n",
    "    for i in range(10):\n",
    "        yield lambda x: x+i\n",
    "a = test_with_yield()\n",
    "next(a)"
   ]
  },
  {
   "cell_type": "code",
   "execution_count": 41,
   "metadata": {},
   "outputs": [
    {
     "data": {
      "text/plain": [
       "array(['a', 'b', 'c', 'd', 'e', 'f', 'g'], dtype='<U1')"
      ]
     },
     "execution_count": 41,
     "metadata": {},
     "output_type": "execute_result"
    }
   ],
   "source": [
    "import numpy as np\n",
    "np.fromiter('abcdefg', (np.unicode,1))"
   ]
  },
  {
   "cell_type": "code",
   "execution_count": 6,
   "metadata": {},
   "outputs": [
    {
     "data": {
      "text/plain": [
       "37957920"
      ]
     },
     "execution_count": 6,
     "metadata": {},
     "output_type": "execute_result"
    }
   ],
   "source": [
    "import itertools\n",
    "# len(list(itertools.permutations([1,2,3, 6, 6,1,4], 4)))\n",
    "len(list(itertools.permutations([1]*80, 4)))"
   ]
  },
  {
   "cell_type": "code",
   "execution_count": 1,
   "metadata": {},
   "outputs": [
    {
     "ename": "NameError",
     "evalue": "name 'find_permutations' is not defined",
     "output_type": "error",
     "traceback": [
      "\u001b[0;31m---------------------------------------------------------------------------\u001b[0m",
      "\u001b[0;31mNameError\u001b[0m                                 Traceback (most recent call last)",
      "\u001b[0;32m<ipython-input-1-60df5ffdd640>\u001b[0m in \u001b[0;36m<module>\u001b[0;34m\u001b[0m\n\u001b[0;32m----> 1\u001b[0;31m \u001b[0;32mfor\u001b[0m \u001b[0mp\u001b[0m \u001b[0;32min\u001b[0m \u001b[0mfind_permutations\u001b[0m\u001b[0;34m(\u001b[0m\u001b[0;34m[\u001b[0m\u001b[0;34m[\u001b[0m\u001b[0;36m5\u001b[0m\u001b[0;34m,\u001b[0m\u001b[0;36m1\u001b[0m\u001b[0;34m,\u001b[0m\u001b[0;36m2\u001b[0m\u001b[0;34m]\u001b[0m\u001b[0;34m,\u001b[0m \u001b[0;34m[\u001b[0m\u001b[0;36m5\u001b[0m\u001b[0;34m,\u001b[0m\u001b[0;36m1\u001b[0m\u001b[0;34m,\u001b[0m\u001b[0;36m6\u001b[0m\u001b[0;34m]\u001b[0m\u001b[0;34m,\u001b[0m \u001b[0;34m[\u001b[0m\u001b[0;36m5\u001b[0m\u001b[0;34m,\u001b[0m\u001b[0;36m1\u001b[0m\u001b[0;34m,\u001b[0m\u001b[0;36m7\u001b[0m\u001b[0;34m]\u001b[0m\u001b[0;34m]\u001b[0m\u001b[0;34m,\u001b[0m \u001b[0mfull_set\u001b[0m\u001b[0;34m)\u001b[0m\u001b[0;34m:\u001b[0m\u001b[0;34m\u001b[0m\u001b[0;34m\u001b[0m\u001b[0m\n\u001b[0m\u001b[1;32m      2\u001b[0m     \u001b[0mprint\u001b[0m\u001b[0;34m(\u001b[0m\u001b[0mp\u001b[0m\u001b[0;34m)\u001b[0m\u001b[0;34m\u001b[0m\u001b[0;34m\u001b[0m\u001b[0m\n",
      "\u001b[0;31mNameError\u001b[0m: name 'find_permutations' is not defined"
     ]
    }
   ],
   "source": [
    "for p in find_permutations([[5,1,2], [5,1,6], [5,1,7]], full_set):\n",
    "    print(p)"
   ]
  },
  {
   "cell_type": "code",
   "execution_count": 4,
   "metadata": {},
   "outputs": [
    {
     "data": {
      "text/plain": [
       "True"
      ]
     },
     "execution_count": 4,
     "metadata": {},
     "output_type": "execute_result"
    }
   ],
   "source": [
    "any([False, False, True])"
   ]
  },
  {
   "cell_type": "code",
   "execution_count": 7,
   "metadata": {},
   "outputs": [
    {
     "data": {
      "text/plain": [
       "False"
      ]
     },
     "execution_count": 7,
     "metadata": {},
     "output_type": "execute_result"
    }
   ],
   "source": [
    "any([False, False, False])"
   ]
  },
  {
   "cell_type": "code",
   "execution_count": 13,
   "metadata": {},
   "outputs": [
    {
     "data": {
      "text/plain": [
       "[(1,), (2,), (3,), (6,), (7,), (8,)]"
      ]
     },
     "execution_count": 13,
     "metadata": {},
     "output_type": "execute_result"
    }
   ],
   "source": [
    "import itertools\n",
    "list(itertools.permutations([1,2,3, 6, 7, 8], 1))\n",
    "# len(list(itertools.permutations([1]*80, 4)))"
   ]
  },
  {
   "cell_type": "code",
   "execution_count": 19,
   "metadata": {},
   "outputs": [
    {
     "name": "stdout",
     "output_type": "stream",
     "text": [
      "(1, 1, 1, 1, 1)\n",
      "(1, 1, 1, 1, 1)\n",
      "(1, 1, 1, 1, 1)\n"
     ]
    }
   ],
   "source": [
    "import itertools\n",
    "x = itertools.permutations([1]*80, 5)\n",
    "print(next(x))\n",
    "print(next(x))\n",
    "print(next(x))"
   ]
  },
  {
   "cell_type": "code",
   "execution_count": 34,
   "metadata": {},
   "outputs": [
    {
     "name": "stdout",
     "output_type": "stream",
     "text": [
      "(1,)\n",
      "(1,)\n",
      "asd\n"
     ]
    }
   ],
   "source": [
    "import itertools\n",
    "x = itertools.permutations([1]*2, 1)\n",
    "\n",
    "print(next(x))\n",
    "print(next(x))\n",
    "    \n",
    "try:\n",
    "    print(next(x))\n",
    "except StopIteration:\n",
    "    print('asd')\n",
    "\n",
    "# a = []\n",
    "# a.append(next(x))\n",
    "# a is None"
   ]
  },
  {
   "cell_type": "code",
   "execution_count": 37,
   "metadata": {},
   "outputs": [
    {
     "name": "stdout",
     "output_type": "stream",
     "text": [
      "(1,)\n",
      "(1,)\n",
      "done\n"
     ]
    }
   ],
   "source": [
    "import itertools\n",
    "x = itertools.permutations([1]*2, 1)\n",
    "\n",
    "while True:\n",
    "    try:\n",
    "        print(next(x))\n",
    "    except StopIteration:\n",
    "        print('done')\n",
    "        break"
   ]
  },
  {
   "cell_type": "code",
   "execution_count": 41,
   "metadata": {},
   "outputs": [
    {
     "name": "stdout",
     "output_type": "stream",
     "text": [
      "(1,)\n",
      "(1,)\n",
      "None\n"
     ]
    }
   ],
   "source": [
    "import itertools\n",
    "x = itertools.permutations([1]*2, 1)\n",
    "\n",
    "while True:\n",
    "    out = next(x, None)\n",
    "    print(out)\n",
    "    if out is None:\n",
    "        break\n"
   ]
  },
  {
   "cell_type": "code",
   "execution_count": null,
   "metadata": {},
   "outputs": [],
   "source": []
  },
  {
   "cell_type": "code",
   "execution_count": 37,
   "metadata": {},
   "outputs": [
    {
     "name": "stdout",
     "output_type": "stream",
     "text": [
      "[1, 2, 3, 4, 3]\n",
      "[2, 3, 4, 3, 1]\n",
      "[3, 4, 3, 1, 2]\n",
      "[4, 3, 1, 2, 3]\n",
      "[3, 1, 2, 3, 4]\n",
      "[1, 2, 3, 4, 3]\n"
     ]
    }
   ],
   "source": [
    "# https://github.com/numba/numba/issues/3599\n",
    "\n",
    "from numba import njit\n",
    "from numba.extending import overload\n",
    "import itertools\n",
    "\n",
    "@overload(itertools.permutations)\n",
    "def permutations(A, k):\n",
    "    def impl(A, k):\n",
    "        # Not actually a permutation implementation,\n",
    "        # Just a demonstration of generator support.\n",
    "        for i in range(k):\n",
    "            yield A[i:] + A[:i]\n",
    "    return impl\n",
    "\n",
    "@njit\n",
    "def test(A, k):\n",
    "    for i in itertools.permutations(A, k):\n",
    "        print(i)\n",
    "\n",
    "\n",
    "r = test([1, 2, 3, 4,3], k=6)\n",
    "# print(next(r))\n"
   ]
  },
  {
   "cell_type": "code",
   "execution_count": 38,
   "metadata": {},
   "outputs": [
    {
     "name": "stdout",
     "output_type": "stream",
     "text": [
      "[1, 2, 4, 3]\n",
      "[2, 1, 4, 3]\n"
     ]
    }
   ],
   "source": [
    "def permutations(elements):\n",
    "    if len(elements) <=1:\n",
    "        yield elements\n",
    "    else:\n",
    "        for perm in permutations(elements[1:]):\n",
    "            for i in range(len(elements)):\n",
    "                # nb elements[0:1] works in both string and list contexts\n",
    "                yield perm[:i] + elements[0:1] + perm[i:]\n",
    "                \n",
    "x = permutations([1,2,4,3])\n",
    "\n",
    "print(next(x))\n",
    "print(next(x))"
   ]
  },
  {
   "cell_type": "code",
   "execution_count": 39,
   "metadata": {},
   "outputs": [
    {
     "name": "stdout",
     "output_type": "stream",
     "text": [
      "(1, 2)\n",
      "(1, 4)\n",
      "(1, 3)\n",
      "(2, 1)\n"
     ]
    }
   ],
   "source": [
    "def permutations(iterable, r=None):\n",
    "    # permutations('ABCD', 2) --> AB AC AD BA BC BD CA CB CD DA DB DC\n",
    "    # permutations(range(3)) --> 012 021 102 120 201 210\n",
    "    pool = tuple(iterable)\n",
    "    n = len(pool)\n",
    "    r = n if r is None else r\n",
    "    if r > n:\n",
    "        return\n",
    "    indices = list(range(n))\n",
    "    cycles = list(range(n, n-r, -1))\n",
    "    yield tuple(pool[i] for i in indices[:r])\n",
    "    while n:\n",
    "        for i in reversed(range(r)):\n",
    "            cycles[i] -= 1\n",
    "            if cycles[i] == 0:\n",
    "                indices[i:] = indices[i+1:] + indices[i:i+1]\n",
    "                cycles[i] = n - i\n",
    "            else:\n",
    "                j = cycles[i]\n",
    "                indices[i], indices[-j] = indices[-j], indices[i]\n",
    "                yield tuple(pool[i] for i in indices[:r])\n",
    "                break\n",
    "        else:\n",
    "            return\n",
    "x = permutations([1,2,4,3], 2)\n",
    "\n",
    "print(next(x))\n",
    "print(next(x))\n",
    "print(next(x))\n",
    "print(next(x))\n"
   ]
  },
  {
   "cell_type": "markdown",
   "metadata": {},
   "source": [
    "# JIT"
   ]
  },
  {
   "cell_type": "code",
   "execution_count": 13,
   "metadata": {},
   "outputs": [
    {
     "data": {
      "text/plain": [
       "array([[1, 2, 1],\n",
       "       [0, 0, 0],\n",
       "       [0, 0, 0],\n",
       "       ...,\n",
       "       [0, 0, 0],\n",
       "       [0, 0, 0],\n",
       "       [0, 0, 0]], dtype=uint32)"
      ]
     },
     "execution_count": 13,
     "metadata": {},
     "output_type": "execute_result"
    }
   ],
   "source": [
    "import numba as nb\n",
    "import numpy as np\n",
    "import math\n",
    "\n",
    "@nb.jit(nopython=True)\n",
    "def num_permutations_no_repetition(n, r):\n",
    "    # return math.factorial(n) / math.factorial(n-r)\n",
    "    return np.rint(math.e ** (math.lgamma(n + 1) - math.lgamma(n - r + 1)))\n",
    "\n",
    "\n",
    "@nb.jit(nopython=True)\n",
    "def permutations(pool, r=None):\n",
    "    n = pool.shape[0]\n",
    "    r = n if r is None else r\n",
    "    if r > n:\n",
    "        return\n",
    "    indices = np.arange(n)\n",
    "    cycles = np.arange(n, n-r, -1)\n",
    "    ret = np.empty(r, dtype=np.uint32)\n",
    "    for i in range(r):\n",
    "        ret[i] = pool[indices[:r][i]]\n",
    "    yield ret\n",
    "    while n:\n",
    "        for i in range(r - 1, -1, -1):\n",
    "            cycles[i] -= 1\n",
    "            if cycles[i] == 0:\n",
    "                indices[i:] = np.concatenate((indices[i+1:], indices[i:i+1]))\n",
    "                cycles[i] = n - i\n",
    "            else:\n",
    "                j = cycles[i]\n",
    "                indices[i], indices[-j] = indices[-j], indices[i]\n",
    "                # retPre = [pool[i] for i in indices[:r]]\n",
    "                ret = np.empty(r, dtype=np.uint32)\n",
    "                for i in range(r):\n",
    "                    ret[i] = pool[indices[:r][i]]\n",
    "                yield ret\n",
    "                break\n",
    "        else:\n",
    "            return\n",
    "\n",
    "\n",
    "@nb.njit(fastmath=True)\n",
    "def pair_in_mat(pair, mat):\n",
    "    for i in nb.prange(mat.shape[0]):\n",
    "        if np.all(pair == mat[i]):\n",
    "            return True\n",
    "        if np.all(np.array([pair[1], pair[0]]) == mat[i]):\n",
    "            return True\n",
    "    return False\n",
    "\n",
    "\n",
    "@nb.njit(fastmath=True, parallel=True)\n",
    "# @nb.njit(parallel=True)\n",
    "def combos_in_valid_pairs(combo_check, valid_pairs):  # if 2d array\n",
    "    combo_results = np.zeros(combo_check.shape[0], dtype=np.bool_)\n",
    "\n",
    "    for i in nb.prange(combo_check.shape[0]):\n",
    "        valid = pair_in_mat(combo_check[i], valid_pairs)\n",
    "        # if not valid:\n",
    "        #     return False  # isn't supported by parallelization\n",
    "        combo_results[i] = valid\n",
    "\n",
    "    return np.all(combo_results)\n",
    "\n",
    "\n",
    "# @nb.jit(nopython=True, fastmath=True)\n",
    "def create_perms_inner(currs_considered, exg, num_currs, valid_pairs, end_at_same):\n",
    "    ret = np.zeros((1000000, num_currs), dtype=np.uint32)\n",
    "\n",
    "    # perms_pre = [['BNB', 'PAX', 'BTC'], ['ETH', '2342', 'BTC'],\n",
    "    #               ['ETH', 'TUSD', 'USDT'], ['ETH', 'USDC', 'USDT']]  # for testing\n",
    "    # for row in range(len(perms_pre)):\n",
    "    #     for col in range(len(perms_pre[0])):\n",
    "    #         perms_pre[row][col] = numify(perms_pre[row][col])  # for testing\n",
    "    # perms = iter(perms_pre)  # for testing\n",
    "\n",
    "    perms = permutations(currs_considered, num_currs - 1)\n",
    "\n",
    "    if end_at_same:\n",
    "        # num_perms = len(perms_pre)  # for testing\n",
    "        num_perms = num_permutations_no_repetition(len(currs_considered), num_currs - 1)\n",
    "    else:\n",
    "        # num_perms = len(perms_pre)  # for testing\n",
    "        num_perms = num_permutations_no_repetition(len(currs_considered), num_currs)\n",
    "\n",
    "    num_perms = int(num_perms)\n",
    "    # while True:\n",
    "    for n in range(num_perms):\n",
    "        perm = next(perms)\n",
    "        if perm is None:\n",
    "            break\n",
    "\n",
    "        perm = np.append(perm, perm[0])\n",
    "        combos_check = np.empty((perm.size - 1, 2), dtype=np.uint32)\n",
    "        for i in range(perm.size - 1):\n",
    "            combos_check[i, 0] = perm[i]\n",
    "            combos_check[i, 1] = perm[i + 1]\n",
    "\n",
    "        valid = combos_in_valid_pairs(combos_check, valid_pairs)\n",
    "        if valid:\n",
    "            ret[n, :] = perm\n",
    "\n",
    "\n",
    "\n",
    "            a=1\n",
    "    # [[4345410    4277313    4346947    4345410], [4345410    4277313 1112888132    4345410],\n",
    "    #  [4345410    4277313    4543560    4345410], [4345410    4277313 1414878020    4345410],\n",
    "    #  [4345410    4277313 1431520323    4345410], [4345410    4277313 1431520340    4345410]]\n",
    "\n",
    "    # np.savetxt(\"foo.csv\", valid_pairs, delimiter=\",\")\n",
    "\n",
    "    return ret\n",
    "\n",
    "create_perms_inner(np.array([1, 2, 3, 4, 5, 6]), 'asd', 3, np.array([[3, 2],[3, 4], [1, 2]]), True)"
   ]
  },
  {
   "cell_type": "code",
   "execution_count": 11,
   "metadata": {},
   "outputs": [
    {
     "data": {
      "text/plain": [
       "array([[3, 2],\n",
       "       [3, 4],\n",
       "       [1, 2]])"
      ]
     },
     "execution_count": 11,
     "metadata": {},
     "output_type": "execute_result"
    }
   ],
   "source": [
    "np.array([[3, 2],[3, 4], [1, 2]])"
   ]
  }
 ],
 "metadata": {
  "kernelspec": {
   "display_name": "crypto-arbitrage",
   "language": "python",
   "name": "crypto-arbitrage"
  },
  "language_info": {
   "codemirror_mode": {
    "name": "ipython",
    "version": 3
   },
   "file_extension": ".py",
   "mimetype": "text/x-python",
   "name": "python",
   "nbconvert_exporter": "python",
   "pygments_lexer": "ipython3",
   "version": "3.7.7"
  }
 },
 "nbformat": 4,
 "nbformat_minor": 4
}

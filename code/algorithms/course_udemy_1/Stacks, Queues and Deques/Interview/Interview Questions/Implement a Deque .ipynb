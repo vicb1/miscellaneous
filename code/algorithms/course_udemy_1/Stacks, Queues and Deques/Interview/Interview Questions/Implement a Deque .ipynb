{
 "cells": [
  {
   "cell_type": "markdown",
   "metadata": {},
   "source": [
    "# Implement a Deque \n",
    "\n",
    "Finally, implement a Deque class! It should be able to do the following:\n",
    "\n",
    "* Check if its empty\n",
    "* Add to both front and rear\n",
    "* Remove from Front and Rear\n",
    "* Check the Size"
   ]
  },
  {
   "cell_type": "code",
   "execution_count": 10,
   "metadata": {
    "collapsed": true
   },
   "outputs": [
    {
     "name": "stdout",
     "output_type": "stream",
     "text": [
      "[4]\n",
      "[4]\n",
      "[2, 4]\n",
      "[2]\n",
      "[]\n",
      "0\n"
     ]
    }
   ],
   "source": [
    "class Deque():\n",
    "    def __init__(self):\n",
    "        self.deque = []\n",
    "    def __str__(self):\n",
    "        return str(self.deque)\n",
    "    def app(self, object):\n",
    "        self.deque.append(object)\n",
    "    def appleft(self, object):\n",
    "        self.deque.insert(0, object)\n",
    "    def rem(self):\n",
    "        self.deque.pop()\n",
    "    def remleft(self):\n",
    "        del self.deque[0]\n",
    "    def size(self):\n",
    "        return len(self.deque)\n",
    "\n",
    "d = Deque()\n",
    "d.app(4)\n",
    "print (d)\n",
    "print(d.deque)\n",
    "d.appleft(2)\n",
    "print(d.deque)\n",
    "d.rem()\n",
    "print(d.deque)\n",
    "d.remleft()\n",
    "print(d.deque)\n",
    "print(d.size())"
   ]
  },
  {
   "cell_type": "code",
   "execution_count": null,
   "metadata": {},
   "outputs": [],
   "source": []
  }
 ],
 "metadata": {
  "kernelspec": {
   "display_name": "Python 3",
   "language": "python",
   "name": "python3"
  },
  "language_info": {
   "codemirror_mode": {
    "name": "ipython",
    "version": 3
   },
   "file_extension": ".py",
   "mimetype": "text/x-python",
   "name": "python",
   "nbconvert_exporter": "python",
   "pygments_lexer": "ipython3",
   "version": "3.6.8"
  }
 },
 "nbformat": 4,
 "nbformat_minor": 2
}

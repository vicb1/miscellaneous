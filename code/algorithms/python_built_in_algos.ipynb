{
 "cells": [
  {
   "cell_type": "markdown",
   "metadata": {},
   "source": [
    "# Sorted Containers\n",
    "http://www.grantjenks.com/docs/sortedcontainers/\n",
    "- commonly used for Map/TreeMap data structure"
   ]
  },
  {
   "cell_type": "code",
   "execution_count": 1,
   "metadata": {},
   "outputs": [
    {
     "data": {
      "text/plain": [
       "SortedList(['a', 'b', 'c', 'd', 'e'])"
      ]
     },
     "execution_count": 1,
     "metadata": {},
     "output_type": "execute_result"
    }
   ],
   "source": [
    "from sortedcontainers import SortedList\n",
    "sl = SortedList(['e', 'a', 'c', 'd', 'b'])\n",
    "sl"
   ]
  },
  {
   "cell_type": "code",
   "execution_count": 8,
   "metadata": {},
   "outputs": [
    {
     "data": {
      "text/plain": [
       "SortedDict({'a': 3, 'b': 1, 'c': 2})"
      ]
     },
     "execution_count": 8,
     "metadata": {},
     "output_type": "execute_result"
    }
   ],
   "source": [
    "from sortedcontainers import SortedDict\n",
    "sd = SortedDict({'c': 2, 'a': 3, 'b': 1})\n",
    "sd"
   ]
  },
  {
   "cell_type": "code",
   "execution_count": 3,
   "metadata": {},
   "outputs": [
    {
     "data": {
      "text/plain": [
       "('c', 3)"
      ]
     },
     "execution_count": 3,
     "metadata": {},
     "output_type": "execute_result"
    }
   ],
   "source": [
    "sd.popitem(index=-1)"
   ]
  },
  {
   "cell_type": "code",
   "execution_count": 16,
   "metadata": {},
   "outputs": [
    {
     "data": {
      "text/plain": [
       "SortedDict({'b': 1, 'c': 3})"
      ]
     },
     "execution_count": 16,
     "metadata": {},
     "output_type": "execute_result"
    }
   ],
   "source": [
    "sd2 = SortedDict({'c': 2, 'ca': 3, 'b': 1})\n",
    "sd2"
   ]
  },
  {
   "cell_type": "code",
   "execution_count": null,
   "metadata": {},
   "outputs": [],
   "source": []
  },
  {
   "cell_type": "code",
   "execution_count": 5,
   "metadata": {},
   "outputs": [
    {
     "data": {
      "text/plain": [
       "SortedSet(['a', 'b', 'c', 'd', 'r'])"
      ]
     },
     "execution_count": 5,
     "metadata": {},
     "output_type": "execute_result"
    }
   ],
   "source": [
    "from sortedcontainers import SortedSet\n",
    "ss = SortedSet('abracadabra')\n",
    "ss"
   ]
  },
  {
   "cell_type": "code",
   "execution_count": 7,
   "metadata": {},
   "outputs": [
    {
     "data": {
      "text/plain": [
       "2"
      ]
     },
     "execution_count": 7,
     "metadata": {},
     "output_type": "execute_result"
    }
   ],
   "source": [
    "from bisect import bisect_left\n",
    "ss.bisect_left('c')"
   ]
  },
  {
   "cell_type": "markdown",
   "metadata": {},
   "source": [
    "# heapq\n",
    "https://docs.python.org/3.0/library/heapq.html"
   ]
  },
  {
   "cell_type": "markdown",
   "metadata": {},
   "source": [
    "# Array\n",
    "\n",
    "https://docs.python.org/3/library/array.html"
   ]
  },
  {
   "cell_type": "markdown",
   "metadata": {},
   "source": [
    "# default dict\n",
    "https://docs.python.org/3.0/library/collections.html#collections.defaultdict"
   ]
  },
  {
   "cell_type": "markdown",
   "metadata": {},
   "source": [
    "# bisect\n",
    "https://docs.python.org/3/library/bisect.html"
   ]
  },
  {
   "cell_type": "code",
   "execution_count": 12,
   "metadata": {},
   "outputs": [
    {
     "name": "stdout",
     "output_type": "stream",
     "text": [
      "3\n",
      "3\n"
     ]
    }
   ],
   "source": [
    "grades = \"FEDCBA\"\n",
    "breakpoints = [30, 44, 66, 75, 85]\n",
    "\n",
    "import bisect\n",
    "print(bisect.bisect_left([30, 44, 66, 75, 85], 67))\n",
    "print(bisect.bisect_right([30, 44, 66, 75, 85], 67))"
   ]
  },
  {
   "cell_type": "code",
   "execution_count": 11,
   "metadata": {},
   "outputs": [
    {
     "name": "stdout",
     "output_type": "stream",
     "text": [
      "C\n"
     ]
    },
    {
     "data": {
      "text/plain": [
       "['E', 'A', 'B', 'D', 'F', 'A']"
      ]
     },
     "execution_count": 11,
     "metadata": {},
     "output_type": "execute_result"
    }
   ],
   "source": [
    "def grade(total):\n",
    "    return grades[bisect.bisect(breakpoints, total)]\n",
    "print(grade(66))\n",
    "list(map(grade, [33, 99, 77, 44, 12, 88]))"
   ]
  },
  {
   "cell_type": "code",
   "execution_count": 1,
   "metadata": {},
   "outputs": [
    {
     "name": "stdout",
     "output_type": "stream",
     "text": [
      "The rightmost index to insert, so list remains sorted is  : 5\n",
      "The leftmost index to insert, so list remains sorted is  : 2\n",
      "The rightmost index to insert, so list remains sorted is  : 4\n"
     ]
    }
   ],
   "source": [
    "# Python code to demonstrate the working of \n",
    "# bisect(), bisect_left() and bisect_right() \n",
    "  \n",
    "# importing \"bisect\" for bisection operations \n",
    "import bisect \n",
    "  \n",
    "# initializing list \n",
    "li = [1, 3, 4, 4, 4, 6, 7] \n",
    "  \n",
    "# using bisect() to find index to insert new element \n",
    "# returns 5 ( right most possible index ) \n",
    "print (\"The rightmost index to insert, so list remains sorted is  : \", end=\"\") \n",
    "print (bisect.bisect(li, 4)) \n",
    "  \n",
    "# using bisect_left() to find index to insert new element \n",
    "# returns 2 ( left most possible index ) \n",
    "print (\"The leftmost index to insert, so list remains sorted is  : \", end=\"\") \n",
    "print (bisect.bisect_left(li, 4)) \n",
    "  \n",
    "# using bisect_right() to find index to insert new element \n",
    "# returns 4 ( right most possible index ) \n",
    "print (\"The rightmost index to insert, so list remains sorted is  : \", end=\"\") \n",
    "print (bisect.bisect_right(li, 4, 0, 4)) "
   ]
  },
  {
   "cell_type": "code",
   "execution_count": 2,
   "metadata": {},
   "outputs": [
    {
     "name": "stdout",
     "output_type": "stream",
     "text": [
      "The list after inserting new element using insort() is : \n",
      "1 3 4 4 4 5 6 \n",
      "The list after inserting new element using insort_left() is : \n",
      "1 3 4 4 4 5 6 \n",
      "The list after inserting new element using insort_right() is : \n",
      "1 3 4 4 5 4 6 "
     ]
    }
   ],
   "source": [
    "# Python code to demonstrate the working of \n",
    "# insort(), insort_left() and insort_right() \n",
    "  \n",
    "# importing \"bisect\" for bisection operations \n",
    "import bisect \n",
    "  \n",
    "# initializing list \n",
    "li1 = [1, 3, 4, 4, 4, 6, 7] \n",
    "  \n",
    "# initializing list \n",
    "li2 = [1, 3, 4, 4, 4, 6, 7] \n",
    "  \n",
    "# initializing list \n",
    "li3 = [1, 3, 4, 4, 4, 6, 7] \n",
    "  \n",
    "# using insort() to insert 5 at appropriate position \n",
    "# inserts at 6th position \n",
    "bisect.insort(li1, 5) \n",
    "  \n",
    "print (\"The list after inserting new element using insort() is : \") \n",
    "for i in range(0, 7): \n",
    "    print(li1[i], end=\" \") \n",
    "  \n",
    "# using insort_left() to insert 5 at appropriate position \n",
    "# inserts at 6th position \n",
    "bisect.insort_left(li2, 5) \n",
    "  \n",
    "print(\"\\r\") \n",
    "  \n",
    "print (\"The list after inserting new element using insort_left() is : \") \n",
    "for i in range(0, 7): \n",
    "    print(li2[i], end=\" \") \n",
    "  \n",
    "print(\"\\r\") \n",
    "  \n",
    "# using insort_right() to insert 5 at appropriate position \n",
    "# inserts at 5th position \n",
    "bisect.insort_right(li3, 5, 0, 4) \n",
    "  \n",
    "print (\"The list after inserting new element using insort_right() is : \") \n",
    "for i in range(0, 7): \n",
    "    print(li3[i], end=\" \") "
   ]
  },
  {
   "cell_type": "code",
   "execution_count": 15,
   "metadata": {},
   "outputs": [
    {
     "data": {
      "text/plain": [
       "7"
      ]
     },
     "execution_count": 15,
     "metadata": {},
     "output_type": "execute_result"
    }
   ],
   "source": [
    "import bisect\n",
    "def isBadVersion(i):\n",
    "    if i > 6:\n",
    "        return True\n",
    "    else:\n",
    "        return False\n",
    "\n",
    "class Versions:\n",
    "    def __init__(self, n):\n",
    "        self.n = n\n",
    "    \n",
    "    def __len__(self):\n",
    "        return self.n\n",
    "    \n",
    "    def __getitem__(self, i):\n",
    "        return isBadVersion(i)\n",
    "\n",
    "# Suppose you have n versions [1, 2, ..., n] and you want to find out the first bad one, which causes all the following ones to be bad. \n",
    "# Implement a function to find the first bad version. You should minimize the number of calls to the isBadVersion(i) API.\n",
    "n = 10\n",
    "bisect.bisect_left(Versions(n), True)"
   ]
  },
  {
   "cell_type": "markdown",
   "metadata": {},
   "source": [
    "# \"collections\" set of functions:\n",
    "\n",
    "| function     | description                                                          |\n",
    "|--------------|----------------------------------------------------------------------|\n",
    "| namedtuple() |   factory function for creating tuple subclasses with named fields   |\n",
    "| deque        |     list-like container with fast appends and pops on either end     |\n",
    "| ChainMap     |    dict-like class for creating a single view of multiple mappings   |\n",
    "| Counter      |              dict subclass for counting hashable objects             |\n",
    "| OrderedDict  | dict subclass that remembers the order entries were added            |\n",
    "| defaultdict  | dict subclass that calls a factory function to supply missing values |\n",
    "| UserDict     | wrapper around dictionary objects for easier dict subclassing        |\n",
    "| UserList     | wrapper around list objects for easier list subclassing              |\n",
    "| UserString   | wrapper around string objects for easier string subclassing          |\n",
    "\n",
    "https://docs.python.org/3/library/collections.html"
   ]
  },
  {
   "cell_type": "markdown",
   "metadata": {},
   "source": [
    "# deque\n",
    "https://docs.python.org/2/library/collections.html#collections.deque"
   ]
  },
  {
   "cell_type": "code",
   "execution_count": 10,
   "metadata": {},
   "outputs": [
    {
     "name": "stdout",
     "output_type": "stream",
     "text": [
      "deque(['John', 'Michael', 'Terry', 'Graham'])\n",
      "deque(['Victor', 'John', 'Michael', 'Terry'])\n"
     ]
    }
   ],
   "source": [
    "from collections import deque\n",
    "\n",
    "queue = deque([\"Eric\", \"John\", \"Michael\"])\n",
    "queue.append(\"Terry\")   # Terry arrives\n",
    "queue.append(\"Graham\")  # Graham arrives\n",
    "queue.popleft() # The first to arrive now leaves\n",
    "print(queue)\n",
    "\n",
    "# also works as a double ended queue\n",
    "queue.appendleft(\"Victor\")\n",
    "queue.pop()\n",
    "print(queue)"
   ]
  },
  {
   "cell_type": "markdown",
   "metadata": {},
   "source": [
    "# counter\n",
    "https://docs.python.org/2/library/collections.html#collections.Counter"
   ]
  },
  {
   "cell_type": "code",
   "execution_count": 5,
   "metadata": {},
   "outputs": [
    {
     "name": "stdout",
     "output_type": "stream",
     "text": [
      "Counter({'give': 2, 'one': 1, 'grand': 1, 'today': 1})\n",
      "Counter({'give': 1, 'me': 1, 'one': 1, 'grand': 1, 'today': 1, 'night': 1})\n",
      "Counter({'me': 1, 'night': 1})\n",
      "Counter({'give': 1})\n",
      "dict_values([2, 1, 1, 1])\n",
      "No\n"
     ]
    }
   ],
   "source": [
    "from collections import Counter\n",
    "\n",
    "def checkMagazine(magazine, note):\n",
    "    print(Counter(note))\n",
    "    print(Counter(magazine))\n",
    "    print(Counter(magazine) - Counter(note))\n",
    "    print(Counter(note) - Counter(magazine))\n",
    "    print(dict(Counter(note)).values())\n",
    "    if (Counter(note) - Counter(magazine)) == Counter({}):\n",
    "        return 'Yes'\n",
    "    else:\n",
    "        return 'No'\n",
    "\n",
    "\n",
    "# print(('give me one grand today night').split(' '))\n",
    "print(checkMagazine(['give', 'me', 'one', 'grand', 'today', 'night'], ['give', 'give', 'one', 'grand', 'today']))\n"
   ]
  },
  {
   "cell_type": "markdown",
   "metadata": {},
   "source": [
    "# dict"
   ]
  },
  {
   "cell_type": "code",
   "execution_count": 32,
   "metadata": {},
   "outputs": [
    {
     "name": "stdout",
     "output_type": "stream",
     "text": [
      "CPU times: user 5 µs, sys: 1 µs, total: 6 µs\n",
      "Wall time: 9.3 µs\n"
     ]
    }
   ],
   "source": [
    "%%time\n",
    "\n",
    "wordFreqDic = {\n",
    "    \"Hello\": 56,\n",
    "    \"at\" : 23 ,\n",
    "    \"test\" : 43,\n",
    "    \"this\" : 78\n",
    "    }\n",
    "\n",
    "ret = ('test' in wordFreqDic.keys())\n",
    "ret"
   ]
  },
  {
   "cell_type": "code",
   "execution_count": 33,
   "metadata": {},
   "outputs": [
    {
     "name": "stdout",
     "output_type": "stream",
     "text": [
      "CPU times: user 5 µs, sys: 1 µs, total: 6 µs\n",
      "Wall time: 9.06 µs\n"
     ]
    }
   ],
   "source": [
    "%%time\n",
    "\n",
    "wordFreqDic = {\n",
    "    \"Hello\": 56,\n",
    "    \"at\" : 23 ,\n",
    "    \"test\" : 43,\n",
    "    \"this\" : 78\n",
    "    }\n",
    "\n",
    "ret = (wordFreqDic.get('test'))\n",
    "ret"
   ]
  },
  {
   "cell_type": "markdown",
   "metadata": {},
   "source": [
    "# Counter"
   ]
  },
  {
   "cell_type": "code",
   "execution_count": 4,
   "metadata": {},
   "outputs": [
    {
     "data": {
      "text/plain": [
       "Counter({'a': 3})"
      ]
     },
     "execution_count": 4,
     "metadata": {},
     "output_type": "execute_result"
    }
   ],
   "source": [
    "from collections import Counter\n",
    "\n",
    "s = 'aaa'\n",
    "c = Counter(s)\n",
    "\n",
    "s2 = 'fdfd'\n",
    "c2 = Counter(s2)\n",
    "c2 - c\n",
    "c- c2"
   ]
  },
  {
   "cell_type": "code",
   "execution_count": 40,
   "metadata": {},
   "outputs": [
    {
     "data": {
      "text/plain": [
       "{('d', 2), ('f', 5), ('g', 3), ('h', 3), ('s', 1)}"
      ]
     },
     "execution_count": 40,
     "metadata": {},
     "output_type": "execute_result"
    }
   ],
   "source": [
    "se = set(c.items())\n",
    "se"
   ]
  },
  {
   "cell_type": "code",
   "execution_count": 44,
   "metadata": {},
   "outputs": [
    {
     "data": {
      "text/plain": [
       "{'d': 2, 'f': 5, 'g': 3, 'h': 3, 's': 1}"
      ]
     },
     "execution_count": 44,
     "metadata": {},
     "output_type": "execute_result"
    }
   ],
   "source": [
    "d = dict(se)\n",
    "d"
   ]
  },
  {
   "cell_type": "code",
   "execution_count": 49,
   "metadata": {},
   "outputs": [
    {
     "data": {
      "text/plain": [
       "{'d': 2, 'f': 5, 'g': 3, 'h': 3, 's': 1}"
      ]
     },
     "execution_count": 49,
     "metadata": {},
     "output_type": "execute_result"
    }
   ],
   "source": [
    "d2 = d.copy()\n",
    "d2"
   ]
  },
  {
   "cell_type": "code",
   "execution_count": 50,
   "metadata": {},
   "outputs": [
    {
     "data": {
      "text/plain": [
       "2"
      ]
     },
     "execution_count": 50,
     "metadata": {},
     "output_type": "execute_result"
    }
   ],
   "source": [
    "d2.pop('d')"
   ]
  },
  {
   "cell_type": "code",
   "execution_count": 51,
   "metadata": {},
   "outputs": [
    {
     "data": {
      "text/plain": [
       "{'f': 5, 'g': 3, 'h': 3, 's': 1}"
      ]
     },
     "execution_count": 51,
     "metadata": {},
     "output_type": "execute_result"
    }
   ],
   "source": [
    "d2"
   ]
  },
  {
   "cell_type": "code",
   "execution_count": 55,
   "metadata": {},
   "outputs": [
    {
     "data": {
      "text/plain": [
       "{'d'}"
      ]
     },
     "execution_count": 55,
     "metadata": {},
     "output_type": "execute_result"
    }
   ],
   "source": [
    "set(d) - set(d2)"
   ]
  },
  {
   "cell_type": "code",
   "execution_count": 56,
   "metadata": {},
   "outputs": [
    {
     "data": {
      "text/plain": [
       "set()"
      ]
     },
     "execution_count": 56,
     "metadata": {},
     "output_type": "execute_result"
    }
   ],
   "source": [
    "set(d2) - set(d)"
   ]
  },
  {
   "cell_type": "code",
   "execution_count": 57,
   "metadata": {},
   "outputs": [
    {
     "data": {
      "text/plain": [
       "{'d'}"
      ]
     },
     "execution_count": 57,
     "metadata": {},
     "output_type": "execute_result"
    }
   ],
   "source": [
    "set(d) ^ set(d2)"
   ]
  },
  {
   "cell_type": "code",
   "execution_count": 58,
   "metadata": {},
   "outputs": [
    {
     "data": {
      "text/plain": [
       "{'d'}"
      ]
     },
     "execution_count": 58,
     "metadata": {},
     "output_type": "execute_result"
    }
   ],
   "source": [
    "set(d2) ^ set(d)  # use ^ for sets to find difference between their keys!!"
   ]
  },
  {
   "cell_type": "code",
   "execution_count": 59,
   "metadata": {},
   "outputs": [
    {
     "data": {
      "text/plain": [
       "set()"
      ]
     },
     "execution_count": 59,
     "metadata": {},
     "output_type": "execute_result"
    }
   ],
   "source": [
    "set(d) ^ set(d)"
   ]
  },
  {
   "cell_type": "code",
   "execution_count": 60,
   "metadata": {},
   "outputs": [
    {
     "data": {
      "text/plain": [
       "False"
      ]
     },
     "execution_count": 60,
     "metadata": {},
     "output_type": "execute_result"
    }
   ],
   "source": [
    "set(d) ^ set(d) == None"
   ]
  },
  {
   "cell_type": "code",
   "execution_count": 62,
   "metadata": {},
   "outputs": [
    {
     "data": {
      "text/plain": [
       "True"
      ]
     },
     "execution_count": 62,
     "metadata": {},
     "output_type": "execute_result"
    }
   ],
   "source": [
    "set(d) ^ set(d) == set()  # this is how to tell if their keys are the same"
   ]
  },
  {
   "cell_type": "code",
   "execution_count": 66,
   "metadata": {},
   "outputs": [
    {
     "data": {
      "text/plain": [
       "{('d', 2)}"
      ]
     },
     "execution_count": 66,
     "metadata": {},
     "output_type": "execute_result"
    }
   ],
   "source": [
    "set(d2.items()) ^ set(d.items())  # use ^ for sets.items() to find  all differences between their full items!!"
   ]
  },
  {
   "cell_type": "code",
   "execution_count": 67,
   "metadata": {},
   "outputs": [
    {
     "data": {
      "text/plain": [
       "{('f', 5), ('f', 99999)}"
      ]
     },
     "execution_count": 67,
     "metadata": {},
     "output_type": "execute_result"
    }
   ],
   "source": [
    "d3 = d.copy()\n",
    "d3['f'] = 99999\n",
    "set(d3.items()) ^ set(d.items())  # use ^ for sets.items() to find all differences between their full items!!"
   ]
  },
  {
   "cell_type": "markdown",
   "metadata": {},
   "source": [
    "#### for sets, ^ is like XOR"
   ]
  },
  {
   "cell_type": "markdown",
   "metadata": {},
   "source": [
    "# String manuipulation"
   ]
  },
  {
   "cell_type": "code",
   "execution_count": 71,
   "metadata": {},
   "outputs": [
    {
     "data": {
      "text/plain": [
       "'sdfgdfhfg'"
      ]
     },
     "execution_count": 71,
     "metadata": {},
     "output_type": "execute_result"
    }
   ],
   "source": [
    "'sdfgdfhfgj'[:-1]"
   ]
  },
  {
   "cell_type": "code",
   "execution_count": 83,
   "metadata": {},
   "outputs": [
    {
     "data": {
      "text/plain": [
       "'a man, a plan, a canal: panama'"
      ]
     },
     "execution_count": 83,
     "metadata": {},
     "output_type": "execute_result"
    }
   ],
   "source": [
    "s = \"A man, a plan, a canal: Panama\".lower()\n",
    "s"
   ]
  },
  {
   "cell_type": "code",
   "execution_count": 84,
   "metadata": {},
   "outputs": [
    {
     "data": {
      "text/plain": [
       "'amanaplanacanalpanama'"
      ]
     },
     "execution_count": 84,
     "metadata": {},
     "output_type": "execute_result"
    }
   ],
   "source": [
    "alphanumchars = 'qwertyuiopasdfghjklzxcvbnm1234567890'\n",
    "for i in range(len(s) - 1, -1, -1):\n",
    "    if s[i] not in alphanumchars:\n",
    "        s = s[:i] + s[i + 1:]\n",
    "s"
   ]
  },
  {
   "cell_type": "code",
   "execution_count": 7,
   "metadata": {},
   "outputs": [],
   "source": [
    "for i in range(0):\n",
    "    print(i)"
   ]
  },
  {
   "cell_type": "code",
   "execution_count": 8,
   "metadata": {},
   "outputs": [
    {
     "data": {
      "text/plain": [
       "'GGGAAAATCCC'"
      ]
     },
     "execution_count": 8,
     "metadata": {},
     "output_type": "execute_result"
    }
   ],
   "source": [
    "'GGGAAAATCCC'.upper()"
   ]
  },
  {
   "cell_type": "code",
   "execution_count": 28,
   "metadata": {},
   "outputs": [
    {
     "data": {
      "text/plain": [
       "False"
      ]
     },
     "execution_count": 28,
     "metadata": {},
     "output_type": "execute_result"
    }
   ],
   "source": [
    "ok = \"ATGC\"\n",
    "x = \"AAAADAsA\"\n",
    "all(c in ok for c in x)"
   ]
  }
 ],
 "metadata": {
  "kernelspec": {
   "display_name": "python-ref-code",
   "language": "python",
   "name": "python-ref-code"
  },
  "language_info": {
   "codemirror_mode": {
    "name": "ipython",
    "version": 2
   },
   "file_extension": ".py",
   "mimetype": "text/x-python",
   "name": "python",
   "nbconvert_exporter": "python",
   "pygments_lexer": "ipython2",
   "version": "2.7.17"
  }
 },
 "nbformat": 4,
 "nbformat_minor": 2
}

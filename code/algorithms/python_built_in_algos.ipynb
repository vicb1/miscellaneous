{
 "cells": [
  {
   "cell_type": "markdown",
   "metadata": {},
   "source": [
    "# bisect\n",
    "https://docs.python.org/3.0/library/bisect.html"
   ]
  },
  {
   "cell_type": "code",
   "execution_count": 2,
   "metadata": {},
   "outputs": [
    {
     "name": "stdout",
     "output_type": "stream",
     "text": [
      "3\n"
     ]
    },
    {
     "data": {
      "text/plain": [
       "'C'"
      ]
     },
     "execution_count": 2,
     "metadata": {},
     "output_type": "execute_result"
    }
   ],
   "source": [
    "grades = \"FEDCBA\"\n",
    "breakpoints = [30, 44, 66, 75, 85]\n",
    "from bisect import bisect\n",
    "def grade(total):\n",
    "    return grades[bisect(breakpoints, total)]\n",
    "\n",
    "print(bisect([30, 44, 66, 75, 85], 67))\n",
    "grade(66)"
   ]
  },
  {
   "cell_type": "code",
   "execution_count": 6,
   "metadata": {},
   "outputs": [
    {
     "data": {
      "text/plain": [
       "['E', 'A', 'B', 'D', 'F', 'A']"
      ]
     },
     "execution_count": 6,
     "metadata": {},
     "output_type": "execute_result"
    }
   ],
   "source": [
    "list(map(grade, [33, 99, 77, 44, 12, 88]))"
   ]
  },
  {
   "cell_type": "markdown",
   "metadata": {},
   "source": [
    "# default dict\n",
    "https://docs.python.org/3.0/library/collections.html#collections.defaultdict"
   ]
  },
  {
   "cell_type": "markdown",
   "metadata": {},
   "source": [
    "# heapq\n",
    "https://docs.python.org/3.0/library/heapq.html"
   ]
  },
  {
   "cell_type": "markdown",
   "metadata": {},
   "source": [
    "# deque\n",
    "https://docs.python.org/2/library/collections.html#collections.deque"
   ]
  },
  {
   "cell_type": "code",
   "execution_count": 10,
   "metadata": {},
   "outputs": [
    {
     "name": "stdout",
     "output_type": "stream",
     "text": [
      "deque(['John', 'Michael', 'Terry', 'Graham'])\n",
      "deque(['Victor', 'John', 'Michael', 'Terry'])\n"
     ]
    }
   ],
   "source": [
    "from collections import deque\n",
    "\n",
    "queue = deque([\"Eric\", \"John\", \"Michael\"])\n",
    "queue.append(\"Terry\")   # Terry arrives\n",
    "queue.append(\"Graham\")  # Graham arrives\n",
    "queue.popleft() # The first to arrive now leaves\n",
    "print(queue)\n",
    "\n",
    "# also works as a double ended queue\n",
    "queue.appendleft(\"Victor\")\n",
    "queue.pop()\n",
    "print(queue)"
   ]
  },
  {
   "cell_type": "markdown",
   "metadata": {},
   "source": [
    "# counter\n",
    "https://docs.python.org/2/library/collections.html#collections.Counter"
   ]
  },
  {
   "cell_type": "code",
   "execution_count": 5,
   "metadata": {},
   "outputs": [
    {
     "name": "stdout",
     "output_type": "stream",
     "text": [
      "Counter({'give': 2, 'one': 1, 'grand': 1, 'today': 1})\n",
      "Counter({'give': 1, 'me': 1, 'one': 1, 'grand': 1, 'today': 1, 'night': 1})\n",
      "Counter({'me': 1, 'night': 1})\n",
      "Counter({'give': 1})\n",
      "dict_values([2, 1, 1, 1])\n",
      "No\n"
     ]
    }
   ],
   "source": [
    "from collections import Counter\n",
    "\n",
    "def checkMagazine(magazine, note):\n",
    "    print(Counter(note))\n",
    "    print(Counter(magazine))\n",
    "    print(Counter(magazine) - Counter(note))\n",
    "    print(Counter(note) - Counter(magazine))\n",
    "    print(dict(Counter(note)).values())\n",
    "    if (Counter(note) - Counter(magazine)) == Counter({}):\n",
    "        return 'Yes'\n",
    "    else:\n",
    "        return 'No'\n",
    "\n",
    "\n",
    "# print(('give me one grand today night').split(' '))\n",
    "print(checkMagazine(['give', 'me', 'one', 'grand', 'today', 'night'], ['give', 'give', 'one', 'grand', 'today']))\n"
   ]
  },
  {
   "cell_type": "markdown",
   "metadata": {},
   "source": [
    "# explore others here:\n",
    "https://docs.python.org/2/library/collections.html#collections.namedtuple"
   ]
  },
  {
   "cell_type": "code",
   "execution_count": null,
   "metadata": {},
   "outputs": [],
   "source": []
  }
 ],
 "metadata": {
  "kernelspec": {
   "display_name": "Python 3",
   "language": "python",
   "name": "python3"
  },
  "language_info": {
   "codemirror_mode": {
    "name": "ipython",
    "version": 3
   },
   "file_extension": ".py",
   "mimetype": "text/x-python",
   "name": "python",
   "nbconvert_exporter": "python",
   "pygments_lexer": "ipython3",
   "version": "3.5.6"
  }
 },
 "nbformat": 4,
 "nbformat_minor": 2
}

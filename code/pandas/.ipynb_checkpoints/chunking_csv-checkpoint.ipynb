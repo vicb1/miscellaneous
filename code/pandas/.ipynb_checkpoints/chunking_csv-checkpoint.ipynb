{
 "cells": [
  {
   "cell_type": "code",
   "execution_count": 8,
   "metadata": {},
   "outputs": [
    {
     "name": "stdout",
     "output_type": "stream",
     "text": [
      "     sepal_length  petal_length\n",
      "0             5.1           1.4\n",
      "1             4.9           1.4\n",
      "2             4.7           1.3\n",
      "3             4.6           1.5\n",
      "4             5.0           1.4\n",
      "..            ...           ...\n",
      "145           6.7           5.2\n",
      "146           6.3           5.0\n",
      "147           6.5           5.2\n",
      "148           6.2           5.4\n",
      "149           5.9           5.1\n",
      "\n",
      "[150 rows x 2 columns]\n"
     ]
    }
   ],
   "source": [
    "import os\n",
    "import pandas\n",
    "from functools import reduce\n",
    "import seaborn as sns\n",
    "\n",
    "# https://pythonspeed.com/memory/\n",
    "# https://pythonspeed.com/articles/chunking-pandas/\n",
    "# https://stackoverflow.com/questions/38531195/writing-large-pandas-dataframes-to-csv-file-in-chunks\n",
    "\n",
    "iris = sns.load_dataset('iris')\n",
    "iris.to_csv('iris.csv')\n",
    "\n",
    "try:\n",
    "    os.remove('out.csv')\n",
    "except OSError:\n",
    "    pass\n",
    "\n",
    "first_reduce = True\n",
    "\n",
    "\n",
    "def reformat_data(chunk):\n",
    "    sepal_length = chunk[['sepal_length', 'petal_length']]\n",
    "    return sepal_length\n",
    "\n",
    "\n",
    "def add(previous_result, new_result):\n",
    "    global first_reduce\n",
    "    if first_reduce:\n",
    "        previous_result.to_csv('out.csv', header=first_reduce, mode='a')\n",
    "    first_reduce = False\n",
    "    new_result.to_csv('out.csv', header=first_reduce, mode='a')\n",
    "    return previous_result.add(new_result, fill_value=0)\n",
    "\n",
    "\n",
    "# MapReduce structure:\n",
    "chunks = pandas.read_csv('iris.csv', chunksize=70)\n",
    "processed_chunks = map(reformat_data, chunks)\n",
    "result = reduce(add, processed_chunks)\n",
    "\n",
    "print(result)\n"
   ]
  },
  {
   "cell_type": "code",
   "execution_count": null,
   "metadata": {},
   "outputs": [],
   "source": []
  },
  {
   "cell_type": "code",
   "execution_count": null,
   "metadata": {},
   "outputs": [],
   "source": []
  },
  {
   "cell_type": "code",
   "execution_count": null,
   "metadata": {},
   "outputs": [],
   "source": []
  },
  {
   "cell_type": "code",
   "execution_count": null,
   "metadata": {},
   "outputs": [],
   "source": []
  }
 ],
 "metadata": {
  "kernelspec": {
   "display_name": "jupyterlab-debugger",
   "language": "python",
   "name": "jupyterlab-debugger"
  },
  "language_info": {
   "codemirror_mode": {
    "name": "ipython",
    "version": 3
   },
   "file_extension": ".py",
   "mimetype": "text/x-python",
   "name": "python",
   "nbconvert_exporter": "python",
   "pygments_lexer": "ipython3",
   "version": "3.9.1"
  }
 },
 "nbformat": 4,
 "nbformat_minor": 4
}

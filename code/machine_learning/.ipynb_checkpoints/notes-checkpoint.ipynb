{
 "cells": [
  {
   "cell_type": "markdown",
   "metadata": {},
   "source": [
    "# references\n",
    "- https://paperswithcode.com/greatest\n",
    "- https://scikit-learn.org/stable/\n",
    "- https://keras.io/\n",
    "- https://www.datarobot.com/wiki/supervised-machine-learning/\n",
    "- https://christophm.github.io/interpretable-ml-book/pdp.html\n",
    "- how do multiple feature changes at once correlate with impact to model? Single is known as feature impact...\n",
    "- can we plot 3d, 4d, 5d partial dependence plots?  Or find maximums? \n",
    "- https://scikit-learn.org/stable/auto_examples/ensemble/plot_partial_dependence.html\n",
    "\n",
    "- https://scikit-learn.org/stable/tutorial/machine_learning_map/index.html\n",
    "- https://scikit-learn.org/stable/modules/cross_validation.html"
   ]
  },
  {
   "cell_type": "code",
   "execution_count": null,
   "metadata": {},
   "outputs": [],
   "source": []
  },
  {
   "cell_type": "code",
   "execution_count": null,
   "metadata": {},
   "outputs": [],
   "source": []
  }
 ],
 "metadata": {
  "kernelspec": {
   "display_name": "Python 3",
   "language": "python",
   "name": "python3"
  },
  "language_info": {
   "codemirror_mode": {
    "name": "ipython",
    "version": 3
   },
   "file_extension": ".py",
   "mimetype": "text/x-python",
   "name": "python",
   "nbconvert_exporter": "python",
   "pygments_lexer": "ipython3",
   "version": "3.7.1"
  }
 },
 "nbformat": 4,
 "nbformat_minor": 2
}

{
 "cells": [
  {
   "cell_type": "code",
   "execution_count": 2,
   "metadata": {},
   "outputs": [
    {
     "name": "stdout",
     "output_type": "stream",
     "text": [
      "size (184, 184)\n"
     ]
    },
    {
     "data": {
      "image/png": "[encoded data removed]",
      "text/plain": [
       "<PIL.Image.Image image mode=1 size=184x184 at 0x294113E9160>"
      ]
     },
     "execution_count": 2,
     "metadata": {},
     "output_type": "execute_result"
    }
   ],
   "source": [
    "from PIL import Image, ImageChops\n",
    "import numpy as np\n",
    "pacman = Image.open('pacman.png')\n",
    "print('size', pacman.size)\n",
    "pacman = pacman.resize((184, 184), Image.ANTIALIAS)\n",
    "pacman = pacman.convert('1')\n",
    "pacman"
   ]
  },
  {
   "cell_type": "code",
   "execution_count": 3,
   "metadata": {},
   "outputs": [
    {
     "data": {
      "text/plain": [
       "24207"
      ]
     },
     "execution_count": 3,
     "metadata": {},
     "output_type": "execute_result"
    }
   ],
   "source": [
    "pacman.histogram()[-1]"
   ]
  },
  {
   "cell_type": "code",
   "execution_count": 4,
   "metadata": {},
   "outputs": [
    {
     "data": {
      "text/plain": [
       "9649"
      ]
     },
     "execution_count": 4,
     "metadata": {},
     "output_type": "execute_result"
    }
   ],
   "source": [
    "pacman.histogram()[0]"
   ]
  },
  {
   "cell_type": "code",
   "execution_count": 5,
   "metadata": {},
   "outputs": [
    {
     "data": {
      "image/png": "[encoded data removed]",
      "text/plain": [
       "<PIL.Image.Image image mode=1 size=184x184 at 0x2940FDD2BE0>"
      ]
     },
     "execution_count": 5,
     "metadata": {},
     "output_type": "execute_result"
    }
   ],
   "source": [
    "square = Image.open('square.png').resize((184, 184), Image.ANTIALIAS).convert('1')\n",
    "square"
   ]
  },
  {
   "cell_type": "code",
   "execution_count": 6,
   "metadata": {},
   "outputs": [
    {
     "data": {
      "image/png": "[encoded data removed]",
      "text/plain": [
       "<PIL.Image.Image image mode=1 size=184x184 at 0x294113E9630>"
      ]
     },
     "execution_count": 6,
     "metadata": {},
     "output_type": "execute_result"
    }
   ],
   "source": [
    "pentagon = Image.open('pentagon.png').resize((184, 184), Image.ANTIALIAS).convert('1')\n",
    "pentagon"
   ]
  },
  {
   "cell_type": "code",
   "execution_count": 7,
   "metadata": {},
   "outputs": [
    {
     "name": "stdout",
     "output_type": "stream",
     "text": [
      "pacman, square 0.2587100987208543\n",
      "pentagon, square 0.07920603110983873\n"
     ]
    }
   ],
   "source": [
    "def darkPixelTotal(imgA):\n",
    "    return imgA.histogram()[0]\n",
    "\n",
    "def percentDiff(a, b):\n",
    "    numerator = float(a.histogram()[0] - b.histogram()[0])\n",
    "    denominator = float(a.histogram()[0] + b.histogram()[0])\n",
    "    if denominator == 0:\n",
    "        return 0\n",
    "    else:\n",
    "        return abs(numerator / denominator)\n",
    "\n",
    "print('pacman, square', percentDiff(pacman, square))\n",
    "print('pentagon, square', percentDiff(pacman, pentagon))"
   ]
  },
  {
   "cell_type": "code",
   "execution_count": 8,
   "metadata": {},
   "outputs": [
    {
     "name": "stdout",
     "output_type": "stream",
     "text": [
      "total\n",
      "33856\n",
      "pacman 33856\n",
      "square 33856\n"
     ]
    }
   ],
   "source": [
    "print('total')\n",
    "total = pacman.size[0] * pacman.size[1]\n",
    "print(total)\n",
    "print('pacman', sum(pacman.histogram()))\n",
    "print('square', sum(square.histogram()))"
   ]
  },
  {
   "cell_type": "code",
   "execution_count": 9,
   "metadata": {},
   "outputs": [
    {
     "name": "stdout",
     "output_type": "stream",
     "text": [
      "black\n",
      "pacman 9649\n",
      "square 16384\n"
     ]
    }
   ],
   "source": [
    "print('black')\n",
    "print('pacman', pacman.histogram()[0])\n",
    "print('square', square.histogram()[0])"
   ]
  },
  {
   "cell_type": "code",
   "execution_count": 10,
   "metadata": {},
   "outputs": [
    {
     "name": "stdout",
     "output_type": "stream",
     "text": [
      "white\n",
      "pacman 24207\n",
      "square 17472\n"
     ]
    }
   ],
   "source": [
    "print('white')\n",
    "print('pacman', pacman.histogram()[-1])\n",
    "print('square', square.histogram()[-1])"
   ]
  },
  {
   "cell_type": "code",
   "execution_count": 11,
   "metadata": {},
   "outputs": [
    {
     "data": {
      "text/plain": [
       "array([[ True,  True,  True, ...,  True,  True,  True],\n",
       "       [ True,  True,  True, ...,  True,  True,  True],\n",
       "       [ True,  True,  True, ...,  True,  True,  True],\n",
       "       ...,\n",
       "       [ True,  True,  True, ...,  True,  True,  True],\n",
       "       [ True,  True,  True, ...,  True,  True,  True],\n",
       "       [ True,  True,  True, ...,  True,  True,  True]])"
      ]
     },
     "execution_count": 11,
     "metadata": {},
     "output_type": "execute_result"
    }
   ],
   "source": [
    "np.array(pacman)"
   ]
  },
  {
   "cell_type": "code",
   "execution_count": 12,
   "metadata": {},
   "outputs": [
    {
     "data": {
      "text/plain": [
       "27121"
      ]
     },
     "execution_count": 12,
     "metadata": {},
     "output_type": "execute_result"
    }
   ],
   "source": [
    "def similar_pixels(a, b):\n",
    "    return (np.array(a) == np.array(b)).sum()\n",
    "\n",
    "similar_pixels(pacman, square)"
   ]
  },
  {
   "cell_type": "code",
   "execution_count": 13,
   "metadata": {},
   "outputs": [
    {
     "data": {
      "text/plain": [
       "6735"
      ]
     },
     "execution_count": 13,
     "metadata": {},
     "output_type": "execute_result"
    }
   ],
   "source": [
    "def different_pixels(a, b):\n",
    "    return (np.array(a) != np.array(b)).sum()\n",
    "\n",
    "different_pixels(pacman, square)"
   ]
  },
  {
   "cell_type": "code",
   "execution_count": 14,
   "metadata": {},
   "outputs": [
    {
     "name": "stdout",
     "output_type": "stream",
     "text": [
      "pacman, square 0.19893076559546313\n",
      "pentagon, square 0.1329749527410208\n"
     ]
    }
   ],
   "source": [
    "def percent_pixels_different(a, b):\n",
    "    total = float(a.size[0] * a.size[1])\n",
    "    return different_pixels(a, b) / total\n",
    "    \n",
    "print('pacman, square', percent_pixels_different(pacman, square))\n",
    "print('pentagon, square', percent_pixels_different(pacman, pentagon))"
   ]
  },
  {
   "cell_type": "code",
   "execution_count": 36,
   "metadata": {},
   "outputs": [
    {
     "data": {
      "image/png": "[encoded data removed]",
      "text/plain": [
       "<PIL.Image.Image image mode=1 size=184x184 at 0x2940FDD2AC8>"
      ]
     },
     "execution_count": 36,
     "metadata": {},
     "output_type": "execute_result"
    }
   ],
   "source": [
    "ImageChops.logical_or(pacman, pentagon)"
   ]
  },
  {
   "cell_type": "code",
   "execution_count": 37,
   "metadata": {},
   "outputs": [
    {
     "data": {
      "image/png": "[encoded data removed]",
      "text/plain": [
       "<PIL.Image.Image image mode=1 size=184x184 at 0x29411427080>"
      ]
     },
     "execution_count": 37,
     "metadata": {},
     "output_type": "execute_result"
    }
   ],
   "source": [
    "ImageChops.add_modulo(pacman, pentagon)"
   ]
  },
  {
   "cell_type": "code",
   "execution_count": 17,
   "metadata": {},
   "outputs": [
    {
     "data": {
      "image/png": "[encoded data removed]",
      "text/plain": [
       "<PIL.Image.Image image mode=1 size=184x184 at 0x29411422390>"
      ]
     },
     "execution_count": 17,
     "metadata": {},
     "output_type": "execute_result"
    }
   ],
   "source": [
    "ImageChops.lighter(pacman, pentagon)"
   ]
  },
  {
   "cell_type": "code",
   "execution_count": 18,
   "metadata": {},
   "outputs": [
    {
     "data": {
      "image/png": "[encoded data removed]",
      "text/plain": [
       "<PIL.Image.Image image mode=1 size=184x184 at 0x294114227F0>"
      ]
     },
     "execution_count": 18,
     "metadata": {},
     "output_type": "execute_result"
    }
   ],
   "source": [
    "ImageChops.screen(pacman, pentagon)"
   ]
  },
  {
   "cell_type": "code",
   "execution_count": 43,
   "metadata": {},
   "outputs": [
    {
     "data": {
      "image/png": "[encoded data removed]",
      "text/plain": [
       "<PIL.Image.Image image mode=1 size=184x184 at 0x29411427470>"
      ]
     },
     "execution_count": 43,
     "metadata": {},
     "output_type": "execute_result"
    }
   ],
   "source": [
    "ImageChops.logical_and(pacman, pentagon)"
   ]
  },
  {
   "cell_type": "code",
   "execution_count": 20,
   "metadata": {},
   "outputs": [
    {
     "data": {
      "image/png": "[encoded data removed]",
      "text/plain": [
       "<PIL.Image.Image image mode=1 size=184x184 at 0x294113E9DD8>"
      ]
     },
     "execution_count": 20,
     "metadata": {},
     "output_type": "execute_result"
    }
   ],
   "source": [
    "ImageChops.multiply(pacman, pentagon)"
   ]
  },
  {
   "cell_type": "code",
   "execution_count": 21,
   "metadata": {},
   "outputs": [
    {
     "data": {
      "image/png": "[encoded data removed]",
      "text/plain": [
       "<PIL.Image.Image image mode=1 size=184x184 at 0x294113E99E8>"
      ]
     },
     "execution_count": 21,
     "metadata": {},
     "output_type": "execute_result"
    }
   ],
   "source": [
    "ImageChops.darker(pacman, pentagon)"
   ]
  },
  {
   "cell_type": "code",
   "execution_count": 41,
   "metadata": {},
   "outputs": [
    {
     "data": {
      "image/png": "[encoded data removed]",
      "text/plain": [
       "<PIL.Image.Image image mode=1 size=184x184 at 0x29411427198>"
      ]
     },
     "execution_count": 41,
     "metadata": {},
     "output_type": "execute_result"
    }
   ],
   "source": [
    "ImageChops.logical_xor(pacman, pentagon)"
   ]
  },
  {
   "cell_type": "code",
   "execution_count": 23,
   "metadata": {},
   "outputs": [
    {
     "data": {
      "image/png": "[encoded data removed]",
      "text/plain": [
       "<PIL.Image.Image image mode=1 size=184x184 at 0x29411422198>"
      ]
     },
     "execution_count": 23,
     "metadata": {},
     "output_type": "execute_result"
    }
   ],
   "source": [
    "ImageChops.difference(pacman, pentagon)"
   ]
  },
  {
   "cell_type": "code",
   "execution_count": 39,
   "metadata": {},
   "outputs": [
    {
     "data": {
      "image/png": "[encoded data removed]",
      "text/plain": [
       "<PIL.Image.Image image mode=1 size=184x184 at 0x29411427128>"
      ]
     },
     "execution_count": 39,
     "metadata": {},
     "output_type": "execute_result"
    }
   ],
   "source": [
    "ImageChops.subtract_modulo(pacman, pentagon)"
   ]
  },
  {
   "cell_type": "code",
   "execution_count": 25,
   "metadata": {},
   "outputs": [
    {
     "data": {
      "text/plain": [
       "3"
      ]
     },
     "execution_count": 25,
     "metadata": {},
     "output_type": "execute_result"
    }
   ],
   "source": [
    "import random\n",
    "random.randint(1, 6)"
   ]
  },
  {
   "cell_type": "code",
   "execution_count": 26,
   "metadata": {},
   "outputs": [
    {
     "data": {
      "text/plain": [
       "[2.0, 2.5, 3.0, 3.5, 4.0]"
      ]
     },
     "execution_count": 26,
     "metadata": {},
     "output_type": "execute_result"
    }
   ],
   "source": [
    "np.linspace(2,4,5).tolist()"
   ]
  },
  {
   "cell_type": "code",
   "execution_count": 29,
   "metadata": {},
   "outputs": [
    {
     "data": {
      "image/png": "[encoded data removed]",
      "text/plain": [
       "<PIL.Image.Image image mode=1 size=184x184 at 0x29411422080>"
      ]
     },
     "execution_count": 29,
     "metadata": {},
     "output_type": "execute_result"
    }
   ],
   "source": [
    "pacman.rotate(45)"
   ]
  },
  {
   "cell_type": "code",
   "execution_count": 32,
   "metadata": {},
   "outputs": [
    {
     "data": {
      "image/png": "[encoded data removed]",
      "text/plain": [
       "<PIL.Image.Image image mode=1 size=184x184 at 0x294113E9160>"
      ]
     },
     "execution_count": 32,
     "metadata": {},
     "output_type": "execute_result"
    }
   ],
   "source": [
    "pacman"
   ]
  },
  {
   "cell_type": "code",
   "execution_count": 45,
   "metadata": {},
   "outputs": [
    {
     "data": {
      "image/png": "[encoded data removed]",
      "text/plain": [
       "<PIL.Image.Image image mode=1 size=184x184 at 0x294114276A0>"
      ]
     },
     "execution_count": 45,
     "metadata": {},
     "output_type": "execute_result"
    }
   ],
   "source": [
    "pacman.rotate(-90)"
   ]
  },
  {
   "cell_type": "code",
   "execution_count": 48,
   "metadata": {},
   "outputs": [
    {
     "name": "stdout",
     "output_type": "stream",
     "text": [
      "size (184, 184)\n"
     ]
    },
    {
     "data": {
      "image/png": "[encoded data removed]",
      "text/plain": [
       "<PIL.Image.Image image mode=1 size=184x184 at 0x29411422EB8>"
      ]
     },
     "execution_count": 48,
     "metadata": {},
     "output_type": "execute_result"
    }
   ],
   "source": [
    "A = Image.open('A.png')\n",
    "print('size', A.size)\n",
    "A = A.resize((184, 184), Image.ANTIALIAS)\n",
    "A = A.convert('1')\n",
    "A"
   ]
  },
  {
   "cell_type": "code",
   "execution_count": 56,
   "metadata": {},
   "outputs": [
    {
     "data": {
      "image/png": "[encoded data removed]",
      "text/plain": [
       "<PIL.Image.Image image mode=1 size=184x184 at 0x29411427A90>"
      ]
     },
     "execution_count": 56,
     "metadata": {},
     "output_type": "execute_result"
    }
   ],
   "source": [
    "A.rotate(-90)"
   ]
  },
  {
   "cell_type": "code",
   "execution_count": 67,
   "metadata": {},
   "outputs": [
    {
     "data": {
      "image/png": "[encoded data removed]",
      "text/plain": [
       "<PIL.Image.Image image mode=1 size=184x184 at 0x29411465198>"
      ]
     },
     "execution_count": 67,
     "metadata": {},
     "output_type": "execute_result"
    }
   ],
   "source": [
    "from PIL import ImageOps\n",
    "\n",
    "ImageOps.flip(pacman)\n",
    "ImageOps.mirror(pacman)"
   ]
  },
  {
   "cell_type": "code",
   "execution_count": 119,
   "metadata": {},
   "outputs": [
    {
     "data": {
      "image/png": "[encoded data removed]",
      "text/plain": [
       "<PIL.Image.Image image mode=1 size=184x184 at 0x294113E9160>"
      ]
     },
     "execution_count": 119,
     "metadata": {},
     "output_type": "execute_result"
    }
   ],
   "source": [
    "p_rot = pacman #.rotate(-90)\n",
    "p_rot"
   ]
  },
  {
   "cell_type": "code",
   "execution_count": 120,
   "metadata": {},
   "outputs": [
    {
     "data": {
      "text/plain": [
       "array([[ True,  True,  True, ...,  True,  True,  True],\n",
       "       [ True,  True,  True, ...,  True,  True,  True],\n",
       "       [ True,  True,  True, ...,  True,  True,  True],\n",
       "       ...,\n",
       "       [ True,  True,  True, ...,  True,  True,  True],\n",
       "       [ True,  True,  True, ...,  True,  True,  True],\n",
       "       [ True,  True,  True, ...,  True,  True,  True]])"
      ]
     },
     "execution_count": 120,
     "metadata": {},
     "output_type": "execute_result"
    }
   ],
   "source": [
    "arr = np.array(p_rot)\n",
    "arr"
   ]
  },
  {
   "cell_type": "code",
   "execution_count": 106,
   "metadata": {},
   "outputs": [
    {
     "data": {
      "text/plain": [
       "16893"
      ]
     },
     "execution_count": 106,
     "metadata": {},
     "output_type": "execute_result"
    }
   ],
   "source": [
    "def img_frombytes(data):\n",
    "    size = data.shape[::-1]\n",
    "    databytes = np.packbits(data, axis=1)\n",
    "    return Image.frombytes(mode='1', size=size, data=databytes)\n",
    "\n",
    "rows = arr.shape[0]\n",
    "cols = arr.shape[1]\n",
    "\n",
    "flip_symmetric_top = arr[:rows // 2]\n",
    "flip_symmetric_bottom = arr[rows // 2:]\n",
    "flip_symmetric_bottom_im = img_frombytes(flip_symmetric_bottom)\n",
    "flip_symmetric_bottom_im_flipped = ImageOps.flip(flip_symmetric_bottom_im)\n",
    "flip_symmetric_bottom_im_flipped_arr = np.array(flip_symmetric_bottom_im_flipped)\n",
    "\n",
    "flip_symmetric_bottom.shape\n"
   ]
  },
  {
   "cell_type": "code",
   "execution_count": 110,
   "metadata": {},
   "outputs": [],
   "source": [
    "xor_flip = ImageChops.logical_xor(img_frombytes(flip_symmetric_top), img_frombytes(flip_symmetric_bottom_im_flipped_arr))"
   ]
  },
  {
   "cell_type": "code",
   "execution_count": 112,
   "metadata": {},
   "outputs": [
    {
     "data": {
      "text/plain": [
       "0.00206758034026465"
      ]
     },
     "execution_count": 112,
     "metadata": {},
     "output_type": "execute_result"
    }
   ],
   "source": [
    "def num_white(a):\n",
    "    return a.histogram()[-1]\n",
    "\n",
    "num_white(xor_flip) / float(xor_flip.size[0] * xor_flip.size[1])"
   ]
  },
  {
   "cell_type": "code",
   "execution_count": 125,
   "metadata": {},
   "outputs": [
    {
     "data": {
      "text/plain": [
       "0.00206758034026465"
      ]
     },
     "execution_count": 125,
     "metadata": {},
     "output_type": "execute_result"
    }
   ],
   "source": [
    "def percent_similar_if_flipped(a):\n",
    "    \n",
    "    def img_frombytes(data):\n",
    "        size = data.shape[::-1]\n",
    "        databytes = np.packbits(data, axis=1)\n",
    "        return Image.frombytes(mode='1', size=size, data=databytes)\n",
    "    \n",
    "    def num_white(a):\n",
    "        return a.histogram()[-1]\n",
    "    \n",
    "    arr = np.array(a)\n",
    "    rows = arr.shape[0]\n",
    "    cols = arr.shape[1]\n",
    "\n",
    "    flip_symmetric_top = arr[:rows // 2]\n",
    "    flip_symmetric_bottom = arr[rows // 2:]\n",
    "    flip_symmetric_bottom_im = img_frombytes(flip_symmetric_bottom)\n",
    "    flip_symmetric_bottom_im_flipped = ImageOps.flip(flip_symmetric_bottom_im)\n",
    "    flip_symmetric_bottom_im_flipped_arr = np.array(flip_symmetric_bottom_im_flipped)\n",
    "\n",
    "    flip_symmetric_bottom.shape\n",
    "    \n",
    "    xor_flip = ImageChops.logical_xor(img_frombytes(flip_symmetric_top), img_frombytes(flip_symmetric_bottom_im_flipped_arr))\n",
    "    \n",
    "    return num_white(xor_flip) / float(xor_flip.size[0] * xor_flip.size[1])\n",
    "\n",
    "percent_similar_if_flipped(p_rot)"
   ]
  },
  {
   "cell_type": "code",
   "execution_count": 124,
   "metadata": {},
   "outputs": [
    {
     "data": {
      "image/png": "[encoded data removed]",
      "text/plain": [
       "<PIL.Image.Image image mode=1 size=92x184 at 0x29411479550>"
      ]
     },
     "execution_count": 124,
     "metadata": {},
     "output_type": "execute_result"
    }
   ],
   "source": [
    "mirror_symmetric_left = arr[:, :cols // 2]\n",
    "mirror_symmetric_right = arr[:, cols // 2:]\n",
    "img_frombytes(mirror_symmetric_right)"
   ]
  },
  {
   "cell_type": "code",
   "execution_count": 128,
   "metadata": {},
   "outputs": [
    {
     "data": {
      "text/plain": [
       "0.00206758034026465"
      ]
     },
     "execution_count": 128,
     "metadata": {},
     "output_type": "execute_result"
    }
   ],
   "source": [
    "def percent_similar_if_mirrored(a):\n",
    "    \n",
    "    def img_frombytes(data):\n",
    "        size = data.shape[::-1]\n",
    "        databytes = np.packbits(data, axis=1)\n",
    "        return Image.frombytes(mode='1', size=size, data=databytes)\n",
    "    \n",
    "    def num_white(a):\n",
    "        return a.histogram()[-1]\n",
    "    \n",
    "    arr = np.array(a)\n",
    "    rows = arr.shape[0]\n",
    "    cols = arr.shape[1]\n",
    "\n",
    "    mirror_symmetric_left = arr[:, :cols // 2]\n",
    "    mirror_symmetric_right = arr[:, cols // 2:]\n",
    "    mirror_symmetric_right_im = img_frombytes(mirror_symmetric_right)\n",
    "    mirror_symmetric_right_im_flipped = ImageOps.mirror(mirror_symmetric_right_im)\n",
    "    mirror_symmetric_right_im_flipped_arr = np.array(mirror_symmetric_right_im_flipped)\n",
    "    xor_flip = ImageChops.logical_xor(img_frombytes(mirror_symmetric_left), img_frombytes(mirror_symmetric_right_im_flipped_arr))\n",
    "    return num_white(xor_flip) / float(xor_flip.size[0] * xor_flip.size[1])\n",
    "\n",
    "percent_similar_if_flipped(p_rot.rotate(90))"
   ]
  },
  {
   "cell_type": "code",
   "execution_count": 131,
   "metadata": {},
   "outputs": [
    {
     "name": "stdout",
     "output_type": "stream",
     "text": [
      "size (184, 184)\n"
     ]
    },
    {
     "data": {
      "image/png": "[encoded data removed]",
      "text/plain": [
       "<PIL.Image.Image image mode=1 size=184x184 at 0x29411479748>"
      ]
     },
     "execution_count": 131,
     "metadata": {},
     "output_type": "execute_result"
    }
   ],
   "source": [
    "A = Image.open('A.png')\n",
    "print('size', A.size)\n",
    "A = A.resize((184, 184), Image.ANTIALIAS)\n",
    "A = A.convert('1')\n",
    "A"
   ]
  },
  {
   "cell_type": "code",
   "execution_count": 182,
   "metadata": {},
   "outputs": [
    {
     "data": {
      "image/png": "[encoded data removed]",
      "text/plain": [
       "<PIL.Image.Image image mode=1 size=92x184 at 0x294114EB320>"
      ]
     },
     "execution_count": 182,
     "metadata": {},
     "output_type": "execute_result"
    }
   ],
   "source": [
    "def img_frombytes(data):\n",
    "        size = data.shape[::-1]\n",
    "        databytes = np.packbits(data, axis=1)\n",
    "#         databytes = np.ascontiguousarray(mirror_symmetric_left, dtype=np.bool)\n",
    "        return Image.frombytes(mode='1', size=size, data=databytes)\n",
    "    \n",
    "arr_1 = np.array(A)\n",
    "mirror_symmetric_left = arr_1[:, :cols // 2]\n",
    "img_frombytes(mirror_symmetric_left)"
   ]
  },
  {
   "cell_type": "code",
   "execution_count": 162,
   "metadata": {},
   "outputs": [
    {
     "data": {
      "image/png": "[encoded data removed]",
      "text/plain": [
       "<PIL.Image.Image image mode=1 size=92x184 at 0x294114D82B0>"
      ]
     },
     "execution_count": 162,
     "metadata": {},
     "output_type": "execute_result"
    }
   ],
   "source": [
    "\n",
    "ones_zeroes = mirror_symmetric_left[:]\n",
    "\n",
    "Image.fromarray(mirror_symmetric_left, mode=\"1\")"
   ]
  },
  {
   "cell_type": "code",
   "execution_count": 178,
   "metadata": {},
   "outputs": [
    {
     "data": {
      "text/plain": [
       "array([[1, 1, 1, ..., 1, 1, 1],\n",
       "       [1, 1, 1, ..., 1, 1, 1],\n",
       "       [1, 1, 1, ..., 1, 1, 1],\n",
       "       ...,\n",
       "       [1, 1, 1, ..., 1, 1, 1],\n",
       "       [1, 1, 1, ..., 1, 1, 1],\n",
       "       [1, 1, 1, ..., 1, 1, 1]])"
      ]
     },
     "execution_count": 178,
     "metadata": {},
     "output_type": "execute_result"
    }
   ],
   "source": [
    "con = np.ascontiguousarray(mirror_symmetric_left, dtype=np.int)\n",
    "con"
   ]
  },
  {
   "cell_type": "code",
   "execution_count": 179,
   "metadata": {},
   "outputs": [
    {
     "data": {
      "image/png": "[encoded data removed]",
      "text/plain": [
       "<PIL.Image.Image image mode=1 size=92x184 at 0x294114925F8>"
      ]
     },
     "execution_count": 179,
     "metadata": {},
     "output_type": "execute_result"
    }
   ],
   "source": [
    "Image.frombytes(mode='1', size=con.shape[::-1], data=con)"
   ]
  },
  {
   "cell_type": "code",
   "execution_count": 195,
   "metadata": {},
   "outputs": [
    {
     "data": {
      "image/png": "[encoded data removed]",
      "text/plain": [
       "<PIL.Image.Image image mode=1 size=184x180 at 0x294126C41D0>"
      ]
     },
     "execution_count": 195,
     "metadata": {},
     "output_type": "execute_result"
    }
   ],
   "source": [
    "from PIL import ImageOps\n",
    "\n",
    "# border = (0, 0, A.size[0] //2, A.size[1] - 1) # left, up, right, bottom\n",
    "border = (0, 2, 0, 2) # left, up, right, bottom\n",
    "ImageOps.crop(A, border)"
   ]
  },
  {
   "cell_type": "code",
   "execution_count": 196,
   "metadata": {},
   "outputs": [
    {
     "data": {
      "text/plain": [
       "92"
      ]
     },
     "execution_count": 196,
     "metadata": {},
     "output_type": "execute_result"
    }
   ],
   "source": [
    "A.size[1] //2"
   ]
  },
  {
   "cell_type": "code",
   "execution_count": 198,
   "metadata": {},
   "outputs": [
    {
     "data": {
      "text/plain": [
       "['124', '142', '214', '241', '412', '421']"
      ]
     },
     "execution_count": 198,
     "metadata": {},
     "output_type": "execute_result"
    }
   ],
   "source": [
    "from itertools import permutations\n",
    "[''.join(p) for p in permutations('124')]"
   ]
  }
 ],
 "metadata": {
  "kernelspec": {
   "display_name": "Python 3",
   "language": "python",
   "name": "python3"
  },
  "language_info": {
   "codemirror_mode": {
    "name": "ipython",
    "version": 3
   },
   "file_extension": ".py",
   "mimetype": "text/x-python",
   "name": "python",
   "nbconvert_exporter": "python",
   "pygments_lexer": "ipython3",
   "version": "3.7.1"
  }
 },
 "nbformat": 4,
 "nbformat_minor": 2
}

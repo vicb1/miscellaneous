{
 "cells": [
  {
   "cell_type": "code",
   "execution_count": 2,
   "metadata": {},
   "outputs": [
    {
     "name": "stdout",
     "output_type": "stream",
     "text": [
      "Requirement already satisfied: pandas in /home/vic/anaconda3/lib/python3.6/site-packages (0.23.0)\n",
      "Requirement already satisfied: python-dateutil>=2.5.0 in /home/vic/anaconda3/lib/python3.6/site-packages (from pandas) (2.7.3)\n",
      "Requirement already satisfied: pytz>=2011k in /home/vic/anaconda3/lib/python3.6/site-packages (from pandas) (2018.4)\n",
      "Requirement already satisfied: numpy>=1.9.0 in /home/vic/anaconda3/lib/python3.6/site-packages (from pandas) (1.14.3)\n",
      "Requirement already satisfied: six>=1.5 in /home/vic/anaconda3/lib/python3.6/site-packages (from python-dateutil>=2.5.0->pandas) (1.11.0)\n",
      "\u001b[33mWARNING: You are using pip version 19.1, however version 19.2.3 is available.\n",
      "You should consider upgrading via the 'pip install --upgrade pip' command.\u001b[0m\n"
     ]
    }
   ],
   "source": [
    "!pip install pandas"
   ]
  },
  {
   "cell_type": "code",
   "execution_count": 4,
   "metadata": {},
   "outputs": [
    {
     "data": {
      "text/plain": [
       "['',\n",
       " '/home/vic/anaconda3/lib/python36.zip',\n",
       " '/home/vic/anaconda3/lib/python3.6',\n",
       " '/home/vic/anaconda3/lib/python3.6/lib-dynload',\n",
       " '/home/vic/.local/lib/python3.6/site-packages',\n",
       " '/home/vic/anaconda3/lib/python3.6/site-packages',\n",
       " '/home/vic/anaconda3/lib/python3.6/site-packages/IPython/extensions',\n",
       " '/home/vic/.ipython']"
      ]
     },
     "execution_count": 4,
     "metadata": {},
     "output_type": "execute_result"
    }
   ],
   "source": [
    "import sys, os\n",
    "os.sys.path"
   ]
  },
  {
   "cell_type": "code",
   "execution_count": 6,
   "metadata": {},
   "outputs": [],
   "source": [
    "sys.path.append('/home/vic/_git/machine-learning')"
   ]
  },
  {
   "cell_type": "code",
   "execution_count": 8,
   "metadata": {},
   "outputs": [
    {
     "data": {
      "text/plain": [
       "['',\n",
       " '/home/vic/anaconda3/lib/python36.zip',\n",
       " '/home/vic/anaconda3/lib/python3.6',\n",
       " '/home/vic/anaconda3/lib/python3.6/lib-dynload',\n",
       " '/home/vic/.local/lib/python3.6/site-packages',\n",
       " '/home/vic/anaconda3/lib/python3.6/site-packages',\n",
       " '/home/vic/anaconda3/lib/python3.6/site-packages/IPython/extensions',\n",
       " '/home/vic/.ipython',\n",
       " '/home/vic/_git/machine-learning',\n",
       " '/home/vic/_git/machine-learning']"
      ]
     },
     "execution_count": 8,
     "metadata": {},
     "output_type": "execute_result"
    }
   ],
   "source": [
    "os.sys.path"
   ]
  },
  {
   "cell_type": "code",
   "execution_count": 10,
   "metadata": {},
   "outputs": [
    {
     "name": "stdout",
     "output_type": "stream",
     "text": [
      "algorithms\t       jupyter-setup.ipynb  pandas.ipynb     statistics\n",
      "basic-functions.ipynb  machine-learning     profiling.ipynb  visualization\n",
      "error-handling.ipynb   mess-around.ipynb    qgrid.ipynb\n",
      "image-processing       numpy.ipynb\t    regex.ipynb\n"
     ]
    }
   ],
   "source": [
    "cmd = 'ls'\n",
    "!{cmd}"
   ]
  },
  {
   "cell_type": "code",
   "execution_count": 1,
   "metadata": {},
   "outputs": [
    {
     "name": "stdout",
     "output_type": "stream",
     "text": [
      "cheat-sheets\n",
      "papers\n",
      "\n"
     ]
    }
   ],
   "source": [
    "from subprocess import check_output\n",
    "print(check_output([\"ls\", \"../reference\"]).decode(\"utf8\"))"
   ]
  }
 ],
 "metadata": {
  "kernelspec": {
   "display_name": "mlA1_lab",
   "language": "python",
   "name": "mla1_lab"
  },
  "language_info": {
   "codemirror_mode": {
    "name": "ipython",
    "version": 3
   },
   "file_extension": ".py",
   "mimetype": "text/x-python",
   "name": "python",
   "nbconvert_exporter": "python",
   "pygments_lexer": "ipython3",
   "version": "3.6.8"
  }
 },
 "nbformat": 4,
 "nbformat_minor": 2
}

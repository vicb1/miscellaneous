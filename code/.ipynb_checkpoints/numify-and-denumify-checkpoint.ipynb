{
 "cells": [
  {
   "cell_type": "code",
   "execution_count": 2,
   "metadata": {},
   "outputs": [
    {
     "data": {
      "text/plain": [
       "-1"
      ]
     },
     "execution_count": 2,
     "metadata": {},
     "output_type": "execute_result"
    }
   ],
   "source": [
    "'2020-05-19T23:10:30.000Z''asdsd'.find('/')\n"
   ]
  },
  {
   "cell_type": "code",
   "execution_count": 10,
   "metadata": {},
   "outputs": [
    {
     "data": {
      "text/plain": [
       "3660"
      ]
     },
     "execution_count": 10,
     "metadata": {},
     "output_type": "execute_result"
    }
   ],
   "source": [
    "import datetime\n",
    "(datetime.datetime(2, 4,4, 1, 1, 0, 0)-datetime.datetime(1, 1, 1, 0, 0, 0, 0)).seconds"
   ]
  },
  {
   "cell_type": "code",
   "execution_count": 32,
   "metadata": {},
   "outputs": [
    {
     "name": "stdout",
     "output_type": "stream",
     "text": [
      "2020-05-19 19:10:30.001000-04:00\n"
     ]
    }
   ],
   "source": [
    "from datetime import datetime, timezone\n",
    "\n",
    "# https://www.tutorialspoint.com/python/time_strptime.htm\n",
    "# minus \n",
    "# datetime_object = datetime.strptime('2020-05-19T23:10:30.000Z', '%Y-%m-%dT%H:%M:%SZ')\n",
    "# datetime_object = datetime.strptime('2020-05-19T23:10:30.000Z', '%Y-%m-%dT%H:%M:%S%Z')\n",
    "datetime_object = datetime.strptime('2020-05-19T23:10:30.001Z', '%Y-%m-%dT%H:%M:%S.%fZ')\n",
    "datetime_object = datetime_object.replace(tzinfo=timezone.utc).astimezone(tz=None)\n",
    "print(datetime_object)"
   ]
  },
  {
   "cell_type": "code",
   "execution_count": 43,
   "metadata": {},
   "outputs": [
    {
     "data": {
      "text/plain": [
       "97"
      ]
     },
     "execution_count": 43,
     "metadata": {},
     "output_type": "execute_result"
    }
   ],
   "source": [
    "ord('a')"
   ]
  },
  {
   "cell_type": "code",
   "execution_count": 44,
   "metadata": {},
   "outputs": [
    {
     "data": {
      "text/plain": [
       "'a'"
      ]
     },
     "execution_count": 44,
     "metadata": {},
     "output_type": "execute_result"
    }
   ],
   "source": [
    "chr(97)"
   ]
  },
  {
   "cell_type": "code",
   "execution_count": 64,
   "metadata": {},
   "outputs": [
    {
     "name": "stdout",
     "output_type": "stream",
     "text": [
      "905 ns ± 12.6 ns per loop (mean ± std. dev. of 7 runs, 1000000 loops each)\n",
      "1.06 µs ± 1.76 ns per loop (mean ± std. dev. of 7 runs, 1000000 loops each)\n"
     ]
    }
   ],
   "source": [
    "def numfy(s):\n",
    "    number = 0\n",
    "    for e in [ord(c) for c in s]:\n",
    "        number = (number * 0x110000) + e\n",
    "    return number\n",
    "\n",
    "def denumfy(number):\n",
    "    l = []\n",
    "    while(number != 0):\n",
    "        l.append(chr(number % 0x110000))\n",
    "        number = number // 0x110000\n",
    "    return ''.join(reversed(l))\n",
    "\n",
    "%timeit a = numfy(\"BTCAD\")\n",
    "%timeit b = denumfy(a)"
   ]
  },
  {
   "cell_type": "code",
   "execution_count": 65,
   "metadata": {},
   "outputs": [
    {
     "name": "stdout",
     "output_type": "stream",
     "text": [
      "462 ns ± 1.16 ns per loop (mean ± std. dev. of 7 runs, 1000000 loops each)\n",
      "733 ns ± 2.94 ns per loop (mean ± std. dev. of 7 runs, 1000000 loops each)\n"
     ]
    }
   ],
   "source": [
    "import binascii\n",
    "%timeit a = int(binascii.hexlify(\"BTCAD\".encode(\"utf-8\")), 16)\n",
    "%timeit b = binascii.unhexlify(format(a, \"x\").encode(\"utf-8\")).decode(\"utf-8\")"
   ]
  },
  {
   "cell_type": "code",
   "execution_count": 66,
   "metadata": {},
   "outputs": [
    {
     "data": {
      "text/plain": [
       "'Hello, World, عالَم, ދުނިޔެ, जगत, 世界'"
      ]
     },
     "execution_count": 66,
     "metadata": {},
     "output_type": "execute_result"
    }
   ],
   "source": [
    "s = \"Hello, World, عالَم, ދުނިޔެ, जगत, 世界\"\n",
    "b = s.encode('utf-8')\n",
    "h = binascii.hexlify(b)\n",
    "i = int(h, 16)\n",
    "h2 = hex(i)\n",
    "h3 = h2[2:]\n",
    "b2 = h3.encode('ascii')\n",
    "b3 = binascii.unhexlify(b2)\n",
    "s2 = b3.decode('utf-8')\n",
    "s2"
   ]
  },
  {
   "cell_type": "code",
   "execution_count": 67,
   "metadata": {},
   "outputs": [
    {
     "name": "stdout",
     "output_type": "stream",
     "text": [
      "442 ns ± 1.11 ns per loop (mean ± std. dev. of 7 runs, 1000000 loops each)\n",
      "607 ns ± 6.02 ns per loop (mean ± std. dev. of 7 runs, 1000000 loops each)\n"
     ]
    }
   ],
   "source": [
    "%timeit a = int(binascii.hexlify(\"BTCAD\".encode('utf-8')), 16)\n",
    "%timeit b = binascii.unhexlify(hex(a)[2:].encode('ascii')).decode('utf-8')"
   ]
  },
  {
   "cell_type": "code",
   "execution_count": 81,
   "metadata": {},
   "outputs": [
    {
     "data": {
      "text/plain": [
       "'BTCAD'"
      ]
     },
     "execution_count": 81,
     "metadata": {},
     "output_type": "execute_result"
    }
   ],
   "source": [
    "a = int(binascii.hexlify(\"BTCAD\".encode('utf-8')), 16)\n",
    "b = binascii.unhexlify(hex(a)[2:].encode('ascii')).decode('utf-8')\n",
    "b"
   ]
  },
  {
   "cell_type": "code",
   "execution_count": 86,
   "metadata": {},
   "outputs": [
    {
     "name": "stdout",
     "output_type": "stream",
     "text": [
      "526 ns ± 4.5 ns per loop (mean ± std. dev. of 7 runs, 1000000 loops each)\n",
      "695 ns ± 9.6 ns per loop (mean ± std. dev. of 7 runs, 1000000 loops each)\n"
     ]
    },
    {
     "data": {
      "text/plain": [
       "'BTCAD'"
      ]
     },
     "execution_count": 86,
     "metadata": {},
     "output_type": "execute_result"
    }
   ],
   "source": [
    "import binascii\n",
    "# final is: \n",
    "def numify(string_input):\n",
    "    return int(binascii.hexlify(string_input.encode('utf-8')), 16)\n",
    "def denumify(num_input):\n",
    "    return binascii.unhexlify(hex(num_input)[2:].encode('ascii')).decode('utf-8')\n",
    "%timeit a = numify('BTCAD')\n",
    "%timeit b = denumify(a)\n",
    "b"
   ]
  },
  {
   "cell_type": "code",
   "execution_count": 91,
   "metadata": {},
   "outputs": [
    {
     "data": {
      "text/plain": [
       "99344109427290"
      ]
     },
     "execution_count": 91,
     "metadata": {},
     "output_type": "execute_result"
    }
   ],
   "source": [
    "import binascii\n",
    "def numify(string_input):\n",
    "    return int(binascii.hexlify(string_input.encode('utf-8')), 16)\n",
    "def denumify(num_input):\n",
    "    return binascii.unhexlify(hex(num_input)[2:].encode('ascii')).decode('utf-8')\n",
    "a = numify('ZZZZZZ')\n",
    "b = denumify(a)\n",
    "a"
   ]
  },
  {
   "cell_type": "code",
   "execution_count": 106,
   "metadata": {},
   "outputs": [
    {
     "data": {
      "text/plain": [
       "4543560"
      ]
     },
     "execution_count": 106,
     "metadata": {},
     "output_type": "execute_result"
    }
   ],
   "source": [
    "numify('ETH')"
   ]
  },
  {
   "cell_type": "markdown",
   "metadata": {},
   "source": []
  }
 ],
 "metadata": {
  "kernelspec": {
   "display_name": "CS6475",
   "language": "python",
   "name": "cs6475"
  },
  "language_info": {
   "codemirror_mode": {
    "name": "ipython",
    "version": 3
   },
   "file_extension": ".py",
   "mimetype": "text/x-python",
   "name": "python",
   "nbconvert_exporter": "python",
   "pygments_lexer": "ipython3",
   "version": "3.6.10"
  }
 },
 "nbformat": 4,
 "nbformat_minor": 4
}

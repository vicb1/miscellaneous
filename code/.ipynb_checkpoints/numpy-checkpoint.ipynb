{
 "cells": [
  {
   "cell_type": "markdown",
   "metadata": {},
   "source": [
    "# numpy operations"
   ]
  },
  {
   "cell_type": "code",
   "execution_count": 4,
   "metadata": {},
   "outputs": [
    {
     "name": "stdout",
     "output_type": "stream",
     "text": [
      "[2 2 2 2]\n",
      "[2 2 2 2 1 2 3 4 5 6 7]\n",
      "[3.5, 3.0, 2.5, 2.0, 1.5, 1.0]\n"
     ]
    }
   ],
   "source": [
    "import numpy as np\n",
    "\n",
    "a = np.array([2]*4)\n",
    "print(a)\n",
    "b = np.array([1, 2, 3, 4, 5, 6, 7])\n",
    "print(np.concatenate((a, b)))\n",
    "\n",
    "j = [8, 7, 6, 5, 4, 3, 2, 1]\n",
    "print ([x/j[-2] for x in j[1:-1]])\n"
   ]
  },
  {
   "cell_type": "markdown",
   "metadata": {},
   "source": [
    "# parse numpy"
   ]
  },
  {
   "cell_type": "code",
   "execution_count": 27,
   "metadata": {},
   "outputs": [
    {
     "name": "stdout",
     "output_type": "stream",
     "text": [
      "x[0:2,[0,2]]\n",
      "[[1 3]\n",
      " [4 6]]\n",
      "\n",
      " x[0:2,1:2]\n",
      "[[2]\n",
      " [5]]\n"
     ]
    }
   ],
   "source": [
    "import numpy as np\n",
    "import pandas as pd\n",
    "\n",
    "x = np.array([[1,2,3,4],\n",
    "             [4,5,6,7],\n",
    "             [8,9,0,1]])\n",
    "\n",
    "print ('x[0:2,[0,2]]')\n",
    "print(x[0:2,[0,2]])\n",
    "\n",
    "print ('\\n x[0:2,1:2]')\n",
    "print(x[0:2,1:2])"
   ]
  },
  {
   "cell_type": "markdown",
   "metadata": {},
   "source": [
    "# numpy/pandas aggregation"
   ]
  },
  {
   "cell_type": "code",
   "execution_count": 7,
   "metadata": {},
   "outputs": [
    {
     "name": "stdout",
     "output_type": "stream",
     "text": [
      "Matrix a is  [[2 9 1]\n",
      " [3 5 5]\n",
      " [4 4 1]]\n",
      "min is [2 4 1]\n",
      "mean is [3.         6.         2.33333333]\n",
      "          Coffee     Donuts     Bagels\n",
      "Sun    21.422299  92.720410  94.240209\n",
      "Mon    50.611378  88.924402  18.890954\n",
      "Tues   34.943291  35.110628  13.617225\n",
      "Wed    66.154570  64.128298   8.548907\n",
      "Thurs  85.356878   6.527219  92.760367\n",
      "Fri    84.045903  64.480449  11.613591\n",
      "Sat    66.082793  72.014752  47.237029\n",
      "Coffee    408.617113\n",
      "Donuts    423.906158\n",
      "Bagels    286.908281\n",
      "dtype: float64\n"
     ]
    }
   ],
   "source": [
    "import numpy as np\n",
    "import pandas as pd\n",
    "\n",
    "#18\n",
    "a = np.random.randint(0,10,size=(3,3))\n",
    "print (\"Matrix a is \",a)\n",
    "value = a.min(axis = 0)\n",
    "print (\"min is\", value)\n",
    "\n",
    "value = a.mean(axis = 0)\n",
    "print (\"mean is\", value)"
   ]
  },
  {
   "cell_type": "markdown",
   "metadata": {},
   "source": [
    "# parsing multidimensional array"
   ]
  },
  {
   "cell_type": "code",
   "execution_count": 8,
   "metadata": {},
   "outputs": [
    {
     "name": "stdout",
     "output_type": "stream",
     "text": [
      "[[[1 2]\n",
      "  [3 4]]\n",
      "\n",
      " [[5 6]\n",
      "  [7 8]]]\n",
      "[[1 3]\n",
      " [5 7]]\n"
     ]
    }
   ],
   "source": [
    "import numpy as np\n",
    "\n",
    "ary = np.array([[[1, 2], [3, 4]], [[5, 6], [7,8]]])\n",
    "print(ary)\n",
    "print(ary[:, :, 0])"
   ]
  },
  {
   "cell_type": "markdown",
   "metadata": {},
   "source": [
    "# parsing in increments"
   ]
  },
  {
   "cell_type": "code",
   "execution_count": 9,
   "metadata": {},
   "outputs": [
    {
     "name": "stdout",
     "output_type": "stream",
     "text": [
      "[[ 2  4]\n",
      " [ 7  9]\n",
      " [12 14]\n",
      " [17 19]\n",
      " [22 24]]\n"
     ]
    }
   ],
   "source": [
    "import numpy as np\n",
    "\n",
    "a = np.array([[1,2,3,4,5],\n",
    "             [6,7,8,9,10],\n",
    "             [11,12,13,14,15],\n",
    "             [16,17,18,19,20],\n",
    "             [21,22,23,24,25]])\n",
    "\n",
    "print(a[:,1:5:2])"
   ]
  },
  {
   "cell_type": "markdown",
   "metadata": {},
   "source": [
    "# multiplication"
   ]
  },
  {
   "cell_type": "code",
   "execution_count": 10,
   "metadata": {},
   "outputs": [
    {
     "name": "stdout",
     "output_type": "stream",
     "text": [
      "[[2. 2. 2.]\n",
      " [2. 2. 2.]\n",
      " [2. 2. 2.]]\n",
      "[[12. 12. 12.]\n",
      " [12. 12. 12.]\n",
      " [12. 12. 12.]]\n",
      "[[24. 24. 24.]\n",
      " [24. 24. 24.]\n",
      " [24. 24. 24.]]\n",
      "[[24. 24. 24.]\n",
      " [24. 24. 24.]\n",
      " [24. 24. 24.]]\n"
     ]
    }
   ],
   "source": [
    "import numpy as np\n",
    "a=np.ones((3,3))*2\n",
    "print(a)\n",
    "\n",
    "b=a.dot(a)\n",
    "print(b)\n",
    "\n",
    "c = np.multiply(a, b)\n",
    "print(c)\n",
    "\n",
    "d = a * b\n",
    "print(d)"
   ]
  },
  {
   "cell_type": "markdown",
   "metadata": {},
   "source": [
    "# dataframes need .copy() function like ndarrays and lists"
   ]
  },
  {
   "cell_type": "code",
   "execution_count": 13,
   "metadata": {},
   "outputs": [
    {
     "name": "stdout",
     "output_type": "stream",
     "text": [
      "    Type\n",
      "0  Stock\n",
      "1   None\n",
      "    Type\n",
      "0  Stock\n",
      "1    ETF\n",
      "          Type\n",
      "0        Stock\n",
      "1  Mutual Fund\n",
      "          Type\n",
      "0        Stock\n",
      "1  Mutual Fund\n"
     ]
    }
   ],
   "source": [
    "import pandas as pd\n",
    "\n",
    "df1 = pd.DataFrame({'Type': [\"Stock\", None]})\n",
    "df2 = df1.copy()\n",
    "df2.fillna(\"ETF\", inplace=True)\n",
    "print (df1)\n",
    "print (df2)\n",
    "\n",
    "df1 = pd.DataFrame({'Type': [\"Stock\", None]})\n",
    "df2 = df1\n",
    "df1.fillna(\"Mutual Fund\", inplace=True)\n",
    "print (df1)\n",
    "print (df2)\n",
    "\n"
   ]
  },
  {
   "cell_type": "markdown",
   "metadata": {},
   "source": [
    "# amax"
   ]
  },
  {
   "cell_type": "code",
   "execution_count": 21,
   "metadata": {},
   "outputs": [
    {
     "name": "stdout",
     "output_type": "stream",
     "text": [
      "[3 6 9]\n"
     ]
    }
   ],
   "source": [
    "import numpy as np\n",
    "\n",
    "x= np.array([[1,2,3],[4,5,6], [7,8,9]])\n",
    "\n",
    "y = np.amax(x, axis=1)\n",
    "print(y)"
   ]
  },
  {
   "cell_type": "markdown",
   "metadata": {},
   "source": [
    "# matrix"
   ]
  },
  {
   "cell_type": "code",
   "execution_count": 22,
   "metadata": {},
   "outputs": [
    {
     "name": "stdout",
     "output_type": "stream",
     "text": [
      "[[10  9  8]\n",
      " [ 6  5  4]]\n"
     ]
    }
   ],
   "source": [
    "import numpy as np\n",
    "\n",
    "a = np.matrix([[0,1,2,3],\n",
    "               [4,5,6,7],\n",
    "               [8,9,10,11],\n",
    "               [12,13,14,15]])\n",
    "\n",
    "a = a[::-1,::-1]\n",
    "\n",
    "print (a[1:3,1:])"
   ]
  },
  {
   "cell_type": "markdown",
   "metadata": {},
   "source": [
    "# arrange, reshape"
   ]
  },
  {
   "cell_type": "code",
   "execution_count": 28,
   "metadata": {},
   "outputs": [
    {
     "name": "stdout",
     "output_type": "stream",
     "text": [
      "[0 1 2 3 4 5]\n",
      "[[0]\n",
      " [1]\n",
      " [2]\n",
      " [3]\n",
      " [4]\n",
      " [5]]\n",
      "[[0]\n",
      " [1]\n",
      " [2]\n",
      " [3]\n",
      " [4]\n",
      " [5]]\n",
      "[[0 1 2]\n",
      " [3 4 5]]\n",
      "[[0 3]\n",
      " [1 4]\n",
      " [2 5]]\n"
     ]
    }
   ],
   "source": [
    "import numpy as np\n",
    "\n",
    "a = np.arange(6)\n",
    "print(a)\n",
    "\n",
    "print(a.reshape(6,1))\n",
    "print(a.reshape(6,-5))\n",
    "print(a.reshape(2,3))\n",
    "print(a.reshape(2,3).T)"
   ]
  },
  {
   "cell_type": "markdown",
   "metadata": {},
   "source": [
    "# argmax - returns index of max value"
   ]
  },
  {
   "cell_type": "code",
   "execution_count": 29,
   "metadata": {},
   "outputs": [
    {
     "name": "stdout",
     "output_type": "stream",
     "text": [
      "[[ 1  2  3]\n",
      " [ 7  8  9]\n",
      " [ 4 10  6]]\n",
      "\n",
      " axis 0\n",
      "[1 2 1]\n",
      "\n",
      " axis 1\n",
      "[2 2 1]\n",
      "\n",
      " flattened\n",
      "7\n"
     ]
    }
   ],
   "source": [
    "import numpy as np\n",
    "a = np.array([[1,2,3], [7,8,9], [4,10,6]])\n",
    "print(a)\n",
    "\n",
    "print('\\n axis 0')\n",
    "print(np.argmax(a, axis=0))\n",
    "print('\\n axis 1')\n",
    "print(np.argmax(a, axis=1))\n",
    "print('\\n flattened')\n",
    "print(np.argmax(a))"
   ]
  }
 ],
 "metadata": {
  "kernelspec": {
   "display_name": "Python 3",
   "language": "python",
   "name": "python3"
  },
  "language_info": {
   "codemirror_mode": {
    "name": "ipython",
    "version": 3
   },
   "file_extension": ".py",
   "mimetype": "text/x-python",
   "name": "python",
   "nbconvert_exporter": "python",
   "pygments_lexer": "ipython3",
   "version": "3.7.1"
  }
 },
 "nbformat": 4,
 "nbformat_minor": 2
}

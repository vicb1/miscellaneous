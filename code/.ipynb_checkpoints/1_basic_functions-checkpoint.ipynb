{
 "cells": [
  {
   "cell_type": "markdown",
   "metadata": {},
   "source": [
    "# split command line entry"
   ]
  },
  {
   "cell_type": "code",
   "execution_count": 6,
   "metadata": {
    "collapsed": false
   },
   "outputs": [
    {
     "data": {
      "text/plain": [
       "['10', '20', '20', '10', '10', '30', '50', '10', '20']"
      ]
     },
     "execution_count": 6,
     "metadata": {},
     "output_type": "execute_result"
    }
   ],
   "source": [
    "'10 20 20 10 10 30 50 10 20'.rstrip().split()"
   ]
  },
  {
   "cell_type": "markdown",
   "metadata": {},
   "source": [
    "# round to most significant digit"
   ]
  },
  {
   "cell_type": "code",
   "execution_count": 1,
   "metadata": {
    "collapsed": false
   },
   "outputs": [
    {
     "name": "stdout",
     "output_type": "stream",
     "text": [
      "0.002\n",
      "5e-05\n",
      "0.0\n",
      "3\n",
      "100\n",
      "-0.002\n",
      "-5e-05\n",
      "-3\n",
      "-100\n"
     ]
    }
   ],
   "source": [
    "import math\n",
    "\n",
    "def round_to_most_significant(x):\n",
    "    if x == 0:\n",
    "        return x\n",
    "    else:\n",
    "        mul = pow(10, math.floor(math.log10(abs(x))))\n",
    "        return round(x/mul)*mul\n",
    "\n",
    "print(round_to_most_significant(0.002341))     \n",
    "print(round_to_most_significant(0.000048123))  \n",
    "print(round_to_most_significant(0.0))          \n",
    "print(round_to_most_significant(2.6))          \n",
    "print(round_to_most_significant(123.0))        \n",
    "print(round_to_most_significant(-0.002341))    \n",
    "print(round_to_most_significant(-0.000048123)) \n",
    "print(round_to_most_significant(-2.6))         \n",
    "print(round_to_most_significant(-123.0))       "
   ]
  },
  {
   "cell_type": "markdown",
   "metadata": {},
   "source": [
    "# Formatting floats without superfluous zeros"
   ]
  },
  {
   "cell_type": "code",
   "execution_count": 20,
   "metadata": {
    "collapsed": false
   },
   "outputs": [
    {
     "name": "stdout",
     "output_type": "stream",
     "text": [
      "0.002341\n",
      "0.000048\n",
      "0\n",
      "0\n",
      "123\n",
      "-0.002341\n",
      "-0.000048\n",
      "-2.6\n",
      "-123\n"
     ]
    }
   ],
   "source": [
    "import decimal\n",
    "\n",
    "def round_to_capture_all(x):\n",
    "    return ('%f' % x).rstrip('0').rstrip('.')\n",
    "\n",
    "print(round_to_capture_all(0.002341))     \n",
    "print(round_to_capture_all(0.000048123))  \n",
    "print(round_to_capture_all(0.0))          \n",
    "print(round_to_capture_all(0))          \n",
    "print(round_to_capture_all(123.0))        \n",
    "print(round_to_capture_all(-0.002341))    \n",
    "print(round_to_capture_all(-0.000048123)) \n",
    "print(round_to_capture_all(-2.6))         \n",
    "print(round_to_capture_all(-123.0))    "
   ]
  },
  {
   "cell_type": "markdown",
   "metadata": {},
   "source": [
    "# counter"
   ]
  },
  {
   "cell_type": "code",
   "execution_count": 16,
   "metadata": {
    "collapsed": false
   },
   "outputs": [
    {
     "name": "stdout",
     "output_type": "stream",
     "text": [
      "Initial : Counter()\n",
      "Counter: Counter({1: 2, 5: 1, 3: 1, 4: 1})\n",
      "Updated: Counter({'d': 5, 1: 2, 5: 1, 3: 1, 4: 1, 'a': 1})\n",
      "Updated, Dict: {1: 2, 5: 5, 3: 1, 4: 1, 'a': 1, 'd': 5}\n",
      "Cleared: Counter()\n"
     ]
    }
   ],
   "source": [
    "import collections\n",
    "\n",
    "c = collections.Counter()\n",
    "print ('Initial :', c)\n",
    "\n",
    "l = [1, 5 ,3,4,1]\n",
    "c.update(l)\n",
    "print ('Counter:', c)\n",
    "\n",
    "c.update({'a':1, 'd':5})\n",
    "print ('Updated:', c)\n",
    "\n",
    "c.update([5,5,5,5])\n",
    "print ('Updated, Dict:', dict(c))\n",
    "\n",
    "c.clear()\n",
    "print ('Cleared:', c)\n",
    "\n"
   ]
  },
  {
   "cell_type": "markdown",
   "metadata": {},
   "source": [
    "# lists"
   ]
  },
  {
   "cell_type": "code",
   "execution_count": 24,
   "metadata": {
    "collapsed": false
   },
   "outputs": [
    {
     "name": "stdout",
     "output_type": "stream",
     "text": [
      "2\n",
      "['U', 'D', 'D', 'D', 'U', 'D', 'U', 'U']\n",
      "23\n",
      "set:  ['3', '4']\n"
     ]
    }
   ],
   "source": [
    "l = [1, 5 ,3,4,1]\n",
    "print(l.count(1))\n",
    "\n",
    "print(list('UDDDUDUU'))\n",
    "\n",
    "print('12345'[1:3])\n",
    "\n",
    "print('set: ', list(set(['3', '4']) & set('1234')))"
   ]
  },
  {
   "cell_type": "markdown",
   "metadata": {},
   "source": [
    "# lists 2"
   ]
  },
  {
   "cell_type": "code",
   "execution_count": 40,
   "metadata": {
    "collapsed": false
   },
   "outputs": [
    {
     "name": "stdout",
     "output_type": "stream",
     "text": [
      "23451\n",
      "['1', '2', '3', '2', '4', '5']\n",
      "['1', '2', '2', '3', '4', '5']\n"
     ]
    }
   ],
   "source": [
    "print('12345'[11%5:]+'12345'[:11%5])\n",
    "\n",
    "l3 = list('12345')\n",
    "l3.insert(3, '2')\n",
    "print(l3)\n",
    "\n",
    "l4 = l3[:] # copy list\n",
    "l4.sort()\n",
    "print(l4)"
   ]
  },
  {
   "cell_type": "markdown",
   "metadata": {},
   "source": [
    "# defaultdict"
   ]
  },
  {
   "cell_type": "code",
   "execution_count": 45,
   "metadata": {
    "collapsed": false,
    "scrolled": true
   },
   "outputs": [
    {
     "name": "stdout",
     "output_type": "stream",
     "text": [
      "default dict:  defaultdict(<class 'int'>, {})\n"
     ]
    }
   ],
   "source": [
    "import collections\n",
    "\n",
    "d_int = collections.defaultdict(int)\n",
    "print('default dict: ', d_int) # print int(), thus 0"
   ]
  },
  {
   "cell_type": "markdown",
   "metadata": {},
   "source": [
    "# sort in order of QWERTY keyboard"
   ]
  },
  {
   "cell_type": "code",
   "execution_count": 3,
   "metadata": {
    "collapsed": false
   },
   "outputs": [
    {
     "name": "stdout",
     "output_type": "stream",
     "text": [
      "eerrtuuiiiiiiiooppaaasssdfglllxccc\n",
      "eerrtuuiiiiiiiooppaaasssdfglllxccc\n",
      "erruiipaasfgllc etiiipsxc uiiooasdlc\n"
     ]
    }
   ],
   "source": [
    "def qwerty(inp): \n",
    "    alphabet = 'qwertyuiopasdfghjklzxcvbnm'\n",
    "    a_list = list(alphabet)\n",
    "\n",
    "    num_alpha = []\n",
    "    for i in range(len(inp)):\n",
    "        for j in range(len(a_list)):\n",
    "            if inp[i] == a_list[j]:\n",
    "                num_alpha.append(j)\n",
    "    \n",
    "    num_alpha.sort()\n",
    "    fin = []\n",
    "    for i in range(len(num_alpha)):\n",
    "        fin.append(a_list[num_alpha[i]])\n",
    "    \n",
    "    return ''.join(fin)\n",
    "\n",
    "print (qwerty('supercalifragilistic expialidocious'))\n",
    "\n",
    "qwerty2 = lambda x: ''.join(sorted(x, key=lambda l: 'qwertyuiopasdfghjklzxcvbnm'.index(l)))\n",
    "print(qwerty2('supercalifragilisticexpialidocious'))\n",
    "\n",
    "qwerty3 = lambda x: ' '.join(map(lambda i: ''.join(sorted(i, key=lambda l: 'qwertyuiopasdfghjklzxcvbnm'.index(l[0]))), x.split(' ')))\n",
    "print(qwerty3('supercalifragil isticexpi alidocious'))"
   ]
  },
  {
   "cell_type": "markdown",
   "metadata": {},
   "source": [
    "# class getter and setter"
   ]
  },
  {
   "cell_type": "code",
   "execution_count": 12,
   "metadata": {
    "collapsed": false,
    "scrolled": true
   },
   "outputs": [
    {
     "name": "stdout",
     "output_type": "stream",
     "text": [
      "1\n",
      "None\n",
      "5\n"
     ]
    }
   ],
   "source": [
    "class Element():\n",
    "    def __init__(self, value):\n",
    "        self.value = value\n",
    "        self.next = None\n",
    "        \n",
    "e1 = Element(1)\n",
    "print(e1.value)\n",
    "print(e1.next)\n",
    "e1.next = 5\n",
    "print(e1.next)"
   ]
  },
  {
   "cell_type": "markdown",
   "metadata": {},
   "source": [
    "# objects to boolean"
   ]
  },
  {
   "cell_type": "code",
   "execution_count": 51,
   "metadata": {
    "collapsed": false
   },
   "outputs": [
    {
     "name": "stdout",
     "output_type": "stream",
     "text": [
      "None considered False\n",
      "empty string considered False\n",
      "nonempty string considered True\n",
      "0 considered False\n",
      "1 considered True\n",
      "1 considered True\n"
     ]
    }
   ],
   "source": [
    "if(None):\n",
    "    print('None considered True')\n",
    "else:\n",
    "    print('None considered False')\n",
    "\n",
    "if(''):\n",
    "    print('empty string considered True')\n",
    "else:\n",
    "    print('empty string considered False')\n",
    "    \n",
    "if('asd'):\n",
    "    print('nonempty string considered True')\n",
    "else:\n",
    "    print('nonempty string considered False')\n",
    "    \n",
    "if(0):\n",
    "    print('0 considered True')\n",
    "else:\n",
    "    print('0 considered False')\n",
    "    \n",
    "if(1):\n",
    "    print('1 considered True')\n",
    "else:\n",
    "    print('1 considered False')\n"
   ]
  },
  {
   "cell_type": "markdown",
   "metadata": {},
   "source": [
    "# map"
   ]
  },
  {
   "cell_type": "code",
   "execution_count": 33,
   "metadata": {
    "collapsed": false
   },
   "outputs": [
    {
     "name": "stdout",
     "output_type": "stream",
     "text": [
      "[5, 6, 6]\n",
      "['appleorange', 'bananalemon', 'cherrypineapple']\n"
     ]
    }
   ],
   "source": [
    "def myfunc(n):\n",
    "    return len(n)\n",
    "map_res = map(myfunc, ('apple', 'banana', 'cherry'))\n",
    "list_res = list(map_res)\n",
    "print(list_res)\n",
    "\n",
    "def myfunc2(a, b):\n",
    "    return a + b\n",
    "map_res = map(myfunc2, ('apple', 'banana', 'cherry'), ('orange', 'lemon', 'pineapple'))\n",
    "list_res = list(map_res)\n",
    "print(list_res)"
   ]
  },
  {
   "cell_type": "markdown",
   "metadata": {},
   "source": [
    "# enumerate"
   ]
  },
  {
   "cell_type": "code",
   "execution_count": 35,
   "metadata": {
    "collapsed": false
   },
   "outputs": [
    {
     "name": "stdout",
     "output_type": "stream",
     "text": [
      "0 tic\n",
      "1 tac\n",
      "2 toe\n"
     ]
    }
   ],
   "source": [
    "for i, v in enumerate(['tic', 'tac', 'toe']):\n",
    "    print (i, v)"
   ]
  },
  {
   "cell_type": "markdown",
   "metadata": {},
   "source": [
    "# assign boolean to string"
   ]
  },
  {
   "cell_type": "code",
   "execution_count": 40,
   "metadata": {
    "collapsed": false
   },
   "outputs": [
    {
     "name": "stdout",
     "output_type": "stream",
     "text": [
      "Hammer Dance\n",
      "\n",
      "Trondheim\n"
     ]
    }
   ],
   "source": [
    "string1, string2, string3 = 'Tro', 'Trondheim', 'Hammer Dance'\n",
    "non_null = string1 and string2 and string3\n",
    "print(non_null)\n",
    "\n",
    "string1, string2, string3 = '', 'Trondheim', 'Hammer Dance'\n",
    "non_null = string1 and string2 and string3\n",
    "print(non_null)\n",
    "\n",
    "string1, string2, string3 = '', 'Trondheim', 'Hammer Dance'\n",
    "non_null = string1 or string2 or string3\n",
    "print(non_null)"
   ]
  },
  {
   "cell_type": "code",
   "execution_count": null,
   "metadata": {
    "collapsed": true
   },
   "outputs": [],
   "source": []
  },
  {
   "cell_type": "code",
   "execution_count": null,
   "metadata": {
    "collapsed": true
   },
   "outputs": [],
   "source": []
  },
  {
   "cell_type": "code",
   "execution_count": null,
   "metadata": {
    "collapsed": true
   },
   "outputs": [],
   "source": []
  }
 ],
 "metadata": {
  "celltoolbar": "Raw Cell Format",
  "kernelspec": {
   "display_name": "Python 3",
   "language": "python",
   "name": "python3"
  },
  "language_info": {
   "codemirror_mode": {
    "name": "ipython",
    "version": 3
   },
   "file_extension": ".py",
   "mimetype": "text/x-python",
   "name": "python",
   "nbconvert_exporter": "python",
   "pygments_lexer": "ipython3",
   "version": "3.6.0"
  }
 },
 "nbformat": 4,
 "nbformat_minor": 2
}

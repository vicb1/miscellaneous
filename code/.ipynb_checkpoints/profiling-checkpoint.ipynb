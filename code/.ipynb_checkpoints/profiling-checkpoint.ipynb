{
 "cells": [
  {
   "cell_type": "markdown",
   "metadata": {},
   "source": [
    "# output graph"
   ]
  },
  {
   "cell_type": "code",
   "execution_count": 9,
   "metadata": {},
   "outputs": [
    {
     "ename": "ModuleNotFoundError",
     "evalue": "No module named 'pycallgraph'",
     "output_type": "error",
     "traceback": [
      "\u001b[1;31m---------------------------------------------------------------------------\u001b[0m",
      "\u001b[1;31mModuleNotFoundError\u001b[0m                       Traceback (most recent call last)",
      "\u001b[1;32m<ipython-input-9-601240effb61>\u001b[0m in \u001b[0;36m<module>\u001b[1;34m\u001b[0m\n\u001b[1;32m----> 1\u001b[1;33m \u001b[1;32mfrom\u001b[0m \u001b[0mpycallgraph\u001b[0m \u001b[1;32mimport\u001b[0m \u001b[0mPyCallGraph\u001b[0m\u001b[1;33m\u001b[0m\u001b[1;33m\u001b[0m\u001b[0m\n\u001b[0m\u001b[0;32m      2\u001b[0m \u001b[1;32mfrom\u001b[0m \u001b[0mpycallgraph\u001b[0m\u001b[1;33m.\u001b[0m\u001b[0moutput\u001b[0m \u001b[1;32mimport\u001b[0m \u001b[0mGraphvizOutput\u001b[0m\u001b[1;33m\u001b[0m\u001b[1;33m\u001b[0m\u001b[0m\n\u001b[0;32m      3\u001b[0m \u001b[1;33m\u001b[0m\u001b[0m\n\u001b[0;32m      4\u001b[0m \u001b[1;33m\u001b[0m\u001b[0m\n\u001b[0;32m      5\u001b[0m \u001b[1;32mdef\u001b[0m \u001b[0mrun_this\u001b[0m\u001b[1;33m(\u001b[0m\u001b[1;33m)\u001b[0m\u001b[1;33m:\u001b[0m\u001b[1;33m\u001b[0m\u001b[1;33m\u001b[0m\u001b[0m\n",
      "\u001b[1;31mModuleNotFoundError\u001b[0m: No module named 'pycallgraph'"
     ]
    }
   ],
   "source": [
    "from pycallgraph import PyCallGraph\n",
    "from pycallgraph.output import GraphvizOutput\n",
    "\n",
    "\n",
    "def run_this():\n",
    "    from collections import deque\n",
    "    import statistics\n",
    "    def activityNotifications(expenditure, d):\n",
    "        if d >= len(expenditure):\n",
    "            return 0\n",
    "        ret = 0\n",
    "        queue = deque(expenditure[:d])\n",
    "        for i, curr_day in enumerate(expenditure[d:]):\n",
    "\n",
    "            med = statistics.median(queue)\n",
    "            queue.popleft()\n",
    "            queue.append(curr_day)\n",
    "            # past_expenditures = expenditure[i:i+d]\n",
    "            # last_d_expenditures = past_expenditures[len(past_expenditures) - d:]\n",
    "            # med = statistics.median(last_d_expenditures)\n",
    "\n",
    "            if curr_day >= med * 2:\n",
    "                ret += 1\n",
    "\n",
    "        return ret\n",
    "\n",
    "    inp = ['9 5',\n",
    "        '2 3 4 2 3 6 8 4 5']\n",
    "\n",
    "    if __name__ == '__main__':\n",
    "\n",
    "        nd = inp[0].split()\n",
    "\n",
    "        n = int(nd[0])\n",
    "\n",
    "        d = int(nd[1])\n",
    "\n",
    "        expenditure = list(map(int, inp[1].rstrip().split()))\n",
    "\n",
    "        result = activityNotifications(expenditure, d)\n",
    "\n",
    "        print(str(result) + '\\n')\n",
    "\n",
    "with PyCallGraph(output=GraphvizOutput()):\n",
    "    run_this()"
   ]
  },
  {
   "cell_type": "markdown",
   "metadata": {},
   "source": [
    "# output text"
   ]
  },
  {
   "cell_type": "code",
   "execution_count": 12,
   "metadata": {},
   "outputs": [
    {
     "name": "stdout",
     "output_type": "stream",
     "text": [
      "2\n",
      "\n",
      "         68 function calls in 0.001 seconds\n",
      "\n",
      "   Ordered by: standard name\n",
      "\n",
      "   ncalls  tottime  percall  cumtime  percall filename:lineno(function)\n",
      "        1    0.000    0.000    0.000    0.000 <frozen importlib._bootstrap>:1009(_handle_fromlist)\n",
      "        1    0.000    0.000    0.001    0.001 <ipython-input-12-66782665683d>:1(run_this)\n",
      "        1    0.000    0.000    0.000    0.000 <ipython-input-12-66782665683d>:4(activityNotifications)\n",
      "        1    0.000    0.000    0.001    0.001 <string>:1(<module>)\n",
      "        3    0.000    0.000    0.000    0.000 iostream.py:195(schedule)\n",
      "        2    0.000    0.000    0.000    0.000 iostream.py:307(_is_master_process)\n",
      "        2    0.000    0.000    0.000    0.000 iostream.py:320(_schedule_flush)\n",
      "        2    0.000    0.000    0.000    0.000 iostream.py:382(write)\n",
      "        3    0.000    0.000    0.000    0.000 iostream.py:93(_event_pipe)\n",
      "        3    0.000    0.000    0.000    0.000 socket.py:334(send)\n",
      "        4    0.000    0.000    0.000    0.000 statistics.py:363(median)\n",
      "        3    0.000    0.000    0.000    0.000 threading.py:1038(_wait_for_tstate_lock)\n",
      "        3    0.000    0.000    0.000    0.000 threading.py:1080(is_alive)\n",
      "        3    0.000    0.000    0.000    0.000 threading.py:507(is_set)\n",
      "        1    0.000    0.000    0.001    0.001 {built-in method builtins.exec}\n",
      "        2    0.000    0.000    0.000    0.000 {built-in method builtins.hasattr}\n",
      "        3    0.000    0.000    0.000    0.000 {built-in method builtins.isinstance}\n",
      "        5    0.000    0.000    0.000    0.000 {built-in method builtins.len}\n",
      "        1    0.000    0.000    0.000    0.000 {built-in method builtins.print}\n",
      "        4    0.000    0.000    0.000    0.000 {built-in method builtins.sorted}\n",
      "        2    0.000    0.000    0.000    0.000 {built-in method nt.getpid}\n",
      "        3    0.000    0.000    0.000    0.000 {method 'acquire' of '_thread.lock' objects}\n",
      "        7    0.000    0.000    0.000    0.000 {method 'append' of 'collections.deque' objects}\n",
      "        1    0.000    0.000    0.000    0.000 {method 'disable' of '_lsprof.Profiler' objects}\n",
      "        4    0.000    0.000    0.000    0.000 {method 'popleft' of 'collections.deque' objects}\n",
      "        1    0.000    0.000    0.000    0.000 {method 'rstrip' of 'str' objects}\n",
      "        2    0.000    0.000    0.000    0.000 {method 'split' of 'str' objects}\n",
      "\n",
      "\n"
     ]
    }
   ],
   "source": [
    "def run_this():\n",
    "    from collections import deque\n",
    "    import statistics\n",
    "    def activityNotifications(expenditure, d):\n",
    "        if d >= len(expenditure):\n",
    "            return 0\n",
    "        ret = 0\n",
    "        queue = deque(expenditure[:d])\n",
    "        for i, curr_day in enumerate(expenditure[d:]):\n",
    "\n",
    "            med = statistics.median(queue)\n",
    "            queue.popleft()\n",
    "            queue.append(curr_day)\n",
    "            if curr_day >= med * 2:\n",
    "                ret += 1\n",
    "\n",
    "        return ret\n",
    "\n",
    "    inp = ['9 5',\n",
    "        '2 3 4 2 3 6 8 4 5']\n",
    "\n",
    "    if __name__ == '__main__':\n",
    "\n",
    "        nd = inp[0].split()\n",
    "\n",
    "        n = int(nd[0])\n",
    "\n",
    "        d = int(nd[1])\n",
    "\n",
    "        expenditure = list(map(int, inp[1].rstrip().split()))\n",
    "\n",
    "        result = activityNotifications(expenditure, d)\n",
    "\n",
    "        print(str(result) + '\\n')\n",
    "\n",
    "import cProfile\n",
    "\n",
    "cProfile.run('run_this()')"
   ]
  }
 ],
 "metadata": {
  "kernelspec": {
   "display_name": "Python 3",
   "language": "python",
   "name": "python3"
  },
  "language_info": {
   "codemirror_mode": {
    "name": "ipython",
    "version": 3
   },
   "file_extension": ".py",
   "mimetype": "text/x-python",
   "name": "python",
   "nbconvert_exporter": "python",
   "pygments_lexer": "ipython3",
   "version": "3.7.1"
  }
 },
 "nbformat": 4,
 "nbformat_minor": 2
}

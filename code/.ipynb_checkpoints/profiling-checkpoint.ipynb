{
 "cells": [
  {
   "cell_type": "markdown",
   "metadata": {},
   "source": [
    "# simple timer"
   ]
  },
  {
   "cell_type": "code",
   "execution_count": 4,
   "metadata": {},
   "outputs": [
    {
     "name": "stdout",
     "output_type": "stream",
     "text": [
      "CPU times: user 3 µs, sys: 1 µs, total: 4 µs\n",
      "Wall time: 5.96 µs\n"
     ]
    }
   ],
   "source": [
    "%%time\n",
    "\n",
    "wordFreqDic = {\n",
    "    \"Hello\": 56,\n",
    "    \"at\" : 23 ,\n",
    "    \"test\" : 43,\n",
    "    \"this\" : 78\n",
    "    }\n",
    "\n",
    "ret = ('test' in wordFreqDic.keys())\n",
    "ret"
   ]
  },
  {
   "cell_type": "code",
   "execution_count": 5,
   "metadata": {},
   "outputs": [
    {
     "name": "stdout",
     "output_type": "stream",
     "text": [
      "CPU times: user 4 µs, sys: 1 µs, total: 5 µs\n",
      "Wall time: 6.91 µs\n"
     ]
    }
   ],
   "source": [
    "%%time\n",
    "\n",
    "wordFreqDic = {\n",
    "    \"Hello\": 56,\n",
    "    \"at\" : 23 ,\n",
    "    \"test\" : 43,\n",
    "    \"this\" : 78\n",
    "    }\n",
    "\n",
    "ret = (wordFreqDic.get('test'))\n",
    "ret"
   ]
  },
  {
   "cell_type": "markdown",
   "metadata": {},
   "source": [
    "# average timing"
   ]
  },
  {
   "cell_type": "code",
   "execution_count": 1,
   "metadata": {},
   "outputs": [
    {
     "name": "stdout",
     "output_type": "stream",
     "text": [
      "avg_reverse 1.4896242999999838\n",
      "avg_slice 0.2725374369999069\n",
      "avg_reverse / avg_slice 5.465760287459123\n"
     ]
    }
   ],
   "source": [
    "import timeit\n",
    "def reverse_join(s): \n",
    "    return \"\".join(reversed(s))\n",
    "\n",
    "def slice_notation(s): \n",
    "    return s[::-1]\n",
    "\n",
    "s = \"ABCDEFGHIJKLMNOPQRSTUVWXYZabcdefghijklmnopqrstuvwxyz0123456789\"\n",
    "reverse_join_times = timeit.repeat(lambda: reverse_join(s)) \n",
    "slice_notation_times = timeit.repeat(lambda: slice_notation(s))\n",
    "avg_reverse = sum(reverse_join_times)/len(reverse_join_times) \n",
    "avg_slice = sum(slice_notation_times)/len(slice_notation_times)\n",
    "print('avg_reverse', avg_reverse) # 1.8536329854000002  \n",
    "print('avg_slice', avg_slice) # 0.38605856120000015 \n",
    "print('avg_reverse / avg_slice', avg_reverse / avg_slice) # 4.801429554206191 "
   ]
  },
  {
   "cell_type": "markdown",
   "metadata": {},
   "source": [
    "# output graph"
   ]
  },
  {
   "cell_type": "code",
   "execution_count": 1,
   "metadata": {},
   "outputs": [
    {
     "name": "stdout",
     "output_type": "stream",
     "text": [
      "2\n",
      "\n"
     ]
    }
   ],
   "source": [
    "from pycallgraph import PyCallGraph\n",
    "from pycallgraph.output import GraphvizOutput\n",
    "\n",
    "\n",
    "def run_this():\n",
    "    from collections import deque\n",
    "    import statistics\n",
    "    def activityNotifications(expenditure, d):\n",
    "        if d >= len(expenditure):\n",
    "            return 0\n",
    "        ret = 0\n",
    "        queue = deque(expenditure[:d])\n",
    "        for i, curr_day in enumerate(expenditure[d:]):\n",
    "\n",
    "            med = statistics.median(queue)\n",
    "            queue.popleft()\n",
    "            queue.append(curr_day)\n",
    "            # past_expenditures = expenditure[i:i+d]\n",
    "            # last_d_expenditures = past_expenditures[len(past_expenditures) - d:]\n",
    "            # med = statistics.median(last_d_expenditures)\n",
    "\n",
    "            if curr_day >= med * 2:\n",
    "                ret += 1\n",
    "\n",
    "        return ret\n",
    "\n",
    "    inp = ['9 5',\n",
    "        '2 3 4 2 3 6 8 4 5']\n",
    "\n",
    "    if __name__ == '__main__':\n",
    "\n",
    "        nd = inp[0].split()\n",
    "\n",
    "        n = int(nd[0])\n",
    "\n",
    "        d = int(nd[1])\n",
    "\n",
    "        expenditure = list(map(int, inp[1].rstrip().split()))\n",
    "\n",
    "        result = activityNotifications(expenditure, d)\n",
    "\n",
    "        print(str(result) + '\\n')\n",
    "\n",
    "with PyCallGraph(output=GraphvizOutput()):\n",
    "    run_this()"
   ]
  },
  {
   "cell_type": "markdown",
   "metadata": {},
   "source": [
    "### outputs a \"pycallgraph.png\" file in this directory:\n",
    "![image](pycallgraph.png)"
   ]
  },
  {
   "cell_type": "markdown",
   "metadata": {},
   "source": [
    "# output text"
   ]
  },
  {
   "cell_type": "code",
   "execution_count": 2,
   "metadata": {},
   "outputs": [
    {
     "name": "stdout",
     "output_type": "stream",
     "text": [
      "2\n",
      "\n",
      "         63 function calls in 0.000 seconds\n",
      "\n",
      "   Ordered by: standard name\n",
      "\n",
      "   ncalls  tottime  percall  cumtime  percall filename:lineno(function)\n",
      "        1    0.000    0.000    0.000    0.000 <ipython-input-2-66782665683d>:1(run_this)\n",
      "        1    0.000    0.000    0.000    0.000 <ipython-input-2-66782665683d>:4(activityNotifications)\n",
      "        1    0.000    0.000    0.000    0.000 <string>:1(<module>)\n",
      "        4    0.000    0.000    0.000    0.000 __init__.py:299(median)\n",
      "        3    0.000    0.000    0.000    0.000 iostream.py:195(schedule)\n",
      "        2    0.000    0.000    0.000    0.000 iostream.py:307(_is_master_process)\n",
      "        2    0.000    0.000    0.000    0.000 iostream.py:320(_schedule_flush)\n",
      "        2    0.000    0.000    0.000    0.000 iostream.py:382(write)\n",
      "        3    0.000    0.000    0.000    0.000 iostream.py:93(_event_pipe)\n",
      "        3    0.000    0.000    0.000    0.000 socket.py:342(send)\n",
      "        3    0.000    0.000    0.000    0.000 threading.py:570(isSet)\n",
      "        3    0.000    0.000    0.000    0.000 threading.py:986(isAlive)\n",
      "        2    0.000    0.000    0.000    0.000 utf_8.py:15(decode)\n",
      "        2    0.000    0.000    0.000    0.000 {_codecs.utf_8_decode}\n",
      "        2    0.000    0.000    0.000    0.000 {isinstance}\n",
      "        5    0.000    0.000    0.000    0.000 {len}\n",
      "        1    0.000    0.000    0.000    0.000 {map}\n",
      "        7    0.000    0.000    0.000    0.000 {method 'append' of 'collections.deque' objects}\n",
      "        2    0.000    0.000    0.000    0.000 {method 'decode' of 'str' objects}\n",
      "        1    0.000    0.000    0.000    0.000 {method 'disable' of '_lsprof.Profiler' objects}\n",
      "        4    0.000    0.000    0.000    0.000 {method 'popleft' of 'collections.deque' objects}\n",
      "        1    0.000    0.000    0.000    0.000 {method 'rstrip' of 'str' objects}\n",
      "        2    0.000    0.000    0.000    0.000 {method 'split' of 'str' objects}\n",
      "        2    0.000    0.000    0.000    0.000 {posix.getpid}\n",
      "        4    0.000    0.000    0.000    0.000 {sorted}\n",
      "\n",
      "\n"
     ]
    }
   ],
   "source": [
    "def run_this():\n",
    "    from collections import deque\n",
    "    import statistics\n",
    "    def activityNotifications(expenditure, d):\n",
    "        if d >= len(expenditure):\n",
    "            return 0\n",
    "        ret = 0\n",
    "        queue = deque(expenditure[:d])\n",
    "        for i, curr_day in enumerate(expenditure[d:]):\n",
    "\n",
    "            med = statistics.median(queue)\n",
    "            queue.popleft()\n",
    "            queue.append(curr_day)\n",
    "            if curr_day >= med * 2:\n",
    "                ret += 1\n",
    "\n",
    "        return ret\n",
    "\n",
    "    inp = ['9 5',\n",
    "        '2 3 4 2 3 6 8 4 5']\n",
    "\n",
    "    if __name__ == '__main__':\n",
    "\n",
    "        nd = inp[0].split()\n",
    "\n",
    "        n = int(nd[0])\n",
    "\n",
    "        d = int(nd[1])\n",
    "\n",
    "        expenditure = list(map(int, inp[1].rstrip().split()))\n",
    "\n",
    "        result = activityNotifications(expenditure, d)\n",
    "\n",
    "        print(str(result) + '\\n')\n",
    "\n",
    "import cProfile\n",
    "\n",
    "cProfile.run('run_this()')"
   ]
  },
  {
   "cell_type": "code",
   "execution_count": null,
   "metadata": {},
   "outputs": [],
   "source": []
  }
 ],
 "metadata": {
  "kernelspec": {
   "display_name": "python-ref-code",
   "language": "python",
   "name": "python-ref-code"
  },
  "language_info": {
   "codemirror_mode": {
    "name": "ipython",
    "version": 2
   },
   "file_extension": ".py",
   "mimetype": "text/x-python",
   "name": "python",
   "nbconvert_exporter": "python",
   "pygments_lexer": "ipython2",
   "version": "2.7.17"
  }
 },
 "nbformat": 4,
 "nbformat_minor": 2
}

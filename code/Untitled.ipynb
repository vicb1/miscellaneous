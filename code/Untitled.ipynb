{
 "cells": [
  {
   "cell_type": "code",
   "execution_count": 8,
   "metadata": {},
   "outputs": [
    {
     "name": "stdout",
     "output_type": "stream",
     "text": [
      "sdf\n",
      "f\n",
      "f\n"
     ]
    }
   ],
   "source": [
    "try:\n",
    "    print('sdf')\n",
    "    sd = 6 + 'fsdf'\n",
    "except:\n",
    "    print('f')\n",
    "finally:\n",
    "    print('f')"
   ]
  },
  {
   "cell_type": "code",
   "execution_count": 11,
   "metadata": {},
   "outputs": [
    {
     "name": "stdout",
     "output_type": "stream",
     "text": [
      "(0, [1])\n"
     ]
    }
   ],
   "source": [
    "def func(a,b):\n",
    "    a+=1\n",
    "    b.append(1)\n",
    "a,b=0,[]\n",
    "func(a,b)\n",
    "print(a,b)"
   ]
  },
  {
   "cell_type": "code",
   "execution_count": null,
   "metadata": {},
   "outputs": [],
   "source": []
  }
 ],
 "metadata": {
  "kernelspec": {
   "display_name": "python-ref-code",
   "language": "python",
   "name": "python-ref-code"
  },
  "language_info": {
   "codemirror_mode": {
    "name": "ipython",
    "version": 2
   },
   "file_extension": ".py",
   "mimetype": "text/x-python",
   "name": "python",
   "nbconvert_exporter": "python",
   "pygments_lexer": "ipython2",
   "version": "2.7.17"
  }
 },
 "nbformat": 4,
 "nbformat_minor": 2
}

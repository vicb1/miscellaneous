{
 "cells": [
  {
   "cell_type": "markdown",
   "metadata": {},
   "source": [
    "# algorithms"
   ]
  },
  {
   "cell_type": "markdown",
   "metadata": {},
   "source": [
    "https://www.hackerrank.com/challenges/sock-merchant/problem"
   ]
  },
  {
   "cell_type": "code",
   "execution_count": 12,
   "metadata": {},
   "outputs": [
    {
     "data": {
      "text/plain": [
       "3"
      ]
     },
     "execution_count": 12,
     "metadata": {},
     "output_type": "execute_result"
    }
   ],
   "source": [
    "import math\n",
    "import os\n",
    "import random\n",
    "import re\n",
    "import sys\n",
    "\n",
    "def sockMerchant(n, ar):\n",
    "    reserved = []\n",
    "    pairs = 0\n",
    "    for i in range(len(ar)):\n",
    "        for j in range(len(ar)):\n",
    "            if i != j:\n",
    "                if ar[i] == ar[j] and i not in reserved and j not in reserved:\n",
    "                    pairs += 1\n",
    "                    reserved.append(i)\n",
    "                    reserved.append(j)      \n",
    "    return pairs\n",
    "\n",
    "\n",
    "n = int(9)\n",
    "\n",
    "ar = list(map(int, '10 20 20 10 10 30 50 10 20'.rstrip().split()))\n",
    "\n",
    "sockMerchant(n, ar)"
   ]
  },
  {
   "cell_type": "markdown",
   "metadata": {},
   "source": [
    "# split command line entry"
   ]
  },
  {
   "cell_type": "code",
   "execution_count": 6,
   "metadata": {},
   "outputs": [
    {
     "data": {
      "text/plain": [
       "['10', '20', '20', '10', '10', '30', '50', '10', '20']"
      ]
     },
     "execution_count": 6,
     "metadata": {},
     "output_type": "execute_result"
    }
   ],
   "source": [
    "'10 20 20 10 10 30 50 10 20'.rstrip().split()"
   ]
  },
  {
   "cell_type": "markdown",
   "metadata": {},
   "source": [
    "# round to most significant digit"
   ]
  },
  {
   "cell_type": "code",
   "execution_count": 6,
   "metadata": {},
   "outputs": [
    {
     "name": "stdout",
     "output_type": "stream",
     "text": [
      "0.002\n",
      "5e-05\n",
      "0.0\n",
      "3\n",
      "100\n",
      "-0.002\n",
      "-5e-05\n",
      "-3\n",
      "-100\n"
     ]
    }
   ],
   "source": [
    "import math\n",
    "\n",
    "def round_to_most_significant(x):\n",
    "    if x == 0:\n",
    "        return x\n",
    "    else:\n",
    "        mul = pow(10, math.floor(math.log10(abs(x))))\n",
    "        return round(x/mul)*mul\n",
    "\n",
    "print(round_to_most_significant(0.002341))     \n",
    "print(round_to_most_significant(0.000048123))  \n",
    "print(round_to_most_significant(0.0))          \n",
    "print(round_to_most_significant(2.6))          \n",
    "print(round_to_most_significant(123.0))        \n",
    "print(round_to_most_significant(-0.002341))    \n",
    "print(round_to_most_significant(-0.000048123)) \n",
    "print(round_to_most_significant(-2.6))         \n",
    "print(round_to_most_significant(-123.0))       "
   ]
  },
  {
   "cell_type": "markdown",
   "metadata": {},
   "source": [
    "# Formatting floats without superfluous zeros"
   ]
  },
  {
   "cell_type": "code",
   "execution_count": 10,
   "metadata": {},
   "outputs": [
    {
     "name": "stdout",
     "output_type": "stream",
     "text": [
      "0.002341\n",
      "0.000048\n",
      "0\n",
      "2.6\n",
      "123\n",
      "-0.002341\n",
      "-0.000048\n",
      "-2.6\n",
      "-123\n"
     ]
    }
   ],
   "source": [
    "import decimal\n",
    "\n",
    "def round_to_capture_all(x):\n",
    "    return ('%f' % x).rstrip('0').rstrip('.')\n",
    "\n",
    "print(round_to_capture_all(0.002341))     \n",
    "print(round_to_capture_all(0.000048123))  \n",
    "print(round_to_capture_all(0.0))          \n",
    "print(round_to_capture_all(2.6))          \n",
    "print(round_to_capture_all(123.0))        \n",
    "print(round_to_capture_all(-0.002341))    \n",
    "print(round_to_capture_all(-0.000048123)) \n",
    "print(round_to_capture_all(-2.6))         \n",
    "print(round_to_capture_all(-123.0))    "
   ]
  },
  {
   "cell_type": "code",
   "execution_count": null,
   "metadata": {},
   "outputs": [],
   "source": []
  }
 ],
 "metadata": {
  "kernelspec": {
   "display_name": "Python 3",
   "language": "python",
   "name": "python3"
  },
  "language_info": {
   "codemirror_mode": {
    "name": "ipython",
    "version": 3
   },
   "file_extension": ".py",
   "mimetype": "text/x-python",
   "name": "python",
   "nbconvert_exporter": "python",
   "pygments_lexer": "ipython3",
   "version": "3.7.1"
  }
 },
 "nbformat": 4,
 "nbformat_minor": 2
}

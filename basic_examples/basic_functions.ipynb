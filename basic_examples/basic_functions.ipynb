{
 "cells": [
  {
   "cell_type": "markdown",
   "metadata": {},
   "source": [
    "# permutations/combinations"
   ]
  },
  {
   "cell_type": "markdown",
   "metadata": {},
   "source": [
    "*n is the number of things to choose from, and we choose r of them\n",
    "\n",
    "### PERMUTATIONS (order matters)\n",
    "#Repetition is Allowed: such as the lock above. It could be \"333\". ### = n^r\n",
    "#No Repetition: for example the first three people in a running race. You can't be first and second. ###n!/(n − r)!\n",
    "\n",
    "### COMBINATIONS (order doesn't matter)\n",
    "Repetition is Allowed: such as coins in your pocket (5,5,5,10,10) ### (r+n-1)!/(r!*(n − 1)!)\n",
    "No Repetition: such as lottery numbers (2,14,15,27,30,33) ### n!/(r!*(n − r)!)\n"
   ]
  },
  {
   "cell_type": "code",
   "execution_count": 7,
   "metadata": {
    "scrolled": true
   },
   "outputs": [
    {
     "name": "stdout",
     "output_type": "stream",
     "text": [
      "ans = 1716.0\n"
     ]
    }
   ],
   "source": [
    "import math\n",
    "f = math.factorial\n",
    "def permutation_repetition(n, r): # such as a lock, it could be \"333\"\n",
    "    return n^r\n",
    "\n",
    "def permutation_no_repetition(n, r): # for example the first three people in a running race. You can't be first and second.\n",
    "    return f(n)/f(n-r)\n",
    "\n",
    "def combination_repetition(n, r):  # such as coins in your pocket (5,5,5,10,10)\n",
    "    return f(r+n-1)/(f(r)*f(n-1))\n",
    "\n",
    "def combination__no_repetition(n, r):  # such as lottery numbers (2,14,15,27,30,33)\n",
    "    return f(n)/(f(r)*f(n-r))\n",
    "\n",
    "print('ans =', permutation_no_repetition(13, 3))"
   ]
  },
  {
   "cell_type": "markdown",
   "metadata": {},
   "source": [
    "# counter"
   ]
  },
  {
   "cell_type": "code",
   "execution_count": 16,
   "metadata": {},
   "outputs": [
    {
     "name": "stdout",
     "output_type": "stream",
     "text": [
      "Initial : Counter()\n",
      "Counter: Counter({1: 2, 5: 1, 3: 1, 4: 1})\n",
      "Updated: Counter({'d': 5, 1: 2, 5: 1, 3: 1, 4: 1, 'a': 1})\n",
      "Updated, Dict: {1: 2, 5: 5, 3: 1, 4: 1, 'a': 1, 'd': 5}\n",
      "Cleared: Counter()\n"
     ]
    }
   ],
   "source": [
    "import collections\n",
    "\n",
    "c = collections.Counter()\n",
    "print ('Initial :', c)\n",
    "\n",
    "l = [1, 5 ,3,4,1]\n",
    "c.update(l)\n",
    "print ('Counter:', c)\n",
    "\n",
    "c.update({'a':1, 'd':5})\n",
    "print ('Updated:', c)\n",
    "\n",
    "c.update([5,5,5,5])\n",
    "print ('Updated, Dict:', dict(c))\n",
    "\n",
    "c.clear()\n",
    "print ('Cleared:', c)\n",
    "\n"
   ]
  },
  {
   "cell_type": "markdown",
   "metadata": {},
   "source": [
    "# lists"
   ]
  },
  {
   "cell_type": "code",
   "execution_count": 24,
   "metadata": {},
   "outputs": [
    {
     "name": "stdout",
     "output_type": "stream",
     "text": [
      "2\n",
      "['U', 'D', 'D', 'D', 'U', 'D', 'U', 'U']\n",
      "23\n",
      "set:  ['3', '4']\n"
     ]
    }
   ],
   "source": [
    "l = [1, 5 ,3,4,1]\n",
    "print(l.count(1))\n",
    "\n",
    "print(list('UDDDUDUU'))\n",
    "\n",
    "print('12345'[1:3])\n",
    "\n",
    "print('set: ', list(set(['3', '4']) & set('1234')))"
   ]
  },
  {
   "cell_type": "markdown",
   "metadata": {},
   "source": [
    "# lists 2"
   ]
  },
  {
   "cell_type": "code",
   "execution_count": 40,
   "metadata": {},
   "outputs": [
    {
     "name": "stdout",
     "output_type": "stream",
     "text": [
      "23451\n",
      "['1', '2', '3', '2', '4', '5']\n",
      "['1', '2', '2', '3', '4', '5']\n"
     ]
    }
   ],
   "source": [
    "print('12345'[11%5:]+'12345'[:11%5])\n",
    "\n",
    "l3 = list('12345')\n",
    "l3.insert(3, '2')\n",
    "print(l3)\n",
    "\n",
    "l4 = l3[:] # copy list\n",
    "l4.sort()\n",
    "print(l4)"
   ]
  },
  {
   "cell_type": "markdown",
   "metadata": {},
   "source": [
    "# defaultdict"
   ]
  },
  {
   "cell_type": "code",
   "execution_count": 45,
   "metadata": {},
   "outputs": [
    {
     "name": "stdout",
     "output_type": "stream",
     "text": [
      "default dict:  defaultdict(<class 'int'>, {})\n"
     ]
    }
   ],
   "source": [
    "import collections\n",
    "\n",
    "d_int = collections.defaultdict(int)\n",
    "print('default dict: ', d_int) # print int(), thus 0"
   ]
  },
  {
   "cell_type": "markdown",
   "metadata": {},
   "source": [
    "# sock merchant problem"
   ]
  },
  {
   "cell_type": "code",
   "execution_count": 49,
   "metadata": {},
   "outputs": [
    {
     "data": {
      "text/plain": [
       "3"
      ]
     },
     "execution_count": 49,
     "metadata": {},
     "output_type": "execute_result"
    }
   ],
   "source": [
    "import math\n",
    "import os\n",
    "import random\n",
    "import re\n",
    "import sys\n",
    "\n",
    "# Complete the sockMerchant function below.\n",
    "def sockMerchant(n, ar):\n",
    "    reserved = []\n",
    "    pairs = 0\n",
    "    for i in range(len(ar)):\n",
    "        for j in range(len(ar)):\n",
    "            if i != j:\n",
    "                if ar[i] == ar[j] and i not in reserved and j not in reserved:\n",
    "                    pairs += 1\n",
    "                    reserved.append(i)\n",
    "                    reserved.append(j)\n",
    "                    \n",
    "    return pairs\n",
    "\n",
    "\n",
    "n = int(9)\n",
    "\n",
    "ar = list(map(int, '10 20 20 10 10 30 50 10 20'.rstrip().split()))\n",
    "\n",
    "sockMerchant(n, ar)"
   ]
  }
 ],
 "metadata": {
  "celltoolbar": "Raw Cell Format",
  "kernelspec": {
   "display_name": "Python 3",
   "language": "python",
   "name": "python3"
  },
  "language_info": {
   "codemirror_mode": {
    "name": "ipython",
    "version": 3
   },
   "file_extension": ".py",
   "mimetype": "text/x-python",
   "name": "python",
   "nbconvert_exporter": "python",
   "pygments_lexer": "ipython3",
   "version": "3.7.1"
  }
 },
 "nbformat": 4,
 "nbformat_minor": 2
}
